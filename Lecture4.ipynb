{
 "cells": [
  {
   "cell_type": "markdown",
   "metadata": {},
   "source": [
    "# Lecture 4: Functions, Modules, and Packages\n",
    "\n",
    "## Contents\n",
    "- [Functions](#section1)\n",
    "    - [Review of some built-in functions](#subsection1.1)\n",
    "    - [Create a function](#subsection1.2)\n",
    "    - [Variable namespace](#subsection1.3)\n",
    "    - [Function arguments](#subsection1.4)\n",
    "    - [Recursive functions](#subsection1.5)\n",
    "    - [Leap of faith](#subsection1.6)\n",
    "- [Modules](#section2)\n",
    "    - [Why modules?](#subsection2.1)\n",
    "    - [Import modules](#subsection2.2)\n",
    "- [Packages](#section3)\n",
    "    - [Install packages](#subsection3.1)\n",
    "    - [Package information](#subsection3.2)\n",
    "- [Case studies](#section4)\n",
    "    - [Case study 1: a rock, paper, scissors game](#subsection4.1)"
   ]
  },
  {
   "cell_type": "markdown",
   "metadata": {},
   "source": [
    "  "
   ]
  },
  {
   "cell_type": "markdown",
   "metadata": {},
   "source": [
    "## Functions <a id=\"section1\"></a>\n",
    "### Review of some built-in functions <a id=\"subsection1.1\"></a>\n",
    "The syntax of calling functions can be generalized as follows.\n",
    "<center><b><code><i>outputs</i></code> = <code>function_name</code>(<code><i>inputs</i></code>)</b></center> \n",
    "\n",
    "Based on the user-specified the <b><code><i>inputs</i></code></b>, the function returns the results and passes them to variable(s) <b><code><i>outputs</i></code></b> on the left-hand-side of the assignment statement.  \n",
    "\n",
    "In previous lectures, we have seen many functions and methods. You may have noticed that these functions or methods behave differently, and according to the way they behave, we can group them into three categories:\n",
    "\n",
    "**1)**. The function **returns** some results, and the results are typically used in assignment statement. Examples are the type conversion functions <code>int()</code>, <code>float()</code>, and <code>str()</code>, or strings methods <code>lower()</code>, <code>upper()</code>, and <code>find()</code>, etc. "
   ]
  },
  {
   "cell_type": "code",
   "execution_count": 1,
   "metadata": {
    "scrolled": true
   },
   "outputs": [
    {
     "name": "stdout",
     "output_type": "stream",
     "text": [
      "2.0\n"
     ]
    }
   ],
   "source": [
    "result = float(2)           # Function float returns 2.0 as the result\n",
    "print(result)"
   ]
  },
  {
   "cell_type": "code",
   "execution_count": 2,
   "metadata": {
    "scrolled": true
   },
   "outputs": [
    {
     "name": "stdout",
     "output_type": "stream",
     "text": [
      "ABC\n"
     ]
    }
   ],
   "source": [
    "result = 'abc'.upper()      # String method upper returns 'ABC' as the result\n",
    "print(result)"
   ]
  },
  {
   "cell_type": "code",
   "execution_count": 3,
   "metadata": {},
   "outputs": [
    {
     "name": "stdout",
     "output_type": "stream",
     "text": [
      "6\n"
     ]
    }
   ],
   "source": [
    "result = sum([1, 2, 3])     # Function sum returns 6 as the result\n",
    "print(result)"
   ]
  },
  {
   "cell_type": "markdown",
   "metadata": {},
   "source": [
    "**2)**. The function **does** something, such as printing a message, modifying a list, or drawing a graph, but returns no result. Examples are function <code>print()</code> and list methods <code>append()</code>, <code>insert()</code>, and <code>extend()</code>. "
   ]
  },
  {
   "cell_type": "code",
   "execution_count": 4,
   "metadata": {
    "scrolled": true
   },
   "outputs": [
    {
     "name": "stdout",
     "output_type": "stream",
     "text": [
      "Do something!\n"
     ]
    }
   ],
   "source": [
    "print('Do something!')      # Print the message without returning any result"
   ]
  },
  {
   "cell_type": "code",
   "execution_count": 5,
   "metadata": {},
   "outputs": [
    {
     "name": "stdout",
     "output_type": "stream",
     "text": [
      "[1, 2, 3, 4]\n"
     ]
    }
   ],
   "source": [
    "x = [1, 2, 3]\n",
    "x.append(4)                 # Append items to a list without returning any result\n",
    "print(x)"
   ]
  },
  {
   "cell_type": "markdown",
   "metadata": {},
   "source": [
    "If we place these functions on the right-hand-side of assignment statement, we will obtain a special value <code>None</code> as the result, which belongs to the <code>NoneType</code>."
   ]
  },
  {
   "cell_type": "code",
   "execution_count": 6,
   "metadata": {
    "scrolled": true
   },
   "outputs": [
    {
     "name": "stdout",
     "output_type": "stream",
     "text": [
      "What?\n",
      "None\n",
      "<class 'NoneType'>\n"
     ]
    }
   ],
   "source": [
    "result = print('What?')\n",
    "\n",
    "print(result)               # The returned value of the print function is None\n",
    "print(type(result))         # The data type of None is NoneType"
   ]
  },
  {
   "cell_type": "markdown",
   "metadata": {},
   "source": [
    "When we see the function output is <code>None</code>, then we know there is no result returned by this function. \n",
    "\n",
    "**3)**. The function **does** something, and **returns** some results at the same time. We have seen function <code>input()</code> and list method <code>pop()</code> falling into this category. "
   ]
  },
  {
   "cell_type": "code",
   "execution_count": 7,
   "metadata": {},
   "outputs": [
    {
     "name": "stdout",
     "output_type": "stream",
     "text": [
      "[1, 2, 4]\n",
      "3\n"
     ]
    }
   ],
   "source": [
    "x = [1, 2, 3, 4]\n",
    "result = x.pop(2)\n",
    "\n",
    "print(x)                    # Method pop removes the third item\n",
    "print(result)               # Method pop also returns the third item as the result"
   ]
  },
  {
   "cell_type": "markdown",
   "metadata": {},
   "source": [
    "How can we find out how these functions behave? A fast way to find this information is to call the <code>help()</code> function."
   ]
  },
  {
   "cell_type": "code",
   "execution_count": 8,
   "metadata": {},
   "outputs": [
    {
     "name": "stdout",
     "output_type": "stream",
     "text": [
      "Help on built-in function pop:\n",
      "\n",
      "pop(index=-1, /) method of builtins.list instance\n",
      "    Remove and return item at index (default last).\n",
      "    \n",
      "    Raises IndexError if list is empty or index is out of range.\n",
      "\n"
     ]
    }
   ],
   "source": [
    "help(x.pop)"
   ]
  },
  {
   "cell_type": "markdown",
   "metadata": {},
   "source": [
    "### Create a function <a id=\"subsection1.2\"></a>\n",
    "\n",
    "<div class=\"alert alert-block alert-success\">\n",
    "<b>Example 1:</b> A group of four visitors are going to Singapore Zoo. Their ages are 11, 36, 37, and 67, respectively. Determine the ticket prices for these visitors. \n",
    "</div>"
   ]
  },
  {
   "cell_type": "code",
   "execution_count": 9,
   "metadata": {
    "scrolled": true
   },
   "outputs": [
    {
     "name": "stdout",
     "output_type": "stream",
     "text": [
      "23 35 35 16\n"
     ]
    }
   ],
   "source": [
    "# Vistor 1\n",
    "age1 = 11\n",
    "if age1 < 3:\n",
    "    ticket1 = 0\n",
    "elif age1 <= 12:\n",
    "    ticket1 = 23\n",
    "elif age1 < 60:\n",
    "    ticket1 = 35\n",
    "else:\n",
    "    ticket1 = 16\n",
    "\n",
    "# Visitor 2\n",
    "age2 = 36\n",
    "if age2 < 3:\n",
    "    ticket2 = 0\n",
    "elif age2 <= 12:\n",
    "    ticket2 = 23\n",
    "elif age2 < 60:\n",
    "    ticket2 = 35\n",
    "else:\n",
    "    ticket2 = 16\n",
    "\n",
    "# Visitor 3\n",
    "age3 = 37\n",
    "if age3 < 3:\n",
    "    ticket3 = 0\n",
    "elif age3 <= 12:\n",
    "    ticket3 = 23\n",
    "elif age3 < 60:\n",
    "    ticket3 = 35\n",
    "else:\n",
    "    ticket3 = 16\n",
    "\n",
    "# Visitor 4\n",
    "age4 = 67\n",
    "if age4 < 3:\n",
    "    ticket4 = 0\n",
    "elif age4 <= 12:\n",
    "    ticket4 = 23\n",
    "elif age4 < 60:\n",
    "    ticket4 = 35\n",
    "else:\n",
    "    ticket4 = 16\n",
    "\n",
    "# Print the ticket prices for all visitors\n",
    "print(ticket1, ticket2, ticket3, ticket4)"
   ]
  },
  {
   "cell_type": "markdown",
   "metadata": {},
   "source": [
    "In the example above, the same calculation procedure is repeated four times. In real applications, such code is considered extremely inefficient. A more efficient way of coding is to write the repeated segments as a function, so that the segment can be repeatedly used, and the program is more concise, readable, and is easier to debug and maintain.\n",
    "\n",
    "The syntax of creating a function is listed below:\n",
    "- Key word <code>def</code> is used to indicate the definition of a function.\n",
    "- A function name, together with the names of arguments in parentheses, is specified.\n",
    "- Do not forget the colon.\n",
    "- Indentions are used to indicate the body of the function.\n",
    "- Use the key word <code>return</code> to define the function outputs. The returned value is <code>None</code> if no output is specified.\n",
    "\n",
    "<img src=\"https://www.oreilly.com/library/view/head-first-python/9781449397524/httpatomoreillycomsourceoreillyimages1368386.png.jpg\">\n",
    "\n",
    "Following the syntax rules, we define a function named <code>zoo_ticket</code> below to calculate the ticket price for Singapore Zoo."
   ]
  },
  {
   "cell_type": "code",
   "execution_count": 2,
   "metadata": {},
   "outputs": [],
   "source": [
    "def zoo_ticket(age): #定义的时候不能以数字开头\n",
    "    \"\"\"The function zoo_ticket calculates the Singapore \n",
    "    Zoo ticket prices for visitors\"\"\"\n",
    "    \n",
    "    if age < 3:\n",
    "        ticket = 0\n",
    "    elif age <= 12:\n",
    "        ticket = 23\n",
    "    elif age < 60:\n",
    "        ticket = 35\n",
    "    else:\n",
    "        ticket = 16\n",
    "    \n",
    "    return ticket   # What if we remove the return statement?"
   ]
  },
  {
   "cell_type": "markdown",
   "metadata": {},
   "source": [
    "Once we have run the code cell above, we can run the function or \"call\" the function to do the designed tasks."
   ]
  },
  {
   "cell_type": "code",
   "execution_count": 3,
   "metadata": {},
   "outputs": [
    {
     "data": {
      "text/plain": [
       "23"
      ]
     },
     "execution_count": 3,
     "metadata": {},
     "output_type": "execute_result"
    }
   ],
   "source": [
    "age1 = 11                   # Age of the 1st visitor\n",
    "ticket1 = zoo_ticket(age1)  # Ticket price for the 1st visitor\n",
    "ticket1"
   ]
  },
  {
   "cell_type": "markdown",
   "metadata": {},
   "source": [
    "The logic of calling the function can be summarized as:\n",
    "- In <code>ticket1 = zoo_ticket(age1)</code> the value <code>age1=11</code> is passed to the input argument <code>age</code>, which is used for computing <code>ticket</code> inside of the function. \n",
    "- The result of <code>ticket</code> is returned by the <code>return</code> statement as the output of the function.\n",
    "- The output of the function is passed to the variable <code>ticket1</code> on the left-hand-side of the assignment statement.\n",
    "\n",
    "As a result, all ticket prices can be calculated by the following code cells."
   ]
  },
  {
   "cell_type": "code",
   "execution_count": 4,
   "metadata": {},
   "outputs": [
    {
     "name": "stdout",
     "output_type": "stream",
     "text": [
      "23 35 35 16\n"
     ]
    }
   ],
   "source": [
    "age1 = 11                   # Age of the 1st visitor\n",
    "ticket1 = zoo_ticket(age1)  # Ticket price for the 1st visitor\n",
    "\n",
    "age2 = 36                   # Age of the 2nd visitor\n",
    "ticket2 = zoo_ticket(age2)  # Ticket price for the 2nd visitor\n",
    "\n",
    "age3 = 37                   # Age of the 3rd visitor\n",
    "ticket3 = zoo_ticket(age3)  # Ticket price for the 3rd visitor\n",
    "\n",
    "age4 = 67                   # Age of the 4th visitor\n",
    "ticket4 = zoo_ticket(age4)  # Ticket price for the 4th visitor\n",
    "\n",
    "print(ticket1, ticket2, ticket3, ticket4)"
   ]
  },
  {
   "cell_type": "markdown",
   "metadata": {},
   "source": [
    "Equivalently, we may print the results as follows."
   ]
  },
  {
   "cell_type": "code",
   "execution_count": 5,
   "metadata": {
    "scrolled": true
   },
   "outputs": [
    {
     "name": "stdout",
     "output_type": "stream",
     "text": [
      "23 35 35 16\n"
     ]
    }
   ],
   "source": [
    "print(zoo_ticket(11), zoo_ticket(36), zoo_ticket(37), zoo_ticket(67))"
   ]
  },
  {
   "cell_type": "markdown",
   "metadata": {},
   "source": [
    "You can even create a list of ticket prices from a list of visitors' ages. (List comprehension)"
   ]
  },
  {
   "cell_type": "code",
   "execution_count": 6,
   "metadata": {
    "scrolled": false
   },
   "outputs": [
    {
     "name": "stdout",
     "output_type": "stream",
     "text": [
      "[23, 35, 35, 16]\n"
     ]
    }
   ],
   "source": [
    "ages = [11, 36, 37, 67]\n",
    "tickets = [zoo_ticket(age)      # Calculate the ticket price for each age\n",
    "           for age in ages]     # Iterate each age within the list \"ages\"\n",
    "\n",
    "print(tickets)"
   ]
  },
  {
   "cell_type": "markdown",
   "metadata": {},
   "source": [
    "<div class=\"alert alert-block alert-danger\">\n",
    "<b>Notes:</b>  \n",
    "    A function terminates at <b>return</b>. After hitting the <b>return</b>, the remaining code in the function will not be executed. \n",
    "</div>\n",
    "\n",
    "<div class=\"alert alert-block alert-success\">\n",
    "<b>Example 2:</b>  \n",
    "    The <b>zoo_ticket</b> function is rewritten as follows to illustrate how a function terminates at <b>return</b>.\n",
    "</div>"
   ]
  },
  {
   "cell_type": "code",
   "execution_count": 15,
   "metadata": {},
   "outputs": [],
   "source": [
    "def zoo_ticket_new(age):\n",
    "    \"\"\"\n",
    "    The function zoo_ticket_new is equivalent to the function zoo_ticket\n",
    "    \"\"\"\n",
    "    \n",
    "    if age < 3:\n",
    "        return 0 #如果小于3，到这里就结束了，不会有后面的了\n",
    "    \n",
    "    if age <= 12:\n",
    "        return 23 \n",
    "    \n",
    "    if age < 60:\n",
    "        return 35\n",
    "        \n",
    "    return 16"
   ]
  },
  {
   "cell_type": "markdown",
   "metadata": {},
   "source": [
    "The logic behind is:\n",
    "- If the input argument <code>age</code> is smaller than 3, the function ends at the first <code>return</code>, with 0 to be the output.\n",
    "- If the input argument <code>age</code> is between 3 and 12, then the first <code>return</code> is skipped, and the function ends at the second <code>return</code>, with 23 to be the output.\n",
    "- If the input argument <code>age</code> is larger than 12 and no larger than 60, then the first two <code>return</code>s are skipped due to the <code>False</code> conditions, and the function ends at the third <code>return</code>, with 35 to be the output. \n",
    "- If the input argument <code>age</code> is over 60, all three boolean conditions are <code>False</code>, and we return 16 eventually as the output. \n",
    "\n",
    "That is why we can get the same results by calling the function <code>zoo_ticket_new</code>."
   ]
  },
  {
   "cell_type": "code",
   "execution_count": 16,
   "metadata": {},
   "outputs": [
    {
     "name": "stdout",
     "output_type": "stream",
     "text": [
      "[23, 35, 35, 16]\n"
     ]
    }
   ],
   "source": [
    "ages = [11, 36, 37, 67]\n",
    "tickets = [zoo_ticket_new(age) for age in ages] \n",
    "\n",
    "print(tickets)"
   ]
  },
  {
   "cell_type": "markdown",
   "metadata": {},
   "source": [
    "From examples above, we may see the benefits of using functions instead of repeated code segments:\n",
    "- It promotes the reuse of code. Any upgrades of the function apply to everywhere it is called. \n",
    "- It is easier to debug, since we only need to test one function separately, instead of examining every repeated code segment.\n",
    "- The program is more readable, as a whole block of code is replaced by a function with a name that describes itself. The readability can be further improved by the \"docstring\", introduced as follows.\n",
    "\n",
    "<div class=\"alert alert-block alert-warning\">\n",
    "    <b>Coding Style:</b> At the beginning of each function, there is a string within triple quotation marks, called a <b>docstring</b>. It is used to explain how the function behaves. Style of the docstring can be found in <a href=\"https://www.python.org/dev/peps/pep-0257/\">PEP 257 Docstring Conventions</a> \n",
    "</div>"
   ]
  },
  {
   "cell_type": "code",
   "execution_count": 17,
   "metadata": {
    "scrolled": true
   },
   "outputs": [
    {
     "name": "stdout",
     "output_type": "stream",
     "text": [
      "Help on function zoo_ticket in module __main__:\n",
      "\n",
      "zoo_ticket(age)\n",
      "    The function zoo_ticket calculates the Singapore \n",
      "    Zoo ticket prices for visitors\n",
      "\n"
     ]
    }
   ],
   "source": [
    "help(zoo_ticket)"
   ]
  },
  {
   "cell_type": "markdown",
   "metadata": {},
   "source": [
    "An additional example is provided below to demonstrate the case of multiple output arguments.\n",
    "\n",
    "<div class=\"alert alert-block alert-success\">\n",
    "<b>Example 3:</b> Given the CA and the examination mark, write a function to calculate the total mark and the final grade.\n",
    "</div>"
   ]
  },
  {
   "cell_type": "code",
   "execution_count": 18,
   "metadata": {},
   "outputs": [],
   "source": [
    "def cal_grade(ca, exam): #可以def多个变量很方便\n",
    "    \"\"\"This function calcualtes the total marks and final grades\"\"\"\n",
    "    \n",
    "    total_mark = ca + exam * 0.5   # Expression of the total mark\n",
    "    \n",
    "    if total_mark >= 80:\n",
    "        grade = 'A'\n",
    "    elif total_mark > 70:\n",
    "        grade = 'B'\n",
    "    elif total_mark > 60:\n",
    "        grade = 'C'\n",
    "    else:\n",
    "        grade = 'D'\n",
    "    \n",
    "    return total_mark, grade        # Return the total marks and grades as a tuple "
   ]
  },
  {
   "cell_type": "code",
   "execution_count": 19,
   "metadata": {
    "scrolled": true
   },
   "outputs": [
    {
     "name": "stdout",
     "output_type": "stream",
     "text": [
      "Student 1: Mark: 82.5 Grade: A\n",
      "Student 2: Mark: 71.0 Grade: B\n"
     ]
    }
   ],
   "source": [
    "total1, grade1 = cal_grade(40, 85)\n",
    "total2, grade2 = cal_grade(32, 78)\n",
    "\n",
    "print('Student 1: Mark: ' + str(total1) + ' Grade: ' + grade1)\n",
    "print('Student 2: Mark: ' + str(total2) + ' Grade: ' + grade2)"
   ]
  },
  {
   "cell_type": "markdown",
   "metadata": {},
   "source": [
    "In this example, we have multiple outputs, and these outputs are formed as a tuple, which can be unpacked and the values can be assigned to each variable on the left-hand-side of the assignment statement. \n",
    "\n",
    "### Variable namespace <a id=\"subsection1.3\"></a>\n",
    "A namespace is a collection of names. It maps names to corresponding objects. Python is similar to other programming languages, where one variable name typically only associates with one object. However, the same name can be used if they refer to objects in different **scopes**. For example, the same name can be used to define variables in different functions.\n",
    "\n",
    "Python has three layers of scopes: local, global, and built-in. \n",
    "- A variable declared inside the function's body is known as a local variable. \n",
    "- A variable declared outside of the function is known as a global variable. Global variable can be accessed inside or outside of the function.\n",
    "- A keyword predefined in Python, such as <code>len</code>, <code>print</code> and <code>type</code>. These keywords are highlighted by green letters in Jupyter notebook.\n",
    "\n",
    "The association of variable names and objects follow the LGB (Local, Global, Built-in) rule:\n",
    "- When you use a name inside a function, Python searches the local (L), then the global (G), and then the built-in (B)—and stops at the first place the name is found.\n",
    "- When outside a function, Python searches from global (G) to built-in (B). Again it stops at the first place the name is found.\n",
    "\n",
    "<div class=\"alert alert-block alert-success\">\n",
    "<b>Example 4: Demonstration of LGB rules</b> \n",
    "</div>"
   ]
  },
  {
   "cell_type": "code",
   "execution_count": 5,
   "metadata": {
    "scrolled": true
   },
   "outputs": [],
   "source": [
    "def lgb_test(z):                      \n",
    "    \"\"\"Illustration for LGB rules\"\"\"\n",
    "    \n",
    "    x = 'local x'                       # x is defined locally\n",
    "    \n",
    "    print('Inside the function')\n",
    "    print('x inside: ', x)              # Print x\n",
    "    print('y inside: ', y)              # Print y, not defined locally\n",
    "    print('z inside: ', z)              # Print z, as an input argument, defined locally"
   ]
  },
  {
   "cell_type": "code",
   "execution_count": 8,
   "metadata": {
    "scrolled": true
   },
   "outputs": [
    {
     "name": "stdout",
     "output_type": "stream",
     "text": [
      "Outside the function\n",
      "x outside:  global x\n",
      "y outside:  global y\n",
      "z outside:  global z\n",
      "\n",
      "\n",
      "Inside the function\n",
      "x inside:  local x\n",
      "y inside:  global y\n",
      "z inside:  global x\n"
     ]
    }
   ],
   "source": [
    "y = 'global y'                  # Global as it is defined outside of the function\n",
    "x = 'global x'                  # Global as it is defined outside of the function\n",
    "z = 'global z'                  # Global as it is defined outside of the function\n",
    "\n",
    "print('Outside the function')\n",
    "print('x outside: ', x)         # Print x, defined globally     \n",
    "print('y outside: ', y)         # Print y, defined globally\n",
    "print('z outside: ', z)         # Print z, defined globally\n",
    "\n",
    "print('\\n')                     # Print an empty line to separate the results\n",
    "\n",
    "lgb_test(x)                     # Call the function"
   ]
  },
  {
   "cell_type": "markdown",
   "metadata": {},
   "source": [
    "In the example above, we use the names <code>x</code>, <code>y</code>, and <code>z</code> to define different variables. They may associate with different objects in different scopes. \n",
    "- Let us firstly focus on the second code cell, where all variables are defined outside of the function definition. According to the LGB rule, we know that they belong to the global scope. \n",
    "- Inside of the definition of function function <code>lgb_test</code>:\n",
    "    - The variable <code>x</code> is defined in the function (locally). It is thus different from the other <code>x</code> outside of the function (global). That is why outside of the function, the printed message is \"global x\", and the message becomes \"local x\" inside of the function. \n",
    "    - The variable <code>y</code> is not defined locally in the function, so Python continues to search if it is defined outside of function <code>lgb_test</code> as a global name. The answer is yes, so the variable <code>y</code> is the same object \"global y\" inside and outside of the function.\n",
    "    - The name <code>z</code> inside of the function is used as the input argument of the function, so it is different from the global <code>z</code> defined outside, and it takes the value of the global <code>x</code> as we call the function <code>lgb_test(x)</code>. That is why the printed message is \"global x\". \n",
    "- The Name <code>print</code> is not defined locally (inside function definition) or globally (outside function definition), so it used as a built-in function.\n",
    "\n",
    "<div class=\"alert alert-block alert-warning\">\n",
    "<b>Coding Style:</b> Referring to globally defined variables in a function is convenient but it makes the function dependent on the code outside, thus more difficult to test or debug as an independent code block. For beginners, it is recommended to only use locally defined variables in functions. \n",
    "</div>\n",
    "\n",
    "### Function arguments <a id=\"subsection1.4\"></a>\n",
    "Python provides flexible ways to pass arguments to functions. For instance, **positional arguments** can be passed to functions in the same order that arguments are written, and **keyword arguments** associate argument values with the variable names. \n",
    "\n",
    "<div class=\"alert alert-block alert-success\">\n",
    "<b>Example 5:</b> Write a function to summarize the information of students registered for class DAO2702. The input arguments are student's name, age, gender, faculty, and year of enrollment. The output is a dictionary. \n",
    "</div>"
   ]
  },
  {
   "cell_type": "code",
   "execution_count": 8,
   "metadata": {},
   "outputs": [],
   "source": [
    "def student_info(name, age, gender, faculty, year):\n",
    "    \"\"\"This function summarizes student information into a dictionary\"\"\"\n",
    "    \n",
    "    info_dict = {'name': name,\n",
    "            'age': age,\n",
    "            'gender': gender,\n",
    "            'faculty': faculty,\n",
    "            'year': year}\n",
    "    \n",
    "    return info_dict"
   ]
  },
  {
   "cell_type": "code",
   "execution_count": 9,
   "metadata": {
    "scrolled": true
   },
   "outputs": [
    {
     "data": {
      "text/plain": [
       "{'name': 'Jane Doe',\n",
       " 'age': 20,\n",
       " 'gender': 'F',\n",
       " 'faculty': 'Business',\n",
       " 'year': 2017}"
      ]
     },
     "execution_count": 9,
     "metadata": {},
     "output_type": "execute_result"
    }
   ],
   "source": [
    "student = student_info('Jane Doe', 20, 'F', 'Business', 2017)\n",
    "\n",
    "student"
   ]
  },
  {
   "cell_type": "markdown",
   "metadata": {},
   "source": [
    "In this case, each argument is passed to the function according to their positions in the definition of the function, so they are called **positional**. \n",
    "\n",
    "Besides matching the order of arguments, Python also allows passing arguments according to the keywords of the arguments, as shown by the following code."
   ]
  },
  {
   "cell_type": "code",
   "execution_count": 10,
   "metadata": {},
   "outputs": [
    {
     "data": {
      "text/plain": [
       "{'name': 'Jane Doe',\n",
       " 'age': 20,\n",
       " 'gender': 'F',\n",
       " 'faculty': 'Business',\n",
       " 'year': 2017}"
      ]
     },
     "execution_count": 10,
     "metadata": {},
     "output_type": "execute_result"
    }
   ],
   "source": [
    "student = student_info('Jane Doe', 20,                              # Positional arguments\n",
    "                       year=2017, faculty='Business', gender='F')   # Keyword arguments 不要加空格\n",
    "student"
   ]
  },
  {
   "cell_type": "markdown",
   "metadata": {},
   "source": [
    "In the example above, the last three arguments use a a name-value pair that to pass argument to the function, so they are called **keyword arguments**. Because the keywords are sufficient to match the arguments and their values, the order of arguments could be arbitrary. The first two arguments, however, are still **positional** since no keyword is given, so they must follow the given order.\n",
    "\n",
    "<div class=\"alert alert-block alert-danger\">\n",
    "<b>Notes:</b>  \n",
    "    In Python programming, all positional arguments must be specified before keyword arguments, otherwise there will be an error message.  \n",
    "</div>\n",
    "\n",
    "<div class=\"alert alert-block alert-warning\">\n",
    "<b>Notes:</b>  \n",
    "    Do not use spaces around the equal sign while specifying keyword arguments, as suggested by <a href=\"https://www.python.org/dev/peps/pep-0008/#imports\">PEP 8 Style Guide:</a>.  \n",
    "</div>\n",
    "\n",
    "Such flexible ways of passing arguments are particularly useful when some arguments are assigned to default values. For example, most students in DAO2702 are enrolled in 2017, and are from Business School. As a result, \"2017\" and \"Business\" could be used as the default values of these two arguments, and there is no need to specify them every time we call the function, except for a few special cases. The modified function with default arguments is given as follows."
   ]
  },
  {
   "cell_type": "code",
   "execution_count": 11,
   "metadata": {},
   "outputs": [],
   "source": [
    "def student_info(name, age, gender, faculty='Business', year=2017):\n",
    "    \"\"\"This function summarizes student information into a dictionary\"\"\"\n",
    "    \n",
    "    info_dict = {'name': name,\n",
    "            'age': age,\n",
    "            'gender': gender,\n",
    "            'faculty': faculty,\n",
    "            'year': year}\n",
    "    \n",
    "    return info_dict"
   ]
  },
  {
   "cell_type": "markdown",
   "metadata": {},
   "source": [
    "We may then call the function as the following command."
   ]
  },
  {
   "cell_type": "code",
   "execution_count": 26,
   "metadata": {},
   "outputs": [
    {
     "data": {
      "text/plain": [
       "{'name': 'Jane Doe',\n",
       " 'age': 20,\n",
       " 'gender': 'F',\n",
       " 'faculty': 'Business',\n",
       " 'year': 2017}"
      ]
     },
     "execution_count": 26,
     "metadata": {},
     "output_type": "execute_result"
    }
   ],
   "source": [
    "student = student_info('Jane Doe', 20, 'F') \n",
    "\n",
    "student"
   ]
  },
  {
   "cell_type": "markdown",
   "metadata": {},
   "source": [
    "In cases where the year of enrollment is not 2017, we can simply use keyword argument to specify the year, without giving the vlaue of <code>faculty</code>. "
   ]
  },
  {
   "cell_type": "code",
   "execution_count": 27,
   "metadata": {},
   "outputs": [
    {
     "data": {
      "text/plain": [
       "{'name': 'John Doe',\n",
       " 'age': 20,\n",
       " 'gender': 'M',\n",
       " 'faculty': 'Business',\n",
       " 'year': 2018}"
      ]
     },
     "execution_count": 27,
     "metadata": {},
     "output_type": "execute_result"
    }
   ],
   "source": [
    "student = student_info('John Doe', 20, 'M', year=2018) \n",
    "\n",
    "student"
   ]
  },
  {
   "cell_type": "markdown",
   "metadata": {},
   "source": [
    "If you are not sure about the arguments and their default values, you may use the command <code>help</code> to dispaly such information, as the example below."
   ]
  },
  {
   "cell_type": "code",
   "execution_count": 28,
   "metadata": {},
   "outputs": [
    {
     "name": "stdout",
     "output_type": "stream",
     "text": [
      "Help on function student_info in module __main__:\n",
      "\n",
      "student_info(name, age, gender, faculty='Business', year=2017)\n",
      "    This function summarizes student information into a dictionary\n",
      "\n"
     ]
    }
   ],
   "source": [
    "help(student_info)"
   ]
  },
  {
   "cell_type": "markdown",
   "metadata": {},
   "source": [
    "这里有一个例子\n"
   ]
  },
  {
   "cell_type": "markdown",
   "metadata": {},
   "source": [
    "The use of keyword arguments would be greatly helpful when there are many input arguments. It simplifies the passing of default arguments, and improves the readability of the program. \n",
    "\n",
    "### Recursive functions <a id=\"subsection1.5\"></a>\n",
    "\n",
    "<img src=\"https://files.realpython.com/media/fixing_problems.ffd6d34e887e.png\" width=240>\n",
    "\n",
    "<div class=\"alert alert-block alert-success\">\n",
    "    <b>Example 6:</b> The <b>Fibonacci series</b> 0, 1, 1, 2, 3, 5, ... is a sequence of integers where each number is the sum of the previous two numbers. Write a Python function that returns the $n$th number ($n$ starts from 0) in the Fibonacci series. \n",
    "</div>\n",
    "\n",
    "We can define a function <code>fib(n)</code> with <code>n</code> to be the input argument that indicates the <code>n</code>th number we try to obtain from the series. According to the definition of the Fibonacci series, for any integer <code>n>2</code>, we would have <code>fib(n)</code> is equal to <code>fib(n-1) + fib(n-2)</code>. Can we use this feature to construct the function? The answer is 'Yes'. "
   ]
  },
  {
   "cell_type": "code",
   "execution_count": 29,
   "metadata": {},
   "outputs": [],
   "source": [
    "def fib(n):\n",
    "    \"\"\"\n",
    "    The function fibonacci calculates the nth number in the Fibonacci series\n",
    "    \"\"\"\n",
    "    \n",
    "    if n >= 2:\n",
    "        return fib(n-1) + fib(n-2)\n",
    "    else:\n",
    "        return n      "
   ]
  },
  {
   "cell_type": "markdown",
   "metadata": {},
   "source": [
    "We may test the results as follows."
   ]
  },
  {
   "cell_type": "code",
   "execution_count": 30,
   "metadata": {
    "scrolled": false
   },
   "outputs": [
    {
     "name": "stdout",
     "output_type": "stream",
     "text": [
      "The 0th Fibonacci number:  0\n",
      "The 1th Fibonacci number:  1\n",
      "The 2th Fibonacci number:  1\n",
      "The 3th Fibonacci number:  2\n",
      "The 4th Fibonacci number:  3\n",
      "The 5th Fibonacci number:  5\n",
      "The 6th Fibonacci number:  8\n",
      "The 7th Fibonacci number:  13\n",
      "The 8th Fibonacci number:  21\n",
      "The 9th Fibonacci number:  34\n"
     ]
    }
   ],
   "source": [
    "for n in range(10):         # Integer n is taking values 0, 1, 2, ..., 9\n",
    "    print('The {0}th Fibonacci number: '.format(n), \n",
    "          fib(n))"
   ]
  },
  {
   "cell_type": "markdown",
   "metadata": {},
   "source": [
    "In can be seen that in the definition of function <code>fib(n)</code>, we are calling the function itself: <code>fib(n-1) + fib(n-2)</code>, and such functions are called recursive functions. Take <code>n=6</code> for example, the flow chart of calculating <code>fib(6)</code> is given as the tree graph below.\n",
    "\n",
    "<img src='https://miro.medium.com/max/1018/1*svQ784qk1hvBE3iz7VGGgQ.jpeg' width=650>\n",
    "\n",
    "Please note that the recursive expression <code>fib(n-1) + fib(n-2)</code> does not hold for cases <code>n=1</code> and <code>n=0</code>, that is why they are addressed as the <code>else</code> situation without using recursion. From the graph above, you may also observe that these two cases are the \"leaves\" of the tree, where the recursion stops. These leaves (no recursion cases) are rather important in terminating the program, because without them, the recursion would encounter an error or run forever. \n",
    "\n",
    "The recursive functions are convenient and clear in logic, but sometimes they can be extremely inefficient in computation. Take the Fibonacci series for example, if the integer <code>n</code> is given as 50, you will find your computer takes forever to compute. (Your computer will freeze if you try that. The program can be terminated by the **stop** button.)\n",
    "\n",
    "This low computational efficiency can be explained by the tree graph of <code>fib(6)</code>. It is shown that we are doing many repeated but redundant calculations. For example, when calculating <code>fib(5)</code> (the left branches of the tree), we have already calculated the values of <code>fib(4)</code>, <code>fib(3)</code>, <code>fib(2)</code>, and <code>fib(1)</code>, but while calculating <code>fib(4)</code> (the right branches of the tree), the same values <code>fib(3)</code>, <code>fib(2)</code>, and <code>fib(1)</code> must be computed again. Such repeated computation will be a big problem when <code>n</code> is large. \n",
    "\n",
    "The following code shows a method of calculating the Fibonacci numbers without recursion."
   ]
  },
  {
   "cell_type": "code",
   "execution_count": 1,
   "metadata": {},
   "outputs": [],
   "source": [
    "def fib_fast(n):\n",
    "    \"\"\"\n",
    "    The function fib_fast calculates the nth number in the \n",
    "    Fibonacci series without using recursions\n",
    "    \"\"\"\n",
    "    \n",
    "    small, large = 0, 1\n",
    "    for i in range(n):\n",
    "        large, small = large+small, large       \n",
    "    \n",
    "    return small"
   ]
  },
  {
   "cell_type": "code",
   "execution_count": 2,
   "metadata": {},
   "outputs": [
    {
     "data": {
      "text/plain": [
       "1"
      ]
     },
     "execution_count": 2,
     "metadata": {},
     "output_type": "execute_result"
    }
   ],
   "source": [
    "fib_fast(1)"
   ]
  },
  {
   "cell_type": "code",
   "execution_count": 32,
   "metadata": {},
   "outputs": [
    {
     "data": {
      "text/plain": [
       "3878968454388325633701916308325905312082127714646245106160597214895550139044037097010822916462210669479293452858882973813483102008954982940361430156911478938364216563944106910214505634133706558656238254656700712525929903854933813928836378347518908762970712033337052923107693008518093849801803847813996748881765554653788291644268912980384613778969021502293082475666346224923071883324803280375039130352903304505842701147635242270210934637699104006714174883298422891491273104054328753298044273676822977244987749874555691907703880637046832794811358973739993110106219308149018570815397854379195305617510761053075688783766033667355445258844886241619210553457493675897849027988234351023599844663934853256411952221859563060475364645470760330902420806382584929156452876291575759142343809142302917491088984155209854432486594079793571316841692868039545309545388698114665082066862897420639323438488465240988742395873801976993820317174208932265468879364002630797780058759129671389634214252579116872755600360311370547754724604639987588046985178408674382863125"
      ]
     },
     "execution_count": 32,
     "metadata": {},
     "output_type": "execute_result"
    }
   ],
   "source": [
    "fib_fast(5000)"
   ]
  },
  {
   "cell_type": "markdown",
   "metadata": {},
   "source": [
    "The results are the same."
   ]
  },
  {
   "cell_type": "code",
   "execution_count": 33,
   "metadata": {
    "scrolled": true
   },
   "outputs": [
    {
     "name": "stdout",
     "output_type": "stream",
     "text": [
      "The 0th Fibonacci number:  0\n",
      "The 1th Fibonacci number:  1\n",
      "The 2th Fibonacci number:  1\n",
      "The 3th Fibonacci number:  2\n",
      "The 4th Fibonacci number:  3\n",
      "The 5th Fibonacci number:  5\n",
      "The 6th Fibonacci number:  8\n",
      "The 7th Fibonacci number:  13\n",
      "The 8th Fibonacci number:  21\n",
      "The 9th Fibonacci number:  34\n"
     ]
    }
   ],
   "source": [
    "for n in range(10):         # Integer n is taking values 0, 1, 2, ..., 9\n",
    "    print('The {0}th Fibonacci number: '.format(n), fib_fast(n))"
   ]
  },
  {
   "cell_type": "markdown",
   "metadata": {},
   "source": [
    "Without repeated unnecessary calculations, the program is much more efficient, and we can calculate cases where <code>n</code> are much larger. "
   ]
  },
  {
   "cell_type": "code",
   "execution_count": 34,
   "metadata": {
    "scrolled": false
   },
   "outputs": [
    {
     "name": "stdout",
     "output_type": "stream",
     "text": [
      "The 500th Fibonacci number: 1.394232e+104\n",
      "The 501st Fibonacci number: 2.255915e+104\n"
     ]
    }
   ],
   "source": [
    "print('The 500th Fibonacci number: {:6e}'.format(fib_fast(500)))\n",
    "print('The 501st Fibonacci number: {:6e}'.format(fib_fast(501)))"
   ]
  },
  {
   "cell_type": "markdown",
   "metadata": {},
   "source": [
    "You can verify from small number cases, such as <code>n=6</code>, the Fibonacci number of <code>fib(6)</code> is 8, and it takes 12 (<code>Fib(7)</code>-1) summation operations if we use recursive functions. Similarly, <code>fib(7)</code> is 13, and it takes 20 (<code>Fib(8)</code> -1) summation operations if it is calculated recursively. When this simple rule applies to large numbers, like <code>n=500</code>, the number of summation operations is over 2e104. Even if your computer could complete 1e10 operations per second, it will still take more than 2e94 seconds to run the program. By the way, the age of our universe is around 4e17 seconds, so we never stand a chance to calculate <code>fib(500)</code> via recursion by the end of the world. However, if you choose the right way to write your function, as <code>fib_fast(n)</code>, the calculation takes negligible time. \n",
    "\n",
    "For cases without repeated operations, the recursive function could be a convenient solution, such as the following example.\n",
    "\n",
    "<div class=\"alert alert-block alert-success\">\n",
    "    <b>Example 7:</b> Write a function to convert a nested list into a flat list. For instance, if the input nested list is [1, [2, [3, 4], 5, [[[6]]], [7]], [8]], then the output is [1, 2, 3, 4, 5, 6, 7, 8].\n",
    "</div>\n"
   ]
  },
  {
   "cell_type": "code",
   "execution_count": 12,
   "metadata": {},
   "outputs": [
    {
     "data": {
      "text/plain": [
       "[1, 2, 3, 4, 5, 6, 7, 8]"
      ]
     },
     "execution_count": 12,
     "metadata": {},
     "output_type": "execute_result"
    }
   ],
   "source": [
    "nested = [1, [2, [3, 4], 5, [[[6]]], [7]], [8]]\n",
    "\n",
    "def flat(nested):\n",
    "    \"\"\"\n",
    "    The function flat flattens a nested list into a flat list.\n",
    "    \"\"\"\n",
    "    \n",
    "    output = []\n",
    "    for item in nested:\n",
    "        if type(item) == list:\n",
    "            output.extend(flat(item))\n",
    "        else:\n",
    "            output.append(item)\n",
    "    \n",
    "    return output\n",
    "\n",
    "flat(nested)"
   ]
  },
  {
   "cell_type": "code",
   "execution_count": 36,
   "metadata": {},
   "outputs": [],
   "source": [
    "def flat(nested):\n",
    "    \"\"\"\n",
    "    The function flat flattens a nested list into a flat list.\n",
    "    \"\"\"\n",
    "    \n",
    "    output = []\n",
    "    for item in nested:\n",
    "        if type(item) == list:\n",
    "            output.extend(flat(item))\n",
    "        else:\n",
    "            output.append(item)\n",
    "    \n",
    "    return output"
   ]
  },
  {
   "cell_type": "markdown",
   "metadata": {},
   "source": [
    "### Leap of Faith <a id=\"subsection1.6\"></a>\n",
    "\n",
    "> *Following the flow of execution is one way to read programs, but it can quickly become labyrinthine. An alternative is what I call the “leap of faith.” When you come to a function call, instead of following the flow of execution, you assume that the function works correctly\n",
    "and returns the right result.* -  [Think Python](https://www.greenteapress.com/thinkpython/thinkpython.pdf)\n",
    "\n",
    "In fact, we have already been practicing the leap of faith when using various built-in functions. We do not examine or question the correctness while calling built-in functions like <code>sum</code>, <code>len</code>, and many others, because we believe they are written by good programers. \n",
    "\n",
    "The same idea should also be applied to the case of our own functions. Once we have convinced ourselves that this function is correct—by examining the code and testing—we can use the function without looking at the body again."
   ]
  },
  {
   "cell_type": "markdown",
   "metadata": {},
   "source": [
    "  "
   ]
  },
  {
   "cell_type": "markdown",
   "metadata": {},
   "source": [
    "## Modules <a id=\"section2\"></a>\n",
    "\n",
    "### Why modules? <a id=\"subsection2.1\"></a>\n",
    "\n",
    "A module is a \".py\" file that defines functions, classes, variables, or simply contains some runnable code. The benefits of using modules include:\n",
    "- It promotes the reuse and sharing of code\n",
    "- It helps to logically organize Python code, thus enhancing readability and maintenance efficiency.\n",
    "- Better namespace.\n",
    "\n",
    "### Import modules <a id=\"subsection2.2\"></a>\n",
    "The syntax of calling functions from modules is demonstrated by the following example.\n",
    "\n",
    "<div class=\"alert alert-block alert-success\">\n",
    "    <b>Example 8:</b> Use the function <b>mean</b> and <b>stdev</b> from the module <b>statistics</b> to calculate the sample mean value and the sample standard deviation of numbers in a list.\n",
    "</div>"
   ]
  },
  {
   "cell_type": "code",
   "execution_count": 37,
   "metadata": {
    "scrolled": true
   },
   "outputs": [
    {
     "name": "stdout",
     "output_type": "stream",
     "text": [
      "3.5\n",
      "1.8708286933869707\n"
     ]
    }
   ],
   "source": [
    "import statistics\n",
    "\n",
    "a_list = [1, 2, 3, 4, 5, 6]\n",
    "\n",
    "print(statistics.mean(a_list))\n",
    "print(statistics.stdev(a_list))"
   ]
  },
  {
   "cell_type": "markdown",
   "metadata": {},
   "source": [
    "In the example above, the module is imported to our program by the keyword <code>import</code>, followed by the module name. Functions from modules can be called via the syntax <b><code><i>module_name.function_name</i></code></b>. \n",
    "\n",
    "Python also enables users to give a local name to the imported module by using the keyword <code>as</code>, as shown by the example below."
   ]
  },
  {
   "cell_type": "code",
   "execution_count": 38,
   "metadata": {},
   "outputs": [
    {
     "name": "stdout",
     "output_type": "stream",
     "text": [
      "3.5\n",
      "1.8708286933869707\n"
     ]
    }
   ],
   "source": [
    "import statistics as st\n",
    "\n",
    "a_list = [1, 2, 3, 4, 5, 6]\n",
    "\n",
    "print(st.mean(a_list))\n",
    "print(st.stdev(a_list))"
   ]
  },
  {
   "cell_type": "markdown",
   "metadata": {},
   "source": [
    "It is common practice to use local names for imported modules in order to keep the program neat and concise. \n",
    "\n",
    "If you feel it is stil too troublesome to type the module name, you may use the following syntax with the keyword <code>from</code> and the symbol <code>*</code>."
   ]
  },
  {
   "cell_type": "code",
   "execution_count": 39,
   "metadata": {},
   "outputs": [
    {
     "name": "stdout",
     "output_type": "stream",
     "text": [
      "3.5\n",
      "1.8708286933869707\n"
     ]
    }
   ],
   "source": [
    "from statistics import *\n",
    "\n",
    "a_list = [1, 2, 3, 4, 5, 6]\n",
    "\n",
    "print(mean(a_list))\n",
    "print(stdev(a_list))"
   ]
  },
  {
   "cell_type": "markdown",
   "metadata": {},
   "source": [
    "This case imports everything from the module <code>statistics</code>, so there is no need to refer to the name of the module, and functions can be directly called. \n",
    "\n",
    "<div class=\"alert alert-block alert-warning\">\n",
    "<b>Coding Style:</b> It is usually not recommended to import everything from a module to omit the module name, as the code above. The reason is that different modules may have variables, functions, or classes with the same names that may cause conflicts in namespaces. It is prefered to use a module name for a better management of namespaces.\n",
    "</div>\n",
    "\n",
    "The keyword <code>from</code> can be applied in the following way to better control program namespaces."
   ]
  },
  {
   "cell_type": "code",
   "execution_count": 40,
   "metadata": {
    "scrolled": true
   },
   "outputs": [
    {
     "name": "stdout",
     "output_type": "stream",
     "text": [
      "3.5\n",
      "1.8708286933869707\n"
     ]
    }
   ],
   "source": [
    "from statistics import mean as ml\n",
    "from statistics import stdev as st\n",
    "\n",
    "a_list = [1, 2, 3, 4, 5, 6]\n",
    "\n",
    "print(ml(a_list))\n",
    "print(st(a_list))"
   ]
  },
  {
   "cell_type": "markdown",
   "metadata": {},
   "source": [
    "In this case, we also use the keyword <code>as</code> to rename the imported functions. This method is usually used to avoid name conflicts.\n",
    "\n",
    "<div class=\"alert alert-block alert-warning\">\n",
    "<b>Coding Style:</b> \n",
    "<a href=\"https://www.python.org/dev/peps/pep-0008/#imports\">PEP 8 Style Guide:</a> \n",
    "<li>Import different modules and packages in separate lines</li>\n",
    "<li>Place import statements at the top of the code file</li>\n",
    "<li>Absolute imports are recommended</li>\n",
    "<li>For better namespace management, it is better to avoid using <b>*</b></li>\n",
    "</div>\n",
    "\n",
    "Python would remember our imported modules and the contained objects, so for one run of juypter notebook file, we only need to do the import once. "
   ]
  },
  {
   "cell_type": "markdown",
   "metadata": {},
   "source": [
    "  "
   ]
  },
  {
   "cell_type": "markdown",
   "metadata": {},
   "source": [
    "## Packages <a id=\"section3\"></a>\n",
    "\n",
    "A package is a collection of modules and other supporting files, like images and user guide documents. The third-party packages developed by other programmers could help us to greatly simplify our coding works. \n",
    "\n",
    "> *The usefulness of Python for data science stems primarily from the large and active ecosystem of third-party packages: <code>NumPy</code> for manipulation of homogeneous array-based data, <code>Pandas</code> for manipulation of heterogeneous and labeled data, <code>SciPy</code> for common scientific computing tasks, <code>Matplotlib</code> for publication-quality visualizations, <code>IPython</code> for interactive execution and sharing of code, <code>Scikit-Learn</code> for machine learning, and many more tools that will be mentioned in the following pages.* -  [Python Data Science Handbook](https://jakevdp.github.io/PythonDataScienceHandbook/00.00-preface.html)\n",
    "\n",
    "The syntax of importing and using packages is very similar to modules. \n",
    "\n",
    "### Install packages <a id=\"subsection3.1\"></a>\n",
    "External Python package must be installed (only once) before we can import and use them. The ways of installing these package may vary, depending on how they are shared online. Usually you can follow the steps:\n",
    "- For Windows OS, you may install the package **matplotlib** by type in **\"conda install matplotlib\"** or **\"pip install matplotlib\"** in the Anaconda prompt. \n",
    "- For Linus and Mac OS, you could install the package by type in **\"conda install matplotlib\"** or **\"pip install matplotlib\"** in the terminal.\n",
    "\n",
    "You only need to install packages once, and all commonly used packages for data science, such as <code>NumPy</code>, <code>SciPy</code>, <code>Pandas</code>, and <code>Matplotlib</code>, have been integrated in the Anaconda platform, so there is no need to install them. \n",
    "\n",
    "### Package information <a id=\"subsection3.2\"></a>\n",
    "- Package documents\n",
    "- Run <code>help()</code> to display the docstring\n",
    "- Google keywords for examples"
   ]
  },
  {
   "cell_type": "markdown",
   "metadata": {},
   "source": [
    " "
   ]
  },
  {
   "cell_type": "markdown",
   "metadata": {},
   "source": [
    "## Case Studies <a id=\"section4\"></a>\n",
    "\n",
    "### Case study 1: a rock, paper, scissors game <a id=\"subsection4.1\"></a>\n",
    "In this section, we will write a function <code>rps()</code> for playing the \"rock, paper, scissors\" game. The rules of the game are given below:\n",
    "- The game runs for many rounds. In each round of the game, the player keys in 'r' for rock, 'p' for paper, and 's' for scissors. The game ends if the player keys in any other characters. \n",
    "- Computer randomly chooses one from rock, paper, and scissors in each round.\n",
    "- Use emojis &#9994; for rock, &#9995; for paper, and &#9996; for scissors as the result of each game. For example, the printed message for one game could be:"
   ]
  },
  {
   "cell_type": "raw",
   "metadata": {},
   "source": [
    "Player: ✊  Computer: ✌\n",
    "You win."
   ]
  },
  {
   "cell_type": "markdown",
   "metadata": {},
   "source": [
    "Among many ways to construct the function <code>rps()</code>, we will break the game into separate tasks that are much easier to deal with:\n",
    "- Function <code>rand_rps()</code> for randomly selecting one letter from 'r' (for rock), 'p' (for paper), and 's' (for scissors), as computer's decision.\n",
    "- Function <code>emoji_dict()</code> for creating emojis of rock, paper, and scissors, and store them in a <code>dict</code> type data object. \n",
    "- Function <code>check_win()</code> for checking if the player wins the game, given decisions of the computer and player.\n",
    "\n",
    "These functions can be created and tested separately, and then we can use them in constructing the game with the \"leap of faith\" assumption. \n",
    "\n",
    "#### Function <code>rand_rps()</code>\n",
    "In Python, there are many ways for generating random numbers or random selections. Here we use the function <code>randint()</code> from the <code>numpy.random</code> module to generate random integers, and these integers are used as indices to select items from a string. "
   ]
  },
  {
   "cell_type": "code",
   "execution_count": 41,
   "metadata": {
    "scrolled": false
   },
   "outputs": [
    {
     "name": "stdout",
     "output_type": "stream",
     "text": [
      "Help on built-in function randint:\n",
      "\n",
      "randint(...) method of numpy.random.mtrand.RandomState instance\n",
      "    randint(low, high=None, size=None, dtype=int)\n",
      "    \n",
      "    Return random integers from `low` (inclusive) to `high` (exclusive).\n",
      "    \n",
      "    Return random integers from the \"discrete uniform\" distribution of\n",
      "    the specified dtype in the \"half-open\" interval [`low`, `high`). If\n",
      "    `high` is None (the default), then results are from [0, `low`).\n",
      "    \n",
      "    .. note::\n",
      "        New code should use the ``integers`` method of a ``default_rng()``\n",
      "        instance instead; please see the :ref:`random-quick-start`.\n",
      "    \n",
      "    Parameters\n",
      "    ----------\n",
      "    low : int or array-like of ints\n",
      "        Lowest (signed) integers to be drawn from the distribution (unless\n",
      "        ``high=None``, in which case this parameter is one above the\n",
      "        *highest* such integer).\n",
      "    high : int or array-like of ints, optional\n",
      "        If provided, one above the largest (signed) integer to be drawn\n",
      "        from the distribution (see above for behavior if ``high=None``).\n",
      "        If array-like, must contain integer values\n",
      "    size : int or tuple of ints, optional\n",
      "        Output shape.  If the given shape is, e.g., ``(m, n, k)``, then\n",
      "        ``m * n * k`` samples are drawn.  Default is None, in which case a\n",
      "        single value is returned.\n",
      "    dtype : dtype, optional\n",
      "        Desired dtype of the result. Byteorder must be native.\n",
      "        The default value is int.\n",
      "    \n",
      "        .. versionadded:: 1.11.0\n",
      "    \n",
      "    Returns\n",
      "    -------\n",
      "    out : int or ndarray of ints\n",
      "        `size`-shaped array of random integers from the appropriate\n",
      "        distribution, or a single such random int if `size` not provided.\n",
      "    \n",
      "    See Also\n",
      "    --------\n",
      "    random_integers : similar to `randint`, only for the closed\n",
      "        interval [`low`, `high`], and 1 is the lowest value if `high` is\n",
      "        omitted.\n",
      "    Generator.integers: which should be used for new code.\n",
      "    \n",
      "    Examples\n",
      "    --------\n",
      "    >>> np.random.randint(2, size=10)\n",
      "    array([1, 0, 0, 0, 1, 1, 0, 0, 1, 0]) # random\n",
      "    >>> np.random.randint(1, size=10)\n",
      "    array([0, 0, 0, 0, 0, 0, 0, 0, 0, 0])\n",
      "    \n",
      "    Generate a 2 x 4 array of ints between 0 and 4, inclusive:\n",
      "    \n",
      "    >>> np.random.randint(5, size=(2, 4))\n",
      "    array([[4, 0, 2, 1], # random\n",
      "           [3, 2, 2, 0]])\n",
      "    \n",
      "    Generate a 1 x 3 array with 3 different upper bounds\n",
      "    \n",
      "    >>> np.random.randint(1, [3, 5, 10])\n",
      "    array([2, 2, 9]) # random\n",
      "    \n",
      "    Generate a 1 by 3 array with 3 different lower bounds\n",
      "    \n",
      "    >>> np.random.randint([1, 5, 7], 10)\n",
      "    array([9, 8, 7]) # random\n",
      "    \n",
      "    Generate a 2 by 4 array using broadcasting with dtype of uint8\n",
      "    \n",
      "    >>> np.random.randint([1, 3, 5, 7], [[10], [20]], dtype=np.uint8)\n",
      "    array([[ 8,  6,  9,  7], # random\n",
      "           [ 1, 16,  9, 12]], dtype=uint8)\n",
      "\n"
     ]
    }
   ],
   "source": [
    "import numpy.random as rd\n",
    "\n",
    "help(rd.randint)"
   ]
  },
  {
   "cell_type": "markdown",
   "metadata": {},
   "source": [
    "The function <code>rand_rps()</code> is written as follows, and you may call this function to check the outputs. "
   ]
  },
  {
   "cell_type": "code",
   "execution_count": null,
   "metadata": {},
   "outputs": [],
   "source": []
  },
  {
   "cell_type": "markdown",
   "metadata": {},
   "source": [
    "#### Function <code>emoji_dict()</code>\n",
    "\n",
    "The function <code>emojize()</code> imported from the package <code>emoji</code> is a convenient tool for displaying emojis. The name for retrieving each emoji can be found from [here](https://www.webfx.com/tools/emoji-cheat-sheet/). "
   ]
  },
  {
   "cell_type": "code",
   "execution_count": 42,
   "metadata": {
    "scrolled": true
   },
   "outputs": [
    {
     "name": "stdout",
     "output_type": "stream",
     "text": [
      "Help on function emojize in module emoji.core:\n",
      "\n",
      "emojize(string, use_aliases=False, delimiters=(':', ':'))\n",
      "    Replace emoji names in a string with unicode codes.\n",
      "    \n",
      "    :param string: String contains emoji names.\n",
      "    :param use_aliases: (optional) Enable emoji aliases.  See ``emoji.UNICODE_EMOJI_ALIAS``.\n",
      "    :param delimiters: (optional) Use delimiters other than _DEFAULT_DELIMITER\n",
      "        >>> import emoji\n",
      "        >>> print(emoji.emojize(\"Python is fun :thumbsup:\", use_aliases=True))\n",
      "        Python is fun 👍\n",
      "        >>> print(emoji.emojize(\"Python is fun :thumbs_up:\"))\n",
      "        Python is fun 👍\n",
      "        >>> print(emoji.emojize(\"Python is fun __thumbs_up__\", delimiters = (\"__\", \"__\")))\n",
      "        Python is fun 👍\n",
      "\n"
     ]
    }
   ],
   "source": [
    "from emoji import emojize\n",
    "\n",
    "help(emojize)"
   ]
  },
  {
   "cell_type": "markdown",
   "metadata": {},
   "source": [
    "Please note that the package <code>emoji</code> is not integrated in Python or Anaconda, so you need to use the **pip** command to install it in terminal (Mac OS) or Anaconda prompt (Win OS). Once you have installed the package, the following function can be used to create a dictionary of emojis for rock ('r'), paper ('p'), and scissors ('s'). "
   ]
  },
  {
   "cell_type": "code",
   "execution_count": null,
   "metadata": {
    "scrolled": false
   },
   "outputs": [],
   "source": []
  },
  {
   "cell_type": "markdown",
   "metadata": {},
   "source": [
    "#### Function <code>check_win()</code>\n",
    "Given the decisions of <code>computer</code> and <code>player</code>, the function <code>check_win()</code> is used to check if the player wins the game or not. It will be more concise and readable to construct a dictionary <code>win_dict</code> as a tool for deciding the game result."
   ]
  },
  {
   "cell_type": "markdown",
   "metadata": {},
   "source": [
    "#### Function <code>rps()</code>\n",
    "Finally we can put all functions defined above together to construct the game <code>rps()</code>. "
   ]
  },
  {
   "cell_type": "code",
   "execution_count": null,
   "metadata": {},
   "outputs": [],
   "source": []
  },
  {
   "cell_type": "code",
   "execution_count": null,
   "metadata": {
    "scrolled": true
   },
   "outputs": [],
   "source": []
  },
  {
   "cell_type": "code",
   "execution_count": null,
   "metadata": {},
   "outputs": [],
   "source": []
  },
  {
   "cell_type": "code",
   "execution_count": null,
   "metadata": {},
   "outputs": [],
   "source": []
  }
 ],
 "metadata": {
  "kernelspec": {
   "display_name": "Python 3",
   "language": "python",
   "name": "python3"
  },
  "language_info": {
   "codemirror_mode": {
    "name": "ipython",
    "version": 3
   },
   "file_extension": ".py",
   "mimetype": "text/x-python",
   "name": "python",
   "nbconvert_exporter": "python",
   "pygments_lexer": "ipython3",
   "version": "3.8.8"
  }
 },
 "nbformat": 4,
 "nbformat_minor": 2
}

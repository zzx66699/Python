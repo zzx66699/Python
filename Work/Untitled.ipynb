{
 "cells": [
  {
   "cell_type": "code",
   "execution_count": 1,
   "id": "2bb1f07e",
   "metadata": {},
   "outputs": [
    {
     "ename": "ModuleNotFoundError",
     "evalue": "No module named 'matplotlib'",
     "output_type": "error",
     "traceback": [
      "\u001b[0;31m---------------------------------------------------------------------------\u001b[0m",
      "\u001b[0;31mModuleNotFoundError\u001b[0m                       Traceback (most recent call last)",
      "\u001b[1;32m/Users/zhuzhixin/proj/Python/Work/Untitled.ipynb Cell 1\u001b[0m line \u001b[0;36m1\n\u001b[0;32m----> <a href='vscode-notebook-cell:/Users/zhuzhixin/proj/Python/Work/Untitled.ipynb#W0sZmlsZQ%3D%3D?line=0'>1</a>\u001b[0m \u001b[39mimport\u001b[39;00m \u001b[39mmatplotlib\u001b[39;00m\u001b[39m.\u001b[39;00m\u001b[39mpyplot\u001b[39;00m \u001b[39mas\u001b[39;00m \u001b[39mplt\u001b[39;00m\n\u001b[1;32m      <a href='vscode-notebook-cell:/Users/zhuzhixin/proj/Python/Work/Untitled.ipynb#W0sZmlsZQ%3D%3D?line=1'>2</a>\u001b[0m \u001b[39mimport\u001b[39;00m \u001b[39mpandas\u001b[39;00m \u001b[39mas\u001b[39;00m \u001b[39mpd\u001b[39;00m\n\u001b[1;32m      <a href='vscode-notebook-cell:/Users/zhuzhixin/proj/Python/Work/Untitled.ipynb#W0sZmlsZQ%3D%3D?line=2'>3</a>\u001b[0m \u001b[39mimport\u001b[39;00m \u001b[39mpandas\u001b[39;00m \u001b[39mas\u001b[39;00m \u001b[39mpd\u001b[39;00m\n",
      "\u001b[0;31mModuleNotFoundError\u001b[0m: No module named 'matplotlib'"
     ]
    }
   ],
   "source": [
    "import matplotlib.pyplot as plt\n",
    "import pandas as pd\n",
    "import pandas as pd\n",
    "\n",
    "# read file\n",
    "df = pd.read_excel('1.xlsx')\n",
    "\n",
    "# 合并 G:Generic_Pro_APP:SG: 和 G:Generic_Pro_APP:SG: ATC 的 cost\n",
    "df.loc[df['Campaign'].isin(['G:Generic_Pro_APP:SG:', 'G:Generic_Pro_APP:SG: ATC']), 'Campaign'] = 'G:Generic_Pro_APP:SG:'\n",
    "df.loc[df['Campaign'].isin(['G:Generic_Pro_SPG:SG:', 'G:Generic_Pro_SPG:SG: ATC']), 'Campaign'] = 'G:Generic_Pro_SPG:SG:'\n",
    "df_grouped = df.groupby(['Day', 'Campaign']).agg({'Cost': 'sum'}).reset_index()\n",
    "\n",
    "# 设置图形的大小\n",
    "plt.figure(figsize=(18, 10))\n",
    "\n",
    "# 针对每个Campaign绘制折线图\n",
    "campaigns_to_plot = [campaign for campaign in df_grouped['Campaign'].unique() if campaign in ['G:Generic_Gen_SUP:SG:', 'G:Generic_Gen_Lube:SG:', 'G:Generic_Gen_HMT:SG:']]\n",
    "for campaign in campaigns_to_plot:\n",
    "    campaign_data = df_grouped[df_grouped['Campaign'] == campaign]\n",
    "    plt.plot(campaign_data['Day'], campaign_data['Cost'], label=campaign, \n",
    "             marker='o')\n",
    "\n",
    "# 添加标题和标签\n",
    "plt.title('Cost vs Day for Different Campaigns')\n",
    "plt.xlabel('Day')\n",
    "plt.ylabel('Cost')\n",
    "\n",
    "# 添加图例\n",
    "plt.legend()\n",
    "\n",
    "# 调整x轴day标签显示\n",
    "plt.xticks(rotation=90)\n",
    "\n",
    "# 自动调整布局\n",
    "plt.tight_layout()\n",
    "\n",
    "# 显示图形\n",
    "plt.show()\n",
    "\n",
    "\n",
    "\n",
    "\n",
    "\n",
    "\n"
   ]
  },
  {
   "cell_type": "code",
   "execution_count": 2,
   "id": "62e24557",
   "metadata": {},
   "outputs": [
    {
     "ename": "NameError",
     "evalue": "name 'plt' is not defined",
     "output_type": "error",
     "traceback": [
      "\u001b[0;31m---------------------------------------------------------------------------\u001b[0m",
      "\u001b[0;31mNameError\u001b[0m                                 Traceback (most recent call last)",
      "\u001b[1;32m/Users/zhuzhixin/proj/Python/Work/Untitled.ipynb Cell 2\u001b[0m line \u001b[0;36m2\n\u001b[1;32m      <a href='vscode-notebook-cell:/Users/zhuzhixin/proj/Python/Work/Untitled.ipynb#W1sZmlsZQ%3D%3D?line=0'>1</a>\u001b[0m \u001b[39m# 设置图形的大小\u001b[39;00m\n\u001b[0;32m----> <a href='vscode-notebook-cell:/Users/zhuzhixin/proj/Python/Work/Untitled.ipynb#W1sZmlsZQ%3D%3D?line=1'>2</a>\u001b[0m plt\u001b[39m.\u001b[39mfigure(figsize\u001b[39m=\u001b[39m(\u001b[39m18\u001b[39m, \u001b[39m10\u001b[39m))\n\u001b[1;32m      <a href='vscode-notebook-cell:/Users/zhuzhixin/proj/Python/Work/Untitled.ipynb#W1sZmlsZQ%3D%3D?line=3'>4</a>\u001b[0m \u001b[39m# 针对每个Campaign绘制折线图\u001b[39;00m\n\u001b[1;32m      <a href='vscode-notebook-cell:/Users/zhuzhixin/proj/Python/Work/Untitled.ipynb#W1sZmlsZQ%3D%3D?line=4'>5</a>\u001b[0m campaigns_to_plot \u001b[39m=\u001b[39m [campaign \u001b[39mfor\u001b[39;00m campaign \u001b[39min\u001b[39;00m df_grouped[\u001b[39m'\u001b[39m\u001b[39mCampaign\u001b[39m\u001b[39m'\u001b[39m]\u001b[39m.\u001b[39munique() \u001b[39mif\u001b[39;00m campaign \u001b[39min\u001b[39;00m [\u001b[39m'\u001b[39m\u001b[39mG:Generic_Pro_APP:SG:\u001b[39m\u001b[39m'\u001b[39m, \u001b[39m'\u001b[39m\u001b[39mG:Generic_Pro_SPG:SG:\u001b[39m\u001b[39m'\u001b[39m, \u001b[39m'\u001b[39m\u001b[39mG:Generic_Gen_MFF:SG:\u001b[39m\u001b[39m'\u001b[39m]]\n",
      "\u001b[0;31mNameError\u001b[0m: name 'plt' is not defined"
     ]
    }
   ],
   "source": [
    "    \n",
    "# 设置图形的大小\n",
    "plt.figure(figsize=(18, 10))\n",
    "\n",
    "# 针对每个Campaign绘制折线图\n",
    "campaigns_to_plot = [campaign for campaign in df_grouped['Campaign'].unique() if campaign in ['G:Generic_Pro_APP:SG:', 'G:Generic_Pro_SPG:SG:', 'G:Generic_Gen_MFF:SG:']]\n",
    "for campaign in campaigns_to_plot:\n",
    "    campaign_data = df_grouped[df_grouped['Campaign'] == campaign]\n",
    "    plt.plot(campaign_data['Day'], campaign_data['Cost'], label=campaign, \n",
    "             marker='o')\n",
    "\n",
    "\n",
    "# 添加标题和标签\n",
    "plt.title('Cost vs Day for Different Campaigns')\n",
    "plt.xlabel('Day')\n",
    "plt.ylabel('Cost')\n",
    "\n",
    "# 添加图例\n",
    "plt.legend()\n",
    "\n",
    "# 调整x轴day标签显示\n",
    "plt.xticks(rotation=90)\n",
    "\n",
    "# 自动调整布局\n",
    "plt.tight_layout()\n",
    "\n",
    "# 显示图形\n",
    "plt.show()\n"
   ]
  },
  {
   "cell_type": "code",
   "execution_count": null,
   "id": "3cbfbdfd",
   "metadata": {},
   "outputs": [],
   "source": []
  },
  {
   "cell_type": "code",
   "execution_count": null,
   "id": "c7ff5f42",
   "metadata": {},
   "outputs": [],
   "source": []
  }
 ],
 "metadata": {
  "kernelspec": {
   "display_name": "Python 3 (ipykernel)",
   "language": "python",
   "name": "python3"
  },
  "language_info": {
   "codemirror_mode": {
    "name": "ipython",
    "version": 3
   },
   "file_extension": ".py",
   "mimetype": "text/x-python",
   "name": "python",
   "nbconvert_exporter": "python",
   "pygments_lexer": "ipython3",
   "version": "3.10.5"
  }
 },
 "nbformat": 4,
 "nbformat_minor": 5
}

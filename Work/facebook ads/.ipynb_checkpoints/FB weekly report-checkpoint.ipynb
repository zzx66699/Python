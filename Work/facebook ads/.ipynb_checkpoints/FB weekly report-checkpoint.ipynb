{
 "cells": [
  {
   "cell_type": "code",
   "execution_count": null,
   "id": "94fa407c",
   "metadata": {},
   "outputs": [],
   "source": [
    "def calc_ROAS(raw_performance, is_last_month):\n",
    "    if is_last_month == True:\n",
    "        return performance['Revenue_lastmonth'] / performance['Amount_spent_lastmonth']\n",
    "    return performance['Revenue'] / performance['Amount_spent']\n",
    "\n",
    "def calc_CPA(raw_performance, is_last_month):\n",
    "    if is_last_month == True:\n",
    "        return performance['Amount_spent_lastmonth'] / performance['Purchases_lastmonth']\n",
    "    return performance['Amount_spent'] / performance['Purchases']\n",
    "\n",
    "def calc_CR(raw_performance, is_last_month):\n",
    "    if is_last_month == True:\n",
    "        return performance['Purchases_lastmonth'] / performance['Link_clicks_lastmonth']\n",
    "    return performance['Purchases'] / performance['Link_clicks']\n",
    "\n",
    "# Overall_SG_thismonth['ROAS'] = Overall_SG_thismonth['Revenue'] / Overall_SG_thismonth['Amount_spent']\n",
    "Overall_SG['ROAS'] = calc_ROAS(Overall_SG, False)\n",
    "# Overall_SG_lastmonth['ROAS'] = Overall_SG_lastmonth['Revenue_lastmonth'] / Overall_SG_lastmonth['Amount_spent_lastmonth']\n",
    "Overall_SG['ROAS_lastmonth'] = calc_ROAS(Overall_SG, True)\n",
    "# Overall_SG['CPA'] = Overall_SG_thismonth['Amount_spent'] / Overall_SG_thismonth['Purchases']\n",
    "Overall_SG['CPA'] = calc_CPA(Overall_SG, False)\n",
    "# Overall_SG_lastmonth['CPA'] = Overall_SG_lastmonth['Amount_spent_lastmonth'] / Overall_SG_lastmonth['Purchases_lastmonth']\n",
    "Overall_SG['CPA_lastmonth'] = calc_CPA(Overall_SG, True)\n",
    "# Overall_SG_thismonth['CR(%)'] = (Overall_SG_thismonth['Purchases'] / Overall_SG_thismonth['Link_clicks']) * 100\n",
    "Overall_SG['CR'] = calc_CR(Overall_SG, True)\n",
    "# Overall_SG_lastmonth['CR(%)'] = (Overall_SG_lastmonth['Purchases_lastmonth'] / Overall_SG_lastmonth['Link_clicks_lastmonth']) * 100\n",
    "Overall_SG['CR_lastmonth'] = calc_CR(Overall_SG, False)"
   ]
  },
  {
   "cell_type": "code",
   "execution_count": null,
   "id": "f8b0e71c",
   "metadata": {},
   "outputs": [],
   "source": [
    "class Ad:\n",
    "    def __init__(self, name):\n",
    "        self.name = name\n",
    "        self.amount_spent = 0.0\n",
    "        self.impressions = 0\n",
    "        self.clicks = 0\n",
    "        self.add_to_cart = 0\n",
    "        \n",
    "    "
   ]
  }
 ],
 "metadata": {
  "kernelspec": {
   "display_name": "Python 3 (ipykernel)",
   "language": "python",
   "name": "python3"
  },
  "language_info": {
   "codemirror_mode": {
    "name": "ipython",
    "version": 3
   },
   "file_extension": ".py",
   "mimetype": "text/x-python",
   "name": "python",
   "nbconvert_exporter": "python",
   "pygments_lexer": "ipython3",
   "version": "3.9.12"
  }
 },
 "nbformat": 4,
 "nbformat_minor": 5
}

{
 "cells": [
  {
   "cell_type": "markdown",
   "id": "9fda05e0",
   "metadata": {},
   "source": [
    "## Order"
   ]
  },
  {
   "cell_type": "code",
   "execution_count": 13,
   "id": "832c3e14",
   "metadata": {},
   "outputs": [],
   "source": [
    "import pandas as pd\n",
    "\n",
    "# 将数据加载到 Pandas DataFrame\n",
    "df = pd.read_excel('PWP.xlsx')\n",
    "\n",
    "# 创建一个空字典来存储产品组合和它们的出现次数\n",
    "product_combinations = {}\n",
    "\n",
    "# 遍历数据，计算产品组合\n",
    "for order, group in df.groupby('order_number'):\n",
    "    products = group['product'].tolist()\n",
    "    products = [str(p) for p in products]  # 将产品数据转换为字符串\n",
    "    products.sort()\n",
    "    product_combination = tuple(products)\n",
    "    if product_combination in product_combinations:\n",
    "        product_combinations[product_combination] += 1\n",
    "    else:\n",
    "        product_combinations[product_combination] = 1\n",
    "\n",
    "# 对结果按出现次数从大到小排序\n",
    "sorted_result = dict(sorted(product_combinations.items(), key=lambda item: item[1], reverse=True))\n",
    "\n",
    "# 将结果以字典形式返回\n",
    "result = {str(key): value for key, value in sorted_result.items()}"
   ]
  },
  {
   "cell_type": "code",
   "execution_count": 14,
   "id": "6a919b87",
   "metadata": {},
   "outputs": [],
   "source": [
    "import pandas as pd\n",
    "from itertools import combinations\n",
    "\n",
    "\n",
    "# 将数据加载到 Pandas DataFrame\n",
    "df = pd.read_excel('PWP.xlsx')\n",
    "\n",
    "# 创建一个空字典来存储产品组合和它们的出现次数\n",
    "product_combinations = {}\n",
    "\n",
    "# 遍历数据，计算产品组合\n",
    "for order, group in df.groupby('order_number'):\n",
    "    products = group['product'].tolist()\n",
    "    if len(products) > 1:\n",
    "        for comb in combinations(products, 2):\n",
    "            comb = tuple(sorted(comb, key=str))\n",
    "            if comb in product_combinations:\n",
    "                product_combinations[comb] += 1\n",
    "            else:\n",
    "                product_combinations[comb] = 1\n",
    "\n",
    "# 对结果按出现次数从大到小排序\n",
    "sorted_result = dict(sorted(product_combinations.items(), key=lambda item: item[1], reverse=True))\n",
    "\n",
    "# 将结果以字典形式返回\n",
    "result = {str(key): value for key, value in sorted_result.items()}\n",
    "\n",
    "df = pd.DataFrame(list(result.items()), columns=['Bundle', 'Numbers'])\n",
    "df.to_excel('output.xlsx', index=False)"
   ]
  },
  {
   "cell_type": "code",
   "execution_count": 18,
   "id": "2c1cc4fe",
   "metadata": {},
   "outputs": [],
   "source": [
    "# 将数据加载到 Pandas DataFrame\n",
    "df = pd.read_excel('PWP.xlsx')\n",
    "# 创建一个空字典来存储产品组合和它们的出现次数\n",
    "product_combinations = {}\n",
    "\n",
    "# 遍历数据，计算产品组合\n",
    "for order, group in df.groupby('order_number'):\n",
    "    products = group['product'].tolist()\n",
    "    for comb in combinations(products, 3):\n",
    "        comb = tuple(sorted(comb, key=str))\n",
    "        if comb in product_combinations:\n",
    "            product_combinations[comb] += 1\n",
    "        else:\n",
    "            product_combinations[comb] = 1\n",
    "\n",
    "# 对结果按出现次数从大到小排序\n",
    "sorted_result = dict(sorted(product_combinations.items(), key=lambda item: item[1], reverse=True))\n",
    "\n",
    "# 将结果以字典形式返回\n",
    "result = {str(key): value for key, value in sorted_result.items()}\n",
    "\n",
    "df = pd.DataFrame(list(result.items()), columns=['Bundle', 'Numbers'])\n",
    "df.to_excel('output2.xlsx', index=False)"
   ]
  },
  {
   "cell_type": "markdown",
   "id": "593e01a5",
   "metadata": {},
   "source": [
    "## Purchaser"
   ]
  },
  {
   "cell_type": "code",
   "execution_count": 38,
   "id": "8e445893",
   "metadata": {},
   "outputs": [
    {
     "name": "stdout",
     "output_type": "stream",
     "text": [
      "{\"('APP+', 'CoQ10 Pills')\": 166, \"('CoQ10 Pills', 'SPG')\": 120, \"('APP+', 'CoQ10 Pills', 'SPG')\": 50, \"('APP+', 'Lube')\": 48, \"('SCT', 'SPG')\": 45, \"('APP+', 'OTK')\": 39, \"('CoQ10 Gummies', 'SPG')\": 29, \"('CoQ10 Pills', 'Folic Acid', 'SPG')\": 28, \"('APP+', 'Lube', 'SPG')\": 28, \"('OTK', 'SPG')\": 23, \"('APP+', 'SCT')\": 21, \"('APP', 'APP+', 'CoQ10 Pills')\": 20, \"('APP+', 'CoQ10 Pills', 'Folic Acid')\": 18, \"('APP+', 'CoQ10 Gummies')\": 16, \"('Lube', 'SCT', 'SPG')\": 15, \"('CoQ10 Pills', 'SCT', 'SPG')\": 15, \"('APP', 'OTK')\": 14, \"('CoQ10 Pills', 'Lube', 'SPG')\": 12, \"('APP', 'APP+', 'OTK')\": 12, \"('APP', 'APP+', 'SCT')\": 12, \"('APP', 'APP+', 'Lube')\": 12, \"('APP+', 'OTK', 'SPG')\": 12, \"('CoQ10 Pills', 'Folic Acid', 'Lube', 'SPG')\": 12, \"('APP+', 'CoQ10 Pills', 'OTK')\": 11, \"('APP+', 'CoQ10 Pills', 'Lube', 'SPG')\": 11, \"('CoQ10 Gummies', 'Lube', 'SPG')\": 10, \"('OTK', 'SCT', 'SPG')\": 9, \"('APP+', 'CoQ10 Pills', 'Lube')\": 9, \"('APP+', 'Lube', 'OTK', 'SPG')\": 8, \"('APP+', 'Folic Acid')\": 8, \"('Lube', 'OTK', 'SPG')\": 8, \"('APP+', 'SCT', 'SPG')\": 8, \"('APP+', 'OTK', 'SCT')\": 8, \"('APP', 'CoQ10 Pills')\": 7, \"('Lube', 'OTK', 'SCT', 'SPG')\": 7, \"('APP', 'Lube', 'SPG')\": 7, \"('APP+', 'CoQ10 Pills', 'Lube', 'OTK')\": 7, \"('CoQ10 Pills', 'Folic Acid', 'OTK', 'SPG')\": 6, \"('APP+', 'Lube', 'SCT', 'SPG')\": 6, \"('CoQ10 Gummies', 'CoQ10 Pills', 'SPG')\": 6, \"('OTK', 'PTK', 'SCT', 'SPG')\": 5, \"('APP', 'SCT')\": 5, \"('APP', 'APP+', 'CoQ10 Gummies', 'Lube')\": 5, \"('APP+', 'PTK')\": 5, \"('CoQ10 Pills', 'OTK', 'SPG')\": 5, \"('APP', 'CoQ10 Pills', 'SPG')\": 5, \"('APP+', 'CoQ10 Gummies', 'CoQ10 Pills')\": 5, \"('APP', 'APP+', 'CoQ10 Gummies')\": 4, \"('SPG',)\": 4, \"('APP+', 'OTK', 'PTK')\": 4, \"('APP', 'CoQ10 Gummies')\": 4, \"('APP+', 'Lube', 'OTK')\": 4, \"('CoQ10 Gummies', 'CoQ10 Pills', 'Folic Acid', 'OTK', 'SPG')\": 4, \"('CoQ10 Gummies', 'CoQ10 Pills', 'Folic Acid', 'SPG')\": 4, \"('APP', 'APP+', 'CoQ10 Pills', 'SPG')\": 4, \"('APP+', 'CoQ10 Pills', 'SCT')\": 4, \"('APP+', 'OPR')\": 4, \"('OTK', 'PTK', 'SPG')\": 4, \"('APP', 'APP+', 'CoQ10 Pills', 'Lube')\": 4, \"('PTK', 'SPG')\": 4, \"('APP+', 'CoQ10 Pills', 'Folic Acid', 'SPG')\": 4, \"('SCT',)\": 3, \"('APP', 'APP+', 'OTK', 'PTK')\": 3, \"('CoQ10 Gummies', 'OTK', 'PTK', 'SPG')\": 3, \"('CoQ10 Gummies', 'CoQ10 Pills', 'Lube', 'SPG')\": 3, \"('APP', 'OTK', 'PTK')\": 3, \"('APP', 'APP+', 'Lube', 'SPG')\": 3, \"('Folic Acid', 'SPG')\": 3, \"('CoQ10 Pills', 'Folic Acid', 'SCT', 'SPG')\": 3, \"('APP+', 'Lube', 'SCT')\": 3, \"('CoQ10 Gummies', 'OTK', 'SPG')\": 3, \"('APP+', 'CoQ10 Pills', 'OTK', 'PTK')\": 3, \"('APP+', 'CoQ10 Gummies', 'CoQ10 Pills', 'Lube')\": 3, \"('MFF', 'SPG')\": 3, \"('APP', 'APP+', 'CoQ10 Pills', 'OTK')\": 3, \"('CoQ10 Gummies', 'CoQ10 Pills', 'OTK', 'SPG')\": 3, \"('CoQ10 Gummies', 'CoQ10 Pills', 'Folic Acid', 'Lube', 'SPG')\": 3, \"('APP', 'Lube')\": 3, \"('APP+', 'PTK', 'SPG')\": 3, \"('APP+', 'CoQ10 Pills', 'Folic Acid', 'OTK', 'SCT')\": 3, \"('APP+', 'CoQ10 Gummies', 'SPG')\": 3, \"('APP+', 'CoQ10 Pills', 'OTK', 'SCT')\": 3, \"('APP+', 'Folic Acid', 'PTK')\": 2, \"('APP+', 'CoQ10 Gummies', 'Lube')\": 2, \"('APP+', 'CoQ10 Gummies', 'SCT')\": 2, \"('APP', 'Folic Acid', 'OTK')\": 2, \"('CoQ10 Gummies', 'CoQ10 Pills', 'Lube', 'OTK', 'PTK', 'SPG')\": 2, \"('APP+', 'OTK', 'PTK', 'SCT')\": 2, \"('APP+', 'CoQ10 Gummies', 'CoQ10 Pills', 'OTK', 'SCT', 'SPG')\": 2, \"('CoQ10 Pills', 'Folic Acid', 'OTK', 'PTK', 'SPG')\": 2, \"('APP+', 'CoQ10 Pills', 'Folic Acid', 'Lube', 'OTK')\": 2, \"('APP+', 'CoQ10 Gummies', 'OTK')\": 2, \"('APP+', 'CoQ10 Pills', 'Lube', 'PTK', 'SPG')\": 2, \"('APP+', 'Folic Acid', 'OTK')\": 2, \"('Folic Acid', 'OTK', 'SPG')\": 2, \"('APP', 'APP+', 'MFF')\": 2, \"('APP+', 'CoQ10 Pills', 'Folic Acid', 'Lube')\": 2, \"('CoQ10 Gummies', 'SCT', 'SPG')\": 2, \"('APP', 'APP+', 'CoQ10 Pills', 'SCT', 'SPG')\": 2, \"('CoQ10 Pills', 'Lube', 'OTK', 'SPG')\": 2, \"('CoQ10 Gummies', 'Folic Acid', 'SPG')\": 2, \"('APP+', 'CoQ10 Pills', 'Folic Acid', 'Lube', 'MFF')\": 2, \"('APP', 'CoQ10 Pills', 'Folic Acid', 'Lube', 'OTK')\": 2, \"('APP+', 'MFF')\": 2, \"('APP+', 'Lube', 'OTK', 'SCT')\": 2, \"('APP+', 'CoQ10 Pills', 'Lube', 'OTK', 'SPG')\": 2, \"('APP+', 'CoQ10 Pills', 'Lube', 'SCT')\": 2, \"('APP', 'Folic Acid')\": 2, \"('APP', 'CoQ10 Pills', 'Lube', 'SPG')\": 2, \"('APP+', 'CoQ10 Gummies', 'Folic Acid', 'Lube')\": 2, \"('Lube', 'OTK', 'PTK', 'SPG')\": 2, \"('CoQ10 Gummies', 'CoQ10 Pills', 'SCT', 'SPG')\": 2, \"('CoQ10 Pills', 'OTK', 'PTK', 'SPG')\": 2, \"('APP+', 'Folic Acid', 'Lube', 'OTK')\": 2, \"('APP+', 'Folic Acid', 'Lube')\": 2, \"('CoQ10 Pills', 'Folic Acid', 'Lube', 'PTK', 'SPG')\": 2, \"('CoQ10 Pills', 'Lube', 'SCT', 'SPG')\": 2, \"('APP', 'APP+', 'CoQ10 Gummies', 'Lube', 'OTK')\": 2, \"('CoQ10 Pills',)\": 2, \"('APP+', 'CoQ10 Pills', 'Folic Acid', 'SCT', 'SPG')\": 2, \"('APP+', 'CoQ10 Pills', 'SCT', 'SPG')\": 2, \"('APP', 'APP+', 'Lube', 'OTK')\": 2, \"('CoQ10 Gummies', 'CoQ10 Pills')\": 1, \"('APP', 'APP+', 'PTK', 'SPG')\": 1, \"('Folic Acid', 'Lube', 'SPG')\": 1, \"('APP', 'APP+', 'Lube', 'SCT', 'SPG')\": 1, \"('APP+', 'CoQ10 Pills', 'Folic Acid', 'Lube', 'SCT')\": 1, \"('APP', 'APP+', 'CoQ10 Gummies', 'CoQ10 Pills', 'PTK')\": 1, \"('CoQ10 Gummies',)\": 1, \"('APP+', 'Folic Acid', 'SCT')\": 1, \"('APP+', 'CoQ10 Pills', 'MFF')\": 1, \"('APP+', 'CoQ10 Pills', 'OTK', 'PTK', 'SPG')\": 1, \"('CoQ10 Pills', 'Folic Acid', 'OPR', 'OTK', 'SPG')\": 1, \"('APP', 'CoQ10 Pills', 'Folic Acid', 'Lube', 'OTK', 'PTK')\": 1, \"('APP', 'APP+', 'CoQ10 Pills', 'Folic Acid', 'OTK', 'SPG')\": 1, \"('APP', 'APP+', 'CoQ10 Pills', 'Folic Acid', 'Lube', 'PTK')\": 1, \"('APP', 'APP+', 'Lube', 'SCT')\": 1, \"('APP', 'APP+', 'Folic Acid', 'SPG')\": 1, \"('CoQ10 Gummies', 'CoQ10 Pills', 'Folic Acid', 'Lube', 'OTK', 'SCT', 'SPG')\": 1, \"('APP+', 'OPR', 'OTK', 'SPG')\": 1, \"('APP+', 'CoQ10 Gummies', 'PTK', 'SCT')\": 1, \"('APP', 'CoQ10 Pills', 'Folic Acid', 'SPG')\": 1, \"('APP+', 'OTK', 'PTK', 'SCT', 'SPG')\": 1, \"('APP+', 'CoQ10 Gummies', 'CoQ10 Pills', 'Lube', 'OTK', 'SPG')\": 1, \"('APP', 'APP+', 'CoQ10 Pills', 'Folic Acid', 'OTK', 'PTK', 'SCT')\": 1, \"('Lube',)\": 1, \"('APP', 'CoQ10 Pills', 'OTK')\": 1, \"('APP+', 'CoQ10 Pills', 'Folic Acid', 'OTK')\": 1, \"('APP', 'APP+', 'CoQ10 Pills', 'OPR')\": 1, \"('APP+', 'CoQ10 Gummies', 'MFF')\": 1, \"('APP+', 'CoQ10 Pills', 'MFF', 'SPG')\": 1, \"('APP', 'Lube', 'PTK')\": 1, \"('APP+', 'CoQ10 Pills', 'Folic Acid', 'Lube', 'OTK', 'PTK')\": 1, \"('APP', 'APP+', 'CoQ10 Pills', 'Folic Acid', 'Lube', 'OTK')\": 1, \"('APP+', 'Lube', 'OPR')\": 1, \"('APP+', 'Lube', 'MFF')\": 1, \"('APP+', 'CoQ10 Pills', 'PTK', 'SCT', 'SPG')\": 1, \"('Lube', 'MFF', 'SPG')\": 1, \"('APP+', 'CoQ10 Gummies', 'CoQ10 Pills', 'Folic Acid', 'OTK', 'PTK', 'SCT')\": 1, \"('CoQ10 Gummies', 'CoQ10 Pills', 'Folic Acid', 'OTK', 'SCT', 'SPG')\": 1, \"('APP+', 'CoQ10 Gummies', 'CoQ10 Pills', 'Folic Acid', 'Lube', 'OTK', 'SCT', 'SPG')\": 1, \"('APP+', 'CoQ10 Pills', 'Folic Acid', 'HMT', 'Lube')\": 1, \"('APP+', 'CoQ10 Gummies', 'Lube', 'SPG')\": 1, \"('CoQ10 Gummies', 'CoQ10 Pills', 'Folic Acid', 'Lube', 'OTK', 'PTK', 'SCT', 'SPG')\": 1, \"('CoQ10 Gummies', 'CoQ10 Pills', 'MFF', 'SPG')\": 1, \"('HMT', 'OTK', 'SCT', 'SPG')\": 1, \"('APP', 'APP+', 'CoQ10 Gummies', 'CoQ10 Pills', 'OTK')\": 1, \"('APP+', 'CoQ10 Pills', 'OTK', 'SPG')\": 1, \"('CoQ10 Gummies', 'OTK')\": 1, \"('APP', 'APP+', 'Folic Acid', 'OTK')\": 1, \"('APP+', 'CoQ10 Gummies', 'Lube', 'OTK', 'SPG')\": 1, \"('APP+', 'CoQ10 Pills', 'Folic Acid', 'OTK', 'PTK', 'SCT')\": 1, \"('APP+', 'CoQ10 Gummies', 'MFF', 'OTK')\": 1, \"('APP+', 'CoQ10 Pills', 'Lube', 'OTK', 'SCT', 'SPG')\": 1, \"('CoQ10 Gummies', 'Folic Acid', 'OTK', 'SPG')\": 1, \"('APP+', 'CoQ10 Gummies', 'CoQ10 Pills', 'OTK', 'PTK', 'SCT')\": 1, \"('APP+', 'CoQ10 Gummies', 'CoQ10 Pills', 'Folic Acid', 'OTK', 'PTK')\": 1, \"('CoQ10 Gummies', 'CoQ10 Pills', 'Lube', 'PTK', 'SPG')\": 1, \"('APP', 'OTK', 'PTK', 'SPG')\": 1, \"('APP+', 'OPR', 'OTK', 'PTK')\": 1, \"('APP+', 'CoQ10 Pills', 'Lube', 'PTK', 'SCT')\": 1, \"('APP', 'APP+', 'CoQ10 Gummies', 'PTK', 'SPG')\": 1, \"('CoQ10 Gummies', 'CoQ10 Pills', 'Folic Acid', 'Lube', 'OPR', 'SPG')\": 1, \"('APP', 'CoQ10 Gummies', 'MFF')\": 1, \"('APP', 'CoQ10 Pills', 'Folic Acid', 'SCT')\": 1, \"('APP+', 'CoQ10 Pills', 'MFF', 'OTK', 'PTK')\": 1, \"('APP+', 'Folic Acid', 'OTK', 'SCT')\": 1, \"('MFF',)\": 1, \"('APP', 'APP+', 'CoQ10 Gummies', 'Lube', 'MFF')\": 1, \"('APP+', 'HMT', 'SPG')\": 1, \"('APP', 'PTK', 'SCT', 'SPG')\": 1, \"('APP', 'APP+', 'CoQ10 Pills', 'Folic Acid', 'OTK')\": 1, \"('APP', 'APP+', 'CoQ10 Pills', 'OTK', 'PTK')\": 1, \"('APP', 'APP+', 'CoQ10 Pills', 'OTK', 'SCT', 'SPG')\": 1, \"('APP', 'APP+', 'CoQ10 Pills', 'Lube', 'SCT', 'SPG')\": 1, \"('APP', 'APP+', 'OTK', 'SCT', 'SPG')\": 1, \"('HMT', 'SPG')\": 1, \"('APP', 'CoQ10 Gummies', 'Folic Acid')\": 1, \"('APP+', 'CoQ10 Pills', 'PTK')\": 1, \"('APP', 'CoQ10 Pills', 'Folic Acid', 'PTK')\": 1, \"('APP', 'CoQ10 Gummies', 'HMT', 'SCT')\": 1, \"('APP+', 'CoQ10 Gummies', 'CoQ10 Pills', 'Lube', 'OTK')\": 1, \"('APP+', 'CoQ10 Gummies', 'CoQ10 Pills', 'Folic Acid', 'Lube')\": 1, \"('APP', 'CoQ10 Gummies', 'OTK', 'PTK')\": 1, \"('APP', 'OTK', 'SCT')\": 1, \"('APP+', 'CoQ10 Pills', 'Lube', 'OTK', 'SCT')\": 1, \"('APP+', 'CoQ10 Pills', 'Folic Acid', 'Lube', 'SPG')\": 1, \"('APP', 'APP+', 'CoQ10 Pills', 'Folic Acid', 'OTK', 'SCT')\": 1, \"('APP+', 'CoQ10 Pills', 'PTK', 'SCT')\": 1, \"('APP+', 'Lube', 'OPR', 'OTK')\": 1, \"('APP+', 'Lube', 'PTK')\": 1, \"('APP+', 'CoQ10 Gummies', 'CoQ10 Pills', 'OTK', 'SCT')\": 1, \"('APP+', 'CoQ10 Pills', 'HMT', 'SCT')\": 1, \"('CoQ10 Pills', 'Folic Acid', 'PTK', 'SPG')\": 1, \"('CoQ10 Pills', 'Folic Acid', 'Lube', 'SCT', 'SPG')\": 1, \"('APP+', 'CoQ10 Gummies', 'CoQ10 Pills', 'OTK', 'SPG')\": 1, \"('APP+', 'CoQ10 Gummies', 'CoQ10 Pills', 'Folic Acid', 'MFF', 'OTK')\": 1, \"('APP', 'APP+', 'CoQ10 Gummies', 'CoQ10 Pills')\": 1, \"('CoQ10 Gummies', 'Folic Acid', 'Lube', 'OTK', 'SCT', 'SPG')\": 1, \"('APP+', 'HMT')\": 1, \"('CoQ10 Gummies', 'Lube', 'OTK', 'SPG')\": 1, \"('APP+', 'CoQ10 Gummies', 'Folic Acid')\": 1, \"('APP', 'APP+', 'OPR')\": 1, \"('APP+', 'CoQ10 Gummies', 'Lube', 'SCT')\": 1, \"('APP+', 'Lube', 'MFF', 'SPG')\": 1, \"('APP+', 'CoQ10 Gummies', 'Lube', 'SCT', 'SPG')\": 1, \"('APP+', 'CoQ10 Gummies', 'CoQ10 Pills', 'Folic Acid')\": 1, \"('APP', 'APP+', 'OTK', 'SCT')\": 1, \"('CoQ10 Gummies', 'Folic Acid', 'Lube', 'OTK', 'SPG')\": 1, \"('APP+', 'CoQ10 Pills', 'Folic Acid', 'Lube', 'OTK', 'SCT', 'SPG')\": 1, \"('Folic Acid', 'SCT', 'SPG')\": 1, \"('APP', 'APP+', 'CoQ10 Pills', 'Folic Acid', 'SPG')\": 1, \"('CoQ10 Gummies', 'Lube', 'OPR', 'SPG')\": 1, \"('APP', 'OTK', 'SPG')\": 1, \"('APP+', 'CoQ10 Gummies', 'OTK', 'SPG')\": 1, \"('CoQ10 Pills', 'OTK', 'SCT', 'SPG')\": 1, \"('APP', 'CoQ10 Pills', 'Folic Acid', 'Lube', 'OTK', 'PTK', 'SCT')\": 1, \"('APP+', 'CoQ10 Gummies', 'CoQ10 Pills', 'Lube', 'OTK', 'SCT', 'SPG')\": 1, \"('APP', 'CoQ10 Gummies', 'MFF', 'OTK', 'SPG')\": 1, \"('APP', 'CoQ10 Pills', 'Lube', 'PTK')\": 1, \"('APP', 'MFF')\": 1, \"('APP', 'APP+', 'PTK')\": 1, \"('APP', 'APP+', 'CoQ10 Gummies', 'SPG')\": 1, \"('APP+', 'CoQ10 Pills', 'OPR')\": 1, \"('CoQ10 Pills', 'Folic Acid', 'Lube', 'OTK', 'SPG')\": 1, \"('APP+', 'CoQ10 Pills', 'Folic Acid', 'MFF', 'PTK')\": 1, \"('APP+', 'CoQ10 Pills', 'Folic Acid', 'OTK', 'SCT', 'SPG')\": 1, \"('APP', 'MFF', 'OTK')\": 1, \"('APP+', 'CoQ10 Gummies', 'CoQ10 Pills', 'OTK')\": 1, \"('APP+', 'CoQ10 Gummies', 'CoQ10 Pills', 'MFF', 'OTK', 'PTK')\": 1, \"('CoQ10 Gummies', 'CoQ10 Pills', 'Folic Acid', 'SCT', 'SPG')\": 1, \"('APP', 'APP+', 'CoQ10 Gummies', 'Lube', 'SPG')\": 1, \"('APP', 'CoQ10 Gummies', 'Lube', 'SPG')\": 1, \"('CoQ10 Gummies', 'Folic Acid', 'Lube', 'SPG')\": 1, \"('APP+', 'Folic Acid', 'OTK', 'PTK')\": 1, \"('APP+', 'CoQ10 Gummies', 'CoQ10 Pills', 'HMT')\": 1, \"('APP', 'APP+', 'CoQ10 Pills', 'OTK', 'SCT')\": 1, \"('APP', 'APP+', 'CoQ10 Pills', 'Folic Acid', 'MFF')\": 1, \"('APP+', 'CoQ10 Gummies', 'CoQ10 Pills', 'MFF', 'SPG')\": 1, \"('APP', 'APP+', 'CoQ10 Gummies', 'Lube', 'OTK', 'SCT')\": 1, \"('APP+', 'CoQ10 Pills', 'Lube', 'MFF', 'SPG')\": 1, \"('APP+', 'CoQ10 Gummies', 'Folic Acid', 'Lube', 'OPR', 'SPG')\": 1, \"('APP+', 'Lube', 'OPR', 'SPG')\": 1, \"('APP', 'APP+', 'CoQ10 Pills', 'SCT')\": 1, \"('APP', 'APP+', 'CoQ10 Pills', 'Folic Acid', 'PTK', 'SCT')\": 1, \"('APP+', 'PTK', 'SCT')\": 1, \"('CoQ10 Pills', 'Folic Acid', 'Lube', 'MFF', 'SPG')\": 1, \"('APP+', 'CoQ10 Pills', 'Lube', 'OPR', 'SCT', 'SPG')\": 1, \"('APP+', 'CoQ10 Gummies', 'CoQ10 Pills', 'Folic Acid', 'Lube', 'SPG')\": 1, \"('APP', 'APP+', 'CoQ10 Pills', 'HMT')\": 1, \"('OPR', 'SPG')\": 1, \"('APP+', 'CoQ10 Gummies', 'Lube', 'OTK', 'SCT')\": 1, \"('CoQ10 Gummies', 'PTK', 'SPG')\": 1, \"('APP', 'APP+', 'CoQ10 Gummies', 'CoQ10 Pills', 'Lube', 'OTK', 'PTK', 'SCT')\": 1}\n"
     ]
    }
   ],
   "source": [
    "import pandas as pd\n",
    "\n",
    "# 将数据加载到 Pandas DataFrame\n",
    "df = pd.read_excel('PWP2.xlsx')\n",
    "\n",
    "# 创建一个空字典来存储产品组合和它们的出现次数\n",
    "product_combinations = {}\n",
    "\n",
    "# 遍历数据，计算产品组合\n",
    "for order, group in df.groupby('email'):\n",
    "    products = group['product'].tolist()\n",
    "    products = [str(p) for p in products]  # 将产品数据转换为字符串\n",
    "    products.sort()\n",
    "    product_combination = tuple(products)\n",
    "    if product_combination in product_combinations:\n",
    "        product_combinations[product_combination] += 1\n",
    "    else:\n",
    "        product_combinations[product_combination] = 1\n",
    "\n",
    "# 对结果按出现次数从大到小排序\n",
    "sorted_result = dict(sorted(product_combinations.items(), key=lambda item: item[1], reverse=True))\n",
    "\n",
    "# 将结果以字典形式返回\n",
    "result = {str(key): value for key, value in sorted_result.items()}\n",
    "\n",
    "print(result)"
   ]
  },
  {
   "cell_type": "code",
   "execution_count": 9,
   "id": "c43e016c",
   "metadata": {},
   "outputs": [
    {
     "name": "stdout",
     "output_type": "stream",
     "text": [
      "{\"('APP+', 'CoQ10 Pills')\": 409, \"('CoQ10 Pills', 'SPG')\": 360, \"('APP+', 'Lube')\": 214, \"('APP+', 'SPG')\": 189, \"('APP+', 'OTK')\": 186, \"('Lube', 'SPG')\": 182, \"('SCT', 'SPG')\": 150, \"('OTK', 'SPG')\": 146, \"('CoQ10 Pills', 'Folic Acid')\": 139, \"('APP', 'APP+')\": 124, \"('APP+', 'SCT')\": 121, \"('CoQ10 Pills', 'Lube')\": 118, \"('CoQ10 Gummies', 'SPG')\": 111, \"('CoQ10 Pills', 'OTK')\": 105, \"('Folic Acid', 'SPG')\": 103, \"('APP+', 'CoQ10 Gummies')\": 85, \"('APP+', 'Folic Acid')\": 83, \"('Lube', 'OTK')\": 76, \"('APP', 'CoQ10 Pills')\": 76, \"('CoQ10 Pills', 'SCT')\": 74, \"('OTK', 'SCT')\": 70, \"('CoQ10 Gummies', 'CoQ10 Pills')\": 66, \"('APP', 'OTK')\": 66, \"('Lube', 'SCT')\": 58, \"('CoQ10 Gummies', 'Lube')\": 58, \"('APP', 'Lube')\": 56, \"('Folic Acid', 'Lube')\": 54, \"('OTK', 'PTK')\": 54, \"('Folic Acid', 'OTK')\": 54, \"('APP+', 'PTK')\": 52, \"('CoQ10 Gummies', 'OTK')\": 50, \"('PTK', 'SPG')\": 42, \"('APP', 'SPG')\": 40, \"('CoQ10 Pills', 'PTK')\": 39, \"('APP', 'SCT')\": 37, \"('CoQ10 Gummies', 'Folic Acid')\": 34, \"('APP', 'CoQ10 Gummies')\": 30, \"('Folic Acid', 'SCT')\": 28, \"('CoQ10 Gummies', 'SCT')\": 25, \"('APP', 'PTK')\": 23, \"('APP', 'Folic Acid')\": 23, \"('PTK', 'SCT')\": 22, \"('Folic Acid', 'PTK')\": 20, \"('APP+', 'MFF')\": 20, \"('Lube', 'PTK')\": 19, \"('CoQ10 Gummies', 'PTK')\": 17, \"('APP+', 'OPR')\": 14, \"('CoQ10 Pills', 'MFF')\": 13, \"('MFF', 'SPG')\": 11, \"('CoQ10 Gummies', 'MFF')\": 9, \"('OPR', 'SPG')\": 8, \"('APP', 'MFF')\": 8, \"('Lube', 'MFF')\": 8, \"('Lube', 'OPR')\": 7, \"('APP+', 'HMT')\": 6, \"('MFF', 'OTK')\": 6, \"('Folic Acid', 'MFF')\": 6, \"('CoQ10 Pills', 'OPR')\": 5, \"('OPR', 'OTK')\": 4, \"('CoQ10 Pills', 'HMT')\": 4, \"('Folic Acid', 'OPR')\": 3, \"('HMT', 'SPG')\": 3, \"('HMT', 'SCT')\": 3, \"('CoQ10 Gummies', 'OPR')\": 3, \"('MFF', 'PTK')\": 3, \"('APP', 'OPR')\": 2, \"('CoQ10 Gummies', 'HMT')\": 2, \"('APP', 'HMT')\": 2, \"('HMT', 'Lube')\": 1, \"('Folic Acid', 'HMT')\": 1, \"('HMT', 'OTK')\": 1, \"('OPR', 'PTK')\": 1, \"('OPR', 'SCT')\": 1}\n"
     ]
    }
   ],
   "source": [
    "import pandas as pd\n",
    "from itertools import combinations\n",
    "\n",
    "\n",
    "# 将数据加载到 Pandas DataFrame\n",
    "df = pd.read_excel('PWP2.xlsx')\n",
    "\n",
    "# 创建一个空字典来存储产品组合和它们的出现次数\n",
    "product_combinations = {}\n",
    "\n",
    "# 遍历数据，计算产品组合\n",
    "for order, group in df.groupby('email'):\n",
    "    products = group['product'].tolist()\n",
    "    if len(products) > 1:\n",
    "        for comb in combinations(products, 2):\n",
    "            comb = tuple(sorted(comb, key=str))\n",
    "            if comb in product_combinations:\n",
    "                product_combinations[comb] += 1\n",
    "            else:\n",
    "                product_combinations[comb] = 1\n",
    "\n",
    "# 对结果按出现次数从大到小排序\n",
    "sorted_result = dict(sorted(product_combinations.items(), key=lambda item: item[1], reverse=True))\n",
    "\n",
    "# 将结果以字典形式返回\n",
    "result = {str(key): value for key, value in sorted_result.items()}\n",
    "print(result)\n",
    "\n",
    "df = pd.DataFrame(list(result.items()), columns=['Bundle', 'Numbers'])\n",
    "df.to_excel('output3.xlsx', index=False)"
   ]
  },
  {
   "cell_type": "code",
   "execution_count": 3,
   "id": "b56ab3b6",
   "metadata": {},
   "outputs": [],
   "source": [
    "# 将数据加载到 Pandas DataFrame\n",
    "df = pd.read_excel('PWP2.xlsx')\n",
    "\n",
    "# 创建一个空字典来存储产品组合和它们的出现次数\n",
    "product_combinations = {}\n",
    "\n",
    "# 遍历数据，计算产品组合\n",
    "for order, group in df.groupby('email'):\n",
    "    products = group['product'].tolist()\n",
    "    for comb in combinations(products, 3):\n",
    "        comb = tuple(sorted(comb, key=str))\n",
    "        if comb in product_combinations:\n",
    "            product_combinations[comb] += 1\n",
    "        else:\n",
    "            product_combinations[comb] = 1\n",
    "\n",
    "# 对结果按出现次数从大到小排序\n",
    "sorted_result = dict(sorted(product_combinations.items(), key=lambda item: item[1], reverse=True))\n",
    "\n",
    "# 将结果以字典形式返回\n",
    "result = {str(key): value for key, value in sorted_result.items()}\n",
    "df = pd.DataFrame(list(result.items()), columns=['Bundle', 'Numbers'])\n",
    "df.to_excel('output4.xlsx', index=False)"
   ]
  },
  {
   "cell_type": "code",
   "execution_count": 4,
   "id": "13974878",
   "metadata": {},
   "outputs": [],
   "source": [
    "import pandas as pd\n",
    "from itertools import combinations\n",
    "\n",
    "\n",
    "# 将数据加载到 Pandas DataFrame\n",
    "df = pd.read_excel('GWP bundles.xlsx')\n",
    "\n",
    "# 创建一个空字典来存储产品组合和它们的出现次数\n",
    "product_combinations = {}\n",
    "\n",
    "# 遍历数据，计算产品组合\n",
    "for order, group in df.groupby('order_number'):\n",
    "    products = group['product'].tolist()\n",
    "    if len(products) > 1:\n",
    "        for comb in combinations(products, 2):\n",
    "            comb = tuple(sorted(comb, key=str))\n",
    "            if comb in product_combinations:\n",
    "                product_combinations[comb] += 1\n",
    "            else:\n",
    "                product_combinations[comb] = 1\n",
    "\n",
    "# 对结果按出现次数从大到小排序\n",
    "sorted_result = dict(sorted(product_combinations.items(), key=lambda item: item[1], reverse=True))\n",
    "\n",
    "# 将结果以字典形式返回\n",
    "result = {str(key): value for key, value in sorted_result.items()}\n",
    "\n",
    "df = pd.DataFrame(list(result.items()), columns=['Bundle', 'Numbers'])\n",
    "df.to_excel('output5.xlsx', index=False)"
   ]
  }
 ],
 "metadata": {
  "kernelspec": {
   "display_name": "Python 3 (ipykernel)",
   "language": "python",
   "name": "python3"
  },
  "language_info": {
   "codemirror_mode": {
    "name": "ipython",
    "version": 3
   },
   "file_extension": ".py",
   "mimetype": "text/x-python",
   "name": "python",
   "nbconvert_exporter": "python",
   "pygments_lexer": "ipython3",
   "version": "3.9.12"
  }
 },
 "nbformat": 4,
 "nbformat_minor": 5
}

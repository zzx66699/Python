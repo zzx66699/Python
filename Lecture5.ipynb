{
 "cells": [
  {
   "cell_type": "markdown",
   "metadata": {},
   "source": [
    "# Lecture 5: Data Arrays and Data Visualization\n",
    "\n",
    "## Contents\n",
    "- [Imports](#section1)\n",
    "- [Array data structure](#section2)\n",
    "    - [Concepts](#subsection2.1)\n",
    "    - [NumPy arrays](#subsection2.2)\n",
    "- [Data visualization using the Matplotlib package](#section3)\n",
    "    - [Functions <code>plot()</code>, <code>scatter()</code>, and <code>bar()</code>](#subsection3.1)\n",
    "    - [Configuration of plots and figures](#subsection3.2)\n",
    "    - [Labeling plots and the function <code>legend()</code>](#subsection3.3)\n",
    "- [Case studies](#section4)\n",
    "    - [Draw an 'elephant' with four parameters](#subsection4.1)\n",
    "    - [Daily stock returns](#subsection4.2)"
   ]
  },
  {
   "cell_type": "markdown",
   "metadata": {},
   "source": [
    " "
   ]
  },
  {
   "cell_type": "markdown",
   "metadata": {},
   "source": [
    "## Imports <a id=\"section1\"></a>\n",
    "\n",
    "In all future lectures, we will follow the PEP 8 Coding Style Guide to import all packages at the top of the Jupyter file. **Please make sure that you run the first code cell to import necessary packages before you run the subsequent code**. "
   ]
  },
  {
   "cell_type": "code",
   "execution_count": 1,
   "metadata": {},
   "outputs": [],
   "source": [
    "import numpy as np                  # Import the NumPy package for array-based data\n",
    "import matplotlib.pyplot as plt     # Import the data visualization package Matplotlib"
   ]
  },
  {
   "cell_type": "markdown",
   "metadata": {},
   "source": [
    "## Array data structure <a id=\"section2\"></a>\n",
    "\n",
    "### Concepts <a id=\"subsection2.1\"></a>\n",
    "In computer science, an array data structure, or simply an **array**, is a data structure consisting of a collection of elements (values or variables). These elements can be accessed via array indices or keys. Apparently, compound data types like <code>range</code>, <code>list</code>, <code>tuple</code>, and <code>dict</code> fall into this category and in Python they are also referred to as **array-like** objects. For other data types, like<code>int</code>, <code>float</code>, <code>bool</code>, each object has only a single value. These data types are referred to as **scalars**.\n",
    "\n",
    "The table below is an example of a **one-dimensional** array which represents six students' final exam marks. Clearly the length of the array is six and each number can be accessed by a given index.\n",
    "\n",
    "|||||||\n",
    "|:--|:--|:--|:--|:--|:--|\n",
    "|61 | 52.5| 71 |32.5 | 68 | 64 |\n",
    "\n",
    "If we want to show the final exam results in terms of marks for each component, we could use a **two-dimensional** array where the rows are used to indicate different students, and columns are used to represent questions of the final exam, as the following example.\n",
    "\n",
    "| | | |\n",
    "|:----:|:-----:|:-----:|\n",
    "| 18 | 26  | 17 |\n",
    "| 25 | 15.5| 12 |\n",
    "| 24 | 27  | 20 |\n",
    "| 10 | 5.5 | 17 |\n",
    "| 27 | 26  | 15 |\n",
    "| 22 | 21  | 21 |\n",
    "\n",
    "It can be seen that the shape of the two-dimensional array is specified by two numbers: the row number and the column number. In order to access a number, we also need to provide the row index and the column index. \n",
    "\n",
    "From these two examples, we may generalize the features of an $N$-dimensional array as follows.\n",
    "\n",
    "|Dimension Number | Shape | Indexing | Number of Items |\n",
    "|:----|:------|:------|:-----|\n",
    "| 1 | length | one index | length |\n",
    "| 2 | rows and columns | row index and column index | row $\\times$ column |\n",
    "| 3 | height and width and thickness | indices for height, width, and thickness | height $\\times$ width $\\times$ thickness |\n",
    "| $\\vdots$ | $\\vdots$ | $\\vdots$ | $\\vdots$|\n",
    "\n",
    "The generalized idea is that an $N$-dimensional array needs $N$ numbers to specify its shape, and $N$ indices to access one item. Instead of calling these dimensions 'length', 'row', 'column', etc, we also generalize these names into axis 0, axis 1, axis 2, ..., as shown by the graph below. Clearly, there are $N$ axes for an $N$-dimensional array.\n",
    "\n",
    "<img src=\"https://www.w3resource.com/w3r_images/numpy-1d2d3d-array.png\" width=500>\n",
    "\n",
    "In this course, we will focus on one-dimensional and two-dimension arrays. Arrays with three or higher dimensions will not be covered as they are not used as often in data analysis. \n",
    "\n",
    "### NumPy arrays <a id=\"subsection2.2\"></a>\n",
    "\n",
    "NumPy (short for Numerical Python) is a widely used package for scientific computing and it provides\n",
    "a data type called <code>numpy.ndarray</code> to efficiently store and operate data formatted as arrays.\n",
    "\n",
    "#### Create arrays from Python lists\n",
    "The <code>numpy.ndarray</code> objects can be created from Python lists by using the function <code>array()</code> imported from the NumPy package. Please note that the standard way of importing the package <code>numpy</code> is to rename it as <code>np</code>, so we will use <code>np</code> in the subsequent code."
   ]
  },
  {
   "cell_type": "code",
   "execution_count": 3,
   "metadata": {
    "scrolled": false
   },
   "outputs": [],
   "source": [
    "array_1d = np.array([61, 52.5, 71, 32.5, 68, 64])   # This is a 1D array\n",
    "array_2d = np.array([[18, 26, 17], \n",
    "                     [25, 15.5, 12], \n",
    "                     [24, 27, 20],\n",
    "                     [10, 5.5, 17],\n",
    "                     [27, 26, 15],\n",
    "                     [22, 21, 21]])                 # This is a 2D array"
   ]
  },
  {
   "cell_type": "code",
   "execution_count": 4,
   "metadata": {},
   "outputs": [
    {
     "data": {
      "text/plain": [
       "array([[18. , 26. , 17. ],\n",
       "       [25. , 15.5, 12. ],\n",
       "       [24. , 27. , 20. ],\n",
       "       [10. ,  5.5, 17. ],\n",
       "       [27. , 26. , 15. ],\n",
       "       [22. , 21. , 21. ]])"
      ]
     },
     "execution_count": 4,
     "metadata": {},
     "output_type": "execute_result"
    }
   ],
   "source": [
    "array_2d"
   ]
  },
  {
   "cell_type": "markdown",
   "metadata": {},
   "source": [
    "The one-dimensional array is created from an ordinary list, and it has many features as an ordinary list. A two-dimensional array can be created from a nested list, and each inner list represents a row of the array. We can verify the data type of <code>array_1d</code> and <code>array_2d</code> by the following code."
   ]
  },
  {
   "cell_type": "code",
   "execution_count": 3,
   "metadata": {
    "scrolled": true
   },
   "outputs": [
    {
     "name": "stdout",
     "output_type": "stream",
     "text": [
      "<class 'numpy.ndarray'>\n",
      "<class 'numpy.ndarray'>\n"
     ]
    }
   ],
   "source": [
    "print(type(array_1d))\n",
    "print(type(array_2d))"
   ]
  },
  {
   "cell_type": "markdown",
   "metadata": {},
   "source": [
    "There are some other important information about the array can be retrieved by the following **attributes**:\n",
    "- <code>ndim</code> Dimension number\n",
    "- <code>shape</code> Shape of the array, given as a tuple\n",
    "- <code>size</code> Number of data items\n",
    "- <code>dtype</code> Data type of items"
   ]
  },
  {
   "cell_type": "code",
   "execution_count": 4,
   "metadata": {
    "scrolled": false
   },
   "outputs": [
    {
     "name": "stdout",
     "output_type": "stream",
     "text": [
      "Dimension number:      1\n",
      "Array shape:           (6,)\n",
      "Number of data items:  6\n",
      "Data type of items:    float64\n"
     ]
    }
   ],
   "source": [
    "# Attributes of the one-dimensional array\n",
    "\n",
    "print('Dimension number:     ', array_1d.ndim)\n",
    "print('Array shape:          ', array_1d.shape)\n",
    "print('Number of data items: ', array_1d.size)\n",
    "print('Data type of items:   ', array_1d.dtype)"
   ]
  },
  {
   "cell_type": "markdown",
   "metadata": {},
   "source": [
    "The shape of an array is always given as a <code>tuple</code>, even for one-dimensional arrays. "
   ]
  },
  {
   "cell_type": "code",
   "execution_count": 5,
   "metadata": {
    "scrolled": true
   },
   "outputs": [
    {
     "name": "stdout",
     "output_type": "stream",
     "text": [
      "Dimension number:      2\n",
      "Array shape:           (6, 3)\n",
      "Number of data items:  18\n",
      "Data type of items:    float64\n"
     ]
    }
   ],
   "source": [
    "# Attributes of the two-dimensional array\n",
    "\n",
    "print('Dimension number:     ', array_2d.ndim)\n",
    "print('Array shape:          ', array_2d.shape)\n",
    "print('Number of data items: ', array_2d.size)\n",
    "print('Data type of items:   ', array_2d.dtype)"
   ]
  },
  {
   "cell_type": "markdown",
   "metadata": {},
   "source": [
    "Please note that the data type <code>float64</code> is one of the floating point number type used in the NumPy package. In this course, we do not differentiate it from the built-in Python data type <code>float</code>. Also notice that for an array, it has only one <code>dtype</code>, which implies that all data items in the array must be the same type. \n",
    "\n",
    "#### Create special NumPy arrays\n",
    "The NumPy package also provides a few functions to create special arrays, as demonstrated by the following code segments. "
   ]
  },
  {
   "cell_type": "code",
   "execution_count": 6,
   "metadata": {
    "scrolled": false
   },
   "outputs": [
    {
     "data": {
      "text/plain": [
       "array([[1., 1., 1., 1., 1.],\n",
       "       [1., 1., 1., 1., 1.],\n",
       "       [1., 1., 1., 1., 1.]])"
      ]
     },
     "execution_count": 6,
     "metadata": {},
     "output_type": "execute_result"
    }
   ],
   "source": [
    "ones_2d = np.ones(shape=(3, 5))     # Create a 3*5 array with all items to be ones\n",
    "ones_2d"
   ]
  },
  {
   "cell_type": "code",
   "execution_count": 7,
   "metadata": {
    "scrolled": true
   },
   "outputs": [
    {
     "data": {
      "text/plain": [
       "array([0., 0., 0., 0., 0.])"
      ]
     },
     "execution_count": 7,
     "metadata": {},
     "output_type": "execute_result"
    }
   ],
   "source": [
    "zeros_1d = np.zeros(shape=5)        # Create an all zero array with the length to be 5\n",
    "zeros_1d"
   ]
  },
  {
   "cell_type": "code",
   "execution_count": 8,
   "metadata": {
    "scrolled": false
   },
   "outputs": [
    {
     "data": {
      "text/plain": [
       "array([2. , 2.5, 3. , 3.5, 4. , 4.5])"
      ]
     },
     "execution_count": 8,
     "metadata": {},
     "output_type": "execute_result"
    }
   ],
   "source": [
    "range_array = np.arange(2, 5, 0.5)  # Create an array with start=2, stop=5, and step=0.5\n",
    "range_array"
   ]
  },
  {
   "cell_type": "markdown",
   "metadata": {},
   "source": [
    "The function <code>np.arange</code> is very similar to the <code>range</code> function we learned in previous lectures. A sequence of numbers are determined according to the values of <code>start</code>, <code>stop</code>, and <code>step</code>, and the same default values could be applied to these arguments if they are not specified. The only difference is that 1) the output is an <code>numpy.ndarray</code> type object; and 2) numbers in the array could be fractional numbers but the <code>range</code> function only allows integers.\n",
    "\n",
    "#### Indexing and slicing of arrays\n",
    "The indexing and slicing of <code>numpy.ndarray</code> are very similar to the built-in compound data types. The only difference is that we need two indices in the same bracket to access a two-dimensional array, as the examples below."
   ]
  },
  {
   "cell_type": "code",
   "execution_count": 9,
   "metadata": {
    "scrolled": false
   },
   "outputs": [
    {
     "name": "stdout",
     "output_type": "stream",
     "text": [
      "52.5\n",
      "26.0\n",
      "[71.  32.5 68.  64. ]\n",
      "[[10.   5.5 17. ]\n",
      " [27.  26.  15. ]\n",
      " [22.  21.  21. ]]\n",
      "[[18.  26.  17. ]\n",
      " [24.  27.  20. ]\n",
      " [25.  15.5 12. ]]\n"
     ]
    }
   ],
   "source": [
    "array_1d = np.array([61, 52.5, 71, 32.5, 68, 64])   # This is a one-dimensional array\n",
    "array_2d = np.array([[18, 26, 17], \n",
    "                     [25, 15.5, 12], \n",
    "                     [24, 27, 20],\n",
    "                     [10, 5.5, 17],\n",
    "                     [27, 26, 15],\n",
    "                     [22, 21, 21]])                 # This is a two-dimensional array\n",
    "\n",
    "print(array_1d[1])                                  # The second item of the 1d array\n",
    "print(array_2d[0, 1])                               # Two indices for a 2d array\n",
    "print(array_1d[2:])                                 # Slicing for 1d array\n",
    "print(array_2d[3:, :])                              # Slicing for 2d array\n",
    "print(array_2d[[0, 2, 1]])                          # Take the 1st, 3rd, and 2nd rows"
   ]
  },
  {
   "cell_type": "code",
   "execution_count": 5,
   "metadata": {},
   "outputs": [
    {
     "name": "stdout",
     "output_type": "stream",
     "text": [
      "[[10.   5.5 17. ]\n",
      " [27.  26.  15. ]\n",
      " [22.  21.  21. ]]\n"
     ]
    }
   ],
   "source": [
    "print(array_2d[3:,]) "
   ]
  },
  {
   "cell_type": "markdown",
   "metadata": {},
   "source": [
    "For a two-dimensional array, if the column index is not specified, the indexing or slicing expression takes all columns. \n",
    "\n",
    "The <code>numpy.ndarray</code> objects are also **mutable**, meaning that we can change some data items by referring to their indices."
   ]
  },
  {
   "cell_type": "code",
   "execution_count": 10,
   "metadata": {
    "scrolled": true
   },
   "outputs": [
    {
     "data": {
      "text/plain": [
       "array([[18. , 26. , 17. ],\n",
       "       [25. , 15.5, 12. ],\n",
       "       [25. , 28. , 21. ],\n",
       "       [10. ,  5.5, 17. ],\n",
       "       [27. , 26. , 15. ],\n",
       "       [22. , 21. , 21. ]])"
      ]
     },
     "execution_count": 10,
     "metadata": {},
     "output_type": "execute_result"
    }
   ],
   "source": [
    "array_2d[2, :] = np.array([25, 28, 21])\n",
    "array_2d"
   ]
  },
  {
   "cell_type": "code",
   "execution_count": 11,
   "metadata": {},
   "outputs": [
    {
     "data": {
      "text/plain": [
       "array([61. , 52.5, 74. , 32.5, 68. , 64. ])"
      ]
     },
     "execution_count": 11,
     "metadata": {},
     "output_type": "execute_result"
    }
   ],
   "source": [
    "array_1d[2] = 74\n",
    "array_1d"
   ]
  },
  {
   "cell_type": "markdown",
   "metadata": {},
   "source": [
    "#### Element-wise arithmetic operations on arrays\n",
    "NumPy implements mathematical functions such that, when a function acts on an array, the mathematical operation is applied to each element in the array. In other words, all arithmetic operations are element-wise on arrays. "
   ]
  },
  {
   "cell_type": "code",
   "execution_count": 12,
   "metadata": {
    "scrolled": true
   },
   "outputs": [
    {
     "name": "stdout",
     "output_type": "stream",
     "text": [
      "[[4.  5. ]\n",
      " [5.  6.5]\n",
      " [8.  9.5]]\n",
      "[[ 2.  4.]\n",
      " [ 4.  7.]\n",
      " [10. 13.]]\n",
      "[[ 2.  4.]\n",
      " [ 4.  7.]\n",
      " [10. 13.]]\n",
      "[[ 1.    4.  ]\n",
      " [ 4.   12.25]\n",
      " [25.   42.25]]\n"
     ]
    }
   ],
   "source": [
    "array_2d = np.array([[1, 2],    \n",
    "                     [2, 3.5],     \n",
    "                     [5, 6.5]])     # Create a two-dimensional array  \n",
    "\n",
    "print(array_2d + 3)                 # Add one scalar to each element\n",
    "print(array_2d * 2)                 # Each element is multiplied by a scalar\n",
    "print(array_2d + array_2d)          # Element-wise addition\n",
    "print(array_2d * array_2d)          # Element-wise multiplication"
   ]
  },
  {
   "cell_type": "code",
   "execution_count": 7,
   "metadata": {},
   "outputs": [
    {
     "data": {
      "text/plain": [
       "array([[1, 2, 3],\n",
       "       [4, 2, 6]])"
      ]
     },
     "execution_count": 7,
     "metadata": {},
     "output_type": "execute_result"
    }
   ],
   "source": [
    "array1 = np.array([[1,2,3],[4,5,6]])\n",
    "array1[1,1] = 2\n",
    "array1"
   ]
  },
  {
   "cell_type": "markdown",
   "metadata": {},
   "source": [
    "This feature brings about huge benefit when dealing with data. We will use the following examples to demonstrate that. \n",
    "\n",
    "<div class=\"alert alert-block alert-success\">\n",
    "<b>Example 1:</b> <b>usd</b> is a list containing five money transactions in US dollars. Transfer each transaction into Singapore dollars. \n",
    "</div>\n",
    "\n",
    "In this case, the coding task would be much easier if we do the calculation on a  <code>numpy.ndarray</code> rather than on the list. "
   ]
  },
  {
   "cell_type": "code",
   "execution_count": 2,
   "metadata": {},
   "outputs": [
    {
     "name": "stdout",
     "output_type": "stream",
     "text": [
      "[ 2.74    4.932   2.8085 18.495  25.893 ]\n"
     ]
    }
   ],
   "source": [
    "usd = [2, 3.60, 2.05, 13.50, 18.90]\n",
    "exchange_rate = 1.37\n",
    "usd_array = np.array(usd)\n",
    "sin_array = exchange_rate*usd_array\n",
    "print(sin_array)"
   ]
  },
  {
   "cell_type": "code",
   "execution_count": 13,
   "metadata": {},
   "outputs": [
    {
     "name": "stdout",
     "output_type": "stream",
     "text": [
      "[ 2.74    4.932   2.8085 18.495  25.893 ]\n"
     ]
    }
   ],
   "source": [
    "usd = [2, 3.60, 2.05, 13.50, 18.90]\n",
    "exchange_rate = 1.37\n",
    "\n",
    "usd_array = np.array(usd)               # Create a numpy.ndarray object from the list\n",
    "sgd_array = usd_array * exchange_rate   # Element-wise multiplication\n",
    "\n",
    "print(sgd_array)"
   ]
  },
  {
   "cell_type": "markdown",
   "metadata": {},
   "source": [
    "In the code cell above, we created a <code>numpy.ndarray</code> type variable named <code>usd_array</code> from the list <code>usd</code>. The next line performs element-wise multiplication where each item in the array are multiplied by the scalar <code>exchange_rate</code>. Compared with using a <code>for</code> loop or list comprehension, as we discussed in previous lectures, such an operation is\n",
    "1. More concise;\n",
    "2. Easier to read;\n",
    "3. Faster to execute, especially for arrays with huge number of items. "
   ]
  },
  {
   "cell_type": "markdown",
   "metadata": {},
   "source": [
    "<div class=\"alert alert-block alert-success\">\n",
    "    <b>Example 2:</b> Following the story in previous case studies, the discrete distribution information of two types of newspapers is stored in a two-dimensional array <b>distr</b>. The first row represents the probabilities of each weather condition, the second and third rows give the corresponding newspaper demands. Calculate the 1) the expected newspaper demands; 2) the standard deviations of newspaper demands; and 3) the expected total profit, where the parameters are given in previous case studies. \n",
    "</div>\n",
    "The array <code>distr</code> is constructed as follows."
   ]
  },
  {
   "cell_type": "code",
   "execution_count": 8,
   "metadata": {
    "scrolled": true
   },
   "outputs": [],
   "source": [
    "distr = np.array([[0.315, 0.226, 0.289, 0.087, 0.083],\n",
    "                  [560, 530, 389, 202, 278], \n",
    "                  [533, 486, 386, 234, 263]])"
   ]
  },
  {
   "cell_type": "markdown",
   "metadata": {},
   "source": [
    "The code cell below calculates the expected value and standard deviation of the random newspaper demand. "
   ]
  },
  {
   "cell_type": "code",
   "execution_count": 4,
   "metadata": {
    "scrolled": true
   },
   "outputs": [
    {
     "name": "stdout",
     "output_type": "stream",
     "text": [
      "Expected demand: 449.249\n",
      "Standard deviation: 118.908\n"
     ]
    }
   ],
   "source": [
    "exp1 = np.sum(distr[0] * distr[1])                  # Expected demand of paper1\n",
    "var1 = np.sum(distr[0] * (distr[1] - exp1)**2)      # Variance of paper1 demand\n",
    "std1 = var1 ** 0.5                                  # Standard deviation of paper1 demand\n",
    "\n",
    "print('Expected demand: {0:0.3f}'.format(exp1))\n",
    "print('Standard deviation: {0:0.3f}'.format(std1))"
   ]
  },
  {
   "cell_type": "code",
   "execution_count": 5,
   "metadata": {},
   "outputs": [
    {
     "name": "stdout",
     "output_type": "stream",
     "text": [
      "Expected demand: 431.472\n",
      "Standard deviation: 101.316\n"
     ]
    }
   ],
   "source": [
    "exp2 = np.sum(distr[0] * distr[2])                  # Expected demand of paper2\n",
    "var2 = np.sum(distr[0] * (distr[2] - exp2)**2)      # Variance of paper2 demand\n",
    "std2 = var2 ** 0.5                                  # Standard deviation of paper2 demand\n",
    "\n",
    "print('Expected demand: {0:0.3f}'.format(exp2))\n",
    "print('Standard deviation: {0:0.3f}'.format(std2))"
   ]
  },
  {
   "cell_type": "markdown",
   "metadata": {},
   "source": [
    "The expected profit can be calculated by the code below."
   ]
  },
  {
   "cell_type": "code",
   "execution_count": 17,
   "metadata": {
    "scrolled": true
   },
   "outputs": [
    {
     "name": "stdout",
     "output_type": "stream",
     "text": [
      "Expected profit: $234.92\n"
     ]
    }
   ],
   "source": [
    "cost = np.array([0.6, 0.8])\n",
    "price = np.array([1.0, 1.15])\n",
    "order = np.array([430, 380])\n",
    "\n",
    "exp_sold1 = np.sum(distr[0] * np.minimum(order[0], distr[1]))\n",
    "exp_sold2 = np.sum(distr[0] * np.minimum(order[1], distr[2]))\n",
    "exp_profit = (price[0]*exp_sold1 + price[1]*exp_sold2) - np.sum(order*cost)\n",
    "print('Expected profit: ${0:0.2f}'.format(exp_profit))"
   ]
  },
  {
   "cell_type": "markdown",
   "metadata": {},
   "source": [
    "#### Broadcasting\n",
    "In the previous subsection, we have discussed arithmetic operations on \n",
    "1. A scalar and an arbitrary shape array;\n",
    "2. Two arrays with the same shape.\n",
    "\n",
    "Some special cases of arithmetic operations between arrays with different shapes are allowed in Python. Such operations follow the rules referred to as **broadcasting**. You can think broadcasting as to duplicate or to 'broadcast' the smaller array across the larger array so that they have compatible shapes, then the element-wise calculations can be conducted. A few examples are given below.\n",
    "\n",
    "<img src=\"https://www.astroml.org/_images/fig_broadcast_visual_1.png\" width=500pt>"
   ]
  },
  {
   "cell_type": "code",
   "execution_count": 18,
   "metadata": {},
   "outputs": [
    {
     "data": {
      "text/plain": [
       "array([5, 6, 7])"
      ]
     },
     "execution_count": 18,
     "metadata": {},
     "output_type": "execute_result"
    }
   ],
   "source": [
    "np.arange(3) + 5"
   ]
  },
  {
   "cell_type": "code",
   "execution_count": 19,
   "metadata": {
    "scrolled": true
   },
   "outputs": [
    {
     "data": {
      "text/plain": [
       "array([[1., 2., 3.],\n",
       "       [1., 2., 3.],\n",
       "       [1., 2., 3.]])"
      ]
     },
     "execution_count": 19,
     "metadata": {},
     "output_type": "execute_result"
    }
   ],
   "source": [
    "np.ones((3, 3)) + np.arange(3)"
   ]
  },
  {
   "cell_type": "code",
   "execution_count": 20,
   "metadata": {
    "scrolled": true
   },
   "outputs": [
    {
     "data": {
      "text/plain": [
       "array([[0, 1, 2],\n",
       "       [1, 2, 3],\n",
       "       [2, 3, 4]])"
      ]
     },
     "execution_count": 20,
     "metadata": {},
     "output_type": "execute_result"
    }
   ],
   "source": [
    "np.arange(3).reshape((3, 1)) + np.arange(3)"
   ]
  },
  {
   "cell_type": "markdown",
   "metadata": {},
   "source": [
    "You may also notice that the operation between a scalar and an array is a special case of broadcasting. Besides the addition operator, the idea of broadcasting can be applied to other arithmetic operators such as multiplication, division, power, etc. Since we only consider at most two-dimensional arrays, you just need to understand broadcasting operations where the smaller array has only one row or one column.\n",
    "\n",
    "#### Functions and Array methods\n",
    "\n",
    "The NumPy package provides many commonly used mathematical functions, such as <code>exp()</code> for exponential function, <code>log()</code> for natural logarithm, <code>square()</code> for squares, <code>power</code> for powers etc. Like arithmetic operations, these functions also work element-wise on arrays, as shown by the following examples."
   ]
  },
  {
   "cell_type": "code",
   "execution_count": 1,
   "metadata": {},
   "outputs": [
    {
     "ename": "NameError",
     "evalue": "name 'np' is not defined",
     "output_type": "error",
     "traceback": [
      "\u001b[1;31m---------------------------------------------------------------------------\u001b[0m",
      "\u001b[1;31mNameError\u001b[0m                                 Traceback (most recent call last)",
      "\u001b[1;32m<ipython-input-1-40feff5a80df>\u001b[0m in \u001b[0;36m<module>\u001b[1;34m\u001b[0m\n\u001b[1;32m----> 1\u001b[1;33m \u001b[0mprint\u001b[0m\u001b[1;33m(\u001b[0m\u001b[0mnp\u001b[0m\u001b[1;33m.\u001b[0m\u001b[0mlog\u001b[0m\u001b[1;33m(\u001b[0m\u001b[1;36m3\u001b[0m\u001b[1;33m)\u001b[0m\u001b[1;33m)\u001b[0m                    \u001b[1;31m# Natural logarithm of 3\u001b[0m\u001b[1;33m\u001b[0m\u001b[1;33m\u001b[0m\u001b[0m\n\u001b[0m\u001b[0;32m      2\u001b[0m \u001b[0mprint\u001b[0m\u001b[1;33m(\u001b[0m\u001b[0mnp\u001b[0m\u001b[1;33m.\u001b[0m\u001b[0mexp\u001b[0m\u001b[1;33m(\u001b[0m\u001b[0mnp\u001b[0m\u001b[1;33m.\u001b[0m\u001b[0marange\u001b[0m\u001b[1;33m(\u001b[0m\u001b[1;36m4\u001b[0m\u001b[1;33m)\u001b[0m\u001b[1;33m)\u001b[0m\u001b[1;33m)\u001b[0m         \u001b[1;31m# Exponential of 0, 1, 2, 3 就是e的多少次方\u001b[0m\u001b[1;33m\u001b[0m\u001b[1;33m\u001b[0m\u001b[0m\n\u001b[0;32m      3\u001b[0m \u001b[0mprint\u001b[0m\u001b[1;33m(\u001b[0m\u001b[0mnp\u001b[0m\u001b[1;33m.\u001b[0m\u001b[0msquare\u001b[0m\u001b[1;33m(\u001b[0m\u001b[0mnp\u001b[0m\u001b[1;33m.\u001b[0m\u001b[0marange\u001b[0m\u001b[1;33m(\u001b[0m\u001b[1;36m3\u001b[0m\u001b[1;33m)\u001b[0m\u001b[1;33m)\u001b[0m\u001b[1;33m)\u001b[0m      \u001b[1;31m# Squares of 0, 1, 2\u001b[0m\u001b[1;33m\u001b[0m\u001b[1;33m\u001b[0m\u001b[0m\n\u001b[0;32m      4\u001b[0m \u001b[0mprint\u001b[0m\u001b[1;33m(\u001b[0m\u001b[0mnp\u001b[0m\u001b[1;33m.\u001b[0m\u001b[0mpower\u001b[0m\u001b[1;33m(\u001b[0m\u001b[0mnp\u001b[0m\u001b[1;33m.\u001b[0m\u001b[0marange\u001b[0m\u001b[1;33m(\u001b[0m\u001b[1;36m3\u001b[0m\u001b[1;33m)\u001b[0m\u001b[1;33m,\u001b[0m \u001b[1;36m4\u001b[0m\u001b[1;33m)\u001b[0m\u001b[1;33m)\u001b[0m    \u001b[1;31m# Cubes of 0, 1, 2\u001b[0m\u001b[1;33m\u001b[0m\u001b[1;33m\u001b[0m\u001b[0m\n",
      "\u001b[1;31mNameError\u001b[0m: name 'np' is not defined"
     ]
    }
   ],
   "source": [
    "print(np.log(3))                    # Natural logarithm of 3\n",
    "print(np.exp(np.arange(4)))         # Exponential of 0, 1, 2, 3 就是e的多少次方\n",
    "print(np.square(np.arange(3)))      # Squares of 0, 1, 2\n",
    "print(np.power(np.arange(3), 4))    # Cubes of 0, 1, 2 "
   ]
  },
  {
   "cell_type": "markdown",
   "metadata": {},
   "source": [
    "Similar to other Python data types, there are also many methods associated with NumPy arrays. For example we may use the method <code>sum()</code> to find the summation of all items. Methods <code>max()</code> and <code>min()</code> can be used to search for the maximum and the minimum item in the array."
   ]
  },
  {
   "cell_type": "code",
   "execution_count": 22,
   "metadata": {},
   "outputs": [
    {
     "name": "stdout",
     "output_type": "stream",
     "text": [
      "20.0\n",
      "6.5\n",
      "1.0\n"
     ]
    }
   ],
   "source": [
    "array_2d = np.array([[1, 2],    \n",
    "                     [2, 3.5],     \n",
    "                     [5, 6.5]])     # Create a two-dimensional array  \n",
    "\n",
    "print(array_2d.sum())               # Sum of all item\n",
    "print(array_2d.max())               # The maximum item in the array\n",
    "print(array_2d.min())               # The minimum item in the array"
   ]
  },
  {
   "cell_type": "markdown",
   "metadata": {},
   "source": [
    "Besides considering all items in the array (default case), we can also specify an axis along which these measures are calculated. Some examples are given as follows."
   ]
  },
  {
   "cell_type": "code",
   "execution_count": 23,
   "metadata": {
    "scrolled": true
   },
   "outputs": [
    {
     "name": "stdout",
     "output_type": "stream",
     "text": [
      "[ 8. 12.]\n",
      "[ 3.   5.5 11.5]\n",
      "[5.  6.5]\n",
      "[1. 2. 5.]\n"
     ]
    }
   ],
   "source": [
    "print(array_2d.sum(axis=0))    # For each column, sum of elements along rows\n",
    "print(array_2d.sum(axis=1))    # For each row, sum of elements along columns\n",
    "print(array_2d.max(axis=0))    # The maximum elements of each column (along rows)\n",
    "print(array_2d.min(axis=1))    # The minimum elements of each row (along columns)"
   ]
  },
  {
   "cell_type": "markdown",
   "metadata": {},
   "source": [
    "Next, we will use **Example 2** to demonstrate how the code can be simplified by using array methods and broadcasting operations. "
   ]
  },
  {
   "cell_type": "code",
   "execution_count": 24,
   "metadata": {
    "scrolled": true
   },
   "outputs": [
    {
     "data": {
      "text/plain": [
       "array([449.249, 431.472])"
      ]
     },
     "execution_count": 24,
     "metadata": {},
     "output_type": "execute_result"
    }
   ],
   "source": [
    "exp_d = (distr[0] * distr[1:]).sum(axis=1)\n",
    "exp_d"
   ]
  },
  {
   "cell_type": "code",
   "execution_count": 25,
   "metadata": {
    "scrolled": true
   },
   "outputs": [
    {
     "data": {
      "text/plain": [
       "array([118.90763222, 101.3157797 ])"
      ]
     },
     "execution_count": 25,
     "metadata": {},
     "output_type": "execute_result"
    }
   ],
   "source": [
    "var_d = (distr[0] * (distr[1:] - exp_d.reshape((2, 1)))**2).sum(axis=1)\n",
    "std_d = var_d ** 0.5\n",
    "std_d"
   ]
  },
  {
   "cell_type": "code",
   "execution_count": 26,
   "metadata": {},
   "outputs": [
    {
     "data": {
      "text/plain": [
       "array([385.699, 357.587])"
      ]
     },
     "execution_count": 26,
     "metadata": {},
     "output_type": "execute_result"
    }
   ],
   "source": [
    "order = np.array([430, 380])\n",
    "exp_sold = (distr[0] * np.minimum(order.reshape((2, 1)), distr[1:])).sum(axis=1)\n",
    "exp_sold"
   ]
  },
  {
   "cell_type": "code",
   "execution_count": 27,
   "metadata": {
    "scrolled": true
   },
   "outputs": [
    {
     "name": "stdout",
     "output_type": "stream",
     "text": [
      "Expected profit: $234.92\n"
     ]
    }
   ],
   "source": [
    "cost = np.array([0.6, 0.8])\n",
    "price = np.array([1.0, 1.15])\n",
    "exp_profit = (price*exp_sold - cost*order).sum()\n",
    "print('Expected profit: ${0:0.2f}'.format(exp_profit))"
   ]
  },
  {
   "cell_type": "markdown",
   "metadata": {},
   "source": [
    "In the previous solution, we calculated the expectations and standard deviations of demands separately for two types of newspapers. The new solution applies the broadcasting operation and the <code>sum()</code> method, so that these measures can be calculated altogether as arrays. When you have many types of newspapers to sell (multi-product newsvendors problem), the second method would be more convenient and concise compared with running all calculations in loops. "
   ]
  },
  {
   "cell_type": "markdown",
   "metadata": {},
   "source": [
    " "
   ]
  },
  {
   "cell_type": "markdown",
   "metadata": {},
   "source": [
    "## Data visualization using the Matplotlib package <a id=\"section3\"></a>\n",
    "\n",
    "In this course, we will focus on Matplotlib, a powerful multi-platform data visualization library built on NumPy arrays. The syntax of Matplotlib is relatively simpler, and once you are familiar with this package, you could explore data visualization packages that are 'fancier', such as [Plotly](https://plotly.com/) and [seaborn](https://seaborn.pydata.org/)\n",
    "\n",
    "The standard way of importing the <code>matplotlib.pyplot</code> module is to rename it as <code>plt</code>, so we will use the name <code>plt</code> in subsequent code. \n",
    "\n",
    "### Functions <code>plot()</code>, <code>scatter()</code>, and <code>bar()</code> <a id=\"subsection3.1\"></a>\n",
    "Among many graphs and visuals for displaying data information, we will focus on \n",
    "1. Line plots\n",
    "2. Scatter plots\n",
    "3. Bar chart\n",
    "\n",
    "in this section because they work for the majority of your needs. These data visuals can also be created in very similar ways, as demonstrated by the next example. \n",
    "\n",
    "<div class=\"alert alert-block alert-success\">\n",
    "<b>Example 3:</b> Plot the graph of an exponential function $y=\\exp(x)$, where $x=0, 1, 2, 3, 4, 5$. \n",
    "</div>\n",
    "The line plot is usually used to display the continuous trend, and it can be created by the code below."
   ]
  },
  {
   "cell_type": "code",
   "execution_count": 5,
   "metadata": {
    "scrolled": false
   },
   "outputs": [
    {
     "data": {
      "image/png": "[encoded data removed]",
      "text/plain": [
       "<Figure size 432x288 with 1 Axes>"
      ]
     },
     "metadata": {
      "needs_background": "light"
     },
     "output_type": "display_data"
    }
   ],
   "source": [
    "step = 1\n",
    "x = np.arange(0, 5+step, step)      # An array 0, 1, 2, 3, 4, 5\n",
    "y = np.exp(x)                       # An array of exp(0), exp(1), ..., exp(5)\n",
    "\n",
    "plt.plot(x, y)                      # Specify the line plot by the x and y data\n",
    "plt.xlabel('x')                     # Label for x data\n",
    "plt.ylabel('y')                     # Label for y data\n",
    "plt.show()                          # Ready for display (optional for Jupyter)"
   ]
  },
  {
   "cell_type": "markdown",
   "metadata": {},
   "source": [
    "In cases that we want to display a smooth curve for the exponential function, we just need to set the variable <code>step</code> to a very small number, like 0.01."
   ]
  },
  {
   "cell_type": "code",
   "execution_count": 4,
   "metadata": {
    "scrolled": true
   },
   "outputs": [
    {
     "data": {
      "image/png": "[encoded data removed]",
      "text/plain": [
       "<Figure size 432x288 with 1 Axes>"
      ]
     },
     "metadata": {
      "needs_background": "light"
     },
     "output_type": "display_data"
    }
   ],
   "source": [
    "step = 0.01\n",
    "x = np.arange(0, 5+step, step)      # An array 0, 0.01, 0.02, ..., 4.99, 5\n",
    "y = np.exp(x)                       # An array of exp(0), exp(0.01), ..., exp(5)\n",
    "\n",
    "plt.plot(x, y)                      # Specify the line plot by the x and y data\n",
    "plt.xlabel('x')                     # Label for x data\n",
    "plt.ylabel('y')                     # Label for y data\n",
    "plt.show()                          # Ready for display (optional for Jupyter)"
   ]
  },
  {
   "cell_type": "markdown",
   "metadata": {},
   "source": [
    "If the diagram is aimed at showing discrete data points, then the scatter plot is preferred."
   ]
  },
  {
   "cell_type": "code",
   "execution_count": 30,
   "metadata": {
    "scrolled": true
   },
   "outputs": [
    {
     "data": {
      "image/png": "[encoded data removed]",
      "text/plain": [
       "<Figure size 432x288 with 1 Axes>"
      ]
     },
     "metadata": {
      "needs_background": "light"
     },
     "output_type": "display_data"
    }
   ],
   "source": [
    "step = 1\n",
    "x = np.arange(0, 5+step, step)      # An array 0, 1, 2, 3, 4, 5\n",
    "y = np.exp(x)                       # An array of exp(0), exp(1), ..., exp(5)\n",
    "\n",
    "plt.scatter(x, y)                   # Specify the scatter plot by the x and y data\n",
    "plt.xlabel('x')                     # Label for x data\n",
    "plt.ylabel('y')                     # Label for y data\n",
    "plt.show()                          # Ready for display (optional for Jupyter)"
   ]
  },
  {
   "cell_type": "code",
   "execution_count": 3,
   "metadata": {},
   "outputs": [
    {
     "data": {
      "text/plain": [
       "<matplotlib.collections.PathCollection at 0x1ce2b124250>"
      ]
     },
     "execution_count": 3,
     "metadata": {},
     "output_type": "execute_result"
    },
    {
     "data": {
      "image/png": "[encoded data removed]",
      "text/plain": [
       "<Figure size 432x288 with 1 Axes>"
      ]
     },
     "metadata": {
      "needs_background": "light"
     },
     "output_type": "display_data"
    }
   ],
   "source": [
    "step = 1\n",
    "x = np.arange(0, 5+step, step)      # An array 0, 1, 2, 3, 4, 5\n",
    "y = np.exp(x)                       # An array of exp(0), exp(1), ..., exp(5)\n",
    "plt.scatter(x,y)"
   ]
  },
  {
   "cell_type": "markdown",
   "metadata": {},
   "source": [
    "It can be seen that the <code>scatter()</code> function works similarly as the <code>plot()</code> function, where we specify the x and y data by the first (keyword <code>x</code>) and the second (keyword <code>y</code>) arguments.  \n",
    "\n",
    "Alternatively, we can use the bar graph to show discrete data values. "
   ]
  },
  {
   "cell_type": "code",
   "execution_count": 31,
   "metadata": {
    "scrolled": false
   },
   "outputs": [
    {
     "data": {
      "image/png": "[encoded data removed]",
      "text/plain": [
       "<Figure size 432x288 with 1 Axes>"
      ]
     },
     "metadata": {
      "needs_background": "light"
     },
     "output_type": "display_data"
    }
   ],
   "source": [
    "step = 1\n",
    "x = np.arange(0, 5+step, step)      # An array 0, 1, 2, 3, 4, 5\n",
    "y = np.exp(x)                       # An array of exp(0), exp(1), ..., exp(5)\n",
    "\n",
    "plt.bar(x, y)                       # Specify the bar chart by the x and y data\n",
    "plt.xlabel('x')                     # Label for x data\n",
    "plt.ylabel('y')                     # Label for y data\n",
    "plt.show()                          # Ready for display (optional for Jupyter)"
   ]
  },
  {
   "cell_type": "markdown",
   "metadata": {},
   "source": [
    "The syntax of specifying the x and y data is also quite similar, except that the keyword of the second argument is <code>height</code> instead of <code>y</code>. \n",
    "\n",
    "You may explore other information of these three functions by the <code>help()</code> information. It is mentioned in the function docstring that the x and y data are given as 'array-like' data types, so they can also be other compound data types, such as <code>list</code>, <code>range</code>, or <code>tuple</code>. However, we usually prefer using NumPy arrays in these visualization functions because it is more convenient to conduct element-wise calculations."
   ]
  },
  {
   "cell_type": "code",
   "execution_count": 32,
   "metadata": {},
   "outputs": [],
   "source": [
    "# Write your code here"
   ]
  },
  {
   "cell_type": "markdown",
   "metadata": {},
   "source": [
    "### Configuration of plots and figures <a id=\"subsection3.2\"></a>\n",
    "In real applications, we often need to adjust some attributes of a plot, such as the color and style of lines, size and opacity of scattered dots, or the width or bars. All these attributes can be specified by keyword arguments when calling these visualization functions. "
   ]
  },
  {
   "cell_type": "code",
   "execution_count": 33,
   "metadata": {
    "scrolled": true
   },
   "outputs": [
    {
     "data": {
      "image/png": "[encoded data removed]",
      "text/plain": [
       "<Figure size 432x288 with 1 Axes>"
      ]
     },
     "metadata": {
      "needs_background": "light"
     },
     "output_type": "display_data"
    }
   ],
   "source": [
    "step = 1\n",
    "x = np.arange(0, 5+step, step)      # An array 0, 1, 2, 3, 4, 5\n",
    "y = np.exp(x)                       # An array of exp(0), exp(2),..., exp(5)\n",
    "\n",
    "plt.plot(x, y,                      # Specify the line plot by the x and y data\n",
    "         linewidth=3,               # Line is thicker by setting the width to be 3\n",
    "         linestyle=':',             # Dotted line \n",
    "         color='r')                 # The color is red    \n",
    "\n",
    "plt.plot(x, y+30,                   # Specify the line plot by the x and y data\n",
    "         linewidth=2,               # Line is thicker by setting the width to be 2\n",
    "         linestyle='-.',            # Dash-dotted line\n",
    "         color='b')                 # The color is blue    \n",
    "\n",
    "plt.plot(x, y+60,                   # Specify the line plot by the x and y data\n",
    "         marker='o',                # Circle marks at each data point\n",
    "         linestyle='--',            # Dashed line\n",
    "         color='g')                 # The color is green    \n",
    "\n",
    "plt.xlabel('x')                     # Label for x data\n",
    "plt.ylabel('y')                     # Label for y data\n",
    "plt.show()                          # Ready for display (optional for Jupyter)"
   ]
  },
  {
   "cell_type": "code",
   "execution_count": 24,
   "metadata": {},
   "outputs": [
    {
     "data": {
      "text/plain": [
       "[<matplotlib.lines.Line2D at 0x1ce2beb5130>]"
      ]
     },
     "execution_count": 24,
     "metadata": {},
     "output_type": "execute_result"
    },
    {
     "data": {
      "image/png": "[encoded data removed]",
      "text/plain": [
       "<Figure size 432x288 with 1 Axes>"
      ]
     },
     "metadata": {
      "needs_background": "light"
     },
     "output_type": "display_data"
    }
   ],
   "source": [
    "step = 1\n",
    "x = np.arange(0, 5, step)\n",
    "y = np.exp(x)\n",
    "plt.plot(x, y, linestyle=':', marker='3', color='c')"
   ]
  },
  {
   "cell_type": "markdown",
   "metadata": {},
   "source": [
    "More information on specifying line properties is given [here](https://matplotlib.org/2.1.1/api/_as_gen/matplotlib.pyplot.plot.html)"
   ]
  },
  {
   "cell_type": "code",
   "execution_count": 34,
   "metadata": {
    "scrolled": true
   },
   "outputs": [
    {
     "data": {
      "image/png": "[encoded data removed]",
      "text/plain": [
       "<Figure size 432x288 with 1 Axes>"
      ]
     },
     "metadata": {
      "needs_background": "light"
     },
     "output_type": "display_data"
    }
   ],
   "source": [
    "step = 1\n",
    "x = np.arange(0, 5+step, step)      # An array 0, 1, 2, 3, 4, 5\n",
    "y = np.exp(x)                       # An array of exp(0), exp(1), ..., exp(5)\n",
    "z = np.sqrt(y)                      # An array of exp(0)**0.5, exp(5)**0.5\n",
    "\n",
    "plt.scatter(x, y,                   # Specify the scatter plot by the x and y data\n",
    "            s=z*50,                 # Dot sizes are specified by z*50\n",
    "            c='b',                  # Color is blue\n",
    "            alpha=0.2)              # Opacity is set to be 20%\n",
    "plt.xlabel('x')                     # Label for x data\n",
    "plt.ylabel('y')                     # Label for y data\n",
    "plt.show()                          # Ready for display (optional for Jupyter)"
   ]
  },
  {
   "cell_type": "code",
   "execution_count": 35,
   "metadata": {
    "scrolled": false
   },
   "outputs": [
    {
     "data": {
      "image/png": "[encoded data removed]",
      "text/plain": [
       "<Figure size 432x288 with 1 Axes>"
      ]
     },
     "metadata": {
      "needs_background": "light"
     },
     "output_type": "display_data"
    }
   ],
   "source": [
    "step = 1\n",
    "x = np.arange(0, 5+step, step)      # An array 0, 1, 2, 3, 4, 5\n",
    "y = np.exp(x)                       # An array of exp(0), exp(1), ..., exp(5)\n",
    "\n",
    "plt.bar(x, y,                       # Specify the bar chart by the x and y data \n",
    "        width=0.6,                  # Bar width is 0.6\n",
    "        color='b',                  # Color is blue\n",
    "        alpha=0.3)                  # Opacity is 30%\n",
    "plt.xlabel('x')                     # Label for x data\n",
    "plt.ylabel('y')                     # Label for y data\n",
    "plt.show()                          # Ready for display (optional for Jupyter)"
   ]
  },
  {
   "cell_type": "markdown",
   "metadata": {},
   "source": [
    "Besides the attributes of plots, we may also adjust other features of the graph, as shown below.\n",
    "\n",
    "<img src=\"https://github.com/XiongPengNUS/test/blob/master/Components.png?raw=true\" width=600>"
   ]
  },
  {
   "cell_type": "markdown",
   "metadata": {},
   "source": [
    "For example, the size of the figure can be configured by the keyword argument <code>figsize</code> when calling the function <code>figure</code>. The font size of x and y labels can be configured using the keyword argument <code>fontsize</code> while calling functions <code>xlabel()</code> and <code>ylabel()</code>."
   ]
  },
  {
   "cell_type": "code",
   "execution_count": 36,
   "metadata": {
    "scrolled": true
   },
   "outputs": [
    {
     "data": {
      "image/png": "[encoded data removed]",
      "text/plain": [
       "<Figure size 504x252 with 1 Axes>"
      ]
     },
     "metadata": {
      "needs_background": "light"
     },
     "output_type": "display_data"
    }
   ],
   "source": [
    "step = 1\n",
    "x = np.arange(0, 10+step, step)     # An array 0, 1, 2, 3, 4, 5\n",
    "y = np.exp(x/2)                     # An array of exp(0), exp(0.5), ..., exp(5)\n",
    "\n",
    "plt.figure(figsize=(7, 3.5))        # Reconfigure the size of the figure\n",
    "plt.title('Bar graph', fontsize=15) # Title of figure   \n",
    "plt.bar(x, y,                       # Specify the bar chart by the x and y data \n",
    "        width=0.6,                  # Bar width is 0.6\n",
    "        color='b',                  # Color is blue\n",
    "        alpha=0.3)                  # Opacity is 30%\n",
    "plt.xlabel('x', fontsize=13)        # Label for x data, the font size is 13\n",
    "plt.ylabel('y', fontsize=13)        # Label for y data, the font size is 13\n",
    "plt.show()                          # Ready for display (optional for Jupyter)"
   ]
  },
  {
   "cell_type": "code",
   "execution_count": 41,
   "metadata": {},
   "outputs": [
    {
     "data": {
      "text/plain": [
       "Text(0, 0.5, 'y')"
      ]
     },
     "execution_count": 41,
     "metadata": {},
     "output_type": "execute_result"
    },
    {
     "data": {
      "image/png": "[encoded data removed]",
      "text/plain": [
       "<Figure size 504x288 with 1 Axes>"
      ]
     },
     "metadata": {
      "needs_background": "light"
     },
     "output_type": "display_data"
    }
   ],
   "source": [
    "step = 1\n",
    "x = np.arange(0, 10+step, step)\n",
    "y = np.exp(x/2)\n",
    "\n",
    "plt.figure(figsize=(7, 4))\n",
    "plt.title('Bar graph', fontsize=13)\n",
    "plt.bar(x,y)\n",
    "plt.xlabel('x', fontsize=13)\n",
    "plt.ylabel('y', fontsize=13)"
   ]
  },
  {
   "cell_type": "markdown",
   "metadata": {},
   "source": [
    "### Labeling plots and the function <code>legend()</code> <a id=\"subsection3.3\"></a>\n",
    "\n",
    "When multiple plots are being shown within a single graph, it can be useful to create a\n",
    "plot legend that tells what these plots are. The Matplotlib package has a built-in function <code>legend()</code> to quickly create such a legend. Before calling the function <code>legend()</code>, please make sure that you have given a label to each plot you want to show in the legend box. This can be done by using the keyword argument <code>label</code>."
   ]
  },
  {
   "cell_type": "code",
   "execution_count": 37,
   "metadata": {
    "scrolled": true
   },
   "outputs": [
    {
     "data": {
      "image/png": "[encoded data removed]",
      "text/plain": [
       "<Figure size 432x288 with 1 Axes>"
      ]
     },
     "metadata": {
      "needs_background": "light"
     },
     "output_type": "display_data"
    }
   ],
   "source": [
    "step = 1\n",
    "x = np.arange(0, 5+step, step)                              # An array 0, 1, 2, 3, 4, 5\n",
    "y = np.exp(x)                                               # An array exp(0),..., exp(5)\n",
    "\n",
    "plt.plot(x, y, linewidth=3, linestyle=':', color='r',       # Specify the line features\n",
    "         label='Line 1')                                    # Label of the line plot\n",
    "\n",
    "plt.plot(x, y+30, linewidth=2, linestyle='-.', color='b',   # Specify the line features\n",
    "         label='Line 2')                                    # Label of the line plot   \n",
    "\n",
    "plt.plot(x, y+60, marker='o', linestyle='--', color='g',    # Specify the line features\n",
    "         label='Line 3')                                    # Label of the line plot \n",
    "\n",
    "plt.legend(fontsize=13)                                     # Display the legend\n",
    "plt.xlabel('x', fontsize=13)                                # Label for x data\n",
    "plt.ylabel('y', fontsize=13)                                # Label for y data\n",
    "plt.show()                          "
   ]
  },
  {
   "cell_type": "markdown",
   "metadata": {},
   "source": [
    "<div class=\"alert alert-block alert-success\">\n",
    "    <b>Example 4:</b> Following the story in <b>Example 2</b>, the discrete distribution information of two types of newspapers is stored in the dictionary <b>distr_dict</b>. Use a bar graph to show the demands of these two types of newspapers under different weather conditions. \n",
    "</div>"
   ]
  },
  {
   "cell_type": "code",
   "execution_count": 42,
   "metadata": {
    "scrolled": true
   },
   "outputs": [
    {
     "data": {
      "text/plain": [
       "{'weather': ['Sunny', 'Cloudy', 'Raining', 'Thunderstorm', 'Haze'],\n",
       " 'probs': [0.315, 0.226, 0.289, 0.087, 0.083],\n",
       " 'paper1': [560, 530, 389, 202, 278],\n",
       " 'paper2': [533, 486, 386, 234, 263]}"
      ]
     },
     "execution_count": 42,
     "metadata": {},
     "output_type": "execute_result"
    }
   ],
   "source": [
    "distr_dict = {'weather': ['Sunny', 'Cloudy', 'Raining', 'Thunderstorm', 'Haze'],\n",
    "              'probs': [0.315, 0.226, 0.289, 0.087, 0.083],\n",
    "              'paper1': [560, 530, 389, 202, 278],\n",
    "              'paper2': [533, 486, 386, 234, 263]}\n",
    "\n",
    "distr_dict"
   ]
  },
  {
   "cell_type": "code",
   "execution_count": 43,
   "metadata": {},
   "outputs": [],
   "source": [
    "weather = distr_dict['weather']\n",
    "paper1 = distr_dict['paper1']\n",
    "paper2 = distr_dict['paper2']"
   ]
  },
  {
   "cell_type": "code",
   "execution_count": null,
   "metadata": {},
   "outputs": [],
   "source": []
  },
  {
   "cell_type": "code",
   "execution_count": 40,
   "metadata": {
    "scrolled": true
   },
   "outputs": [
    {
     "data": {
      "image/png": "[encoded data removed]",
      "text/plain": [
       "<Figure size 540x288 with 1 Axes>"
      ]
     },
     "metadata": {
      "needs_background": "light"
     },
     "output_type": "display_data"
    }
   ],
   "source": [
    "x = np.arange(len(weather))                 # An array 0, 1, 2, ..., 4\n",
    "width = 0.3                                 # Width of the bar\n",
    "\n",
    "plt.figure(figsize=(7.5, 4))\n",
    "plt.bar(x-0.5*width, paper1, \n",
    "        color='r', width=width, alpha=0.6,\n",
    "        label='paper1')                     # Bar chart for paper1\n",
    "plt.bar(x+0.5*width, paper2, \n",
    "        color='b', width=width, alpha=0.6,\n",
    "        label='paper2')                     # Bar chart for paper2\n",
    "\n",
    "plt.legend(fontsize=13)\n",
    "plt.xticks(x, weather, fontsize=13)    \n",
    "plt.ylabel('Demand', fontsize=13)\n",
    "plt.show()"
   ]
  },
  {
   "cell_type": "code",
   "execution_count": 44,
   "metadata": {},
   "outputs": [
    {
     "data": {
      "image/png": "[encoded data removed]",
      "text/plain": [
       "<Figure size 504x360 with 1 Axes>"
      ]
     },
     "metadata": {
      "needs_background": "light"
     },
     "output_type": "display_data"
    }
   ],
   "source": [
    "step = 1\n",
    "x = np.arange(1, 5+step, step)\n",
    "y = np.exp(x)\n",
    "name = ['a','b','c','d','e']\n",
    "plt.figure(figsize=(7,5))\n",
    "plt.bar(x, y)\n",
    "plt.xticks(x, name, fontsize=13)\n",
    "plt.show()"
   ]
  },
  {
   "cell_type": "markdown",
   "metadata": {},
   "source": [
    " "
   ]
  },
  {
   "cell_type": "markdown",
   "metadata": {},
   "source": [
    "## Case Studies: <a id=\"section4\"></a>\n",
    "\n",
    "### Case study 1: draw an 'elephant' with four parameters <a id=\"subsection4.1\"></a>\n",
    "\n",
    "It is shown in the paper *Drawing an elephant with four complex parameters* that we can draw an elephant according to the following equations.\n",
    "$$\n",
    "\\begin{cases}\n",
    "x = -30\\sin(t) + 8\\sin(2t) - 10\\sin(3t) - 60\\cos(t) \\\\\n",
    "y = -50\\sin(t) - 18\\sin(2t) - 12\\cos(3t) + 14\\cos(5t) \n",
    "\\end{cases}\n",
    "$$\n",
    "where $t$ is an array of numbers running from 0 to 2$\\pi$. We may use the following code to draw the elephant. "
   ]
  },
  {
   "cell_type": "code",
   "execution_count": 52,
   "metadata": {},
   "outputs": [
    {
     "data": {
      "text/plain": [
       "[<matplotlib.lines.Line2D at 0x1ce2d6b8be0>]"
      ]
     },
     "execution_count": 52,
     "metadata": {},
     "output_type": "execute_result"
    },
    {
     "data": {
      "image/png": "[encoded data removed]",
      "text/plain": [
       "<Figure size 432x288 with 1 Axes>"
      ]
     },
     "metadata": {
      "needs_background": "light"
     },
     "output_type": "display_data"
    }
   ],
   "source": [
    "import math\n",
    "step = 0.01\n",
    "t = np.arange(0, 2*math.pi+step, step)\n",
    "x = -30*np.sin(t) + 8*np.sin(2*t) - 10*np.sin(3*t) - 60*np.cos(t)\n",
    "y = -50*np.sin(t) - 18*np.sin(2*t) - 12*np.cos(3*t) + 14*np.cos(5*t)\n",
    "plt.plot(x,y)"
   ]
  },
  {
   "cell_type": "code",
   "execution_count": 53,
   "metadata": {},
   "outputs": [
    {
     "data": {
      "text/plain": [
       "<matplotlib.collections.PathCollection at 0x1ce2d71a550>"
      ]
     },
     "execution_count": 53,
     "metadata": {},
     "output_type": "execute_result"
    },
    {
     "data": {
      "image/png": "[encoded data removed]",
      "text/plain": [
       "<Figure size 432x288 with 1 Axes>"
      ]
     },
     "metadata": {
      "needs_background": "light"
     },
     "output_type": "display_data"
    }
   ],
   "source": [
    "plt.scatter(20,20) "
   ]
  },
  {
   "cell_type": "markdown",
   "metadata": {},
   "source": [
    "### Case Study 2: daily stock returns <a id=\"subsection4.2\"></a>\n",
    "In this case study, we collected the daily close price data of five stocks: AAPL, AMZN, TSLA, FB, and GOOG, between Dec. 2020 and Jan. 2021. The dataset are formatted as a two-dimensional array as follows. "
   ]
  },
  {
   "cell_type": "code",
   "execution_count": 3,
   "metadata": {},
   "outputs": [],
   "source": [
    "import numpy as np\n",
    "import matplotlib.pyplot as plt\n",
    "\n",
    "# Prices of five stocks in two months (12-2020 to 01-2021)\n",
    "#                [ AAPL,   AMZN,     TSLA,     FB,   GOOG   ]\n",
    "data = np.array([[ 122.72, 3220.08,  584.76,  286.55, 1798.1 ],\n",
    "                 [ 123.08, 3203.53,  568.82,  287.52, 1827.95],\n",
    "                 [ 122.94, 3186.73,  593.38,  281.85, 1826.77],\n",
    "                 [ 122.25, 3162.58,  599.04,  279.7 , 1827.99],\n",
    "                 [ 123.75, 3158.  ,  641.76,  285.58, 1819.48],\n",
    "                 [ 124.38, 3177.29,  649.88,  283.4 , 1818.55],\n",
    "                 [ 121.78, 3104.2 ,  604.48,  277.92, 1784.13],\n",
    "                 [ 123.24, 3101.49,  627.07,  277.12, 1775.33],\n",
    "                 [ 122.41, 3116.42,  609.99,  273.55, 1781.77],\n",
    "                 [ 121.78, 3156.97,  639.83,  274.19, 1760.06],\n",
    "                 [ 127.88, 3165.12,  633.25,  275.55, 1767.77],\n",
    "                 [ 127.81, 3240.96,  622.77,  275.67, 1763.  ],\n",
    "                 [ 128.7 , 3236.08,  655.9 ,  274.48, 1747.9 ],\n",
    "                 [ 126.66, 3201.65,  695.  ,  276.4 , 1731.01],\n",
    "                 [ 128.23, 3206.18,  649.86,  272.79, 1739.37],\n",
    "                 [ 131.88, 3206.52,  640.34,  267.09, 1723.5 ],\n",
    "                 [ 130.96, 3185.27,  645.98,  268.11, 1732.38],\n",
    "                 [ 131.97, 3172.69,  661.77,  267.4 , 1738.85],\n",
    "                 [ 136.69, 3283.96,  663.69,  277.  , 1776.09],\n",
    "                 [ 134.87, 3322.  ,  665.99,  276.78, 1758.72],\n",
    "                 [ 133.72, 3285.85,  694.78,  271.87, 1739.52],\n",
    "                 [ 132.69, 3256.93,  705.67,  273.16, 1751.88],\n",
    "                 [ 129.41, 3186.63,  729.77,  268.94, 1728.24],\n",
    "                 [ 131.01, 3218.51,  735.11,  270.97, 1740.92],\n",
    "                 [ 126.6 , 3138.38,  755.98,  263.31, 1735.29],\n",
    "                 [ 130.92, 3162.16,  816.04,  268.74, 1787.25],\n",
    "                 [ 132.05, 3182.7 ,  880.02,  267.57, 1807.21],\n",
    "                 [ 128.98, 3114.21,  811.19,  256.84, 1766.72],\n",
    "                 [ 128.8 , 3120.83,  849.44,  251.09, 1746.55],\n",
    "                 [ 130.89, 3165.89,  854.41,  251.64, 1754.4 ],\n",
    "                 [ 128.91, 3127.47,  845.  ,  245.64, 1740.18],\n",
    "                 [ 127.14, 3104.25,  826.16,  251.36, 1736.19],\n",
    "                 [ 127.83, 3120.76,  844.55,  261.1 , 1790.86],\n",
    "                 [ 132.03, 3263.38,  850.45,  267.48, 1886.9 ],\n",
    "                 [ 136.87, 3306.99,  844.99,  272.87, 1891.25],\n",
    "                 [ 139.07, 3292.23,  846.64,  274.5 , 1901.05],\n",
    "                 [ 142.92, 3294.  ,  880.8 ,  278.01, 1899.4 ],\n",
    "                 [ 143.16, 3326.13,  883.09,  282.05, 1917.24],\n",
    "                 [ 142.06, 3232.58,  864.16,  272.14, 1830.79],\n",
    "                 [ 137.09, 3237.62,  835.43,  265.  , 1863.11],\n",
    "                 [ 131.96, 3206.2 ,  793.53,  258.33, 1835.74]])"
   ]
  },
  {
   "cell_type": "code",
   "execution_count": 42,
   "metadata": {
    "scrolled": false
   },
   "outputs": [
    {
     "name": "stdout",
     "output_type": "stream",
     "text": [
      "2\n",
      "(41, 5)\n"
     ]
    }
   ],
   "source": [
    "print(data.ndim)        # This is a 2-dimensional array\n",
    "print(data.shape)       # The shape of the array: 41 days and 5 stocks"
   ]
  },
  {
   "cell_type": "markdown",
   "metadata": {},
   "source": [
    "#### Trend of a selected stock\n",
    "\n",
    "Visualize the trend of ONE selected stock. \n",
    "\n",
    "**Solution**:"
   ]
  },
  {
   "cell_type": "code",
   "execution_count": 14,
   "metadata": {
    "scrolled": false
   },
   "outputs": [
    {
     "data": {
      "text/plain": [
       "[<matplotlib.lines.Line2D at 0x1719ea35d30>]"
      ]
     },
     "execution_count": 14,
     "metadata": {},
     "output_type": "execute_result"
    },
    {
     "data": {
      "image/png": "[encoded data removed]",
      "text/plain": [
       "<Figure size 432x288 with 1 Axes>"
      ]
     },
     "metadata": {
      "needs_background": "light"
     },
     "output_type": "display_data"
    }
   ],
   "source": [
    "names = {'AAPL':0, 'AMZN':1, 'TSLA':2, 'FB':3, 'GOOG':4}\n",
    "\n",
    "select = 'AAPL'\n",
    "stock = data[:, names[select]]\n",
    "\n",
    "x = np.arange(1,42,1)\n",
    "y = np.array(stock)\n",
    "plt.plot(x, y)"
   ]
  },
  {
   "cell_type": "markdown",
   "metadata": {},
   "source": [
    "Here we are using a `dict` type object to establish the mapping between the selected stock name and the column index of the two-dimensional array. In Lecture 7, we will learn the Pandas package which would enable us to directly access the column(s) via the selected column labels. The code above can be thus written in a more concise and readable way. "
   ]
  },
  {
   "cell_type": "markdown",
   "metadata": {},
   "source": [
    "#### Daily return in percentage\n",
    "\n",
    "The daily return rate for a given day $n$ in percentage is expressed as\n",
    "\n",
    "$$\n",
    "R_p(n) = \\frac{p_n - p_{n-1}}{p_{n-1}} \\times 100\\%\n",
    "$$\n",
    "\n",
    "where $n=2, 3, ...$. Create a two-dimensional array that gives the daily return rates of these five stocks during the given period. Visualize the trend of the daily return rates of ONE selected stock. \n",
    "\n",
    "**Solution**:"
   ]
  },
  {
   "cell_type": "code",
   "execution_count": null,
   "metadata": {
    "scrolled": false
   },
   "outputs": [],
   "source": [
    "names = {'AAPL':0, 'AMZN':1, 'TSLA':2, 'FB':3, 'GOOG':4}\n",
    "\n",
    "select = 'AAPL'\n",
    "data2 = np.array[1:,]\n",
    "rate = (data2 - data) / data * 100%\n",
    "\n"
   ]
  },
  {
   "cell_type": "code",
   "execution_count": 16,
   "metadata": {},
   "outputs": [
    {
     "ename": "TypeError",
     "evalue": "array() takes from 1 to 2 positional arguments but 3 were given",
     "output_type": "error",
     "traceback": [
      "\u001b[1;31m---------------------------------------------------------------------------\u001b[0m",
      "\u001b[1;31mTypeError\u001b[0m                                 Traceback (most recent call last)",
      "\u001b[1;32m<ipython-input-16-ac96ed83a352>\u001b[0m in \u001b[0;36m<module>\u001b[1;34m\u001b[0m\n\u001b[1;32m----> 1\u001b[1;33m \u001b[0ma\u001b[0m \u001b[1;33m=\u001b[0m \u001b[0mnp\u001b[0m\u001b[1;33m.\u001b[0m\u001b[0marray\u001b[0m\u001b[1;33m(\u001b[0m\u001b[1;36m1\u001b[0m\u001b[1;33m,\u001b[0m\u001b[1;36m2\u001b[0m\u001b[1;33m,\u001b[0m\u001b[1;36m3\u001b[0m\u001b[1;33m)\u001b[0m\u001b[1;33m\u001b[0m\u001b[1;33m\u001b[0m\u001b[0m\n\u001b[0m\u001b[0;32m      2\u001b[0m \u001b[0mb\u001b[0m \u001b[1;33m=\u001b[0m \u001b[0mnp\u001b[0m\u001b[1;33m.\u001b[0m\u001b[0marray\u001b[0m\u001b[1;33m(\u001b[0m\u001b[1;36m4\u001b[0m\u001b[1;33m,\u001b[0m\u001b[1;36m5\u001b[0m\u001b[1;33m)\u001b[0m\u001b[1;33m\u001b[0m\u001b[1;33m\u001b[0m\u001b[0m\n\u001b[0;32m      3\u001b[0m \u001b[0mprint\u001b[0m\u001b[1;33m(\u001b[0m\u001b[0ma\u001b[0m \u001b[1;33m+\u001b[0m \u001b[0mb\u001b[0m\u001b[1;33m)\u001b[0m\u001b[1;33m\u001b[0m\u001b[1;33m\u001b[0m\u001b[0m\n",
      "\u001b[1;31mTypeError\u001b[0m: array() takes from 1 to 2 positional arguments but 3 were given"
     ]
    }
   ],
   "source": [
    "a = np.array(1,2,3)\n",
    "b = np.array(4,5)\n",
    "print(a + b)"
   ]
  },
  {
   "cell_type": "markdown",
   "metadata": {},
   "source": [
    "#### Daily log return\n",
    "\n",
    "The daily log return for a given day $n$ is expressed as\n",
    "\n",
    "$$\n",
    "R_l(n) = \\log\\left(\\frac{p_n}{p_{n-1}}\\right)\n",
    "$$\n",
    "\n",
    "where $n=2, 3, ...$. Create a two-dimensional array that gives the daily log returns of these five stocks during the given period, and also visualize the trend of ONE stock. \n",
    "\n",
    "**Solution**:"
   ]
  },
  {
   "cell_type": "code",
   "execution_count": null,
   "metadata": {},
   "outputs": [],
   "source": []
  },
  {
   "cell_type": "markdown",
   "metadata": {},
   "source": [
    "### Daily returns of a portfolio\n",
    "\n",
    "An investor manages a portfolio that is a combination of \n",
    "- 20% Apple\n",
    "- 23% Amazon\n",
    "- 16% Tesla\n",
    "- 19% Facebook\n",
    "- 22% Google\n",
    "\n",
    "Visualize the daily return of the portfolio.\n",
    "\n",
    "**Solution**:"
   ]
  },
  {
   "cell_type": "code",
   "execution_count": 43,
   "metadata": {
    "scrolled": true
   },
   "outputs": [],
   "source": [
    "pct = np.array([0.2, 0.23, 0.16, 0.19, 0.22])"
   ]
  },
  {
   "cell_type": "code",
   "execution_count": null,
   "metadata": {
    "scrolled": true
   },
   "outputs": [],
   "source": []
  }
 ],
 "metadata": {
  "kernelspec": {
   "display_name": "Python 3",
   "language": "python",
   "name": "python3"
  },
  "language_info": {
   "codemirror_mode": {
    "name": "ipython",
    "version": 3
   },
   "file_extension": ".py",
   "mimetype": "text/x-python",
   "name": "python",
   "nbconvert_exporter": "python",
   "pygments_lexer": "ipython3",
   "version": "3.8.8"
  }
 },
 "nbformat": 4,
 "nbformat_minor": 2
}

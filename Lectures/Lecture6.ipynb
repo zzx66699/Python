{
 "cells": [
  {
   "cell_type": "markdown",
   "metadata": {},
   "source": [
    "# Lecture 6: Lovely Pandas\n",
    "\n",
    "## Contents\n",
    "- [Imports](#section1)\n",
    "- [Datasets](#section4)\n",
    "    - [Data representation](#subsection4.1)\n",
    "    - [Type of variables](#subsection4.2)\n",
    "- [Pandas for data analysis](#section5)\n",
    "    - [The <code>pandas.Series</code> data structure](#subsection5.1)\n",
    "    - [The <code>pandas.DataFrame</code> data structure](#subsection5.2)\n",
    "- [Basics of descriptive analytics](#section6)\n",
    "    - [Read data from files](#subsection6.1)\n",
    "    - [Descriptive measures](#subsection6.2)\n",
    "    - [Visualize measures](#subsection6.3)\n",
    "    - [Handling missing data](#subsection6.4)\n",
    "- [Case studies](#section7)\n",
    "    - [Case study 1: Singapore condo prices](#subsection7.1)"
   ]
  },
  {
   "cell_type": "markdown",
   "metadata": {},
   "source": [
    " "
   ]
  },
  {
   "cell_type": "markdown",
   "metadata": {},
   "source": [
    "## Imports <a id=\"section1\"></a>\n",
    "\n",
    "In all future lectures, we will follow the PEP 8 Coding Style Guide to import all packages at the top of the Jupyter file. **Please make sure that you run the first code cell to import necessary packages before you run the subsequent code**. "
   ]
  },
  {
   "cell_type": "code",
   "execution_count": 3,
   "metadata": {},
   "outputs": [],
   "source": [
    "import numpy as np                  # Import the NumPy package for array-based data\n",
    "import matplotlib.pyplot as plt     # Import the data visualization package Matplotlib\n",
    "import pandas as pd                 # Import the pandas package for data frames"
   ]
  },
  {
   "cell_type": "markdown",
   "metadata": {},
   "source": [
    "## Datasets <a id=\"section4\"></a>\n",
    "\n",
    "### Data representation <a id=\"subsection4.1\"></a>\n",
    "A dataset is a collection, or a table of data. \n",
    "\n",
    "<div class=\"alert alert-block alert-success\">\n",
    "<b>Example 6:</b> The following table contains a cross-sectional dataset on a number of working individuals for the year 1976 (<a href=\"https://www.amazon.com/Introductory-Econometrics-Modern-Approach-Economics/dp/1111531048\">Introductory Econometrics: A Modern Approach</a>). Columns of the data table are summarized as follows.\n",
    "  <li><b>wage</b>: average hourly earnings (in dollars)</li>\n",
    "  <li><b>educ</b>: years of education</li>\n",
    "  <li><b>exper</b>: years of potential experience</li>\n",
    "  <li><b>gender</b>: genders of these working individuals</li>\n",
    "    <li><b>married</b>: <b>True</b> if married, and <b>False</b> otherwise</li>\n",
    "</div> \n",
    "\n",
    "| $ $ |wage\t| educ\t| exper\t| gender | married |\n",
    "|:---:|:---:|:-----:|:-----:|:------:|:-------:|\n",
    "|<b>0</b> |\t3.10 |\t11.0 |\t2.0 | \tFemale | <code>False</code>|\n",
    "|<b>1</b> |\t3.24 |\t12.0 |\t22.0|\tFemale | <code>True</code> |\n",
    "|<b>2</b> |\t3.00 |\t11.0 |\t2.0 |\tMale\t| <code>False</code> |\n",
    "|<b>3</b> |\t6.00 |\t8.0  |\t44.0|\tMale\t| <code>True</code> |\n",
    "|<b>4</b> |\t5.30 |\t12.0 |\t7.0 |\tMale | <code>True</code> |\n",
    "|<b>5</b> |\t8.75 |\t16.0 |\t9.0 |\tMale | <code>True</code>|\n",
    "\n",
    "Typically a **dataset** is organized data as a rectangular array, with **variables** in **columns** and **observations** in **rows**. \n",
    "\n",
    "A **variable** (or **field**, or **attribute**) is a characteristic of each individual in the dataset. In this case, four companies are represented by four variables. An **observation** (or **case**, or **record**) is a collection of all variable values for an individual of the dataset. As you can see that the example above contains 6 observations.\n",
    "\n",
    "### Types of variables <a id=\"subsection4.2\"></a>\n",
    "You may notice that in the dataset above, we usually have two different variable types: \n",
    "1. **Numerical data**: wages, years of education and working experience\n",
    "2. **Categorical data**: gender, and marriage status\n",
    "\n",
    "There may be other types of variables, such as strings (like names), or dates that make the dataset into a time series.\n",
    "\n",
    "In Python and many other programming languages, the Boolean status <code>True</code> has a numeric value <code>1</code>, and <code>False</code> has a value of <code>0</code>. The numeric values can be obtained by data type conversions, as shown by the code below. "
   ]
  },
  {
   "cell_type": "code",
   "execution_count": 2,
   "metadata": {
    "scrolled": true
   },
   "outputs": [
    {
     "name": "stdout",
     "output_type": "stream",
     "text": [
      "1\n",
      "0\n"
     ]
    }
   ],
   "source": [
    "print(int(True))    # Convert True to its numeric value\n",
    "print(int(False))   # Convert False to its numeric value"
   ]
  },
  {
   "cell_type": "markdown",
   "metadata": {},
   "source": [
    "## Pandas for data analysis <a id=\"section5\"></a>\n",
    "\n",
    "Pandas is a newer package built on top of NumPy, and provides an efficient implementation of a <code>DataFrame</code> data structure. <code>DataFrame</code> objects are essentially multidimensional arrays with attached row and column labels, and often with heterogeneous types and/or missing data. Besides offering a convenient storage interface for labeled data, Pandas implements a number of powerful data operations familiar to users of both database frameworks and spreadsheet programs. In this lecture, we will introduce two data types imported from the Pandas package: <code>DataFrame</code> as an analog of two-dimensional arrays, and <code>Series</code> as an analog of one-dimensional arrays.\n",
    "\n",
    "### The <code>pandas.Series</code> data structure <a id=\"subsection5.1\"></a>\n",
    "#### Create a <code>pandas.Series</code> object\n",
    "A <code>pandas.Series</code> is a one-dimensional array of **indexed data**. It can be created from another one-dimensional array-like object, such as a <code>list</code> or a NumPy array. "
   ]
  },
  {
   "cell_type": "code",
   "execution_count": 3,
   "metadata": {
    "scrolled": true
   },
   "outputs": [
    {
     "data": {
      "text/plain": [
       "0    3.10\n",
       "1    3.24\n",
       "2    3.00\n",
       "3    6.00\n",
       "4    5.30\n",
       "5    8.75\n",
       "dtype: float64"
      ]
     },
     "execution_count": 3,
     "metadata": {},
     "output_type": "execute_result"
    }
   ],
   "source": [
    "wage = pd.Series([3.10, 3.24, 3.00, 6.00, 5.30, 8.75])\n",
    "wage"
   ]
  },
  {
   "cell_type": "code",
   "execution_count": 4,
   "metadata": {
    "scrolled": true
   },
   "outputs": [
    {
     "data": {
      "text/plain": [
       "0    11.0\n",
       "1    12.0\n",
       "2    11.0\n",
       "3     8.0\n",
       "4    12.0\n",
       "5    16.0\n",
       "dtype: float64"
      ]
     },
     "execution_count": 4,
     "metadata": {},
     "output_type": "execute_result"
    }
   ],
   "source": [
    "educ = pd.Series(np.array([11.0, 12.0, 11.0, 8.0, 12.0, 16.0]))\n",
    "educ"
   ]
  },
  {
   "cell_type": "markdown",
   "metadata": {},
   "source": [
    "#### Values and indices of <code>pandas.Series</code> objects\n",
    "It can be seen from the outputs above, the <code>pandas.Series</code> wraps both a sequence of values and a sequence of indices, which can be accessed by the attributes <code>values</code> and <code>index</code>."
   ]
  },
  {
   "cell_type": "code",
   "execution_count": 5,
   "metadata": {
    "scrolled": true
   },
   "outputs": [
    {
     "data": {
      "text/plain": [
       "array([3.1 , 3.24, 3.  , 6.  , 5.3 , 8.75])"
      ]
     },
     "execution_count": 5,
     "metadata": {},
     "output_type": "execute_result"
    }
   ],
   "source": [
    "wage.values         # The values are formated as a NumPy array"
   ]
  },
  {
   "cell_type": "code",
   "execution_count": 6,
   "metadata": {},
   "outputs": [
    {
     "data": {
      "text/plain": [
       "RangeIndex(start=0, stop=6, step=1)"
      ]
     },
     "execution_count": 6,
     "metadata": {},
     "output_type": "execute_result"
    }
   ],
   "source": [
    "wage.index          # The data type of index is RangeIndex by default"
   ]
  },
  {
   "cell_type": "markdown",
   "metadata": {},
   "source": [
    "Notice that the <code>values</code> attribute gives all values as a NumPy array, and as default, the <code>index</code> attribute gives all integer indices as a <code>RangeIndex</code> type object, which is very similar to the <code>range</code> type data structure. \n",
    "\n",
    "Besides default case, indices of a <code>pandas.Sereis</code> object may also be other numeric values or strings. They can be specified by keyword argument <code>index</code> when calling the <code>pandas.Series()</code> function, as shown by the following example."
   ]
  },
  {
   "cell_type": "code",
   "execution_count": 7,
   "metadata": {
    "scrolled": true
   },
   "outputs": [
    {
     "data": {
      "text/plain": [
       "Mary      2.0\n",
       "Ann      22.0\n",
       "John      2.0\n",
       "David    44.0\n",
       "Frank     7.0\n",
       "Ben       9.0\n",
       "dtype: float64"
      ]
     },
     "execution_count": 7,
     "metadata": {},
     "output_type": "execute_result"
    }
   ],
   "source": [
    "index = ['Mary', 'Ann', 'John', 'David', 'Frank', 'Ben']\n",
    "exper = pd.Series([2.0, 22.0, 2.0, 44.0, 7.0, 9.0],\n",
    "                  index=index)  # Specify series indices\n",
    "\n",
    "exper"
   ]
  },
  {
   "cell_type": "code",
   "execution_count": 8,
   "metadata": {
    "scrolled": true
   },
   "outputs": [
    {
     "data": {
      "text/plain": [
       "array([ 2., 22.,  2., 44.,  7.,  9.])"
      ]
     },
     "execution_count": 8,
     "metadata": {},
     "output_type": "execute_result"
    }
   ],
   "source": [
    "exper.values"
   ]
  },
  {
   "cell_type": "code",
   "execution_count": 9,
   "metadata": {},
   "outputs": [
    {
     "data": {
      "text/plain": [
       "Index(['Mary', 'Ann', 'John', 'David', 'Frank', 'Ben'], dtype='object')"
      ]
     },
     "execution_count": 9,
     "metadata": {},
     "output_type": "execute_result"
    }
   ],
   "source": [
    "exper.index"
   ]
  },
  {
   "cell_type": "markdown",
   "metadata": {},
   "source": [
    "#### Indexing and slicing of <code>pandas.Series</code> objects via brackets <code>[]</code>\n",
    "\n",
    "Items in a <code>pandas.Series</code> object can be accessed via two sets of indexing systems:\n",
    "- **Label based indices**, which can be retrieved via the <code>index</code> attribute of the series. The label-based indices can be either integers, or strings.\n",
    "- **Integer-position based indices**, which uses integers 0, 1, 2, ..., to mark the position of each item. \n",
    "\n",
    "<img src=\"https://github.com/XiongPengNUS/test/blob/master/Screen%20Shot%202020-06-18%20at%2012.21.24%20PM.png?raw=true\" width=600>\n",
    "\n",
    "As the default case, the label based indices are the same as the integer-position based indices. You may notice that it is very similar to a <code>list</code> type data structure, so we can access items in a series by the same indexing and slicing syntax as the <code>list</code> type objects."
   ]
  },
  {
   "cell_type": "code",
   "execution_count": 10,
   "metadata": {
    "scrolled": true
   },
   "outputs": [
    {
     "name": "stdout",
     "output_type": "stream",
     "text": [
      "3.0 \n",
      "\n",
      "0    3.10\n",
      "1    3.24\n",
      "2    3.00\n",
      "dtype: float64 \n",
      "\n",
      "4    5.30\n",
      "5    8.75\n",
      "dtype: float64\n"
     ]
    }
   ],
   "source": [
    "print(wage[2], '\\n')    # Print the third item of the series\n",
    "print(wage[:3], '\\n')   # Print the first three items in the series\n",
    "print(wage[-2:])        # Print the last two items in the series"
   ]
  },
  {
   "cell_type": "markdown",
   "metadata": {},
   "source": [
    "The indices formated as a <code>list</code> or an array can also be used to access multiple items in a series."
   ]
  },
  {
   "cell_type": "code",
   "execution_count": 11,
   "metadata": {},
   "outputs": [
    {
     "name": "stdout",
     "output_type": "stream",
     "text": [
      "3     8.0\n",
      "2    11.0\n",
      "0    11.0\n",
      "dtype: float64 \n",
      "\n",
      "1    12.0\n",
      "dtype: float64\n"
     ]
    }
   ],
   "source": [
    "print(educ[[3, 2, 0]], '\\n')\n",
    "print(educ[[1]])"
   ]
  },
  {
   "cell_type": "markdown",
   "metadata": {},
   "source": [
    "For the variable <code>exper</code>, the label-based indices are user-specified, so they are different from the integer-position based indices. For such cases, the label-based indices are similar to Python dictionaries, so the indexing syntax is also similar to <code>dict</code> type objects. "
   ]
  },
  {
   "cell_type": "code",
   "execution_count": 12,
   "metadata": {},
   "outputs": [
    {
     "name": "stdout",
     "output_type": "stream",
     "text": [
      "2.0\n",
      "22.0\n"
     ]
    }
   ],
   "source": [
    "print(exper['John'])\n",
    "print(exper['Ann'])"
   ]
  },
  {
   "cell_type": "markdown",
   "metadata": {},
   "source": [
    "Please note that Python dictionaries do not support slicing syntax to retrieve multiple items, but the slicing expressions of indices can be used in series to access multiple items. "
   ]
  },
  {
   "cell_type": "code",
   "execution_count": 13,
   "metadata": {},
   "outputs": [
    {
     "name": "stdout",
     "output_type": "stream",
     "text": [
      "John      2.0\n",
      "David    44.0\n",
      "Frank     7.0\n",
      "Ben       9.0\n",
      "dtype: float64 \n",
      "\n",
      "Mary     2.0\n",
      "Ann     22.0\n",
      "dtype: float64 \n",
      "\n",
      "John     2.0\n",
      "Ann     22.0\n",
      "dtype: float64\n"
     ]
    }
   ],
   "source": [
    "print(exper['John':], '\\n')\n",
    "print(exper[:'Ann'], '\\n')\n",
    "print(exper[['John', 'Ann']])"
   ]
  },
  {
   "cell_type": "markdown",
   "metadata": {},
   "source": [
    "<div class=\"alert alert-block alert-danger\">\n",
    "<b>Notes</b>:  In the slicing expressions for label based indices, the item indexed by <b>stop</b> are included in the selection. This is different from the list style slicing syntax we learned before. \n",
    "</div>\n",
    "\n",
    "The <code>list</code> style indexing and slicing expressions can also be used to select items according to the integer-position based indices. "
   ]
  },
  {
   "cell_type": "code",
   "execution_count": 14,
   "metadata": {
    "scrolled": true
   },
   "outputs": [
    {
     "name": "stdout",
     "output_type": "stream",
     "text": [
      "44.0 \n",
      "\n",
      "Mary     2.0\n",
      "Ann     22.0\n",
      "dtype: float64 \n",
      "\n",
      "David    44.0\n",
      "Frank     7.0\n",
      "Ben       9.0\n",
      "dtype: float64 \n",
      "\n",
      "John     2.0\n",
      "Mary     2.0\n",
      "Ann     22.0\n",
      "dtype: float64\n"
     ]
    }
   ],
   "source": [
    "print(exper[3], '\\n')       # Print the fourth item \n",
    "print(exper[:2], '\\n')      # Print the first two items \n",
    "print(exper[-3:], '\\n')     # Print the last three items \n",
    "print(exper[[2, 0, 1]])     # Print items with given integer indices"
   ]
  },
  {
   "cell_type": "markdown",
   "metadata": {},
   "source": [
    "From examples above, we can summarize the syntax of indexing and slicing via the square brackets <code>[]</code> as follows:\n",
    "- If the label based indices are the same as the integer-position based indices (default cases), then the <code>list</code> style syntax is always used to access series items. \n",
    "- If the label base indices are different from the default integer-position based indices:\n",
    "    - If the indices are given as an **integer**, a list or a slicing expression of **integers**, then the <code>list</code> style syntax (integer-position based indices) is used, where the <code>stop</code> index is excluded from the selection.\n",
    "    - If the indices are given as a **label**, a list or a slicing expression of **labels**, then the indexing or slicing expressions refer to the label-based indices, where the <code>stop</code> index is included in the selection. \n",
    "\n",
    "\n",
    "#### Indexers: <code>loc[]</code> and <code>iloc[]</code>\n",
    "The label based and integer-position based indexing schemes could be confusing sometimes because they are both placed in the square brackets <code>[]</code>. In order to avoid such confusion, Pandas provides some special indexer attributes that explicitly indicate which indexing scheme we are using. Among these special indexers, <code>loc[]</code> is aimed for label based indexing and slicing expressions. "
   ]
  },
  {
   "cell_type": "code",
   "execution_count": 15,
   "metadata": {
    "scrolled": false
   },
   "outputs": [
    {
     "name": "stdout",
     "output_type": "stream",
     "text": [
      "22.0 \n",
      "\n",
      "Frank    7.0\n",
      "Ben      9.0\n",
      "dtype: float64 \n",
      "\n",
      "Mary    2.0\n",
      "John    2.0\n",
      "dtype: float64 \n",
      "\n",
      "Mary     2.0\n",
      "John     2.0\n",
      "Frank    7.0\n",
      "dtype: float64\n"
     ]
    }
   ],
   "source": [
    "print(exper.loc['Ann'], '\\n')\n",
    "print(exper.loc['Frank':], '\\n')\n",
    "print(exper.loc[['Mary', 'John']], '\\n')\n",
    "print(exper.loc[::2])"
   ]
  },
  {
   "cell_type": "markdown",
   "metadata": {},
   "source": [
    "The integer-position based indexing and slicing expressions can be specified by the <code>iloc[]</code> indexer."
   ]
  },
  {
   "cell_type": "code",
   "execution_count": 16,
   "metadata": {
    "scrolled": true
   },
   "outputs": [
    {
     "name": "stdout",
     "output_type": "stream",
     "text": [
      "22.0 \n",
      "\n",
      "Frank    7.0\n",
      "Ben      9.0\n",
      "dtype: float64 \n",
      "\n",
      "Mary    2.0\n",
      "John    2.0\n",
      "dtype: float64 \n",
      "\n",
      "Mary     2.0\n",
      "John     2.0\n",
      "Frank    7.0\n",
      "dtype: float64\n"
     ]
    }
   ],
   "source": [
    "print(exper.iloc[1], '\\n')\n",
    "print(exper.iloc[4:], '\\n')\n",
    "print(exper.iloc[[0, 2]], '\\n')\n",
    "print(exper.iloc[::2])"
   ]
  },
  {
   "cell_type": "markdown",
   "metadata": {},
   "source": [
    "To sum up, the syntax of indexers <code>loc[]</code> and <code>iloc[]</code> is much more explicit and straightforward:\n",
    "- The indexer <code>loc[]</code> is for label based indices, the <code>stop</code> index is inclusive.\n",
    "- The indexer <code>iloc[]</code> is for integer-position based indices, the <code>stop</code> index is exclusive. \n",
    "\n",
    "<div class=\"alert alert-block alert-warning\">\n",
    "<b>Coding Style</b>:  One guiding principle of Python code is that \"explicit is better than implicit.\" The explicit nature of <b>loc</b> and <b>iloc</b> make them very useful in maintaining clean and readable code; especially in the case of integer indexes.\n",
    "</div>\n",
    "\n",
    "Examples above show that the label based indices and integer-position based indices can be explicitly referred to by the <code>loc[]</code> and <code>iloc[]</code> indexers. \n",
    "\n",
    "In cases where the label based indices are exactly the same as the integer-position based indices, please be very careful that the <code>stop</code> index is included in the <code>loc</code> slicing expression but excluded from the <code>iloc</code> slicing expression. "
   ]
  },
  {
   "cell_type": "code",
   "execution_count": 17,
   "metadata": {},
   "outputs": [
    {
     "name": "stdout",
     "output_type": "stream",
     "text": [
      "0    3.10\n",
      "1    3.24\n",
      "2    3.00\n",
      "dtype: float64 \n",
      "\n",
      "0    3.10\n",
      "1    3.24\n",
      "dtype: float64\n"
     ]
    }
   ],
   "source": [
    "print(wage.loc[:2], '\\n')   # Index 2 is included\n",
    "print(wage.iloc[:2])        # Index 2 is excluded"
   ]
  },
  {
   "cell_type": "markdown",
   "metadata": {},
   "source": [
    "### The <code>pandas.DataFrame</code> data structure <a id=\"subsection5.2\"></a>\n",
    "\n",
    "The next fundamental structure in Pandas is the <code>pandas.DataFrame</code>. Like the <code>pandas.Series</code> object discussed in the previous section, the <code>pandas.DataFrame</code> object can be thought of either as a generalization of a NumPy two-dimensional array, or as a specialization of a Python dictionary.\n",
    "\n",
    "#### Create a <code>pandas.DataFrame</code> object\n",
    "A <code>pandas.DataFrame</code> object can be created from a dictionary, as shown by the example below."
   ]
  },
  {
   "cell_type": "code",
   "execution_count": 18,
   "metadata": {
    "scrolled": true
   },
   "outputs": [
    {
     "data": {
      "text/html": [
       "<div>\n",
       "<style scoped>\n",
       "    .dataframe tbody tr th:only-of-type {\n",
       "        vertical-align: middle;\n",
       "    }\n",
       "\n",
       "    .dataframe tbody tr th {\n",
       "        vertical-align: top;\n",
       "    }\n",
       "\n",
       "    .dataframe thead th {\n",
       "        text-align: right;\n",
       "    }\n",
       "</style>\n",
       "<table border=\"1\" class=\"dataframe\">\n",
       "  <thead>\n",
       "    <tr style=\"text-align: right;\">\n",
       "      <th></th>\n",
       "      <th>wage</th>\n",
       "      <th>educ</th>\n",
       "      <th>exper</th>\n",
       "      <th>gender</th>\n",
       "      <th>married</th>\n",
       "    </tr>\n",
       "  </thead>\n",
       "  <tbody>\n",
       "    <tr>\n",
       "      <th>0</th>\n",
       "      <td>3.10</td>\n",
       "      <td>11.0</td>\n",
       "      <td>2.0</td>\n",
       "      <td>Female</td>\n",
       "      <td>False</td>\n",
       "    </tr>\n",
       "    <tr>\n",
       "      <th>1</th>\n",
       "      <td>3.24</td>\n",
       "      <td>12.0</td>\n",
       "      <td>22.0</td>\n",
       "      <td>Female</td>\n",
       "      <td>True</td>\n",
       "    </tr>\n",
       "    <tr>\n",
       "      <th>2</th>\n",
       "      <td>3.00</td>\n",
       "      <td>11.0</td>\n",
       "      <td>2.0</td>\n",
       "      <td>Male</td>\n",
       "      <td>False</td>\n",
       "    </tr>\n",
       "    <tr>\n",
       "      <th>3</th>\n",
       "      <td>6.00</td>\n",
       "      <td>8.0</td>\n",
       "      <td>44.0</td>\n",
       "      <td>Male</td>\n",
       "      <td>True</td>\n",
       "    </tr>\n",
       "    <tr>\n",
       "      <th>4</th>\n",
       "      <td>5.30</td>\n",
       "      <td>12.0</td>\n",
       "      <td>7.0</td>\n",
       "      <td>Male</td>\n",
       "      <td>True</td>\n",
       "    </tr>\n",
       "    <tr>\n",
       "      <th>5</th>\n",
       "      <td>8.75</td>\n",
       "      <td>16.0</td>\n",
       "      <td>9.0</td>\n",
       "      <td>Male</td>\n",
       "      <td>True</td>\n",
       "    </tr>\n",
       "  </tbody>\n",
       "</table>\n",
       "</div>"
      ],
      "text/plain": [
       "   wage  educ  exper  gender  married\n",
       "0  3.10  11.0    2.0  Female    False\n",
       "1  3.24  12.0   22.0  Female     True\n",
       "2  3.00  11.0    2.0    Male    False\n",
       "3  6.00   8.0   44.0    Male     True\n",
       "4  5.30  12.0    7.0    Male     True\n",
       "5  8.75  16.0    9.0    Male     True"
      ]
     },
     "execution_count": 18,
     "metadata": {},
     "output_type": "execute_result"
    }
   ],
   "source": [
    "data_dict = {'wage': [3.10, 3.24, 3.00, 6.00, 5.30, 8.75],\n",
    "             'educ': [11.0, 12.0, 11.0, 8.0, 12.0, 16.0],\n",
    "             'exper': [2.0, 22.0, 2.0, 44.0, 7.0, 9.0],\n",
    "             'gender': ['Female', 'Female', 'Male', 'Male', 'Male', 'Male'],\n",
    "             'married': [False, True, False, True, True, True]}\n",
    "\n",
    "data_frame = pd.DataFrame(data_dict)    # Create a DataFrame object\n",
    "data_frame                              # Display the DataFrame"
   ]
  },
  {
   "cell_type": "markdown",
   "metadata": {},
   "source": [
    "It can be seen that the <code>DataFrame</code> object is created by the function <code>DataFrame()</code> from the <code>dict</code> type variable <code>data_dict</code>, where the keys are the names of variables, and the value of each key is a list containing the corresponding variable values. You may verify the data types of these two variables by the following code."
   ]
  },
  {
   "cell_type": "code",
   "execution_count": 19,
   "metadata": {
    "scrolled": true
   },
   "outputs": [
    {
     "data": {
      "text/plain": [
       "dict"
      ]
     },
     "execution_count": 19,
     "metadata": {},
     "output_type": "execute_result"
    }
   ],
   "source": [
    "type(data_dict)"
   ]
  },
  {
   "cell_type": "code",
   "execution_count": 20,
   "metadata": {
    "scrolled": true
   },
   "outputs": [
    {
     "data": {
      "text/plain": [
       "pandas.core.frame.DataFrame"
      ]
     },
     "execution_count": 20,
     "metadata": {},
     "output_type": "execute_result"
    }
   ],
   "source": [
    "type(data_frame)"
   ]
  },
  {
   "cell_type": "markdown",
   "metadata": {},
   "source": [
    "Similar to series, we define \"column index\" and \"row index\" as the following graph, and they can be accessed by attributes <code>columns</code> and <code>index</code>, respectively. \n",
    "\n",
    "<img src=\"https://github.com/XiongPengNUS/test/blob/master/Screen%20Shot%202020-06-20%20at%206.05.58%20PM.png?raw=true\" width=500>"
   ]
  },
  {
   "cell_type": "code",
   "execution_count": 21,
   "metadata": {},
   "outputs": [
    {
     "data": {
      "text/plain": [
       "Index(['wage', 'educ', 'exper', 'gender', 'married'], dtype='object')"
      ]
     },
     "execution_count": 21,
     "metadata": {},
     "output_type": "execute_result"
    }
   ],
   "source": [
    "data_frame.columns"
   ]
  },
  {
   "cell_type": "code",
   "execution_count": 22,
   "metadata": {
    "scrolled": true
   },
   "outputs": [
    {
     "data": {
      "text/plain": [
       "RangeIndex(start=0, stop=6, step=1)"
      ]
     },
     "execution_count": 22,
     "metadata": {},
     "output_type": "execute_result"
    }
   ],
   "source": [
    "data_frame.index"
   ]
  },
  {
   "cell_type": "markdown",
   "metadata": {},
   "source": [
    "It can be seen that the <code>index</code> attribute of <code>data_frame</code> has the same default values as the series. The row indices can also be specified by the keyword argument <code>index</code> when calling the <code>pandas.DataFrame()</code> function in creating the <code>pandas.DataFrame</code> object. "
   ]
  },
  {
   "cell_type": "code",
   "execution_count": 23,
   "metadata": {},
   "outputs": [
    {
     "data": {
      "text/html": [
       "<div>\n",
       "<style scoped>\n",
       "    .dataframe tbody tr th:only-of-type {\n",
       "        vertical-align: middle;\n",
       "    }\n",
       "\n",
       "    .dataframe tbody tr th {\n",
       "        vertical-align: top;\n",
       "    }\n",
       "\n",
       "    .dataframe thead th {\n",
       "        text-align: right;\n",
       "    }\n",
       "</style>\n",
       "<table border=\"1\" class=\"dataframe\">\n",
       "  <thead>\n",
       "    <tr style=\"text-align: right;\">\n",
       "      <th></th>\n",
       "      <th>wage</th>\n",
       "      <th>educ</th>\n",
       "      <th>exper</th>\n",
       "      <th>gender</th>\n",
       "      <th>married</th>\n",
       "    </tr>\n",
       "  </thead>\n",
       "  <tbody>\n",
       "    <tr>\n",
       "      <th>Mary</th>\n",
       "      <td>3.10</td>\n",
       "      <td>11.0</td>\n",
       "      <td>2.0</td>\n",
       "      <td>Female</td>\n",
       "      <td>False</td>\n",
       "    </tr>\n",
       "    <tr>\n",
       "      <th>Ann</th>\n",
       "      <td>3.24</td>\n",
       "      <td>12.0</td>\n",
       "      <td>22.0</td>\n",
       "      <td>Female</td>\n",
       "      <td>True</td>\n",
       "    </tr>\n",
       "    <tr>\n",
       "      <th>John</th>\n",
       "      <td>3.00</td>\n",
       "      <td>11.0</td>\n",
       "      <td>2.0</td>\n",
       "      <td>Male</td>\n",
       "      <td>False</td>\n",
       "    </tr>\n",
       "    <tr>\n",
       "      <th>David</th>\n",
       "      <td>6.00</td>\n",
       "      <td>8.0</td>\n",
       "      <td>44.0</td>\n",
       "      <td>Male</td>\n",
       "      <td>True</td>\n",
       "    </tr>\n",
       "    <tr>\n",
       "      <th>Frank</th>\n",
       "      <td>5.30</td>\n",
       "      <td>12.0</td>\n",
       "      <td>7.0</td>\n",
       "      <td>Male</td>\n",
       "      <td>True</td>\n",
       "    </tr>\n",
       "    <tr>\n",
       "      <th>Ben</th>\n",
       "      <td>8.75</td>\n",
       "      <td>16.0</td>\n",
       "      <td>9.0</td>\n",
       "      <td>Male</td>\n",
       "      <td>True</td>\n",
       "    </tr>\n",
       "  </tbody>\n",
       "</table>\n",
       "</div>"
      ],
      "text/plain": [
       "       wage  educ  exper  gender  married\n",
       "Mary   3.10  11.0    2.0  Female    False\n",
       "Ann    3.24  12.0   22.0  Female     True\n",
       "John   3.00  11.0    2.0    Male    False\n",
       "David  6.00   8.0   44.0    Male     True\n",
       "Frank  5.30  12.0    7.0    Male     True\n",
       "Ben    8.75  16.0    9.0    Male     True"
      ]
     },
     "execution_count": 23,
     "metadata": {},
     "output_type": "execute_result"
    }
   ],
   "source": [
    "index = ['Mary', 'Ann', 'John', 'David', 'Frank', 'Ben']\n",
    "data_frame_new = pd.DataFrame(data_dict, index=index)  \n",
    "\n",
    "data_frame_new"
   ]
  },
  {
   "cell_type": "markdown",
   "metadata": {},
   "source": [
    "The row indices are thus different from the default values, as shown by the following code."
   ]
  },
  {
   "cell_type": "code",
   "execution_count": 24,
   "metadata": {},
   "outputs": [
    {
     "data": {
      "text/plain": [
       "Index(['Mary', 'Ann', 'John', 'David', 'Frank', 'Ben'], dtype='object')"
      ]
     },
     "execution_count": 24,
     "metadata": {},
     "output_type": "execute_result"
    }
   ],
   "source": [
    "data_frame_new.index"
   ]
  },
  {
   "cell_type": "markdown",
   "metadata": {},
   "source": [
    "#### Accessing columns and rows of <code>pandas.DataFrame</code> via brackets <code>[]</code>\n",
    "\n",
    "Similar to other array-like data types, like <code>list</code>, <code>dict</code>, and NumPy arrays, a part of the data frame can be selected simply by placing the indices in the square brackets <code>[]</code>. Since the data frame object is an analog of a two-dimensional array, we need to explicitly indicate whether the given indices are for the rows or columns.\n",
    "\n",
    "<div class=\"alert alert-block alert-danger\">\n",
    "<b>Notes:</b> The syntax of using square bracket indices to access row or columns is different:\n",
    "        <li> A single column index or a list of multiple column indices is used to access <b>columns</b> by the label based indices.</li>\n",
    "        <li> A slicing expression is used to access <b>rows</b>. </li>\n",
    "</div>\n",
    "\n",
    "The following code demonstrates accessing a column via its label-based index. Please note that the data type of the selected column is <code>pandas.Series</code>."
   ]
  },
  {
   "cell_type": "code",
   "execution_count": 25,
   "metadata": {
    "scrolled": false
   },
   "outputs": [
    {
     "data": {
      "text/plain": [
       "0    3.10\n",
       "1    3.24\n",
       "2    3.00\n",
       "3    6.00\n",
       "4    5.30\n",
       "5    8.75\n",
       "Name: wage, dtype: float64"
      ]
     },
     "execution_count": 25,
     "metadata": {},
     "output_type": "execute_result"
    }
   ],
   "source": [
    "wage = data_frame['wage']              # Access one column\n",
    "wage"
   ]
  },
  {
   "cell_type": "code",
   "execution_count": 26,
   "metadata": {},
   "outputs": [
    {
     "data": {
      "text/plain": [
       "pandas.core.series.Series"
      ]
     },
     "execution_count": 26,
     "metadata": {},
     "output_type": "execute_result"
    }
   ],
   "source": [
    "type(wage)"
   ]
  },
  {
   "cell_type": "markdown",
   "metadata": {},
   "source": [
    "We may also take two columns at the same time by placing column indices in the same list (or other array-like objects). The data type of the result is <code>pandas.DataFrame</code>, no matter how many columns you are accessing. "
   ]
  },
  {
   "cell_type": "code",
   "execution_count": 27,
   "metadata": {
    "scrolled": true
   },
   "outputs": [
    {
     "data": {
      "text/html": [
       "<div>\n",
       "<style scoped>\n",
       "    .dataframe tbody tr th:only-of-type {\n",
       "        vertical-align: middle;\n",
       "    }\n",
       "\n",
       "    .dataframe tbody tr th {\n",
       "        vertical-align: top;\n",
       "    }\n",
       "\n",
       "    .dataframe thead th {\n",
       "        text-align: right;\n",
       "    }\n",
       "</style>\n",
       "<table border=\"1\" class=\"dataframe\">\n",
       "  <thead>\n",
       "    <tr style=\"text-align: right;\">\n",
       "      <th></th>\n",
       "      <th>educ</th>\n",
       "      <th>exper</th>\n",
       "    </tr>\n",
       "  </thead>\n",
       "  <tbody>\n",
       "    <tr>\n",
       "      <th>0</th>\n",
       "      <td>11.0</td>\n",
       "      <td>2.0</td>\n",
       "    </tr>\n",
       "    <tr>\n",
       "      <th>1</th>\n",
       "      <td>12.0</td>\n",
       "      <td>22.0</td>\n",
       "    </tr>\n",
       "    <tr>\n",
       "      <th>2</th>\n",
       "      <td>11.0</td>\n",
       "      <td>2.0</td>\n",
       "    </tr>\n",
       "    <tr>\n",
       "      <th>3</th>\n",
       "      <td>8.0</td>\n",
       "      <td>44.0</td>\n",
       "    </tr>\n",
       "    <tr>\n",
       "      <th>4</th>\n",
       "      <td>12.0</td>\n",
       "      <td>7.0</td>\n",
       "    </tr>\n",
       "    <tr>\n",
       "      <th>5</th>\n",
       "      <td>16.0</td>\n",
       "      <td>9.0</td>\n",
       "    </tr>\n",
       "  </tbody>\n",
       "</table>\n",
       "</div>"
      ],
      "text/plain": [
       "   educ  exper\n",
       "0  11.0    2.0\n",
       "1  12.0   22.0\n",
       "2  11.0    2.0\n",
       "3   8.0   44.0\n",
       "4  12.0    7.0\n",
       "5  16.0    9.0"
      ]
     },
     "execution_count": 27,
     "metadata": {},
     "output_type": "execute_result"
    }
   ],
   "source": [
    "skills = data_frame[['educ', 'exper']]  # Access two columns\n",
    "skills"
   ]
  },
  {
   "cell_type": "code",
   "execution_count": 28,
   "metadata": {},
   "outputs": [
    {
     "data": {
      "text/plain": [
       "pandas.core.frame.DataFrame"
      ]
     },
     "execution_count": 28,
     "metadata": {},
     "output_type": "execute_result"
    }
   ],
   "source": [
    "type(skills)"
   ]
  },
  {
   "cell_type": "markdown",
   "metadata": {},
   "source": [
    "Rows of data frames can be selected via slicing expressions of integer-position or label-based indices. "
   ]
  },
  {
   "cell_type": "code",
   "execution_count": 29,
   "metadata": {
    "scrolled": true
   },
   "outputs": [
    {
     "data": {
      "text/html": [
       "<div>\n",
       "<style scoped>\n",
       "    .dataframe tbody tr th:only-of-type {\n",
       "        vertical-align: middle;\n",
       "    }\n",
       "\n",
       "    .dataframe tbody tr th {\n",
       "        vertical-align: top;\n",
       "    }\n",
       "\n",
       "    .dataframe thead th {\n",
       "        text-align: right;\n",
       "    }\n",
       "</style>\n",
       "<table border=\"1\" class=\"dataframe\">\n",
       "  <thead>\n",
       "    <tr style=\"text-align: right;\">\n",
       "      <th></th>\n",
       "      <th>wage</th>\n",
       "      <th>educ</th>\n",
       "      <th>exper</th>\n",
       "      <th>gender</th>\n",
       "      <th>married</th>\n",
       "    </tr>\n",
       "  </thead>\n",
       "  <tbody>\n",
       "    <tr>\n",
       "      <th>John</th>\n",
       "      <td>3.0</td>\n",
       "      <td>11.0</td>\n",
       "      <td>2.0</td>\n",
       "      <td>Male</td>\n",
       "      <td>False</td>\n",
       "    </tr>\n",
       "  </tbody>\n",
       "</table>\n",
       "</div>"
      ],
      "text/plain": [
       "      wage  educ  exper gender  married\n",
       "John   3.0  11.0    2.0   Male    False"
      ]
     },
     "execution_count": 29,
     "metadata": {},
     "output_type": "execute_result"
    }
   ],
   "source": [
    "john = data_frame_new[2:3]\n",
    "john"
   ]
  },
  {
   "cell_type": "code",
   "execution_count": 30,
   "metadata": {
    "scrolled": true
   },
   "outputs": [
    {
     "data": {
      "text/html": [
       "<div>\n",
       "<style scoped>\n",
       "    .dataframe tbody tr th:only-of-type {\n",
       "        vertical-align: middle;\n",
       "    }\n",
       "\n",
       "    .dataframe tbody tr th {\n",
       "        vertical-align: top;\n",
       "    }\n",
       "\n",
       "    .dataframe thead th {\n",
       "        text-align: right;\n",
       "    }\n",
       "</style>\n",
       "<table border=\"1\" class=\"dataframe\">\n",
       "  <thead>\n",
       "    <tr style=\"text-align: right;\">\n",
       "      <th></th>\n",
       "      <th>wage</th>\n",
       "      <th>educ</th>\n",
       "      <th>exper</th>\n",
       "      <th>gender</th>\n",
       "      <th>married</th>\n",
       "    </tr>\n",
       "  </thead>\n",
       "  <tbody>\n",
       "    <tr>\n",
       "      <th>David</th>\n",
       "      <td>6.0</td>\n",
       "      <td>8.0</td>\n",
       "      <td>44.0</td>\n",
       "      <td>Male</td>\n",
       "      <td>True</td>\n",
       "    </tr>\n",
       "    <tr>\n",
       "      <th>Frank</th>\n",
       "      <td>5.3</td>\n",
       "      <td>12.0</td>\n",
       "      <td>7.0</td>\n",
       "      <td>Male</td>\n",
       "      <td>True</td>\n",
       "    </tr>\n",
       "  </tbody>\n",
       "</table>\n",
       "</div>"
      ],
      "text/plain": [
       "       wage  educ  exper gender  married\n",
       "David   6.0   8.0   44.0   Male     True\n",
       "Frank   5.3  12.0    7.0   Male     True"
      ]
     },
     "execution_count": 30,
     "metadata": {},
     "output_type": "execute_result"
    }
   ],
   "source": [
    "david = data_frame_new['David':'Frank']\n",
    "david"
   ]
  },
  {
   "cell_type": "markdown",
   "metadata": {},
   "source": [
    "It can be seen from the examples above that whether we select rows or columns is determined by the data type enclosed in the square brackets <code>[]</code>. You need to be extremely careful when using them. \n",
    "\n",
    "#### Indexers: <code>loc[]</code> and <code>iloc[]</code>\n",
    "\n",
    "Similar to the series cases, it is recommended to select data from <code>pandas.DataFrame</code> via the indexers <code>iloc[]</code> and <code>loc</code> because they are safer and more explicit compared with directly using the square brackets. The syntax of using these indexers is summarized in the following picture. \n",
    "\n",
    "<img src=\"https://github.com/XiongPengNUS/test/blob/master/Screen%20Shot%202020-06-17%20at%2011.37.37%20PM.png?raw=true\" width=600>\n",
    "\n",
    "\n",
    "Similar to series, we may also use the <code>iloc</code> syntax to access a subset of <code>pandas.DataFrame</code> through the integer-position based indices of rows and columns, regardless of the data type of indices, as shown by the following examples. "
   ]
  },
  {
   "cell_type": "code",
   "execution_count": 31,
   "metadata": {
    "scrolled": false
   },
   "outputs": [
    {
     "data": {
      "text/html": [
       "<div>\n",
       "<style scoped>\n",
       "    .dataframe tbody tr th:only-of-type {\n",
       "        vertical-align: middle;\n",
       "    }\n",
       "\n",
       "    .dataframe tbody tr th {\n",
       "        vertical-align: top;\n",
       "    }\n",
       "\n",
       "    .dataframe thead th {\n",
       "        text-align: right;\n",
       "    }\n",
       "</style>\n",
       "<table border=\"1\" class=\"dataframe\">\n",
       "  <thead>\n",
       "    <tr style=\"text-align: right;\">\n",
       "      <th></th>\n",
       "      <th>educ</th>\n",
       "      <th>exper</th>\n",
       "    </tr>\n",
       "  </thead>\n",
       "  <tbody>\n",
       "    <tr>\n",
       "      <th>1</th>\n",
       "      <td>12.0</td>\n",
       "      <td>22.0</td>\n",
       "    </tr>\n",
       "    <tr>\n",
       "      <th>2</th>\n",
       "      <td>11.0</td>\n",
       "      <td>2.0</td>\n",
       "    </tr>\n",
       "  </tbody>\n",
       "</table>\n",
       "</div>"
      ],
      "text/plain": [
       "   educ  exper\n",
       "1  12.0   22.0\n",
       "2  11.0    2.0"
      ]
     },
     "execution_count": 31,
     "metadata": {},
     "output_type": "execute_result"
    }
   ],
   "source": [
    "\"\"\"\n",
    "A subset containing two columns, and the 2nd and the 3rd rows\n",
    "The subset is accessed via iloc[]\n",
    "\"\"\"\n",
    "\n",
    "data_subset = data_frame.iloc[1:3, 1:3]\n",
    "data_subset "
   ]
  },
  {
   "cell_type": "markdown",
   "metadata": {},
   "source": [
    "The same <code>iloc[]</code> syntax can also be applied to cases where the row indices are different from the default integer indices."
   ]
  },
  {
   "cell_type": "code",
   "execution_count": 32,
   "metadata": {},
   "outputs": [
    {
     "data": {
      "text/html": [
       "<div>\n",
       "<style scoped>\n",
       "    .dataframe tbody tr th:only-of-type {\n",
       "        vertical-align: middle;\n",
       "    }\n",
       "\n",
       "    .dataframe tbody tr th {\n",
       "        vertical-align: top;\n",
       "    }\n",
       "\n",
       "    .dataframe thead th {\n",
       "        text-align: right;\n",
       "    }\n",
       "</style>\n",
       "<table border=\"1\" class=\"dataframe\">\n",
       "  <thead>\n",
       "    <tr style=\"text-align: right;\">\n",
       "      <th></th>\n",
       "      <th>educ</th>\n",
       "      <th>exper</th>\n",
       "    </tr>\n",
       "  </thead>\n",
       "  <tbody>\n",
       "    <tr>\n",
       "      <th>Ann</th>\n",
       "      <td>12.0</td>\n",
       "      <td>22.0</td>\n",
       "    </tr>\n",
       "    <tr>\n",
       "      <th>John</th>\n",
       "      <td>11.0</td>\n",
       "      <td>2.0</td>\n",
       "    </tr>\n",
       "  </tbody>\n",
       "</table>\n",
       "</div>"
      ],
      "text/plain": [
       "      educ  exper\n",
       "Ann   12.0   22.0\n",
       "John  11.0    2.0"
      ]
     },
     "execution_count": 32,
     "metadata": {},
     "output_type": "execute_result"
    }
   ],
   "source": [
    "\"\"\"\n",
    "A subset containing two columns, and the 2nd and the 3rd rows\n",
    "The subset is accessed via iloc[]\n",
    "\"\"\"\n",
    "\n",
    "data_new_subset = data_frame_new.iloc[1:3, 1:3]\n",
    "data_new_subset "
   ]
  },
  {
   "cell_type": "markdown",
   "metadata": {},
   "source": [
    "Likewise, the <code>loc[]</code> indexers select items via label-based indices."
   ]
  },
  {
   "cell_type": "code",
   "execution_count": 33,
   "metadata": {
    "scrolled": false
   },
   "outputs": [
    {
     "data": {
      "text/html": [
       "<div>\n",
       "<style scoped>\n",
       "    .dataframe tbody tr th:only-of-type {\n",
       "        vertical-align: middle;\n",
       "    }\n",
       "\n",
       "    .dataframe tbody tr th {\n",
       "        vertical-align: top;\n",
       "    }\n",
       "\n",
       "    .dataframe thead th {\n",
       "        text-align: right;\n",
       "    }\n",
       "</style>\n",
       "<table border=\"1\" class=\"dataframe\">\n",
       "  <thead>\n",
       "    <tr style=\"text-align: right;\">\n",
       "      <th></th>\n",
       "      <th>educ</th>\n",
       "      <th>exper</th>\n",
       "    </tr>\n",
       "  </thead>\n",
       "  <tbody>\n",
       "    <tr>\n",
       "      <th>1</th>\n",
       "      <td>12.0</td>\n",
       "      <td>22.0</td>\n",
       "    </tr>\n",
       "    <tr>\n",
       "      <th>2</th>\n",
       "      <td>11.0</td>\n",
       "      <td>2.0</td>\n",
       "    </tr>\n",
       "  </tbody>\n",
       "</table>\n",
       "</div>"
      ],
      "text/plain": [
       "   educ  exper\n",
       "1  12.0   22.0\n",
       "2  11.0    2.0"
      ]
     },
     "execution_count": 33,
     "metadata": {},
     "output_type": "execute_result"
    }
   ],
   "source": [
    "\"\"\"\n",
    "A subset containing two columns, and the 2nd and the 3rd rows\n",
    "The subset is accessed via loc[]\n",
    "\"\"\"\n",
    "\n",
    "data_subset = data_frame.loc[1:2, 'educ':'exper']\n",
    "data_subset "
   ]
  },
  {
   "cell_type": "markdown",
   "metadata": {},
   "source": [
    "<div class=\"alert alert-block alert-danger\">\n",
    "<b>Notes</b>: In the slicing expressions for the label based indices, the item indexed by <b>stop</b> are included in the selection. This is different from the <b>list</b> style syntax. \n",
    "</div>\n",
    "\n",
    "Some extra examples are provided below to demonstrate how to use <code>loc[]</code> when the row labels are not default integers."
   ]
  },
  {
   "cell_type": "code",
   "execution_count": 34,
   "metadata": {
    "scrolled": false
   },
   "outputs": [
    {
     "data": {
      "text/html": [
       "<div>\n",
       "<style scoped>\n",
       "    .dataframe tbody tr th:only-of-type {\n",
       "        vertical-align: middle;\n",
       "    }\n",
       "\n",
       "    .dataframe tbody tr th {\n",
       "        vertical-align: top;\n",
       "    }\n",
       "\n",
       "    .dataframe thead th {\n",
       "        text-align: right;\n",
       "    }\n",
       "</style>\n",
       "<table border=\"1\" class=\"dataframe\">\n",
       "  <thead>\n",
       "    <tr style=\"text-align: right;\">\n",
       "      <th></th>\n",
       "      <th>educ</th>\n",
       "      <th>exper</th>\n",
       "    </tr>\n",
       "  </thead>\n",
       "  <tbody>\n",
       "    <tr>\n",
       "      <th>John</th>\n",
       "      <td>11.0</td>\n",
       "      <td>2.0</td>\n",
       "    </tr>\n",
       "    <tr>\n",
       "      <th>David</th>\n",
       "      <td>8.0</td>\n",
       "      <td>44.0</td>\n",
       "    </tr>\n",
       "    <tr>\n",
       "      <th>Frank</th>\n",
       "      <td>12.0</td>\n",
       "      <td>7.0</td>\n",
       "    </tr>\n",
       "    <tr>\n",
       "      <th>Ben</th>\n",
       "      <td>16.0</td>\n",
       "      <td>9.0</td>\n",
       "    </tr>\n",
       "  </tbody>\n",
       "</table>\n",
       "</div>"
      ],
      "text/plain": [
       "       educ  exper\n",
       "John   11.0    2.0\n",
       "David   8.0   44.0\n",
       "Frank  12.0    7.0\n",
       "Ben    16.0    9.0"
      ]
     },
     "execution_count": 34,
     "metadata": {},
     "output_type": "execute_result"
    }
   ],
   "source": [
    "\"\"\"\n",
    "A subset containing two columns, and the 2nd and the 3rd rows\n",
    "The subset is accessed via loc[]\n",
    "\"\"\"\n",
    "\n",
    "data_new_subset = data_frame_new.loc['John':'Ben', \n",
    "                                     'educ':'exper']\n",
    "data_new_subset "
   ]
  },
  {
   "cell_type": "code",
   "execution_count": 35,
   "metadata": {
    "scrolled": false
   },
   "outputs": [
    {
     "data": {
      "text/html": [
       "<div>\n",
       "<style scoped>\n",
       "    .dataframe tbody tr th:only-of-type {\n",
       "        vertical-align: middle;\n",
       "    }\n",
       "\n",
       "    .dataframe tbody tr th {\n",
       "        vertical-align: top;\n",
       "    }\n",
       "\n",
       "    .dataframe thead th {\n",
       "        text-align: right;\n",
       "    }\n",
       "</style>\n",
       "<table border=\"1\" class=\"dataframe\">\n",
       "  <thead>\n",
       "    <tr style=\"text-align: right;\">\n",
       "      <th></th>\n",
       "      <th>educ</th>\n",
       "      <th>exper</th>\n",
       "    </tr>\n",
       "  </thead>\n",
       "  <tbody>\n",
       "    <tr>\n",
       "      <th>John</th>\n",
       "      <td>11.0</td>\n",
       "      <td>2.0</td>\n",
       "    </tr>\n",
       "    <tr>\n",
       "      <th>Ben</th>\n",
       "      <td>16.0</td>\n",
       "      <td>9.0</td>\n",
       "    </tr>\n",
       "  </tbody>\n",
       "</table>\n",
       "</div>"
      ],
      "text/plain": [
       "      educ  exper\n",
       "John  11.0    2.0\n",
       "Ben   16.0    9.0"
      ]
     },
     "execution_count": 35,
     "metadata": {},
     "output_type": "execute_result"
    }
   ],
   "source": [
    "\"\"\"\n",
    "A subset containing two columns, and the 2nd and the 3rd rows\n",
    "The subset is accessed via loc[]\n",
    "\"\"\"\n",
    "\n",
    "data_new_subset = data_frame_new.loc[['John', 'Ben'], \n",
    "                                     ['educ', 'exper']]\n",
    "data_new_subset "
   ]
  },
  {
   "cell_type": "markdown",
   "metadata": {},
   "source": [
    "If the column positions/labels are not specified, both <code>iloc[]</code> and <code>loc[]</code> take all columns as a default case. Alternatively, you can use <code>:</code> to select all columns/rows. Check the examples below."
   ]
  },
  {
   "cell_type": "code",
   "execution_count": 36,
   "metadata": {
    "scrolled": false
   },
   "outputs": [
    {
     "data": {
      "text/html": [
       "<div>\n",
       "<style scoped>\n",
       "    .dataframe tbody tr th:only-of-type {\n",
       "        vertical-align: middle;\n",
       "    }\n",
       "\n",
       "    .dataframe tbody tr th {\n",
       "        vertical-align: top;\n",
       "    }\n",
       "\n",
       "    .dataframe thead th {\n",
       "        text-align: right;\n",
       "    }\n",
       "</style>\n",
       "<table border=\"1\" class=\"dataframe\">\n",
       "  <thead>\n",
       "    <tr style=\"text-align: right;\">\n",
       "      <th></th>\n",
       "      <th>educ</th>\n",
       "      <th>gender</th>\n",
       "    </tr>\n",
       "  </thead>\n",
       "  <tbody>\n",
       "    <tr>\n",
       "      <th>0</th>\n",
       "      <td>11.0</td>\n",
       "      <td>Female</td>\n",
       "    </tr>\n",
       "    <tr>\n",
       "      <th>1</th>\n",
       "      <td>12.0</td>\n",
       "      <td>Female</td>\n",
       "    </tr>\n",
       "    <tr>\n",
       "      <th>2</th>\n",
       "      <td>11.0</td>\n",
       "      <td>Male</td>\n",
       "    </tr>\n",
       "    <tr>\n",
       "      <th>3</th>\n",
       "      <td>8.0</td>\n",
       "      <td>Male</td>\n",
       "    </tr>\n",
       "    <tr>\n",
       "      <th>4</th>\n",
       "      <td>12.0</td>\n",
       "      <td>Male</td>\n",
       "    </tr>\n",
       "    <tr>\n",
       "      <th>5</th>\n",
       "      <td>16.0</td>\n",
       "      <td>Male</td>\n",
       "    </tr>\n",
       "  </tbody>\n",
       "</table>\n",
       "</div>"
      ],
      "text/plain": [
       "   educ  gender\n",
       "0  11.0  Female\n",
       "1  12.0  Female\n",
       "2  11.0    Male\n",
       "3   8.0    Male\n",
       "4  12.0    Male\n",
       "5  16.0    Male"
      ]
     },
     "execution_count": 36,
     "metadata": {},
     "output_type": "execute_result"
    }
   ],
   "source": [
    "cols = data_frame.iloc[:, [1, 3]] \n",
    "cols"
   ]
  },
  {
   "cell_type": "code",
   "execution_count": 37,
   "metadata": {
    "scrolled": true
   },
   "outputs": [
    {
     "data": {
      "text/html": [
       "<div>\n",
       "<style scoped>\n",
       "    .dataframe tbody tr th:only-of-type {\n",
       "        vertical-align: middle;\n",
       "    }\n",
       "\n",
       "    .dataframe tbody tr th {\n",
       "        vertical-align: top;\n",
       "    }\n",
       "\n",
       "    .dataframe thead th {\n",
       "        text-align: right;\n",
       "    }\n",
       "</style>\n",
       "<table border=\"1\" class=\"dataframe\">\n",
       "  <thead>\n",
       "    <tr style=\"text-align: right;\">\n",
       "      <th></th>\n",
       "      <th>wage</th>\n",
       "      <th>educ</th>\n",
       "      <th>exper</th>\n",
       "      <th>gender</th>\n",
       "      <th>married</th>\n",
       "    </tr>\n",
       "  </thead>\n",
       "  <tbody>\n",
       "    <tr>\n",
       "      <th>John</th>\n",
       "      <td>3.00</td>\n",
       "      <td>11.0</td>\n",
       "      <td>2.0</td>\n",
       "      <td>Male</td>\n",
       "      <td>False</td>\n",
       "    </tr>\n",
       "    <tr>\n",
       "      <th>David</th>\n",
       "      <td>6.00</td>\n",
       "      <td>8.0</td>\n",
       "      <td>44.0</td>\n",
       "      <td>Male</td>\n",
       "      <td>True</td>\n",
       "    </tr>\n",
       "    <tr>\n",
       "      <th>Frank</th>\n",
       "      <td>5.30</td>\n",
       "      <td>12.0</td>\n",
       "      <td>7.0</td>\n",
       "      <td>Male</td>\n",
       "      <td>True</td>\n",
       "    </tr>\n",
       "    <tr>\n",
       "      <th>Ben</th>\n",
       "      <td>8.75</td>\n",
       "      <td>16.0</td>\n",
       "      <td>9.0</td>\n",
       "      <td>Male</td>\n",
       "      <td>True</td>\n",
       "    </tr>\n",
       "  </tbody>\n",
       "</table>\n",
       "</div>"
      ],
      "text/plain": [
       "       wage  educ  exper gender  married\n",
       "John   3.00  11.0    2.0   Male    False\n",
       "David  6.00   8.0   44.0   Male     True\n",
       "Frank  5.30  12.0    7.0   Male     True\n",
       "Ben    8.75  16.0    9.0   Male     True"
      ]
     },
     "execution_count": 37,
     "metadata": {},
     "output_type": "execute_result"
    }
   ],
   "source": [
    "rows = data_frame_new.loc['John':'Ben', :]  \n",
    "rows"
   ]
  },
  {
   "cell_type": "markdown",
   "metadata": {},
   "source": [
    "The <code>:</code> symbol can be omitted if it is used to select all columns. "
   ]
  },
  {
   "cell_type": "code",
   "execution_count": 38,
   "metadata": {
    "scrolled": false
   },
   "outputs": [
    {
     "data": {
      "text/html": [
       "<div>\n",
       "<style scoped>\n",
       "    .dataframe tbody tr th:only-of-type {\n",
       "        vertical-align: middle;\n",
       "    }\n",
       "\n",
       "    .dataframe tbody tr th {\n",
       "        vertical-align: top;\n",
       "    }\n",
       "\n",
       "    .dataframe thead th {\n",
       "        text-align: right;\n",
       "    }\n",
       "</style>\n",
       "<table border=\"1\" class=\"dataframe\">\n",
       "  <thead>\n",
       "    <tr style=\"text-align: right;\">\n",
       "      <th></th>\n",
       "      <th>wage</th>\n",
       "      <th>educ</th>\n",
       "      <th>exper</th>\n",
       "      <th>gender</th>\n",
       "      <th>married</th>\n",
       "    </tr>\n",
       "  </thead>\n",
       "  <tbody>\n",
       "    <tr>\n",
       "      <th>John</th>\n",
       "      <td>3.00</td>\n",
       "      <td>11.0</td>\n",
       "      <td>2.0</td>\n",
       "      <td>Male</td>\n",
       "      <td>False</td>\n",
       "    </tr>\n",
       "    <tr>\n",
       "      <th>David</th>\n",
       "      <td>6.00</td>\n",
       "      <td>8.0</td>\n",
       "      <td>44.0</td>\n",
       "      <td>Male</td>\n",
       "      <td>True</td>\n",
       "    </tr>\n",
       "    <tr>\n",
       "      <th>Frank</th>\n",
       "      <td>5.30</td>\n",
       "      <td>12.0</td>\n",
       "      <td>7.0</td>\n",
       "      <td>Male</td>\n",
       "      <td>True</td>\n",
       "    </tr>\n",
       "    <tr>\n",
       "      <th>Ben</th>\n",
       "      <td>8.75</td>\n",
       "      <td>16.0</td>\n",
       "      <td>9.0</td>\n",
       "      <td>Male</td>\n",
       "      <td>True</td>\n",
       "    </tr>\n",
       "  </tbody>\n",
       "</table>\n",
       "</div>"
      ],
      "text/plain": [
       "       wage  educ  exper gender  married\n",
       "John   3.00  11.0    2.0   Male    False\n",
       "David  6.00   8.0   44.0   Male     True\n",
       "Frank  5.30  12.0    7.0   Male     True\n",
       "Ben    8.75  16.0    9.0   Male     True"
      ]
     },
     "execution_count": 38,
     "metadata": {},
     "output_type": "execute_result"
    }
   ],
   "source": [
    "rows = data_frame_new.loc['John':'Ben']  \n",
    "rows"
   ]
  },
  {
   "cell_type": "markdown",
   "metadata": {},
   "source": [
    "Please note that if only one column or one row is taken, the data type of the results could be <code>pandas.Sereis</code> or <code>pandas.DataFrame</code>"
   ]
  },
  {
   "cell_type": "code",
   "execution_count": 39,
   "metadata": {
    "scrolled": false
   },
   "outputs": [
    {
     "data": {
      "text/plain": [
       "wage         3.0\n",
       "educ        11.0\n",
       "exper        2.0\n",
       "gender      Male\n",
       "married    False\n",
       "Name: John, dtype: object"
      ]
     },
     "execution_count": 39,
     "metadata": {},
     "output_type": "execute_result"
    }
   ],
   "source": [
    "data_frame_new.loc['John']      # One row as a series"
   ]
  },
  {
   "cell_type": "code",
   "execution_count": 40,
   "metadata": {},
   "outputs": [
    {
     "data": {
      "text/html": [
       "<div>\n",
       "<style scoped>\n",
       "    .dataframe tbody tr th:only-of-type {\n",
       "        vertical-align: middle;\n",
       "    }\n",
       "\n",
       "    .dataframe tbody tr th {\n",
       "        vertical-align: top;\n",
       "    }\n",
       "\n",
       "    .dataframe thead th {\n",
       "        text-align: right;\n",
       "    }\n",
       "</style>\n",
       "<table border=\"1\" class=\"dataframe\">\n",
       "  <thead>\n",
       "    <tr style=\"text-align: right;\">\n",
       "      <th></th>\n",
       "      <th>wage</th>\n",
       "      <th>educ</th>\n",
       "      <th>exper</th>\n",
       "      <th>gender</th>\n",
       "      <th>married</th>\n",
       "    </tr>\n",
       "  </thead>\n",
       "  <tbody>\n",
       "    <tr>\n",
       "      <th>John</th>\n",
       "      <td>3.0</td>\n",
       "      <td>11.0</td>\n",
       "      <td>2.0</td>\n",
       "      <td>Male</td>\n",
       "      <td>False</td>\n",
       "    </tr>\n",
       "  </tbody>\n",
       "</table>\n",
       "</div>"
      ],
      "text/plain": [
       "      wage  educ  exper gender  married\n",
       "John   3.0  11.0    2.0   Male    False"
      ]
     },
     "execution_count": 40,
     "metadata": {},
     "output_type": "execute_result"
    }
   ],
   "source": [
    "data_frame_new.loc[['John']]    # One row as a data frame"
   ]
  },
  {
   "cell_type": "code",
   "execution_count": 41,
   "metadata": {
    "scrolled": true
   },
   "outputs": [
    {
     "data": {
      "text/plain": [
       "0     2.0\n",
       "1    22.0\n",
       "2     2.0\n",
       "3    44.0\n",
       "4     7.0\n",
       "5     9.0\n",
       "Name: exper, dtype: float64"
      ]
     },
     "execution_count": 41,
     "metadata": {},
     "output_type": "execute_result"
    }
   ],
   "source": [
    "data_frame.iloc[:, 2]           # One column as a series"
   ]
  },
  {
   "cell_type": "code",
   "execution_count": 42,
   "metadata": {
    "scrolled": true
   },
   "outputs": [
    {
     "data": {
      "text/html": [
       "<div>\n",
       "<style scoped>\n",
       "    .dataframe tbody tr th:only-of-type {\n",
       "        vertical-align: middle;\n",
       "    }\n",
       "\n",
       "    .dataframe tbody tr th {\n",
       "        vertical-align: top;\n",
       "    }\n",
       "\n",
       "    .dataframe thead th {\n",
       "        text-align: right;\n",
       "    }\n",
       "</style>\n",
       "<table border=\"1\" class=\"dataframe\">\n",
       "  <thead>\n",
       "    <tr style=\"text-align: right;\">\n",
       "      <th></th>\n",
       "      <th>exper</th>\n",
       "    </tr>\n",
       "  </thead>\n",
       "  <tbody>\n",
       "    <tr>\n",
       "      <th>0</th>\n",
       "      <td>2.0</td>\n",
       "    </tr>\n",
       "    <tr>\n",
       "      <th>1</th>\n",
       "      <td>22.0</td>\n",
       "    </tr>\n",
       "    <tr>\n",
       "      <th>2</th>\n",
       "      <td>2.0</td>\n",
       "    </tr>\n",
       "    <tr>\n",
       "      <th>3</th>\n",
       "      <td>44.0</td>\n",
       "    </tr>\n",
       "    <tr>\n",
       "      <th>4</th>\n",
       "      <td>7.0</td>\n",
       "    </tr>\n",
       "    <tr>\n",
       "      <th>5</th>\n",
       "      <td>9.0</td>\n",
       "    </tr>\n",
       "  </tbody>\n",
       "</table>\n",
       "</div>"
      ],
      "text/plain": [
       "   exper\n",
       "0    2.0\n",
       "1   22.0\n",
       "2    2.0\n",
       "3   44.0\n",
       "4    7.0\n",
       "5    9.0"
      ]
     },
     "execution_count": 42,
     "metadata": {},
     "output_type": "execute_result"
    }
   ],
   "source": [
    "data_frame.iloc[:, 2:3]         # One column as a data frame"
   ]
  },
  {
   "cell_type": "markdown",
   "metadata": {},
   "source": [
    "Can you tell why the data types of the results are different?"
   ]
  },
  {
   "cell_type": "markdown",
   "metadata": {},
   "source": [
    "#### Modify a subset of a <code>pandas.DataFrame</code> object <a id=\"subsection2.5\"></a>\n",
    "Similar to data types like <code>list</code> or <code>dict</code>, the <code>pandas.DataFrame</code> objects are also mutable, and we can modify a part of a data frame using the <code>iloc[]</code> and <code>loc[]</code> indexers. "
   ]
  },
  {
   "cell_type": "code",
   "execution_count": 43,
   "metadata": {
    "scrolled": true
   },
   "outputs": [
    {
     "data": {
      "text/html": [
       "<div>\n",
       "<style scoped>\n",
       "    .dataframe tbody tr th:only-of-type {\n",
       "        vertical-align: middle;\n",
       "    }\n",
       "\n",
       "    .dataframe tbody tr th {\n",
       "        vertical-align: top;\n",
       "    }\n",
       "\n",
       "    .dataframe thead th {\n",
       "        text-align: right;\n",
       "    }\n",
       "</style>\n",
       "<table border=\"1\" class=\"dataframe\">\n",
       "  <thead>\n",
       "    <tr style=\"text-align: right;\">\n",
       "      <th></th>\n",
       "      <th>wage</th>\n",
       "      <th>educ</th>\n",
       "      <th>exper</th>\n",
       "      <th>gender</th>\n",
       "      <th>married</th>\n",
       "    </tr>\n",
       "  </thead>\n",
       "  <tbody>\n",
       "    <tr>\n",
       "      <th>0</th>\n",
       "      <td>3.10</td>\n",
       "      <td>11.0</td>\n",
       "      <td>2.0</td>\n",
       "      <td>Female</td>\n",
       "      <td>False</td>\n",
       "    </tr>\n",
       "    <tr>\n",
       "      <th>1</th>\n",
       "      <td>3.24</td>\n",
       "      <td>12.0</td>\n",
       "      <td>22.0</td>\n",
       "      <td>Female</td>\n",
       "      <td>True</td>\n",
       "    </tr>\n",
       "    <tr>\n",
       "      <th>2</th>\n",
       "      <td>3.00</td>\n",
       "      <td>11.0</td>\n",
       "      <td>2.0</td>\n",
       "      <td>Male</td>\n",
       "      <td>False</td>\n",
       "    </tr>\n",
       "    <tr>\n",
       "      <th>3</th>\n",
       "      <td>6.00</td>\n",
       "      <td>8.0</td>\n",
       "      <td>44.0</td>\n",
       "      <td>Male</td>\n",
       "      <td>True</td>\n",
       "    </tr>\n",
       "    <tr>\n",
       "      <th>4</th>\n",
       "      <td>5.30</td>\n",
       "      <td>12.0</td>\n",
       "      <td>7.0</td>\n",
       "      <td>Male</td>\n",
       "      <td>True</td>\n",
       "    </tr>\n",
       "    <tr>\n",
       "      <th>5</th>\n",
       "      <td>8.75</td>\n",
       "      <td>16.0</td>\n",
       "      <td>9.0</td>\n",
       "      <td>Male</td>\n",
       "      <td>True</td>\n",
       "    </tr>\n",
       "  </tbody>\n",
       "</table>\n",
       "</div>"
      ],
      "text/plain": [
       "   wage  educ  exper  gender  married\n",
       "0  3.10  11.0    2.0  Female    False\n",
       "1  3.24  12.0   22.0  Female     True\n",
       "2  3.00  11.0    2.0    Male    False\n",
       "3  6.00   8.0   44.0    Male     True\n",
       "4  5.30  12.0    7.0    Male     True\n",
       "5  8.75  16.0    9.0    Male     True"
      ]
     },
     "execution_count": 43,
     "metadata": {},
     "output_type": "execute_result"
    }
   ],
   "source": [
    "data_frame"
   ]
  },
  {
   "cell_type": "code",
   "execution_count": 44,
   "metadata": {
    "scrolled": false
   },
   "outputs": [
    {
     "data": {
      "text/html": [
       "<div>\n",
       "<style scoped>\n",
       "    .dataframe tbody tr th:only-of-type {\n",
       "        vertical-align: middle;\n",
       "    }\n",
       "\n",
       "    .dataframe tbody tr th {\n",
       "        vertical-align: top;\n",
       "    }\n",
       "\n",
       "    .dataframe thead th {\n",
       "        text-align: right;\n",
       "    }\n",
       "</style>\n",
       "<table border=\"1\" class=\"dataframe\">\n",
       "  <thead>\n",
       "    <tr style=\"text-align: right;\">\n",
       "      <th></th>\n",
       "      <th>wage</th>\n",
       "      <th>educ</th>\n",
       "      <th>exper</th>\n",
       "      <th>gender</th>\n",
       "      <th>married</th>\n",
       "    </tr>\n",
       "  </thead>\n",
       "  <tbody>\n",
       "    <tr>\n",
       "      <th>0</th>\n",
       "      <td>3.10</td>\n",
       "      <td>11.0</td>\n",
       "      <td>2.0</td>\n",
       "      <td>Female</td>\n",
       "      <td>False</td>\n",
       "    </tr>\n",
       "    <tr>\n",
       "      <th>1</th>\n",
       "      <td>3.24</td>\n",
       "      <td>12.0</td>\n",
       "      <td>22.0</td>\n",
       "      <td>Female</td>\n",
       "      <td>True</td>\n",
       "    </tr>\n",
       "    <tr>\n",
       "      <th>2</th>\n",
       "      <td>3.00</td>\n",
       "      <td>9.0</td>\n",
       "      <td>2.0</td>\n",
       "      <td>Male</td>\n",
       "      <td>False</td>\n",
       "    </tr>\n",
       "    <tr>\n",
       "      <th>3</th>\n",
       "      <td>6.00</td>\n",
       "      <td>9.0</td>\n",
       "      <td>44.0</td>\n",
       "      <td>Male</td>\n",
       "      <td>True</td>\n",
       "    </tr>\n",
       "    <tr>\n",
       "      <th>4</th>\n",
       "      <td>5.30</td>\n",
       "      <td>12.0</td>\n",
       "      <td>7.0</td>\n",
       "      <td>Male</td>\n",
       "      <td>True</td>\n",
       "    </tr>\n",
       "    <tr>\n",
       "      <th>5</th>\n",
       "      <td>8.75</td>\n",
       "      <td>16.0</td>\n",
       "      <td>9.0</td>\n",
       "      <td>Male</td>\n",
       "      <td>True</td>\n",
       "    </tr>\n",
       "  </tbody>\n",
       "</table>\n",
       "</div>"
      ],
      "text/plain": [
       "   wage  educ  exper  gender  married\n",
       "0  3.10  11.0    2.0  Female    False\n",
       "1  3.24  12.0   22.0  Female     True\n",
       "2  3.00   9.0    2.0    Male    False\n",
       "3  6.00   9.0   44.0    Male     True\n",
       "4  5.30  12.0    7.0    Male     True\n",
       "5  8.75  16.0    9.0    Male     True"
      ]
     },
     "execution_count": 44,
     "metadata": {},
     "output_type": "execute_result"
    }
   ],
   "source": [
    "data_frame.loc[2:3, 'educ'] = 9.0  \n",
    "data_frame"
   ]
  },
  {
   "cell_type": "code",
   "execution_count": 45,
   "metadata": {
    "scrolled": true
   },
   "outputs": [
    {
     "data": {
      "text/html": [
       "<div>\n",
       "<style scoped>\n",
       "    .dataframe tbody tr th:only-of-type {\n",
       "        vertical-align: middle;\n",
       "    }\n",
       "\n",
       "    .dataframe tbody tr th {\n",
       "        vertical-align: top;\n",
       "    }\n",
       "\n",
       "    .dataframe thead th {\n",
       "        text-align: right;\n",
       "    }\n",
       "</style>\n",
       "<table border=\"1\" class=\"dataframe\">\n",
       "  <thead>\n",
       "    <tr style=\"text-align: right;\">\n",
       "      <th></th>\n",
       "      <th>wage</th>\n",
       "      <th>educ</th>\n",
       "      <th>exper</th>\n",
       "      <th>gender</th>\n",
       "      <th>married</th>\n",
       "    </tr>\n",
       "  </thead>\n",
       "  <tbody>\n",
       "    <tr>\n",
       "      <th>0</th>\n",
       "      <td>3.10</td>\n",
       "      <td>11.0</td>\n",
       "      <td>2.0</td>\n",
       "      <td>Female</td>\n",
       "      <td>False</td>\n",
       "    </tr>\n",
       "    <tr>\n",
       "      <th>1</th>\n",
       "      <td>3.24</td>\n",
       "      <td>12.0</td>\n",
       "      <td>22.0</td>\n",
       "      <td>Female</td>\n",
       "      <td>True</td>\n",
       "    </tr>\n",
       "    <tr>\n",
       "      <th>2</th>\n",
       "      <td>3.00</td>\n",
       "      <td>1.0</td>\n",
       "      <td>1.0</td>\n",
       "      <td>Male</td>\n",
       "      <td>False</td>\n",
       "    </tr>\n",
       "    <tr>\n",
       "      <th>3</th>\n",
       "      <td>6.00</td>\n",
       "      <td>9.0</td>\n",
       "      <td>44.0</td>\n",
       "      <td>Male</td>\n",
       "      <td>True</td>\n",
       "    </tr>\n",
       "    <tr>\n",
       "      <th>4</th>\n",
       "      <td>5.30</td>\n",
       "      <td>12.0</td>\n",
       "      <td>7.0</td>\n",
       "      <td>Male</td>\n",
       "      <td>True</td>\n",
       "    </tr>\n",
       "    <tr>\n",
       "      <th>5</th>\n",
       "      <td>8.75</td>\n",
       "      <td>16.0</td>\n",
       "      <td>9.0</td>\n",
       "      <td>Male</td>\n",
       "      <td>True</td>\n",
       "    </tr>\n",
       "  </tbody>\n",
       "</table>\n",
       "</div>"
      ],
      "text/plain": [
       "   wage  educ  exper  gender  married\n",
       "0  3.10  11.0    2.0  Female    False\n",
       "1  3.24  12.0   22.0  Female     True\n",
       "2  3.00   1.0    1.0    Male    False\n",
       "3  6.00   9.0   44.0    Male     True\n",
       "4  5.30  12.0    7.0    Male     True\n",
       "5  8.75  16.0    9.0    Male     True"
      ]
     },
     "execution_count": 45,
     "metadata": {},
     "output_type": "execute_result"
    }
   ],
   "source": [
    "data_frame.iloc[2, 1:3] = 1.0   \n",
    "data_frame"
   ]
  },
  {
   "cell_type": "markdown",
   "metadata": {},
   "source": [
    "The same modification via <code>loc</code> can even by used to create new columns of the <code>pandas.DataFrame</code>. "
   ]
  },
  {
   "cell_type": "code",
   "execution_count": 46,
   "metadata": {
    "scrolled": false
   },
   "outputs": [
    {
     "data": {
      "text/html": [
       "<div>\n",
       "<style scoped>\n",
       "    .dataframe tbody tr th:only-of-type {\n",
       "        vertical-align: middle;\n",
       "    }\n",
       "\n",
       "    .dataframe tbody tr th {\n",
       "        vertical-align: top;\n",
       "    }\n",
       "\n",
       "    .dataframe thead th {\n",
       "        text-align: right;\n",
       "    }\n",
       "</style>\n",
       "<table border=\"1\" class=\"dataframe\">\n",
       "  <thead>\n",
       "    <tr style=\"text-align: right;\">\n",
       "      <th></th>\n",
       "      <th>wage</th>\n",
       "      <th>educ</th>\n",
       "      <th>exper</th>\n",
       "      <th>gender</th>\n",
       "      <th>married</th>\n",
       "      <th>remarks</th>\n",
       "    </tr>\n",
       "  </thead>\n",
       "  <tbody>\n",
       "    <tr>\n",
       "      <th>0</th>\n",
       "      <td>3.10</td>\n",
       "      <td>11.0</td>\n",
       "      <td>2.0</td>\n",
       "      <td>Female</td>\n",
       "      <td>False</td>\n",
       "      <td>none</td>\n",
       "    </tr>\n",
       "    <tr>\n",
       "      <th>1</th>\n",
       "      <td>3.24</td>\n",
       "      <td>12.0</td>\n",
       "      <td>22.0</td>\n",
       "      <td>Female</td>\n",
       "      <td>True</td>\n",
       "      <td>none</td>\n",
       "    </tr>\n",
       "    <tr>\n",
       "      <th>2</th>\n",
       "      <td>3.00</td>\n",
       "      <td>1.0</td>\n",
       "      <td>1.0</td>\n",
       "      <td>Male</td>\n",
       "      <td>False</td>\n",
       "      <td>none</td>\n",
       "    </tr>\n",
       "    <tr>\n",
       "      <th>3</th>\n",
       "      <td>6.00</td>\n",
       "      <td>9.0</td>\n",
       "      <td>44.0</td>\n",
       "      <td>Male</td>\n",
       "      <td>True</td>\n",
       "      <td>none</td>\n",
       "    </tr>\n",
       "    <tr>\n",
       "      <th>4</th>\n",
       "      <td>5.30</td>\n",
       "      <td>12.0</td>\n",
       "      <td>7.0</td>\n",
       "      <td>Male</td>\n",
       "      <td>True</td>\n",
       "      <td>none</td>\n",
       "    </tr>\n",
       "    <tr>\n",
       "      <th>5</th>\n",
       "      <td>8.75</td>\n",
       "      <td>16.0</td>\n",
       "      <td>9.0</td>\n",
       "      <td>Male</td>\n",
       "      <td>True</td>\n",
       "      <td>none</td>\n",
       "    </tr>\n",
       "  </tbody>\n",
       "</table>\n",
       "</div>"
      ],
      "text/plain": [
       "   wage  educ  exper  gender  married remarks\n",
       "0  3.10  11.0    2.0  Female    False    none\n",
       "1  3.24  12.0   22.0  Female     True    none\n",
       "2  3.00   1.0    1.0    Male    False    none\n",
       "3  6.00   9.0   44.0    Male     True    none\n",
       "4  5.30  12.0    7.0    Male     True    none\n",
       "5  8.75  16.0    9.0    Male     True    none"
      ]
     },
     "execution_count": 46,
     "metadata": {},
     "output_type": "execute_result"
    }
   ],
   "source": [
    "data_frame.loc[:, 'remarks'] = 'none'\n",
    "data_frame"
   ]
  },
  {
   "cell_type": "markdown",
   "metadata": {},
   "source": [
    "Since \"remarks\" is not a label in the old data table, a new column named \"remarks\" is appended as a new column of the table. \n",
    "\n",
    "#### Boolean <code>pandas.Series</code> and boolean indexing <a id=\"subsection2.6\"></a>\n",
    "We can create a boolean type <code>pandas.Series</code> via the following boolean statements and logical operators."
   ]
  },
  {
   "cell_type": "code",
   "execution_count": 47,
   "metadata": {
    "scrolled": false
   },
   "outputs": [
    {
     "data": {
      "text/plain": [
       "0     True\n",
       "1     True\n",
       "2    False\n",
       "3    False\n",
       "4    False\n",
       "5    False\n",
       "Name: gender, dtype: bool"
      ]
     },
     "execution_count": 47,
     "metadata": {},
     "output_type": "execute_result"
    }
   ],
   "source": [
    "is_female = data_frame['gender'] == 'Female'      \n",
    "is_female"
   ]
  },
  {
   "cell_type": "code",
   "execution_count": 48,
   "metadata": {
    "scrolled": true
   },
   "outputs": [
    {
     "data": {
      "text/plain": [
       "0    False\n",
       "1    False\n",
       "2    False\n",
       "3     True\n",
       "4     True\n",
       "5     True\n",
       "Name: wage, dtype: bool"
      ]
     },
     "execution_count": 48,
     "metadata": {},
     "output_type": "execute_result"
    }
   ],
   "source": [
    "is_high_wage = data_frame['wage'] > 4\n",
    "is_high_wage"
   ]
  },
  {
   "cell_type": "code",
   "execution_count": 49,
   "metadata": {
    "scrolled": false
   },
   "outputs": [
    {
     "data": {
      "text/plain": [
       "0    False\n",
       "1     True\n",
       "2    False\n",
       "3    False\n",
       "4    False\n",
       "5    False\n",
       "dtype: bool"
      ]
     },
     "execution_count": 49,
     "metadata": {},
     "output_type": "execute_result"
    }
   ],
   "source": [
    "# Intersection of two conditions: True if both of them are True\n",
    "\n",
    "is_wife = (data_frame['gender']=='Female') & (data_frame['married'])\n",
    "is_wife"
   ]
  },
  {
   "cell_type": "markdown",
   "metadata": {},
   "source": [
    "In the code above, the symbol <code>&</code> implies element-wise \"and\" logic, so it returns <code>True</code> only if both conditions are <code>True</code> and <code>False</code> if either one of them is <code>False</code>. Similarly, <code>|</code> is used to indicate \"or\" logic, <code>~</code> suggests \"not\", and <code>!=</code> is still \"not equal\", as demonstrated by the following examples."
   ]
  },
  {
   "cell_type": "code",
   "execution_count": 50,
   "metadata": {
    "scrolled": false
   },
   "outputs": [
    {
     "data": {
      "text/plain": [
       "0     True\n",
       "1     True\n",
       "2    False\n",
       "3     True\n",
       "4     True\n",
       "5     True\n",
       "dtype: bool"
      ]
     },
     "execution_count": 50,
     "metadata": {},
     "output_type": "execute_result"
    }
   ],
   "source": [
    "# Union of two conditions: True if either of them is True\n",
    "\n",
    "is_skillful = (data_frame['educ']>9) | (data_frame['exper']>3)\n",
    "is_skillful"
   ]
  },
  {
   "cell_type": "code",
   "execution_count": 51,
   "metadata": {
    "scrolled": true
   },
   "outputs": [
    {
     "data": {
      "text/plain": [
       "0    False\n",
       "1    False\n",
       "2     True\n",
       "3     True\n",
       "4     True\n",
       "5     True\n",
       "Name: gender, dtype: bool"
      ]
     },
     "execution_count": 51,
     "metadata": {},
     "output_type": "execute_result"
    }
   ],
   "source": [
    "not_female = data_frame['gender'] != 'Female'\n",
    "not_female"
   ]
  },
  {
   "cell_type": "markdown",
   "metadata": {},
   "source": [
    "Such boolean <code>pandas.Series</code> can be used as the row labels in <code>loc</code> to access or to modify a subset of rows that satisfy some given conditions. For example, we may be able to achieve a <code>pandas.DataFrame</code> object that contains only females."
   ]
  },
  {
   "cell_type": "code",
   "execution_count": 52,
   "metadata": {
    "scrolled": true
   },
   "outputs": [
    {
     "data": {
      "text/html": [
       "<div>\n",
       "<style scoped>\n",
       "    .dataframe tbody tr th:only-of-type {\n",
       "        vertical-align: middle;\n",
       "    }\n",
       "\n",
       "    .dataframe tbody tr th {\n",
       "        vertical-align: top;\n",
       "    }\n",
       "\n",
       "    .dataframe thead th {\n",
       "        text-align: right;\n",
       "    }\n",
       "</style>\n",
       "<table border=\"1\" class=\"dataframe\">\n",
       "  <thead>\n",
       "    <tr style=\"text-align: right;\">\n",
       "      <th></th>\n",
       "      <th>wage</th>\n",
       "      <th>educ</th>\n",
       "      <th>exper</th>\n",
       "      <th>gender</th>\n",
       "      <th>married</th>\n",
       "      <th>remarks</th>\n",
       "    </tr>\n",
       "  </thead>\n",
       "  <tbody>\n",
       "    <tr>\n",
       "      <th>0</th>\n",
       "      <td>3.10</td>\n",
       "      <td>11.0</td>\n",
       "      <td>2.0</td>\n",
       "      <td>Female</td>\n",
       "      <td>False</td>\n",
       "      <td>none</td>\n",
       "    </tr>\n",
       "    <tr>\n",
       "      <th>1</th>\n",
       "      <td>3.24</td>\n",
       "      <td>12.0</td>\n",
       "      <td>22.0</td>\n",
       "      <td>Female</td>\n",
       "      <td>True</td>\n",
       "      <td>none</td>\n",
       "    </tr>\n",
       "  </tbody>\n",
       "</table>\n",
       "</div>"
      ],
      "text/plain": [
       "   wage  educ  exper  gender  married remarks\n",
       "0  3.10  11.0    2.0  Female    False    none\n",
       "1  3.24  12.0   22.0  Female     True    none"
      ]
     },
     "execution_count": 52,
     "metadata": {},
     "output_type": "execute_result"
    }
   ],
   "source": [
    "is_female = data_frame['gender'] == 'Female'    # A boolean Series \n",
    "female = data_frame.loc[is_female]              # Select rows indicated by True\n",
    "female"
   ]
  },
  {
   "cell_type": "code",
   "execution_count": 53,
   "metadata": {
    "scrolled": true
   },
   "outputs": [
    {
     "data": {
      "text/html": [
       "<div>\n",
       "<style scoped>\n",
       "    .dataframe tbody tr th:only-of-type {\n",
       "        vertical-align: middle;\n",
       "    }\n",
       "\n",
       "    .dataframe tbody tr th {\n",
       "        vertical-align: top;\n",
       "    }\n",
       "\n",
       "    .dataframe thead th {\n",
       "        text-align: right;\n",
       "    }\n",
       "</style>\n",
       "<table border=\"1\" class=\"dataframe\">\n",
       "  <thead>\n",
       "    <tr style=\"text-align: right;\">\n",
       "      <th></th>\n",
       "      <th>wage</th>\n",
       "      <th>educ</th>\n",
       "      <th>exper</th>\n",
       "      <th>gender</th>\n",
       "      <th>married</th>\n",
       "      <th>remarks</th>\n",
       "    </tr>\n",
       "  </thead>\n",
       "  <tbody>\n",
       "    <tr>\n",
       "      <th>0</th>\n",
       "      <td>3.10</td>\n",
       "      <td>11.0</td>\n",
       "      <td>2.0</td>\n",
       "      <td>Female</td>\n",
       "      <td>False</td>\n",
       "      <td>none</td>\n",
       "    </tr>\n",
       "    <tr>\n",
       "      <th>1</th>\n",
       "      <td>3.24</td>\n",
       "      <td>12.0</td>\n",
       "      <td>22.0</td>\n",
       "      <td>Female</td>\n",
       "      <td>True</td>\n",
       "      <td>Wife</td>\n",
       "    </tr>\n",
       "    <tr>\n",
       "      <th>2</th>\n",
       "      <td>3.00</td>\n",
       "      <td>1.0</td>\n",
       "      <td>1.0</td>\n",
       "      <td>Male</td>\n",
       "      <td>False</td>\n",
       "      <td>none</td>\n",
       "    </tr>\n",
       "    <tr>\n",
       "      <th>3</th>\n",
       "      <td>6.00</td>\n",
       "      <td>9.0</td>\n",
       "      <td>44.0</td>\n",
       "      <td>Male</td>\n",
       "      <td>True</td>\n",
       "      <td>none</td>\n",
       "    </tr>\n",
       "    <tr>\n",
       "      <th>4</th>\n",
       "      <td>5.30</td>\n",
       "      <td>12.0</td>\n",
       "      <td>7.0</td>\n",
       "      <td>Male</td>\n",
       "      <td>True</td>\n",
       "      <td>none</td>\n",
       "    </tr>\n",
       "    <tr>\n",
       "      <th>5</th>\n",
       "      <td>8.75</td>\n",
       "      <td>16.0</td>\n",
       "      <td>9.0</td>\n",
       "      <td>Male</td>\n",
       "      <td>True</td>\n",
       "      <td>none</td>\n",
       "    </tr>\n",
       "  </tbody>\n",
       "</table>\n",
       "</div>"
      ],
      "text/plain": [
       "   wage  educ  exper  gender  married remarks\n",
       "0  3.10  11.0    2.0  Female    False    none\n",
       "1  3.24  12.0   22.0  Female     True    Wife\n",
       "2  3.00   1.0    1.0    Male    False    none\n",
       "3  6.00   9.0   44.0    Male     True    none\n",
       "4  5.30  12.0    7.0    Male     True    none\n",
       "5  8.75  16.0    9.0    Male     True    none"
      ]
     },
     "execution_count": 53,
     "metadata": {},
     "output_type": "execute_result"
    }
   ],
   "source": [
    "is_wife = (data_frame['gender']=='Female') & (data_frame['married'])\n",
    "data_frame.loc[is_wife, 'remarks'] = 'Wife'   \n",
    "data_frame"
   ]
  },
  {
   "cell_type": "markdown",
   "metadata": {},
   "source": [
    "Please change values of the column <code>remarks</code> by yourself according to the following rule:\n",
    "- The value for married male is changed to the string <code>'Husband'</code>;\n",
    "- The value for unmarried male or female is changed to the string <code>'Single'</code>. "
   ]
  },
  {
   "cell_type": "code",
   "execution_count": 54,
   "metadata": {
    "scrolled": false
   },
   "outputs": [
    {
     "data": {
      "text/html": [
       "<div>\n",
       "<style scoped>\n",
       "    .dataframe tbody tr th:only-of-type {\n",
       "        vertical-align: middle;\n",
       "    }\n",
       "\n",
       "    .dataframe tbody tr th {\n",
       "        vertical-align: top;\n",
       "    }\n",
       "\n",
       "    .dataframe thead th {\n",
       "        text-align: right;\n",
       "    }\n",
       "</style>\n",
       "<table border=\"1\" class=\"dataframe\">\n",
       "  <thead>\n",
       "    <tr style=\"text-align: right;\">\n",
       "      <th></th>\n",
       "      <th>wage</th>\n",
       "      <th>educ</th>\n",
       "      <th>exper</th>\n",
       "      <th>gender</th>\n",
       "      <th>married</th>\n",
       "      <th>remarks</th>\n",
       "    </tr>\n",
       "  </thead>\n",
       "  <tbody>\n",
       "    <tr>\n",
       "      <th>0</th>\n",
       "      <td>3.10</td>\n",
       "      <td>11.0</td>\n",
       "      <td>2.0</td>\n",
       "      <td>Female</td>\n",
       "      <td>False</td>\n",
       "      <td>Single</td>\n",
       "    </tr>\n",
       "    <tr>\n",
       "      <th>1</th>\n",
       "      <td>3.24</td>\n",
       "      <td>12.0</td>\n",
       "      <td>22.0</td>\n",
       "      <td>Female</td>\n",
       "      <td>True</td>\n",
       "      <td>Wife</td>\n",
       "    </tr>\n",
       "    <tr>\n",
       "      <th>2</th>\n",
       "      <td>3.00</td>\n",
       "      <td>1.0</td>\n",
       "      <td>1.0</td>\n",
       "      <td>Male</td>\n",
       "      <td>False</td>\n",
       "      <td>Single</td>\n",
       "    </tr>\n",
       "    <tr>\n",
       "      <th>3</th>\n",
       "      <td>6.00</td>\n",
       "      <td>9.0</td>\n",
       "      <td>44.0</td>\n",
       "      <td>Male</td>\n",
       "      <td>True</td>\n",
       "      <td>Husband</td>\n",
       "    </tr>\n",
       "    <tr>\n",
       "      <th>4</th>\n",
       "      <td>5.30</td>\n",
       "      <td>12.0</td>\n",
       "      <td>7.0</td>\n",
       "      <td>Male</td>\n",
       "      <td>True</td>\n",
       "      <td>Husband</td>\n",
       "    </tr>\n",
       "    <tr>\n",
       "      <th>5</th>\n",
       "      <td>8.75</td>\n",
       "      <td>16.0</td>\n",
       "      <td>9.0</td>\n",
       "      <td>Male</td>\n",
       "      <td>True</td>\n",
       "      <td>Husband</td>\n",
       "    </tr>\n",
       "  </tbody>\n",
       "</table>\n",
       "</div>"
      ],
      "text/plain": [
       "   wage  educ  exper  gender  married  remarks\n",
       "0  3.10  11.0    2.0  Female    False   Single\n",
       "1  3.24  12.0   22.0  Female     True     Wife\n",
       "2  3.00   1.0    1.0    Male    False   Single\n",
       "3  6.00   9.0   44.0    Male     True  Husband\n",
       "4  5.30  12.0    7.0    Male     True  Husband\n",
       "5  8.75  16.0    9.0    Male     True  Husband"
      ]
     },
     "execution_count": 54,
     "metadata": {},
     "output_type": "execute_result"
    }
   ],
   "source": [
    "is_husband = (data_frame['gender']=='Male') & (data_frame['married'])\n",
    "data_frame.loc[is_husband, 'remarks'] = 'Husband'   \n",
    "\n",
    "is_single = data_frame['married'] == False\n",
    "data_frame.loc[is_single, 'remarks'] = 'Single'\n",
    "\n",
    "data_frame"
   ]
  },
  {
   "cell_type": "markdown",
   "metadata": {},
   "source": [
    " "
   ]
  },
  {
   "cell_type": "markdown",
   "metadata": {},
   "source": [
    "## Basics of descriptive analytics <a id=\"section6\"></a>\n",
    "\n",
    "\n",
    "### Read data from files <a id=\"subsection6.1\"></a>\n",
    "\n",
    "In fact, the method introduced in the previous section is rarely used in creating <code>pandas.DataFrame</code> data structures, because directly typing in the data into a dictionary is inefficient and tedious. In practical implementation, it is more common to read data from a file, as the example below."
   ]
  },
  {
   "cell_type": "code",
   "execution_count": 55,
   "metadata": {
    "scrolled": true
   },
   "outputs": [
    {
     "data": {
      "text/html": [
       "<div>\n",
       "<style scoped>\n",
       "    .dataframe tbody tr th:only-of-type {\n",
       "        vertical-align: middle;\n",
       "    }\n",
       "\n",
       "    .dataframe tbody tr th {\n",
       "        vertical-align: top;\n",
       "    }\n",
       "\n",
       "    .dataframe thead th {\n",
       "        text-align: right;\n",
       "    }\n",
       "</style>\n",
       "<table border=\"1\" class=\"dataframe\">\n",
       "  <thead>\n",
       "    <tr style=\"text-align: right;\">\n",
       "      <th></th>\n",
       "      <th>wage</th>\n",
       "      <th>educ</th>\n",
       "      <th>exper</th>\n",
       "      <th>gender</th>\n",
       "      <th>married</th>\n",
       "    </tr>\n",
       "  </thead>\n",
       "  <tbody>\n",
       "    <tr>\n",
       "      <th>0</th>\n",
       "      <td>3.10</td>\n",
       "      <td>11.0</td>\n",
       "      <td>2.0</td>\n",
       "      <td>Female</td>\n",
       "      <td>False</td>\n",
       "    </tr>\n",
       "    <tr>\n",
       "      <th>1</th>\n",
       "      <td>3.24</td>\n",
       "      <td>12.0</td>\n",
       "      <td>22.0</td>\n",
       "      <td>Female</td>\n",
       "      <td>True</td>\n",
       "    </tr>\n",
       "    <tr>\n",
       "      <th>2</th>\n",
       "      <td>3.00</td>\n",
       "      <td>11.0</td>\n",
       "      <td>2.0</td>\n",
       "      <td>Male</td>\n",
       "      <td>False</td>\n",
       "    </tr>\n",
       "    <tr>\n",
       "      <th>3</th>\n",
       "      <td>6.00</td>\n",
       "      <td>8.0</td>\n",
       "      <td>44.0</td>\n",
       "      <td>Male</td>\n",
       "      <td>True</td>\n",
       "    </tr>\n",
       "    <tr>\n",
       "      <th>4</th>\n",
       "      <td>5.30</td>\n",
       "      <td>12.0</td>\n",
       "      <td>7.0</td>\n",
       "      <td>Male</td>\n",
       "      <td>True</td>\n",
       "    </tr>\n",
       "    <tr>\n",
       "      <th>5</th>\n",
       "      <td>8.75</td>\n",
       "      <td>16.0</td>\n",
       "      <td>9.0</td>\n",
       "      <td>Male</td>\n",
       "      <td>True</td>\n",
       "    </tr>\n",
       "  </tbody>\n",
       "</table>\n",
       "</div>"
      ],
      "text/plain": [
       "   wage  educ  exper  gender  married\n",
       "0  3.10  11.0    2.0  Female    False\n",
       "1  3.24  12.0   22.0  Female     True\n",
       "2  3.00  11.0    2.0    Male    False\n",
       "3  6.00   8.0   44.0    Male     True\n",
       "4  5.30  12.0    7.0    Male     True\n",
       "5  8.75  16.0    9.0    Male     True"
      ]
     },
     "execution_count": 55,
     "metadata": {},
     "output_type": "execute_result"
    }
   ],
   "source": [
    "data = pd.read_csv('wage.csv')  # Read data from a file \"wage.csv\"\n",
    "data.head(6)                    # Return the first six rows of data"
   ]
  },
  {
   "cell_type": "markdown",
   "metadata": {},
   "source": [
    "### Descriptive measures <a id=\"subsection6.2\"></a>\n",
    "**Descriptive analytics** creates a summary of historical data to yield useful information and possibly prepare the data for further analysis. Such information may include some basic descriptive measures of data and graphs showing important insights.\n",
    "\n",
    "#### Centers, variations, and extreme points\n",
    "The center of data is usually expressed by the mean value of the median, which can be easily achieved by the corresponding methods."
   ]
  },
  {
   "cell_type": "code",
   "execution_count": 56,
   "metadata": {
    "scrolled": false
   },
   "outputs": [
    {
     "name": "stdout",
     "output_type": "stream",
     "text": [
      "wage        5.896103\n",
      "educ       12.562738\n",
      "exper      17.017110\n",
      "married     0.608365\n",
      "dtype: float64 \n",
      "\n",
      "<class 'pandas.core.series.Series'>\n"
     ]
    }
   ],
   "source": [
    "print(data.select_dtypes(exclude='object').mean(), '\\n')    # Mean value of each column\n",
    "print(type(data.select_dtypes(exclude='object').mean()))    # Show the data type of the results"
   ]
  },
  {
   "cell_type": "code",
   "execution_count": 57,
   "metadata": {},
   "outputs": [
    {
     "name": "stdout",
     "output_type": "stream",
     "text": [
      "wage        4.65\n",
      "educ       12.00\n",
      "exper      13.50\n",
      "married     1.00\n",
      "dtype: float64 \n",
      "\n",
      "<class 'pandas.core.series.Series'>\n"
     ]
    }
   ],
   "source": [
    "print(data.select_dtypes(exclude='object').median(), '\\n')  # Median value of each column\n",
    "print(type(data.select_dtypes(exclude='object').median()))  # Show the data type of the results"
   ]
  },
  {
   "cell_type": "markdown",
   "metadata": {},
   "source": [
    "Please note that the mean value of each column is stored in a <code>pandas.Series</code>, where the indices are variable names, rather than the integer positions. \n",
    "\n",
    "Also notice that in the case of the categorical variable <code>married</code>, the mean value $0.608365$ is the proportion of observations in the dataset labeled as \"married\". This is because the <code>True</code> or <code>False</code> boolean values are converted to ones or zeros, so that the mean value is the same as the proportion of <code>True</code>s (ones).\n",
    "\n",
    "Similarly, the measures of standard deviations and variances can be calculated by the corresponding methods."
   ]
  },
  {
   "cell_type": "code",
   "execution_count": 58,
   "metadata": {
    "scrolled": false
   },
   "outputs": [
    {
     "data": {
      "text/plain": [
       "wage        3.693086\n",
       "educ        2.769022\n",
       "exper      13.572160\n",
       "married     0.488580\n",
       "dtype: float64"
      ]
     },
     "execution_count": 58,
     "metadata": {},
     "output_type": "execute_result"
    }
   ],
   "source": [
    "data.select_dtypes(exclude='object').std()         # Sample Standard deviation of each numeric column"
   ]
  },
  {
   "cell_type": "code",
   "execution_count": 59,
   "metadata": {
    "scrolled": true
   },
   "outputs": [
    {
     "data": {
      "text/plain": [
       "wage        13.638884\n",
       "educ         7.667485\n",
       "exper      184.203516\n",
       "married      0.238711\n",
       "dtype: float64"
      ]
     },
     "execution_count": 59,
     "metadata": {},
     "output_type": "execute_result"
    }
   ],
   "source": [
    "data.select_dtypes(exclude='object').var()         # Sample Variance of each numeric column"
   ]
  },
  {
   "cell_type": "markdown",
   "metadata": {},
   "source": [
    "The maximum and minimum points in the dataset can also be found."
   ]
  },
  {
   "cell_type": "code",
   "execution_count": 60,
   "metadata": {},
   "outputs": [
    {
     "data": {
      "text/plain": [
       "wage       24.98\n",
       "educ        18.0\n",
       "exper       51.0\n",
       "married     True\n",
       "dtype: object"
      ]
     },
     "execution_count": 60,
     "metadata": {},
     "output_type": "execute_result"
    }
   ],
   "source": [
    "data.select_dtypes(exclude='object').max()         # Maximum value of each numeric column"
   ]
  },
  {
   "cell_type": "code",
   "execution_count": 61,
   "metadata": {},
   "outputs": [
    {
     "data": {
      "text/plain": [
       "wage        0.53\n",
       "educ         0.0\n",
       "exper        1.0\n",
       "married    False\n",
       "dtype: object"
      ]
     },
     "execution_count": 61,
     "metadata": {},
     "output_type": "execute_result"
    }
   ],
   "source": [
    "data.select_dtypes(exclude='object').min()         # Minimum value of each numeric column"
   ]
  },
  {
   "cell_type": "markdown",
   "metadata": {},
   "source": [
    "All the methods above can also be applied to each column (a series) to achieve the statistical measure of a variable, as shown by the following examples."
   ]
  },
  {
   "cell_type": "code",
   "execution_count": 62,
   "metadata": {},
   "outputs": [
    {
     "name": "stdout",
     "output_type": "stream",
     "text": [
      "4.65\n",
      "51.0\n",
      "0.5209125475285171\n"
     ]
    }
   ],
   "source": [
    "print(data['wage'].median())\n",
    "print(data['exper'].max())\n",
    "print((data['gender']=='Male').mean())"
   ]
  },
  {
   "cell_type": "markdown",
   "metadata": {},
   "source": [
    "Please note that the last line of code calculates the proportion of males in the dataset. An alternative way to calculate the proportion of each value of a categorical variable is by using the method <code>value_counts()</code>."
   ]
  },
  {
   "cell_type": "code",
   "execution_count": 63,
   "metadata": {
    "scrolled": true
   },
   "outputs": [
    {
     "data": {
      "text/plain": [
       "Male      274\n",
       "Female    252\n",
       "Name: gender, dtype: int64"
      ]
     },
     "execution_count": 63,
     "metadata": {},
     "output_type": "execute_result"
    }
   ],
   "source": [
    "data['gender'].value_counts()               # Numbers of males and females"
   ]
  },
  {
   "cell_type": "code",
   "execution_count": 64,
   "metadata": {
    "scrolled": true
   },
   "outputs": [
    {
     "data": {
      "text/plain": [
       "Male      0.520913\n",
       "Female    0.479087\n",
       "Name: gender, dtype: float64"
      ]
     },
     "execution_count": 64,
     "metadata": {},
     "output_type": "execute_result"
    }
   ],
   "source": [
    "data['gender'].value_counts(normalize=True) # Proportions of males and females"
   ]
  },
  {
   "cell_type": "markdown",
   "metadata": {},
   "source": [
    "#### Method <code>describe()</code>"
   ]
  },
  {
   "cell_type": "markdown",
   "metadata": {},
   "source": [
    "For <code>pandas.DataFrame</code> and <code>pandas.Series</code>, the method <code>describe()</code> is a convenient tool to summarize some key measures altogether."
   ]
  },
  {
   "cell_type": "code",
   "execution_count": 65,
   "metadata": {
    "scrolled": false
   },
   "outputs": [
    {
     "data": {
      "text/html": [
       "<div>\n",
       "<style scoped>\n",
       "    .dataframe tbody tr th:only-of-type {\n",
       "        vertical-align: middle;\n",
       "    }\n",
       "\n",
       "    .dataframe tbody tr th {\n",
       "        vertical-align: top;\n",
       "    }\n",
       "\n",
       "    .dataframe thead th {\n",
       "        text-align: right;\n",
       "    }\n",
       "</style>\n",
       "<table border=\"1\" class=\"dataframe\">\n",
       "  <thead>\n",
       "    <tr style=\"text-align: right;\">\n",
       "      <th></th>\n",
       "      <th>wage</th>\n",
       "      <th>educ</th>\n",
       "      <th>exper</th>\n",
       "    </tr>\n",
       "  </thead>\n",
       "  <tbody>\n",
       "    <tr>\n",
       "      <th>count</th>\n",
       "      <td>526.000000</td>\n",
       "      <td>526.000000</td>\n",
       "      <td>526.00000</td>\n",
       "    </tr>\n",
       "    <tr>\n",
       "      <th>mean</th>\n",
       "      <td>5.896103</td>\n",
       "      <td>12.562738</td>\n",
       "      <td>17.01711</td>\n",
       "    </tr>\n",
       "    <tr>\n",
       "      <th>std</th>\n",
       "      <td>3.693086</td>\n",
       "      <td>2.769022</td>\n",
       "      <td>13.57216</td>\n",
       "    </tr>\n",
       "    <tr>\n",
       "      <th>min</th>\n",
       "      <td>0.530000</td>\n",
       "      <td>0.000000</td>\n",
       "      <td>1.00000</td>\n",
       "    </tr>\n",
       "    <tr>\n",
       "      <th>25%</th>\n",
       "      <td>3.330000</td>\n",
       "      <td>12.000000</td>\n",
       "      <td>5.00000</td>\n",
       "    </tr>\n",
       "    <tr>\n",
       "      <th>50%</th>\n",
       "      <td>4.650000</td>\n",
       "      <td>12.000000</td>\n",
       "      <td>13.50000</td>\n",
       "    </tr>\n",
       "    <tr>\n",
       "      <th>75%</th>\n",
       "      <td>6.880000</td>\n",
       "      <td>14.000000</td>\n",
       "      <td>26.00000</td>\n",
       "    </tr>\n",
       "    <tr>\n",
       "      <th>max</th>\n",
       "      <td>24.980000</td>\n",
       "      <td>18.000000</td>\n",
       "      <td>51.00000</td>\n",
       "    </tr>\n",
       "  </tbody>\n",
       "</table>\n",
       "</div>"
      ],
      "text/plain": [
       "             wage        educ      exper\n",
       "count  526.000000  526.000000  526.00000\n",
       "mean     5.896103   12.562738   17.01711\n",
       "std      3.693086    2.769022   13.57216\n",
       "min      0.530000    0.000000    1.00000\n",
       "25%      3.330000   12.000000    5.00000\n",
       "50%      4.650000   12.000000   13.50000\n",
       "75%      6.880000   14.000000   26.00000\n",
       "max     24.980000   18.000000   51.00000"
      ]
     },
     "execution_count": 65,
     "metadata": {},
     "output_type": "execute_result"
    }
   ],
   "source": [
    "wage_summary = data.describe()  # Obtain the key descriptive measures \n",
    "wage_summary                    # Display these measures as a table"
   ]
  },
  {
   "cell_type": "markdown",
   "metadata": {},
   "source": [
    "The variable <code>wage_summary</code> is a <code>pandas.DataFrame</code> table where the index labels are the names of the descriptive measures. \n",
    "\n",
    "Note that rows <code>25%</code>, <code>50%</code>, and <code>75%</code> represent the first (Q1), second(Q2), and third quartiles(Q3), respectively. The value Q3 - Q1 is called the interquartile range (IQR). \n",
    "\n",
    "<img src=\"http://www.brainfuse.com/quizUpload/c_83740/quartiles2.gif\" width=450>\n",
    "\n",
    "Besides methods mentioned above, there are many other methods available for you to calculate descriptive measures via one line of code. You may check [Essential Basic Functionality¶](https://pandas.pydata.org/pandas-docs/stable/basics.html#descriptive-statistics)\n",
    "\n",
    "### Visualize measures <a id=\"subsection6.3\"></a>\n",
    "\n",
    "In addition to <code>describe()</code> and other methods to obtian these numerical measures, Python also provides convenient tools for graphical representations of data characteristics. \n",
    "\n",
    "For example, we may use a boxplot to display the distribution of data based on a five-value summary:\n",
    "1. The \"minimum\" value: Q1 -1.5*IQR, or the actual minimum value\n",
    "2. The first quartile: Q1\n",
    "3. The second quartile, or the median: Q2, \n",
    "4. The third quartile: Q3\n",
    "5. The “maximum” value: Q3 + 1.5*IQR, or the actual maximum value\n",
    "\n",
    "Additionally, it can also show outliers and their values. One illustrative example is given below. An illustration of these five values for a normal distribution case is provided below.\n",
    "<img src=\"https://cdn-images-1.medium.com/max/1600/1*NRlqiZGQdsIyAu0KzP7LaQ.png\" width=500>\n",
    "\n",
    "For the wage data case, we may draw the box plot via the following code."
   ]
  },
  {
   "cell_type": "code",
   "execution_count": 66,
   "metadata": {},
   "outputs": [
    {
     "data": {
      "image/png": "[encoded data removed]",
      "text/plain": [
       "<Figure size 432x288 with 1 Axes>"
      ]
     },
     "metadata": {
      "needs_background": "light"
     },
     "output_type": "display_data"
    }
   ],
   "source": [
    "plt.boxplot(data['wage'],       # Create a box plot of the wages\n",
    "            vert=False);        # Make the plot horizontal   \n",
    "\n",
    "plt.xlabel('Hourly wages ($)', \n",
    "           fontsize=14)         # Label of the x axis\n",
    "\n",
    "plt.show()"
   ]
  },
  {
   "cell_type": "markdown",
   "metadata": {},
   "source": [
    "<div class=\"alert alert-block alert-danger\">\n",
    "<b>Notes:</b>  \n",
    "    </ul>\n",
    "        <li> The \"minimum\" and \"maximum\" in the boxplot may not be the actual minimum and maximum values in the data set. They could be calculated according to the $1.5\\times$IQR rule.</li>\n",
    "        <li> Observations or samples outside of the $1.5\\times$IQR ranges are recognized as \"outliers\", as they are too distant from the other observations. </li>\n",
    "        <li> An outlier may be due to variability in the measurement or it may indicate experimental error; the latter are sometimes excluded from the data set. </li>\n",
    "    </ul>\n",
    "</div>\n",
    "\n",
    "You may compare the box plot and the histogram of the wages below, and see if you can relate each value of the box plot with the distribution of the data set."
   ]
  },
  {
   "cell_type": "code",
   "execution_count": 67,
   "metadata": {},
   "outputs": [
    {
     "data": {
      "image/png": "[encoded data removed]",
      "text/plain": [
       "<Figure size 432x288 with 1 Axes>"
      ]
     },
     "metadata": {
      "needs_background": "light"
     },
     "output_type": "display_data"
    }
   ],
   "source": [
    "plt.hist(data['wage'], 20,      # Histogram of wages with 20 bins\n",
    "         color='b', alpha=0.3); # Color is blue, opacity is 0.3  \n",
    "\n",
    "plt.xlabel('Hourly wages ($)', fontsize=14)\n",
    "plt.ylabel('Frequency', fontsize=14)\n",
    "\n",
    "plt.show()"
   ]
  },
  {
   "cell_type": "markdown",
   "metadata": {},
   "source": [
    "These examples show that with the help of Python, we can achieve some general understanding of the dataset, in terms of descriptive measures, and to visualize such information in an intuitive manner.\n",
    "\n",
    "The data visualization techniques are also frequently used to explore how variables affect each other. For example, in order to present the relationship between hourly wages and the education experience, we may apply the following code. "
   ]
  },
  {
   "cell_type": "code",
   "execution_count": 68,
   "metadata": {
    "scrolled": false
   },
   "outputs": [
    {
     "data": {
      "image/png": "[encoded data removed]",
      "text/plain": [
       "<Figure size 432x288 with 1 Axes>"
      ]
     },
     "metadata": {
      "needs_background": "light"
     },
     "output_type": "display_data"
    }
   ],
   "source": [
    "plt.scatter(data['educ'],       # x data is the years of education\n",
    "            data['wage'],       # y data is the hourly wages\n",
    "            c='b', alpha=0.3)   # Color is blue, opacity is 0.3     \n",
    "\n",
    "plt.xlabel('Years of education', fontsize=14)\n",
    "plt.ylabel('Hourly wages ($)', fontsize=14)\n",
    "\n",
    "plt.show()"
   ]
  },
  {
   "cell_type": "markdown",
   "metadata": {},
   "source": [
    "The diagram above also reflects the correlation between variables, which can also be retrieved by the method <code>corr</code> of the <code>pandas.DataFrame</code> objects. "
   ]
  },
  {
   "cell_type": "code",
   "execution_count": 69,
   "metadata": {},
   "outputs": [
    {
     "data": {
      "text/html": [
       "<div>\n",
       "<style scoped>\n",
       "    .dataframe tbody tr th:only-of-type {\n",
       "        vertical-align: middle;\n",
       "    }\n",
       "\n",
       "    .dataframe tbody tr th {\n",
       "        vertical-align: top;\n",
       "    }\n",
       "\n",
       "    .dataframe thead th {\n",
       "        text-align: right;\n",
       "    }\n",
       "</style>\n",
       "<table border=\"1\" class=\"dataframe\">\n",
       "  <thead>\n",
       "    <tr style=\"text-align: right;\">\n",
       "      <th></th>\n",
       "      <th>wage</th>\n",
       "      <th>educ</th>\n",
       "      <th>exper</th>\n",
       "      <th>married</th>\n",
       "    </tr>\n",
       "  </thead>\n",
       "  <tbody>\n",
       "    <tr>\n",
       "      <th>wage</th>\n",
       "      <td>1.000000</td>\n",
       "      <td>0.405903</td>\n",
       "      <td>0.112903</td>\n",
       "      <td>0.228817</td>\n",
       "    </tr>\n",
       "    <tr>\n",
       "      <th>educ</th>\n",
       "      <td>0.405903</td>\n",
       "      <td>1.000000</td>\n",
       "      <td>-0.299542</td>\n",
       "      <td>0.068881</td>\n",
       "    </tr>\n",
       "    <tr>\n",
       "      <th>exper</th>\n",
       "      <td>0.112903</td>\n",
       "      <td>-0.299542</td>\n",
       "      <td>1.000000</td>\n",
       "      <td>0.316984</td>\n",
       "    </tr>\n",
       "    <tr>\n",
       "      <th>married</th>\n",
       "      <td>0.228817</td>\n",
       "      <td>0.068881</td>\n",
       "      <td>0.316984</td>\n",
       "      <td>1.000000</td>\n",
       "    </tr>\n",
       "  </tbody>\n",
       "</table>\n",
       "</div>"
      ],
      "text/plain": [
       "             wage      educ     exper   married\n",
       "wage     1.000000  0.405903  0.112903  0.228817\n",
       "educ     0.405903  1.000000 -0.299542  0.068881\n",
       "exper    0.112903 -0.299542  1.000000  0.316984\n",
       "married  0.228817  0.068881  0.316984  1.000000"
      ]
     },
     "execution_count": 69,
     "metadata": {},
     "output_type": "execute_result"
    }
   ],
   "source": [
    "data.corr()"
   ]
  },
  {
   "cell_type": "markdown",
   "metadata": {},
   "source": [
    "### Handling missing data <a id=\"subsection6.4\"></a>\n",
    "\n",
    "It is pretty common that real-world datasets may have some amount of data missing, such as the following GDP data for most countries from the year 1960 to 2018. "
   ]
  },
  {
   "cell_type": "code",
   "execution_count": 2,
   "metadata": {
    "scrolled": false
   },
   "outputs": [
    {
     "ename": "NameError",
     "evalue": "name 'pd' is not defined",
     "output_type": "error",
     "traceback": [
      "\u001b[1;31m---------------------------------------------------------------------------\u001b[0m",
      "\u001b[1;31mNameError\u001b[0m                                 Traceback (most recent call last)",
      "\u001b[1;32m<ipython-input-2-86dd74f534da>\u001b[0m in \u001b[0;36m<module>\u001b[1;34m\u001b[0m\n\u001b[1;32m----> 1\u001b[1;33m \u001b[0mpd\u001b[0m\u001b[1;33m.\u001b[0m\u001b[0moptions\u001b[0m\u001b[1;33m.\u001b[0m\u001b[0mdisplay\u001b[0m\u001b[1;33m.\u001b[0m\u001b[0mmax_columns\u001b[0m \u001b[1;33m=\u001b[0m \u001b[1;36m8\u001b[0m\u001b[1;33m\u001b[0m\u001b[1;33m\u001b[0m\u001b[0m\n\u001b[0m\u001b[0;32m      2\u001b[0m \u001b[0mgdp\u001b[0m \u001b[1;33m=\u001b[0m \u001b[0mpd\u001b[0m\u001b[1;33m.\u001b[0m\u001b[0mread_csv\u001b[0m\u001b[1;33m(\u001b[0m\u001b[1;34m'gdp.csv'\u001b[0m\u001b[1;33m)\u001b[0m\u001b[1;33m\u001b[0m\u001b[1;33m\u001b[0m\u001b[0m\n\u001b[0;32m      3\u001b[0m \u001b[0mgdp\u001b[0m\u001b[1;33m\u001b[0m\u001b[1;33m\u001b[0m\u001b[0m\n",
      "\u001b[1;31mNameError\u001b[0m: name 'pd' is not defined"
     ]
    }
   ],
   "source": [
    "pd.options.display.max_columns = 8\n",
    "gdp = pd.read_csv('gdp.csv')\n",
    "gdp"
   ]
  },
  {
   "cell_type": "markdown",
   "metadata": {},
   "source": [
    "It can be seen that the missing values are indicated by the mark <code>NaN</code>, meaning \"not a number\", in the data table. Next, we will discuss some basic operations that address missing data."
   ]
  },
  {
   "cell_type": "markdown",
   "metadata": {},
   "source": [
    "#### Detecting missing data:  <code>isnull()</code> and <code>notnull()</code>\n",
    "\n",
    "The method <code>isnull</code> is associated with <code>pandas.DataFrame</code> and <code>pandas.Series</code> objects. It returns <code>True</code> if the item in the table is <code>NaN</code>, and <code>False</code> otherwise. "
   ]
  },
  {
   "cell_type": "code",
   "execution_count": 71,
   "metadata": {
    "scrolled": false
   },
   "outputs": [
    {
     "data": {
      "text/html": [
       "<div>\n",
       "<style scoped>\n",
       "    .dataframe tbody tr th:only-of-type {\n",
       "        vertical-align: middle;\n",
       "    }\n",
       "\n",
       "    .dataframe tbody tr th {\n",
       "        vertical-align: top;\n",
       "    }\n",
       "\n",
       "    .dataframe thead th {\n",
       "        text-align: right;\n",
       "    }\n",
       "</style>\n",
       "<table border=\"1\" class=\"dataframe\">\n",
       "  <thead>\n",
       "    <tr style=\"text-align: right;\">\n",
       "      <th></th>\n",
       "      <th>1960</th>\n",
       "      <th>1961</th>\n",
       "    </tr>\n",
       "  </thead>\n",
       "  <tbody>\n",
       "    <tr>\n",
       "      <th>0</th>\n",
       "      <td>True</td>\n",
       "      <td>True</td>\n",
       "    </tr>\n",
       "    <tr>\n",
       "      <th>1</th>\n",
       "      <td>False</td>\n",
       "      <td>False</td>\n",
       "    </tr>\n",
       "    <tr>\n",
       "      <th>2</th>\n",
       "      <td>True</td>\n",
       "      <td>True</td>\n",
       "    </tr>\n",
       "    <tr>\n",
       "      <th>3</th>\n",
       "      <td>True</td>\n",
       "      <td>True</td>\n",
       "    </tr>\n",
       "    <tr>\n",
       "      <th>4</th>\n",
       "      <td>True</td>\n",
       "      <td>True</td>\n",
       "    </tr>\n",
       "    <tr>\n",
       "      <th>...</th>\n",
       "      <td>...</td>\n",
       "      <td>...</td>\n",
       "    </tr>\n",
       "    <tr>\n",
       "      <th>210</th>\n",
       "      <td>True</td>\n",
       "      <td>True</td>\n",
       "    </tr>\n",
       "    <tr>\n",
       "      <th>211</th>\n",
       "      <td>True</td>\n",
       "      <td>True</td>\n",
       "    </tr>\n",
       "    <tr>\n",
       "      <th>212</th>\n",
       "      <td>False</td>\n",
       "      <td>False</td>\n",
       "    </tr>\n",
       "    <tr>\n",
       "      <th>213</th>\n",
       "      <td>False</td>\n",
       "      <td>False</td>\n",
       "    </tr>\n",
       "    <tr>\n",
       "      <th>214</th>\n",
       "      <td>False</td>\n",
       "      <td>False</td>\n",
       "    </tr>\n",
       "  </tbody>\n",
       "</table>\n",
       "<p>215 rows × 2 columns</p>\n",
       "</div>"
      ],
      "text/plain": [
       "      1960   1961\n",
       "0     True   True\n",
       "1    False  False\n",
       "2     True   True\n",
       "3     True   True\n",
       "4     True   True\n",
       "..     ...    ...\n",
       "210   True   True\n",
       "211   True   True\n",
       "212  False  False\n",
       "213  False  False\n",
       "214  False  False\n",
       "\n",
       "[215 rows x 2 columns]"
      ]
     },
     "execution_count": 71,
     "metadata": {},
     "output_type": "execute_result"
    }
   ],
   "source": [
    "gdp.loc[:, '1960':'1961'].isnull()"
   ]
  },
  {
   "cell_type": "code",
   "execution_count": 72,
   "metadata": {
    "scrolled": false
   },
   "outputs": [
    {
     "data": {
      "text/plain": [
       "0       True\n",
       "1      False\n",
       "2       True\n",
       "3       True\n",
       "4       True\n",
       "       ...  \n",
       "210     True\n",
       "211     True\n",
       "212    False\n",
       "213    False\n",
       "214    False\n",
       "Name: 1960, Length: 215, dtype: bool"
      ]
     },
     "execution_count": 72,
     "metadata": {},
     "output_type": "execute_result"
    }
   ],
   "source": [
    "gdp['1960'].isnull()"
   ]
  },
  {
   "cell_type": "markdown",
   "metadata": {},
   "source": [
    "The other method, <code>notnull()</code>, as you can tell from the name, returns <code>True</code> if the item is not <code>NaN</code> and <code>False</code> otherwise. It is convenient to use this method for the selection of non-<code>NaN</code> rows from the data frame. For example, we can retrieve all GDP values for the year 1960 that are not <code>NaN</code> by the following code."
   ]
  },
  {
   "cell_type": "code",
   "execution_count": 73,
   "metadata": {
    "scrolled": false
   },
   "outputs": [
    {
     "data": {
      "text/html": [
       "<div>\n",
       "<style scoped>\n",
       "    .dataframe tbody tr th:only-of-type {\n",
       "        vertical-align: middle;\n",
       "    }\n",
       "\n",
       "    .dataframe tbody tr th {\n",
       "        vertical-align: top;\n",
       "    }\n",
       "\n",
       "    .dataframe thead th {\n",
       "        text-align: right;\n",
       "    }\n",
       "</style>\n",
       "<table border=\"1\" class=\"dataframe\">\n",
       "  <thead>\n",
       "    <tr style=\"text-align: right;\">\n",
       "      <th></th>\n",
       "      <th>Country Name</th>\n",
       "      <th>1960</th>\n",
       "    </tr>\n",
       "  </thead>\n",
       "  <tbody>\n",
       "    <tr>\n",
       "      <th>1</th>\n",
       "      <td>Afghanistan</td>\n",
       "      <td>5.377778e+08</td>\n",
       "    </tr>\n",
       "    <tr>\n",
       "      <th>10</th>\n",
       "      <td>Australia</td>\n",
       "      <td>1.857767e+10</td>\n",
       "    </tr>\n",
       "    <tr>\n",
       "      <th>11</th>\n",
       "      <td>Austria</td>\n",
       "      <td>6.592694e+09</td>\n",
       "    </tr>\n",
       "    <tr>\n",
       "      <th>13</th>\n",
       "      <td>Burundi</td>\n",
       "      <td>1.960000e+08</td>\n",
       "    </tr>\n",
       "    <tr>\n",
       "      <th>14</th>\n",
       "      <td>Belgium</td>\n",
       "      <td>1.165872e+10</td>\n",
       "    </tr>\n",
       "    <tr>\n",
       "      <th>...</th>\n",
       "      <td>...</td>\n",
       "      <td>...</td>\n",
       "    </tr>\n",
       "    <tr>\n",
       "      <th>204</th>\n",
       "      <td>St. Vincent and the Grenadines</td>\n",
       "      <td>1.306656e+07</td>\n",
       "    </tr>\n",
       "    <tr>\n",
       "      <th>205</th>\n",
       "      <td>Venezuela, RB</td>\n",
       "      <td>7.779091e+09</td>\n",
       "    </tr>\n",
       "    <tr>\n",
       "      <th>212</th>\n",
       "      <td>South Africa</td>\n",
       "      <td>7.575397e+09</td>\n",
       "    </tr>\n",
       "    <tr>\n",
       "      <th>213</th>\n",
       "      <td>Zambia</td>\n",
       "      <td>7.130000e+08</td>\n",
       "    </tr>\n",
       "    <tr>\n",
       "      <th>214</th>\n",
       "      <td>Zimbabwe</td>\n",
       "      <td>1.052990e+09</td>\n",
       "    </tr>\n",
       "  </tbody>\n",
       "</table>\n",
       "<p>101 rows × 2 columns</p>\n",
       "</div>"
      ],
      "text/plain": [
       "                       Country Name          1960\n",
       "1                       Afghanistan  5.377778e+08\n",
       "10                        Australia  1.857767e+10\n",
       "11                          Austria  6.592694e+09\n",
       "13                          Burundi  1.960000e+08\n",
       "14                          Belgium  1.165872e+10\n",
       "..                              ...           ...\n",
       "204  St. Vincent and the Grenadines  1.306656e+07\n",
       "205                   Venezuela, RB  7.779091e+09\n",
       "212                    South Africa  7.575397e+09\n",
       "213                          Zambia  7.130000e+08\n",
       "214                        Zimbabwe  1.052990e+09\n",
       "\n",
       "[101 rows x 2 columns]"
      ]
     },
     "execution_count": 73,
     "metadata": {},
     "output_type": "execute_result"
    }
   ],
   "source": [
    "gdp_1960 = gdp.loc[gdp['1960'].notnull(),       # Select rows\n",
    "                   ['Country Name', '1960']]    # Select columns\n",
    "gdp_1960"
   ]
  },
  {
   "cell_type": "markdown",
   "metadata": {},
   "source": [
    "#### Dropping missing values: <code>dropna()</code>\n",
    "A more convenient way of selecting items that are not <code>NaN</code> is to use the <code>dropna()</code> method, which also applies to both <code>pandas.DataFrame</code> and <code>pandas.Series</code> objects. We will use a subset of the GDP data to demonstrate how it works."
   ]
  },
  {
   "cell_type": "code",
   "execution_count": 74,
   "metadata": {
    "scrolled": false
   },
   "outputs": [
    {
     "data": {
      "text/html": [
       "<div>\n",
       "<style scoped>\n",
       "    .dataframe tbody tr th:only-of-type {\n",
       "        vertical-align: middle;\n",
       "    }\n",
       "\n",
       "    .dataframe tbody tr th {\n",
       "        vertical-align: top;\n",
       "    }\n",
       "\n",
       "    .dataframe thead th {\n",
       "        text-align: right;\n",
       "    }\n",
       "</style>\n",
       "<table border=\"1\" class=\"dataframe\">\n",
       "  <thead>\n",
       "    <tr style=\"text-align: right;\">\n",
       "      <th></th>\n",
       "      <th>1981</th>\n",
       "      <th>1982</th>\n",
       "      <th>1983</th>\n",
       "      <th>1984</th>\n",
       "      <th>1985</th>\n",
       "      <th>1986</th>\n",
       "    </tr>\n",
       "  </thead>\n",
       "  <tbody>\n",
       "    <tr>\n",
       "      <th>0</th>\n",
       "      <td>NaN</td>\n",
       "      <td>NaN</td>\n",
       "      <td>NaN</td>\n",
       "      <td>NaN</td>\n",
       "      <td>NaN</td>\n",
       "      <td>4.054634e+08</td>\n",
       "    </tr>\n",
       "    <tr>\n",
       "      <th>1</th>\n",
       "      <td>3.478788e+09</td>\n",
       "      <td>NaN</td>\n",
       "      <td>NaN</td>\n",
       "      <td>NaN</td>\n",
       "      <td>NaN</td>\n",
       "      <td>NaN</td>\n",
       "    </tr>\n",
       "    <tr>\n",
       "      <th>2</th>\n",
       "      <td>5.550483e+09</td>\n",
       "      <td>5.550483e+09</td>\n",
       "      <td>5.784342e+09</td>\n",
       "      <td>6.131475e+09</td>\n",
       "      <td>7.553560e+09</td>\n",
       "      <td>7.072063e+09</td>\n",
       "    </tr>\n",
       "    <tr>\n",
       "      <th>3</th>\n",
       "      <td>NaN</td>\n",
       "      <td>NaN</td>\n",
       "      <td>NaN</td>\n",
       "      <td>1.857338e+09</td>\n",
       "      <td>1.897050e+09</td>\n",
       "      <td>2.097326e+09</td>\n",
       "    </tr>\n",
       "    <tr>\n",
       "      <th>4</th>\n",
       "      <td>3.889587e+08</td>\n",
       "      <td>3.758960e+08</td>\n",
       "      <td>3.278618e+08</td>\n",
       "      <td>3.300707e+08</td>\n",
       "      <td>3.467380e+08</td>\n",
       "      <td>4.820006e+08</td>\n",
       "    </tr>\n",
       "    <tr>\n",
       "      <th>5</th>\n",
       "      <td>4.933342e+10</td>\n",
       "      <td>4.662272e+10</td>\n",
       "      <td>4.280332e+10</td>\n",
       "      <td>4.180795e+10</td>\n",
       "      <td>4.060365e+10</td>\n",
       "      <td>3.394361e+10</td>\n",
       "    </tr>\n",
       "    <tr>\n",
       "      <th>6</th>\n",
       "      <td>7.867684e+10</td>\n",
       "      <td>8.430749e+10</td>\n",
       "      <td>1.039791e+11</td>\n",
       "      <td>7.909200e+10</td>\n",
       "      <td>8.841667e+10</td>\n",
       "      <td>1.109344e+11</td>\n",
       "    </tr>\n",
       "  </tbody>\n",
       "</table>\n",
       "</div>"
      ],
      "text/plain": [
       "           1981          1982          1983          1984          1985  \\\n",
       "0           NaN           NaN           NaN           NaN           NaN   \n",
       "1  3.478788e+09           NaN           NaN           NaN           NaN   \n",
       "2  5.550483e+09  5.550483e+09  5.784342e+09  6.131475e+09  7.553560e+09   \n",
       "3           NaN           NaN           NaN  1.857338e+09  1.897050e+09   \n",
       "4  3.889587e+08  3.758960e+08  3.278618e+08  3.300707e+08  3.467380e+08   \n",
       "5  4.933342e+10  4.662272e+10  4.280332e+10  4.180795e+10  4.060365e+10   \n",
       "6  7.867684e+10  8.430749e+10  1.039791e+11  7.909200e+10  8.841667e+10   \n",
       "\n",
       "           1986  \n",
       "0  4.054634e+08  \n",
       "1           NaN  \n",
       "2  7.072063e+09  \n",
       "3  2.097326e+09  \n",
       "4  4.820006e+08  \n",
       "5  3.394361e+10  \n",
       "6  1.109344e+11  "
      ]
     },
     "execution_count": 74,
     "metadata": {},
     "output_type": "execute_result"
    }
   ],
   "source": [
    "gdp_subset = gdp.loc[:6, '1981':'1986']\n",
    "gdp_subset"
   ]
  },
  {
   "cell_type": "markdown",
   "metadata": {},
   "source": [
    "By default, the <code>dropna()</code> method drops all rows in which any null value is present. As you can see from the following example, rows <code>0</code>, <code>1</code> and <code>3</code> that have <code>NaN</code> values are removed, so there are only four rows left after dropping these rows. "
   ]
  },
  {
   "cell_type": "code",
   "execution_count": 75,
   "metadata": {
    "scrolled": false
   },
   "outputs": [
    {
     "data": {
      "text/html": [
       "<div>\n",
       "<style scoped>\n",
       "    .dataframe tbody tr th:only-of-type {\n",
       "        vertical-align: middle;\n",
       "    }\n",
       "\n",
       "    .dataframe tbody tr th {\n",
       "        vertical-align: top;\n",
       "    }\n",
       "\n",
       "    .dataframe thead th {\n",
       "        text-align: right;\n",
       "    }\n",
       "</style>\n",
       "<table border=\"1\" class=\"dataframe\">\n",
       "  <thead>\n",
       "    <tr style=\"text-align: right;\">\n",
       "      <th></th>\n",
       "      <th>1981</th>\n",
       "      <th>1982</th>\n",
       "      <th>1983</th>\n",
       "      <th>1984</th>\n",
       "      <th>1985</th>\n",
       "      <th>1986</th>\n",
       "    </tr>\n",
       "  </thead>\n",
       "  <tbody>\n",
       "    <tr>\n",
       "      <th>2</th>\n",
       "      <td>5.550483e+09</td>\n",
       "      <td>5.550483e+09</td>\n",
       "      <td>5.784342e+09</td>\n",
       "      <td>6.131475e+09</td>\n",
       "      <td>7.553560e+09</td>\n",
       "      <td>7.072063e+09</td>\n",
       "    </tr>\n",
       "    <tr>\n",
       "      <th>4</th>\n",
       "      <td>3.889587e+08</td>\n",
       "      <td>3.758960e+08</td>\n",
       "      <td>3.278618e+08</td>\n",
       "      <td>3.300707e+08</td>\n",
       "      <td>3.467380e+08</td>\n",
       "      <td>4.820006e+08</td>\n",
       "    </tr>\n",
       "    <tr>\n",
       "      <th>5</th>\n",
       "      <td>4.933342e+10</td>\n",
       "      <td>4.662272e+10</td>\n",
       "      <td>4.280332e+10</td>\n",
       "      <td>4.180795e+10</td>\n",
       "      <td>4.060365e+10</td>\n",
       "      <td>3.394361e+10</td>\n",
       "    </tr>\n",
       "    <tr>\n",
       "      <th>6</th>\n",
       "      <td>7.867684e+10</td>\n",
       "      <td>8.430749e+10</td>\n",
       "      <td>1.039791e+11</td>\n",
       "      <td>7.909200e+10</td>\n",
       "      <td>8.841667e+10</td>\n",
       "      <td>1.109344e+11</td>\n",
       "    </tr>\n",
       "  </tbody>\n",
       "</table>\n",
       "</div>"
      ],
      "text/plain": [
       "           1981          1982          1983          1984          1985  \\\n",
       "2  5.550483e+09  5.550483e+09  5.784342e+09  6.131475e+09  7.553560e+09   \n",
       "4  3.889587e+08  3.758960e+08  3.278618e+08  3.300707e+08  3.467380e+08   \n",
       "5  4.933342e+10  4.662272e+10  4.280332e+10  4.180795e+10  4.060365e+10   \n",
       "6  7.867684e+10  8.430749e+10  1.039791e+11  7.909200e+10  8.841667e+10   \n",
       "\n",
       "           1986  \n",
       "2  7.072063e+09  \n",
       "4  4.820006e+08  \n",
       "5  3.394361e+10  \n",
       "6  1.109344e+11  "
      ]
     },
     "execution_count": 75,
     "metadata": {},
     "output_type": "execute_result"
    }
   ],
   "source": [
    "temp = gdp_subset.dropna()\n",
    "temp"
   ]
  },
  {
   "cell_type": "markdown",
   "metadata": {},
   "source": [
    "Please note that in the default setting, the <code>dropna()</code> method returns a new <code>pandas.DataFrame</code> object with the <code>NaN</code> rows removed, while the original data table remain unchanged. "
   ]
  },
  {
   "cell_type": "code",
   "execution_count": 76,
   "metadata": {
    "scrolled": true
   },
   "outputs": [
    {
     "data": {
      "text/html": [
       "<div>\n",
       "<style scoped>\n",
       "    .dataframe tbody tr th:only-of-type {\n",
       "        vertical-align: middle;\n",
       "    }\n",
       "\n",
       "    .dataframe tbody tr th {\n",
       "        vertical-align: top;\n",
       "    }\n",
       "\n",
       "    .dataframe thead th {\n",
       "        text-align: right;\n",
       "    }\n",
       "</style>\n",
       "<table border=\"1\" class=\"dataframe\">\n",
       "  <thead>\n",
       "    <tr style=\"text-align: right;\">\n",
       "      <th></th>\n",
       "      <th>1981</th>\n",
       "      <th>1982</th>\n",
       "      <th>1983</th>\n",
       "      <th>1984</th>\n",
       "      <th>1985</th>\n",
       "      <th>1986</th>\n",
       "    </tr>\n",
       "  </thead>\n",
       "  <tbody>\n",
       "    <tr>\n",
       "      <th>0</th>\n",
       "      <td>NaN</td>\n",
       "      <td>NaN</td>\n",
       "      <td>NaN</td>\n",
       "      <td>NaN</td>\n",
       "      <td>NaN</td>\n",
       "      <td>4.054634e+08</td>\n",
       "    </tr>\n",
       "    <tr>\n",
       "      <th>1</th>\n",
       "      <td>3.478788e+09</td>\n",
       "      <td>NaN</td>\n",
       "      <td>NaN</td>\n",
       "      <td>NaN</td>\n",
       "      <td>NaN</td>\n",
       "      <td>NaN</td>\n",
       "    </tr>\n",
       "    <tr>\n",
       "      <th>2</th>\n",
       "      <td>5.550483e+09</td>\n",
       "      <td>5.550483e+09</td>\n",
       "      <td>5.784342e+09</td>\n",
       "      <td>6.131475e+09</td>\n",
       "      <td>7.553560e+09</td>\n",
       "      <td>7.072063e+09</td>\n",
       "    </tr>\n",
       "    <tr>\n",
       "      <th>3</th>\n",
       "      <td>NaN</td>\n",
       "      <td>NaN</td>\n",
       "      <td>NaN</td>\n",
       "      <td>1.857338e+09</td>\n",
       "      <td>1.897050e+09</td>\n",
       "      <td>2.097326e+09</td>\n",
       "    </tr>\n",
       "    <tr>\n",
       "      <th>4</th>\n",
       "      <td>3.889587e+08</td>\n",
       "      <td>3.758960e+08</td>\n",
       "      <td>3.278618e+08</td>\n",
       "      <td>3.300707e+08</td>\n",
       "      <td>3.467380e+08</td>\n",
       "      <td>4.820006e+08</td>\n",
       "    </tr>\n",
       "    <tr>\n",
       "      <th>5</th>\n",
       "      <td>4.933342e+10</td>\n",
       "      <td>4.662272e+10</td>\n",
       "      <td>4.280332e+10</td>\n",
       "      <td>4.180795e+10</td>\n",
       "      <td>4.060365e+10</td>\n",
       "      <td>3.394361e+10</td>\n",
       "    </tr>\n",
       "    <tr>\n",
       "      <th>6</th>\n",
       "      <td>7.867684e+10</td>\n",
       "      <td>8.430749e+10</td>\n",
       "      <td>1.039791e+11</td>\n",
       "      <td>7.909200e+10</td>\n",
       "      <td>8.841667e+10</td>\n",
       "      <td>1.109344e+11</td>\n",
       "    </tr>\n",
       "  </tbody>\n",
       "</table>\n",
       "</div>"
      ],
      "text/plain": [
       "           1981          1982          1983          1984          1985  \\\n",
       "0           NaN           NaN           NaN           NaN           NaN   \n",
       "1  3.478788e+09           NaN           NaN           NaN           NaN   \n",
       "2  5.550483e+09  5.550483e+09  5.784342e+09  6.131475e+09  7.553560e+09   \n",
       "3           NaN           NaN           NaN  1.857338e+09  1.897050e+09   \n",
       "4  3.889587e+08  3.758960e+08  3.278618e+08  3.300707e+08  3.467380e+08   \n",
       "5  4.933342e+10  4.662272e+10  4.280332e+10  4.180795e+10  4.060365e+10   \n",
       "6  7.867684e+10  8.430749e+10  1.039791e+11  7.909200e+10  8.841667e+10   \n",
       "\n",
       "           1986  \n",
       "0  4.054634e+08  \n",
       "1           NaN  \n",
       "2  7.072063e+09  \n",
       "3  2.097326e+09  \n",
       "4  4.820006e+08  \n",
       "5  3.394361e+10  \n",
       "6  1.109344e+11  "
      ]
     },
     "execution_count": 76,
     "metadata": {},
     "output_type": "execute_result"
    }
   ],
   "source": [
    "gdp_subset      # The original data frame remains unchanged"
   ]
  },
  {
   "cell_type": "markdown",
   "metadata": {},
   "source": [
    "We can also remove the <code>NaN</code> rows from the original data frame by configuring the argument <code>inplace=True</code>. In such cases, the original data frame is overwritten, but the method <code>dropna()</code> returns nothing (<code>None</code>)."
   ]
  },
  {
   "cell_type": "code",
   "execution_count": 77,
   "metadata": {
    "scrolled": true
   },
   "outputs": [
    {
     "name": "stdout",
     "output_type": "stream",
     "text": [
      "None\n"
     ]
    }
   ],
   "source": [
    "temp = gdp_subset.dropna(inplace=True)\n",
    "print(temp)     # The output of the dropna method is None"
   ]
  },
  {
   "cell_type": "code",
   "execution_count": 78,
   "metadata": {
    "scrolled": true
   },
   "outputs": [
    {
     "data": {
      "text/html": [
       "<div>\n",
       "<style scoped>\n",
       "    .dataframe tbody tr th:only-of-type {\n",
       "        vertical-align: middle;\n",
       "    }\n",
       "\n",
       "    .dataframe tbody tr th {\n",
       "        vertical-align: top;\n",
       "    }\n",
       "\n",
       "    .dataframe thead th {\n",
       "        text-align: right;\n",
       "    }\n",
       "</style>\n",
       "<table border=\"1\" class=\"dataframe\">\n",
       "  <thead>\n",
       "    <tr style=\"text-align: right;\">\n",
       "      <th></th>\n",
       "      <th>1981</th>\n",
       "      <th>1982</th>\n",
       "      <th>1983</th>\n",
       "      <th>1984</th>\n",
       "      <th>1985</th>\n",
       "      <th>1986</th>\n",
       "    </tr>\n",
       "  </thead>\n",
       "  <tbody>\n",
       "    <tr>\n",
       "      <th>2</th>\n",
       "      <td>5.550483e+09</td>\n",
       "      <td>5.550483e+09</td>\n",
       "      <td>5.784342e+09</td>\n",
       "      <td>6.131475e+09</td>\n",
       "      <td>7.553560e+09</td>\n",
       "      <td>7.072063e+09</td>\n",
       "    </tr>\n",
       "    <tr>\n",
       "      <th>4</th>\n",
       "      <td>3.889587e+08</td>\n",
       "      <td>3.758960e+08</td>\n",
       "      <td>3.278618e+08</td>\n",
       "      <td>3.300707e+08</td>\n",
       "      <td>3.467380e+08</td>\n",
       "      <td>4.820006e+08</td>\n",
       "    </tr>\n",
       "    <tr>\n",
       "      <th>5</th>\n",
       "      <td>4.933342e+10</td>\n",
       "      <td>4.662272e+10</td>\n",
       "      <td>4.280332e+10</td>\n",
       "      <td>4.180795e+10</td>\n",
       "      <td>4.060365e+10</td>\n",
       "      <td>3.394361e+10</td>\n",
       "    </tr>\n",
       "    <tr>\n",
       "      <th>6</th>\n",
       "      <td>7.867684e+10</td>\n",
       "      <td>8.430749e+10</td>\n",
       "      <td>1.039791e+11</td>\n",
       "      <td>7.909200e+10</td>\n",
       "      <td>8.841667e+10</td>\n",
       "      <td>1.109344e+11</td>\n",
       "    </tr>\n",
       "  </tbody>\n",
       "</table>\n",
       "</div>"
      ],
      "text/plain": [
       "           1981          1982          1983          1984          1985  \\\n",
       "2  5.550483e+09  5.550483e+09  5.784342e+09  6.131475e+09  7.553560e+09   \n",
       "4  3.889587e+08  3.758960e+08  3.278618e+08  3.300707e+08  3.467380e+08   \n",
       "5  4.933342e+10  4.662272e+10  4.280332e+10  4.180795e+10  4.060365e+10   \n",
       "6  7.867684e+10  8.430749e+10  1.039791e+11  7.909200e+10  8.841667e+10   \n",
       "\n",
       "           1986  \n",
       "2  7.072063e+09  \n",
       "4  4.820006e+08  \n",
       "5  3.394361e+10  \n",
       "6  1.109344e+11  "
      ]
     },
     "execution_count": 78,
     "metadata": {},
     "output_type": "execute_result"
    }
   ],
   "source": [
    "gdp_subset      # The original data frame is overwritten"
   ]
  },
  {
   "cell_type": "markdown",
   "metadata": {},
   "source": [
    "You may use the <code>help()</code> function to explore other arguments of the <code>dropna()</code> method, such as <code>axis</code> and <code>how</code>.\n",
    "\n",
    "Please use the <code>dropna()</code> method to retrieve all GDP values for the year 1960 that are not NaN."
   ]
  },
  {
   "cell_type": "code",
   "execution_count": 7,
   "metadata": {},
   "outputs": [
    {
     "data": {
      "text/html": [
       "<div>\n",
       "<style scoped>\n",
       "    .dataframe tbody tr th:only-of-type {\n",
       "        vertical-align: middle;\n",
       "    }\n",
       "\n",
       "    .dataframe tbody tr th {\n",
       "        vertical-align: top;\n",
       "    }\n",
       "\n",
       "    .dataframe thead th {\n",
       "        text-align: right;\n",
       "    }\n",
       "</style>\n",
       "<table border=\"1\" class=\"dataframe\">\n",
       "  <thead>\n",
       "    <tr style=\"text-align: right;\">\n",
       "      <th></th>\n",
       "      <th>Country Name</th>\n",
       "      <th>1960</th>\n",
       "    </tr>\n",
       "  </thead>\n",
       "  <tbody>\n",
       "    <tr>\n",
       "      <th>1</th>\n",
       "      <td>Afghanistan</td>\n",
       "      <td>5.377778e+08</td>\n",
       "    </tr>\n",
       "    <tr>\n",
       "      <th>10</th>\n",
       "      <td>Australia</td>\n",
       "      <td>1.857767e+10</td>\n",
       "    </tr>\n",
       "    <tr>\n",
       "      <th>11</th>\n",
       "      <td>Austria</td>\n",
       "      <td>6.592694e+09</td>\n",
       "    </tr>\n",
       "    <tr>\n",
       "      <th>13</th>\n",
       "      <td>Burundi</td>\n",
       "      <td>1.960000e+08</td>\n",
       "    </tr>\n",
       "    <tr>\n",
       "      <th>14</th>\n",
       "      <td>Belgium</td>\n",
       "      <td>1.165872e+10</td>\n",
       "    </tr>\n",
       "    <tr>\n",
       "      <th>...</th>\n",
       "      <td>...</td>\n",
       "      <td>...</td>\n",
       "    </tr>\n",
       "    <tr>\n",
       "      <th>204</th>\n",
       "      <td>St. Vincent and the Grenadines</td>\n",
       "      <td>1.306656e+07</td>\n",
       "    </tr>\n",
       "    <tr>\n",
       "      <th>205</th>\n",
       "      <td>Venezuela, RB</td>\n",
       "      <td>7.779091e+09</td>\n",
       "    </tr>\n",
       "    <tr>\n",
       "      <th>212</th>\n",
       "      <td>South Africa</td>\n",
       "      <td>7.575397e+09</td>\n",
       "    </tr>\n",
       "    <tr>\n",
       "      <th>213</th>\n",
       "      <td>Zambia</td>\n",
       "      <td>7.130000e+08</td>\n",
       "    </tr>\n",
       "    <tr>\n",
       "      <th>214</th>\n",
       "      <td>Zimbabwe</td>\n",
       "      <td>1.052990e+09</td>\n",
       "    </tr>\n",
       "  </tbody>\n",
       "</table>\n",
       "<p>101 rows × 2 columns</p>\n",
       "</div>"
      ],
      "text/plain": [
       "                       Country Name          1960\n",
       "1                       Afghanistan  5.377778e+08\n",
       "10                        Australia  1.857767e+10\n",
       "11                          Austria  6.592694e+09\n",
       "13                          Burundi  1.960000e+08\n",
       "14                          Belgium  1.165872e+10\n",
       "..                              ...           ...\n",
       "204  St. Vincent and the Grenadines  1.306656e+07\n",
       "205                   Venezuela, RB  7.779091e+09\n",
       "212                    South Africa  7.575397e+09\n",
       "213                          Zambia  7.130000e+08\n",
       "214                        Zimbabwe  1.052990e+09\n",
       "\n",
       "[101 rows x 2 columns]"
      ]
     },
     "execution_count": 7,
     "metadata": {},
     "output_type": "execute_result"
    }
   ],
   "source": [
    "gdp = pd.read_csv('gdp.csv')\n",
    "gdp1960 = gdp.loc[:,['Country Name', '1960']]\n",
    "gdp1960.dropna(inplace=True)\n",
    "gdp1960"
   ]
  },
  {
   "cell_type": "markdown",
   "metadata": {},
   "source": [
    "#### Replacing <code>NaN</code> by other values: <code>fillna()</code>\n",
    "\n",
    "Sometimes rather than dropping <code>NaN</code> values, you would rather replace them with a valid value, such as zero or a string remark. This can be done by using the <code>fillna()</code> method. "
   ]
  },
  {
   "cell_type": "code",
   "execution_count": 79,
   "metadata": {
    "scrolled": true
   },
   "outputs": [
    {
     "data": {
      "text/html": [
       "<div>\n",
       "<style scoped>\n",
       "    .dataframe tbody tr th:only-of-type {\n",
       "        vertical-align: middle;\n",
       "    }\n",
       "\n",
       "    .dataframe tbody tr th {\n",
       "        vertical-align: top;\n",
       "    }\n",
       "\n",
       "    .dataframe thead th {\n",
       "        text-align: right;\n",
       "    }\n",
       "</style>\n",
       "<table border=\"1\" class=\"dataframe\">\n",
       "  <thead>\n",
       "    <tr style=\"text-align: right;\">\n",
       "      <th></th>\n",
       "      <th>1981</th>\n",
       "      <th>1982</th>\n",
       "      <th>1983</th>\n",
       "      <th>1984</th>\n",
       "      <th>1985</th>\n",
       "      <th>1986</th>\n",
       "    </tr>\n",
       "  </thead>\n",
       "  <tbody>\n",
       "    <tr>\n",
       "      <th>0</th>\n",
       "      <td>NaN</td>\n",
       "      <td>NaN</td>\n",
       "      <td>NaN</td>\n",
       "      <td>NaN</td>\n",
       "      <td>NaN</td>\n",
       "      <td>4.054634e+08</td>\n",
       "    </tr>\n",
       "    <tr>\n",
       "      <th>1</th>\n",
       "      <td>3.478788e+09</td>\n",
       "      <td>NaN</td>\n",
       "      <td>NaN</td>\n",
       "      <td>NaN</td>\n",
       "      <td>NaN</td>\n",
       "      <td>NaN</td>\n",
       "    </tr>\n",
       "    <tr>\n",
       "      <th>2</th>\n",
       "      <td>5.550483e+09</td>\n",
       "      <td>5.550483e+09</td>\n",
       "      <td>5.784342e+09</td>\n",
       "      <td>6.131475e+09</td>\n",
       "      <td>7.553560e+09</td>\n",
       "      <td>7.072063e+09</td>\n",
       "    </tr>\n",
       "    <tr>\n",
       "      <th>3</th>\n",
       "      <td>NaN</td>\n",
       "      <td>NaN</td>\n",
       "      <td>NaN</td>\n",
       "      <td>1.857338e+09</td>\n",
       "      <td>1.897050e+09</td>\n",
       "      <td>2.097326e+09</td>\n",
       "    </tr>\n",
       "    <tr>\n",
       "      <th>4</th>\n",
       "      <td>3.889587e+08</td>\n",
       "      <td>3.758960e+08</td>\n",
       "      <td>3.278618e+08</td>\n",
       "      <td>3.300707e+08</td>\n",
       "      <td>3.467380e+08</td>\n",
       "      <td>4.820006e+08</td>\n",
       "    </tr>\n",
       "    <tr>\n",
       "      <th>5</th>\n",
       "      <td>4.933342e+10</td>\n",
       "      <td>4.662272e+10</td>\n",
       "      <td>4.280332e+10</td>\n",
       "      <td>4.180795e+10</td>\n",
       "      <td>4.060365e+10</td>\n",
       "      <td>3.394361e+10</td>\n",
       "    </tr>\n",
       "    <tr>\n",
       "      <th>6</th>\n",
       "      <td>7.867684e+10</td>\n",
       "      <td>8.430749e+10</td>\n",
       "      <td>1.039791e+11</td>\n",
       "      <td>7.909200e+10</td>\n",
       "      <td>8.841667e+10</td>\n",
       "      <td>1.109344e+11</td>\n",
       "    </tr>\n",
       "  </tbody>\n",
       "</table>\n",
       "</div>"
      ],
      "text/plain": [
       "           1981          1982          1983          1984          1985  \\\n",
       "0           NaN           NaN           NaN           NaN           NaN   \n",
       "1  3.478788e+09           NaN           NaN           NaN           NaN   \n",
       "2  5.550483e+09  5.550483e+09  5.784342e+09  6.131475e+09  7.553560e+09   \n",
       "3           NaN           NaN           NaN  1.857338e+09  1.897050e+09   \n",
       "4  3.889587e+08  3.758960e+08  3.278618e+08  3.300707e+08  3.467380e+08   \n",
       "5  4.933342e+10  4.662272e+10  4.280332e+10  4.180795e+10  4.060365e+10   \n",
       "6  7.867684e+10  8.430749e+10  1.039791e+11  7.909200e+10  8.841667e+10   \n",
       "\n",
       "           1986  \n",
       "0  4.054634e+08  \n",
       "1           NaN  \n",
       "2  7.072063e+09  \n",
       "3  2.097326e+09  \n",
       "4  4.820006e+08  \n",
       "5  3.394361e+10  \n",
       "6  1.109344e+11  "
      ]
     },
     "execution_count": 79,
     "metadata": {},
     "output_type": "execute_result"
    }
   ],
   "source": [
    "gdp_subset = gdp.loc[:6, '1981':'1986']\n",
    "gdp_subset"
   ]
  },
  {
   "cell_type": "code",
   "execution_count": 80,
   "metadata": {
    "scrolled": true
   },
   "outputs": [
    {
     "data": {
      "text/html": [
       "<div>\n",
       "<style scoped>\n",
       "    .dataframe tbody tr th:only-of-type {\n",
       "        vertical-align: middle;\n",
       "    }\n",
       "\n",
       "    .dataframe tbody tr th {\n",
       "        vertical-align: top;\n",
       "    }\n",
       "\n",
       "    .dataframe thead th {\n",
       "        text-align: right;\n",
       "    }\n",
       "</style>\n",
       "<table border=\"1\" class=\"dataframe\">\n",
       "  <thead>\n",
       "    <tr style=\"text-align: right;\">\n",
       "      <th></th>\n",
       "      <th>1981</th>\n",
       "      <th>1982</th>\n",
       "      <th>1983</th>\n",
       "      <th>1984</th>\n",
       "      <th>1985</th>\n",
       "      <th>1986</th>\n",
       "    </tr>\n",
       "  </thead>\n",
       "  <tbody>\n",
       "    <tr>\n",
       "      <th>0</th>\n",
       "      <td>Unknown</td>\n",
       "      <td>Unknown</td>\n",
       "      <td>Unknown</td>\n",
       "      <td>Unknown</td>\n",
       "      <td>Unknown</td>\n",
       "      <td>405463417.11746</td>\n",
       "    </tr>\n",
       "    <tr>\n",
       "      <th>1</th>\n",
       "      <td>3478787909.09091</td>\n",
       "      <td>Unknown</td>\n",
       "      <td>Unknown</td>\n",
       "      <td>Unknown</td>\n",
       "      <td>Unknown</td>\n",
       "      <td>Unknown</td>\n",
       "    </tr>\n",
       "    <tr>\n",
       "      <th>2</th>\n",
       "      <td>5550483035.90815</td>\n",
       "      <td>5550483035.90815</td>\n",
       "      <td>5784341596.36339</td>\n",
       "      <td>6131475065.23832</td>\n",
       "      <td>7553560459.104279</td>\n",
       "      <td>7072063345.44786</td>\n",
       "    </tr>\n",
       "    <tr>\n",
       "      <th>3</th>\n",
       "      <td>Unknown</td>\n",
       "      <td>Unknown</td>\n",
       "      <td>Unknown</td>\n",
       "      <td>1857338011.85488</td>\n",
       "      <td>1897050133.42015</td>\n",
       "      <td>2097326250.0</td>\n",
       "    </tr>\n",
       "    <tr>\n",
       "      <th>4</th>\n",
       "      <td>388958731.302938</td>\n",
       "      <td>375895956.383462</td>\n",
       "      <td>327861832.946636</td>\n",
       "      <td>330070689.298282</td>\n",
       "      <td>346737964.774951</td>\n",
       "      <td>482000594.03588</td>\n",
       "    </tr>\n",
       "    <tr>\n",
       "      <th>5</th>\n",
       "      <td>49333424135.113098</td>\n",
       "      <td>46622718605.284698</td>\n",
       "      <td>42803323345.137604</td>\n",
       "      <td>41807954235.903</td>\n",
       "      <td>40603650231.544502</td>\n",
       "      <td>33943612094.7971</td>\n",
       "    </tr>\n",
       "    <tr>\n",
       "      <th>6</th>\n",
       "      <td>78676842366.421295</td>\n",
       "      <td>84307486836.723999</td>\n",
       "      <td>103979106777.910995</td>\n",
       "      <td>79092001998.031998</td>\n",
       "      <td>88416668900.259598</td>\n",
       "      <td>110934442762.694</td>\n",
       "    </tr>\n",
       "  </tbody>\n",
       "</table>\n",
       "</div>"
      ],
      "text/plain": [
       "                 1981                1982                 1983  \\\n",
       "0             Unknown             Unknown              Unknown   \n",
       "1    3478787909.09091             Unknown              Unknown   \n",
       "2    5550483035.90815    5550483035.90815     5784341596.36339   \n",
       "3             Unknown             Unknown              Unknown   \n",
       "4    388958731.302938    375895956.383462     327861832.946636   \n",
       "5  49333424135.113098  46622718605.284698   42803323345.137604   \n",
       "6  78676842366.421295  84307486836.723999  103979106777.910995   \n",
       "\n",
       "                 1984                1985              1986  \n",
       "0             Unknown             Unknown   405463417.11746  \n",
       "1             Unknown             Unknown           Unknown  \n",
       "2    6131475065.23832   7553560459.104279  7072063345.44786  \n",
       "3    1857338011.85488    1897050133.42015      2097326250.0  \n",
       "4    330070689.298282    346737964.774951   482000594.03588  \n",
       "5     41807954235.903  40603650231.544502  33943612094.7971  \n",
       "6  79092001998.031998  88416668900.259598  110934442762.694  "
      ]
     },
     "execution_count": 80,
     "metadata": {},
     "output_type": "execute_result"
    }
   ],
   "source": [
    "temp = gdp_subset.fillna('Unknown') # Fill all NaN items with 'Unknown'\n",
    "temp"
   ]
  },
  {
   "cell_type": "markdown",
   "metadata": {},
   "source": [
    "Similar to the previous case, the argument <code>inplace</code> can be used to determine if the method returns a new data frame or simply overwrite the original data frame without returning anything."
   ]
  },
  {
   "cell_type": "code",
   "execution_count": 81,
   "metadata": {
    "scrolled": true
   },
   "outputs": [
    {
     "data": {
      "text/html": [
       "<div>\n",
       "<style scoped>\n",
       "    .dataframe tbody tr th:only-of-type {\n",
       "        vertical-align: middle;\n",
       "    }\n",
       "\n",
       "    .dataframe tbody tr th {\n",
       "        vertical-align: top;\n",
       "    }\n",
       "\n",
       "    .dataframe thead th {\n",
       "        text-align: right;\n",
       "    }\n",
       "</style>\n",
       "<table border=\"1\" class=\"dataframe\">\n",
       "  <thead>\n",
       "    <tr style=\"text-align: right;\">\n",
       "      <th></th>\n",
       "      <th>1981</th>\n",
       "      <th>1982</th>\n",
       "      <th>1983</th>\n",
       "      <th>1984</th>\n",
       "      <th>1985</th>\n",
       "      <th>1986</th>\n",
       "    </tr>\n",
       "  </thead>\n",
       "  <tbody>\n",
       "    <tr>\n",
       "      <th>0</th>\n",
       "      <td>0.000000e+00</td>\n",
       "      <td>0.000000e+00</td>\n",
       "      <td>0.000000e+00</td>\n",
       "      <td>0.000000e+00</td>\n",
       "      <td>0.000000e+00</td>\n",
       "      <td>4.054634e+08</td>\n",
       "    </tr>\n",
       "    <tr>\n",
       "      <th>1</th>\n",
       "      <td>3.478788e+09</td>\n",
       "      <td>0.000000e+00</td>\n",
       "      <td>0.000000e+00</td>\n",
       "      <td>0.000000e+00</td>\n",
       "      <td>0.000000e+00</td>\n",
       "      <td>0.000000e+00</td>\n",
       "    </tr>\n",
       "    <tr>\n",
       "      <th>2</th>\n",
       "      <td>5.550483e+09</td>\n",
       "      <td>5.550483e+09</td>\n",
       "      <td>5.784342e+09</td>\n",
       "      <td>6.131475e+09</td>\n",
       "      <td>7.553560e+09</td>\n",
       "      <td>7.072063e+09</td>\n",
       "    </tr>\n",
       "    <tr>\n",
       "      <th>3</th>\n",
       "      <td>0.000000e+00</td>\n",
       "      <td>0.000000e+00</td>\n",
       "      <td>0.000000e+00</td>\n",
       "      <td>1.857338e+09</td>\n",
       "      <td>1.897050e+09</td>\n",
       "      <td>2.097326e+09</td>\n",
       "    </tr>\n",
       "    <tr>\n",
       "      <th>4</th>\n",
       "      <td>3.889587e+08</td>\n",
       "      <td>3.758960e+08</td>\n",
       "      <td>3.278618e+08</td>\n",
       "      <td>3.300707e+08</td>\n",
       "      <td>3.467380e+08</td>\n",
       "      <td>4.820006e+08</td>\n",
       "    </tr>\n",
       "    <tr>\n",
       "      <th>5</th>\n",
       "      <td>4.933342e+10</td>\n",
       "      <td>4.662272e+10</td>\n",
       "      <td>4.280332e+10</td>\n",
       "      <td>4.180795e+10</td>\n",
       "      <td>4.060365e+10</td>\n",
       "      <td>3.394361e+10</td>\n",
       "    </tr>\n",
       "    <tr>\n",
       "      <th>6</th>\n",
       "      <td>7.867684e+10</td>\n",
       "      <td>8.430749e+10</td>\n",
       "      <td>1.039791e+11</td>\n",
       "      <td>7.909200e+10</td>\n",
       "      <td>8.841667e+10</td>\n",
       "      <td>1.109344e+11</td>\n",
       "    </tr>\n",
       "  </tbody>\n",
       "</table>\n",
       "</div>"
      ],
      "text/plain": [
       "           1981          1982          1983          1984          1985  \\\n",
       "0  0.000000e+00  0.000000e+00  0.000000e+00  0.000000e+00  0.000000e+00   \n",
       "1  3.478788e+09  0.000000e+00  0.000000e+00  0.000000e+00  0.000000e+00   \n",
       "2  5.550483e+09  5.550483e+09  5.784342e+09  6.131475e+09  7.553560e+09   \n",
       "3  0.000000e+00  0.000000e+00  0.000000e+00  1.857338e+09  1.897050e+09   \n",
       "4  3.889587e+08  3.758960e+08  3.278618e+08  3.300707e+08  3.467380e+08   \n",
       "5  4.933342e+10  4.662272e+10  4.280332e+10  4.180795e+10  4.060365e+10   \n",
       "6  7.867684e+10  8.430749e+10  1.039791e+11  7.909200e+10  8.841667e+10   \n",
       "\n",
       "           1986  \n",
       "0  4.054634e+08  \n",
       "1  0.000000e+00  \n",
       "2  7.072063e+09  \n",
       "3  2.097326e+09  \n",
       "4  4.820006e+08  \n",
       "5  3.394361e+10  \n",
       "6  1.109344e+11  "
      ]
     },
     "execution_count": 81,
     "metadata": {},
     "output_type": "execute_result"
    }
   ],
   "source": [
    "gdp_subset.fillna(0, inplace=True) # Fill all NaN items with zero\n",
    "gdp_subset"
   ]
  },
  {
   "cell_type": "markdown",
   "metadata": {},
   "source": [
    "## Case Studies <a id=\"section7\"></a>\n",
    "### Case study 1: Singapore condo prices <a id=\"subsection7.1\"></a>"
   ]
  },
  {
   "cell_type": "code",
   "execution_count": 1,
   "metadata": {
    "scrolled": true
   },
   "outputs": [
    {
     "ename": "NameError",
     "evalue": "name 'pd' is not defined",
     "output_type": "error",
     "traceback": [
      "\u001b[1;31m---------------------------------------------------------------------------\u001b[0m",
      "\u001b[1;31mNameError\u001b[0m                                 Traceback (most recent call last)",
      "\u001b[1;32m<ipython-input-1-5893ffb34951>\u001b[0m in \u001b[0;36m<module>\u001b[1;34m\u001b[0m\n\u001b[1;32m----> 1\u001b[1;33m \u001b[0mdata\u001b[0m \u001b[1;33m=\u001b[0m \u001b[0mpd\u001b[0m\u001b[1;33m.\u001b[0m\u001b[0mread_csv\u001b[0m\u001b[1;33m(\u001b[0m\u001b[1;34m'condo.csv'\u001b[0m\u001b[1;33m)\u001b[0m\u001b[1;33m\u001b[0m\u001b[1;33m\u001b[0m\u001b[0m\n\u001b[0m\u001b[0;32m      2\u001b[0m \u001b[0mdata\u001b[0m\u001b[1;33m.\u001b[0m\u001b[0mhead\u001b[0m\u001b[1;33m(\u001b[0m\u001b[1;33m)\u001b[0m\u001b[1;33m\u001b[0m\u001b[1;33m\u001b[0m\u001b[0m\n",
      "\u001b[1;31mNameError\u001b[0m: name 'pd' is not defined"
     ]
    }
   ],
   "source": [
    "data = pd.read_csv('condo.csv')\n",
    "data.head()"
   ]
  },
  {
   "cell_type": "markdown",
   "metadata": {},
   "source": [
    "Details of the variables are given below:\n",
    "- <code>name</code>: The name of the condo project.\n",
    "- <code>price</code>: The total price of the condo, in Singapore Dollars. \n",
    "- <code>unit_price</code>: The unit price of the condo, in Singapore Dollars per square feet. \n",
    "- <code>district_code</code>: The district code of Singapore, details can be found [here](https://www.mingproperty.sg/singapore-district-code/).\n",
    "- <code>segment</code>: Three regions of Singapore: Core Central Region (CCR), Rest of Central Region (RCR) and the Outside Central Region (OCR).\n",
    "- <code>type</code>: The types of condos: \"Resale\" or \"New Sale\". \n",
    "- <code>level</code>: The levels of the condos.\n",
    "- <code>remaining</code>: The remaining years of the condo tenures. \n",
    "- <code>date</code>: The dates of transactions. \n",
    "\n",
    "#### Prices of resale and new sale condos\n",
    "\n",
    "Use proper data visuals to compare resale and new sale condos."
   ]
  },
  {
   "cell_type": "code",
   "execution_count": 1,
   "metadata": {},
   "outputs": [
    {
     "ename": "NameError",
     "evalue": "name 'pd' is not defined",
     "output_type": "error",
     "traceback": [
      "\u001b[1;31m---------------------------------------------------------------------------\u001b[0m",
      "\u001b[1;31mNameError\u001b[0m                                 Traceback (most recent call last)",
      "\u001b[1;32m<ipython-input-1-3250f33311aa>\u001b[0m in \u001b[0;36m<module>\u001b[1;34m\u001b[0m\n\u001b[1;32m----> 1\u001b[1;33m \u001b[0mdata\u001b[0m \u001b[1;33m=\u001b[0m \u001b[0mpd\u001b[0m\u001b[1;33m.\u001b[0m\u001b[0mread_csv\u001b[0m\u001b[1;33m(\u001b[0m\u001b[1;34m'condo.csv'\u001b[0m\u001b[1;33m)\u001b[0m\u001b[1;33m\u001b[0m\u001b[1;33m\u001b[0m\u001b[0m\n\u001b[0m\u001b[0;32m      2\u001b[0m \u001b[0mresale\u001b[0m \u001b[1;33m=\u001b[0m \u001b[0mdata\u001b[0m\u001b[1;33m.\u001b[0m\u001b[0mloc\u001b[0m\u001b[1;33m[\u001b[0m\u001b[0mdata\u001b[0m\u001b[1;33m[\u001b[0m\u001b[1;34m'type'\u001b[0m\u001b[1;33m]\u001b[0m\u001b[1;33m==\u001b[0m\u001b[1;34m'Resale'\u001b[0m\u001b[1;33m]\u001b[0m\u001b[1;33m\u001b[0m\u001b[1;33m\u001b[0m\u001b[0m\n\u001b[0;32m      3\u001b[0m \u001b[0msale\u001b[0m \u001b[1;33m=\u001b[0m \u001b[0mdata\u001b[0m\u001b[1;33m.\u001b[0m\u001b[0mloc\u001b[0m\u001b[1;33m[\u001b[0m\u001b[0mdata\u001b[0m\u001b[1;33m[\u001b[0m\u001b[1;34m'type'\u001b[0m\u001b[1;33m]\u001b[0m\u001b[1;33m==\u001b[0m\u001b[1;34m'New Sale'\u001b[0m\u001b[1;33m]\u001b[0m\u001b[1;33m\u001b[0m\u001b[1;33m\u001b[0m\u001b[0m\n\u001b[0;32m      4\u001b[0m plt.bar([0,1],\n\u001b[0;32m      5\u001b[0m        [resale['price'].mean(),\n",
      "\u001b[1;31mNameError\u001b[0m: name 'pd' is not defined"
     ]
    }
   ],
   "source": []
  },
  {
   "cell_type": "markdown",
   "metadata": {},
   "source": [
    "#### Freehold or 99-year tenure\n",
    "\n",
    "Create a new column <code>tenure</code> for the dataset <code>data</code> where the value is 1) '99 years' if the value of <code>remaining_years</code> is no larger than 99 years; and 2) 'freehold' if the value of  <code>remaining_years</code> is larger than 99."
   ]
  },
  {
   "cell_type": "code",
   "execution_count": null,
   "metadata": {
    "scrolled": false
   },
   "outputs": [],
   "source": []
  },
  {
   "cell_type": "markdown",
   "metadata": {},
   "source": [
    "#### Condo areas and prices\n",
    "\n",
    "Considering all **new sale freehold condos smaller than 2000 square feet**, use proper data visualization method to show how condo prices are affected by their areas."
   ]
  },
  {
   "cell_type": "code",
   "execution_count": null,
   "metadata": {
    "scrolled": false
   },
   "outputs": [],
   "source": []
  },
  {
   "cell_type": "markdown",
   "metadata": {},
   "source": [
    "#### Condo prices in different regions\n",
    "\n",
    "Considering all **new sale freehold condos smaller than 2000 square feet**, use proper data visualization method to show how prices of condos in different regions, CCR, RCR, or OCR, are affected by their areas."
   ]
  },
  {
   "cell_type": "code",
   "execution_count": null,
   "metadata": {
    "scrolled": false
   },
   "outputs": [],
   "source": []
  }
 ],
 "metadata": {
  "kernelspec": {
   "display_name": "Python 3",
   "language": "python",
   "name": "python3"
  },
  "language_info": {
   "codemirror_mode": {
    "name": "ipython",
    "version": 3
   },
   "file_extension": ".py",
   "mimetype": "text/x-python",
   "name": "python",
   "nbconvert_exporter": "python",
   "pygments_lexer": "ipython3",
   "version": "3.8.8"
  }
 },
 "nbformat": 4,
 "nbformat_minor": 2
}

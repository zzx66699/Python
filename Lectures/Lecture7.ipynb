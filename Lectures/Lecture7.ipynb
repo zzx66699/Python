{
 "cells": [
  {
   "cell_type": "markdown",
   "metadata": {},
   "source": [
    "# Lecture 7: Mighty Pandas\n",
    "## Contents\n",
    "- [Imports](#section1)\n",
    "- [Operations of Pandas](#section2)\n",
    "    - [Method <code>groupby()</code>: split, apply, and combine](#subsection2.1)\n",
    "    - [Time series data](#subsection2.2)\n",
    "    - [Vectorized string operations](#subsection2.3)\n",
    "    - [Pivot table](#subsection2.4)\n",
    "- [Case studies](#section3)\n",
    "    - [Case study: Benford's law](#subsection3.1)"
   ]
  },
  {
   "cell_type": "markdown",
   "metadata": {},
   "source": [
    " "
   ]
  },
  {
   "cell_type": "markdown",
   "metadata": {},
   "source": [
    "## Imports <a id=\"section1\"></a>"
   ]
  },
  {
   "cell_type": "code",
   "execution_count": 4,
   "metadata": {},
   "outputs": [],
   "source": [
    "import matplotlib.pyplot as plt\n",
    "import pandas as pd\n",
    "import numpy as np"
   ]
  },
  {
   "cell_type": "markdown",
   "metadata": {},
   "source": [
    " "
   ]
  },
  {
   "cell_type": "markdown",
   "metadata": {},
   "source": [
    "## Operations of Pandas <a id=\"section2\"></a>\n",
    "\n",
    "### Method <code>groupby()</code>: split, apply, and combine <a id=\"subsection2.1\"></a>\n",
    "\n",
    "<div class=\"alert alert-block alert-success\">\n",
    "<b>Example 1:</b> The 'condo.csv' dataset contain the prices of condos in Singapore for the past a few years. Find the average values and the sample standard deviations of condo prices in the CCR, RCR, and OCR areas, respectively.\n",
    "</div>\n",
    "Based on what we learned in the previous lecture, these descriptive measures can be obtained by calling the methods <code>mean()</code> and <code>std()</code> after we split the overall dataset into three subsets for CCR, RCR, and OCR areas."
   ]
  },
  {
   "cell_type": "code",
   "execution_count": 2,
   "metadata": {
    "scrolled": false
   },
   "outputs": [
    {
     "data": {
      "text/html": [
       "<div>\n",
       "<style scoped>\n",
       "    .dataframe tbody tr th:only-of-type {\n",
       "        vertical-align: middle;\n",
       "    }\n",
       "\n",
       "    .dataframe tbody tr th {\n",
       "        vertical-align: top;\n",
       "    }\n",
       "\n",
       "    .dataframe thead th {\n",
       "        text-align: right;\n",
       "    }\n",
       "</style>\n",
       "<table border=\"1\" class=\"dataframe\">\n",
       "  <thead>\n",
       "    <tr style=\"text-align: right;\">\n",
       "      <th></th>\n",
       "      <th>name</th>\n",
       "      <th>price</th>\n",
       "      <th>unit_price</th>\n",
       "      <th>district_code</th>\n",
       "      <th>segment</th>\n",
       "      <th>type</th>\n",
       "      <th>area</th>\n",
       "      <th>level</th>\n",
       "      <th>remaining_years</th>\n",
       "      <th>date</th>\n",
       "    </tr>\n",
       "  </thead>\n",
       "  <tbody>\n",
       "    <tr>\n",
       "      <th>0</th>\n",
       "      <td>SEASCAPE</td>\n",
       "      <td>4388000</td>\n",
       "      <td>2028</td>\n",
       "      <td>4</td>\n",
       "      <td>CCR</td>\n",
       "      <td>Resale</td>\n",
       "      <td>2164</td>\n",
       "      <td>06 to 10</td>\n",
       "      <td>87.0</td>\n",
       "      <td>Nov-19</td>\n",
       "    </tr>\n",
       "    <tr>\n",
       "      <th>1</th>\n",
       "      <td>COMMONWEALTH TOWERS</td>\n",
       "      <td>1300000</td>\n",
       "      <td>1887</td>\n",
       "      <td>3</td>\n",
       "      <td>RCR</td>\n",
       "      <td>Resale</td>\n",
       "      <td>689</td>\n",
       "      <td>16 to 20</td>\n",
       "      <td>93.0</td>\n",
       "      <td>Nov-19</td>\n",
       "    </tr>\n",
       "    <tr>\n",
       "      <th>2</th>\n",
       "      <td>THE TRILINQ</td>\n",
       "      <td>1755000</td>\n",
       "      <td>1304</td>\n",
       "      <td>5</td>\n",
       "      <td>OCR</td>\n",
       "      <td>Resale</td>\n",
       "      <td>1346</td>\n",
       "      <td>06 to 10</td>\n",
       "      <td>92.0</td>\n",
       "      <td>Nov-19</td>\n",
       "    </tr>\n",
       "    <tr>\n",
       "      <th>3</th>\n",
       "      <td>THE CREST</td>\n",
       "      <td>2085000</td>\n",
       "      <td>2201</td>\n",
       "      <td>3</td>\n",
       "      <td>RCR</td>\n",
       "      <td>Resale</td>\n",
       "      <td>947</td>\n",
       "      <td>01 to 05</td>\n",
       "      <td>92.0</td>\n",
       "      <td>Nov-19</td>\n",
       "    </tr>\n",
       "    <tr>\n",
       "      <th>4</th>\n",
       "      <td>THE ANCHORAGE</td>\n",
       "      <td>1848888</td>\n",
       "      <td>1468</td>\n",
       "      <td>3</td>\n",
       "      <td>RCR</td>\n",
       "      <td>Resale</td>\n",
       "      <td>1259</td>\n",
       "      <td>01 to 05</td>\n",
       "      <td>999.0</td>\n",
       "      <td>Nov-19</td>\n",
       "    </tr>\n",
       "  </tbody>\n",
       "</table>\n",
       "</div>"
      ],
      "text/plain": [
       "                  name    price  unit_price  district_code segment    type  \\\n",
       "0             SEASCAPE  4388000        2028              4     CCR  Resale   \n",
       "1  COMMONWEALTH TOWERS  1300000        1887              3     RCR  Resale   \n",
       "2          THE TRILINQ  1755000        1304              5     OCR  Resale   \n",
       "3            THE CREST  2085000        2201              3     RCR  Resale   \n",
       "4        THE ANCHORAGE  1848888        1468              3     RCR  Resale   \n",
       "\n",
       "   area     level  remaining_years    date  \n",
       "0  2164  06 to 10             87.0  Nov-19  \n",
       "1   689  16 to 20             93.0  Nov-19  \n",
       "2  1346  06 to 10             92.0  Nov-19  \n",
       "3   947  01 to 05             92.0  Nov-19  \n",
       "4  1259  01 to 05            999.0  Nov-19  "
      ]
     },
     "execution_count": 2,
     "metadata": {},
     "output_type": "execute_result"
    }
   ],
   "source": [
    "data = pd.read_csv('condo.csv')\n",
    "data.head()"
   ]
  },
  {
   "cell_type": "code",
   "execution_count": 3,
   "metadata": {
    "scrolled": true
   },
   "outputs": [
    {
     "name": "stdout",
     "output_type": "stream",
     "text": [
      "Average prices:       [3299744.1464656354, 1644209.3758286098, 1129063.018015854]\n",
      "Standard deviations:  [2751965.0405150605, 796996.1906509064, 371939.0777243931]\n"
     ]
    }
   ],
   "source": [
    "means = []\n",
    "stds = []\n",
    "for segment in data['segment'].unique():            # Iterate all values of segments\n",
    "    subset = data.loc[data['segment'] == segment]   # Take a subset for one segment\n",
    "    means.append(subset['price'].mean())            # Append the mean of the subset\n",
    "    stds.append(subset['price'].std())              # Append the std of the subset\n",
    "\n",
    "print('Average prices:      ', means)\n",
    "print('Standard deviations: ', stds)"
   ]
  },
  {
   "cell_type": "markdown",
   "metadata": {},
   "source": [
    "The logic of the program above can be summarized as:\n",
    "1. A <code>for</code> is used to take a subset for each segment: CCR, RCR, and OCR. \n",
    "2. The average and standard deviation of each segment is calculated.\n",
    "3. THe calculated results are appended to the lists <code>means</code> and <code>stds</code>.\n",
    "\n",
    "These three steps, namely **split**, **apply**, and **combine**, can be unified into the method <code>groupby()</code> of the <code>pandas.DataFrame</code> data structure. The logic of the <code>groupby()</code> can be illustrated by the following graph.\n",
    "\n",
    "<img src=\"https://jakevdp.github.io/figures/split-apply-combine.svg\" width=550>\n",
    "\n",
    "More specifically,\n",
    "1. The **split** step involves breaking up and grouping a <code>pandas.DataFrame</code> object according to the values of a selected variable (or multiple variables).\n",
    "2. The **apply** step involves computing some function, usually an aggregate (like <code>sum()</code> in the graph), transformation, or filtering, within the individual groups.\n",
    "3. The **combine** step merges the results of these operations into a Series or data frame.\n",
    "\n",
    "Such a logic can be used for **Example 1**, where the average values and standard deviations can be calculated by the <code>groupby()</code> method."
   ]
  },
  {
   "cell_type": "code",
   "execution_count": 4,
   "metadata": {},
   "outputs": [
    {
     "data": {
      "text/plain": [
       "segment\n",
       "CCR    3.299744e+06\n",
       "OCR    1.129063e+06\n",
       "RCR    1.644209e+06\n",
       "Name: price, dtype: float64"
      ]
     },
     "execution_count": 4,
     "metadata": {},
     "output_type": "execute_result"
    }
   ],
   "source": [
    "price_means = data.groupby('segment')['price'].mean()\n",
    "price_means"
   ]
  },
  {
   "cell_type": "code",
   "execution_count": 5,
   "metadata": {
    "scrolled": true
   },
   "outputs": [
    {
     "data": {
      "text/plain": [
       "segment\n",
       "CCR    2.751965e+06\n",
       "OCR    3.719391e+05\n",
       "RCR    7.969962e+05\n",
       "Name: price, dtype: float64"
      ]
     },
     "execution_count": 5,
     "metadata": {},
     "output_type": "execute_result"
    }
   ],
   "source": [
    "price_stds = data.groupby('segment')['price'].std()\n",
    "price_stds"
   ]
  },
  {
   "cell_type": "markdown",
   "metadata": {},
   "source": [
    "The code above splits the dataset according to the values of the <code>segment</code> column, and the methods <code>mean()</code> and <code>std()</code> are applied as the aggregation calculation, then the results are combined into series. In the remaining part of this section, we will focus on the **apply** step, where different types of functions are called to perform **aggregate**, **transformation**, or **filtering** operations for each data group.\n",
    "\n",
    "#### Aggregations via <code>agg()</code>\n",
    "\n",
    "In **Example 1**, we have used the functions like <code>sum()</code> and <code>std()</code> to calculate an aggregated result for each group. A a more general way to apply these functions is by using the <code>agg()</code> method, where the input argument can be a function, a string of function names, or a list of such objects. "
   ]
  },
  {
   "cell_type": "code",
   "execution_count": 6,
   "metadata": {
    "scrolled": false
   },
   "outputs": [
    {
     "data": {
      "text/html": [
       "<div>\n",
       "<style scoped>\n",
       "    .dataframe tbody tr th:only-of-type {\n",
       "        vertical-align: middle;\n",
       "    }\n",
       "\n",
       "    .dataframe tbody tr th {\n",
       "        vertical-align: top;\n",
       "    }\n",
       "\n",
       "    .dataframe thead th {\n",
       "        text-align: right;\n",
       "    }\n",
       "</style>\n",
       "<table border=\"1\" class=\"dataframe\">\n",
       "  <thead>\n",
       "    <tr style=\"text-align: right;\">\n",
       "      <th></th>\n",
       "      <th>count</th>\n",
       "      <th>median</th>\n",
       "      <th>max</th>\n",
       "      <th>min</th>\n",
       "    </tr>\n",
       "    <tr>\n",
       "      <th>segment</th>\n",
       "      <th></th>\n",
       "      <th></th>\n",
       "      <th></th>\n",
       "      <th></th>\n",
       "    </tr>\n",
       "  </thead>\n",
       "  <tbody>\n",
       "    <tr>\n",
       "      <th>CCR</th>\n",
       "      <td>5107</td>\n",
       "      <td>2450000.0</td>\n",
       "      <td>52000000</td>\n",
       "      <td>560088</td>\n",
       "    </tr>\n",
       "    <tr>\n",
       "      <th>OCR</th>\n",
       "      <td>16652</td>\n",
       "      <td>1069590.0</td>\n",
       "      <td>4881708</td>\n",
       "      <td>488000</td>\n",
       "    </tr>\n",
       "    <tr>\n",
       "      <th>RCR</th>\n",
       "      <td>10409</td>\n",
       "      <td>1490000.0</td>\n",
       "      <td>19000000</td>\n",
       "      <td>570000</td>\n",
       "    </tr>\n",
       "  </tbody>\n",
       "</table>\n",
       "</div>"
      ],
      "text/plain": [
       "         count     median       max     min\n",
       "segment                                    \n",
       "CCR       5107  2450000.0  52000000  560088\n",
       "OCR      16652  1069590.0   4881708  488000\n",
       "RCR      10409  1490000.0  19000000  570000"
      ]
     },
     "execution_count": 6,
     "metadata": {},
     "output_type": "execute_result"
    }
   ],
   "source": [
    "funs = ['count', 'median', 'max', 'min']\n",
    "price_info = data.groupby('segment')['price'].agg(funs)\n",
    "price_info"
   ]
  },
  {
   "cell_type": "code",
   "execution_count": 7,
   "metadata": {},
   "outputs": [
    {
     "data": {
      "text/plain": [
       "Index(['count', 'median', 'max', 'min'], dtype='object')"
      ]
     },
     "execution_count": 7,
     "metadata": {},
     "output_type": "execute_result"
    }
   ],
   "source": [
    "price_info.columns"
   ]
  },
  {
   "cell_type": "code",
   "execution_count": 8,
   "metadata": {
    "scrolled": true
   },
   "outputs": [
    {
     "data": {
      "text/plain": [
       "Index(['CCR', 'OCR', 'RCR'], dtype='object', name='segment')"
      ]
     },
     "execution_count": 8,
     "metadata": {},
     "output_type": "execute_result"
    }
   ],
   "source": [
    "price_info.index"
   ]
  },
  {
   "cell_type": "markdown",
   "metadata": {},
   "source": [
    "The row indices can be converted into a new column of the data frame by the <code>reset_index()</code> method. "
   ]
  },
  {
   "cell_type": "code",
   "execution_count": 9,
   "metadata": {},
   "outputs": [
    {
     "data": {
      "text/html": [
       "<div>\n",
       "<style scoped>\n",
       "    .dataframe tbody tr th:only-of-type {\n",
       "        vertical-align: middle;\n",
       "    }\n",
       "\n",
       "    .dataframe tbody tr th {\n",
       "        vertical-align: top;\n",
       "    }\n",
       "\n",
       "    .dataframe thead th {\n",
       "        text-align: right;\n",
       "    }\n",
       "</style>\n",
       "<table border=\"1\" class=\"dataframe\">\n",
       "  <thead>\n",
       "    <tr style=\"text-align: right;\">\n",
       "      <th></th>\n",
       "      <th>segment</th>\n",
       "      <th>count</th>\n",
       "      <th>median</th>\n",
       "      <th>max</th>\n",
       "      <th>min</th>\n",
       "    </tr>\n",
       "  </thead>\n",
       "  <tbody>\n",
       "    <tr>\n",
       "      <th>0</th>\n",
       "      <td>CCR</td>\n",
       "      <td>5107</td>\n",
       "      <td>2450000.0</td>\n",
       "      <td>52000000</td>\n",
       "      <td>560088</td>\n",
       "    </tr>\n",
       "    <tr>\n",
       "      <th>1</th>\n",
       "      <td>OCR</td>\n",
       "      <td>16652</td>\n",
       "      <td>1069590.0</td>\n",
       "      <td>4881708</td>\n",
       "      <td>488000</td>\n",
       "    </tr>\n",
       "    <tr>\n",
       "      <th>2</th>\n",
       "      <td>RCR</td>\n",
       "      <td>10409</td>\n",
       "      <td>1490000.0</td>\n",
       "      <td>19000000</td>\n",
       "      <td>570000</td>\n",
       "    </tr>\n",
       "  </tbody>\n",
       "</table>\n",
       "</div>"
      ],
      "text/plain": [
       "  segment  count     median       max     min\n",
       "0     CCR   5107  2450000.0  52000000  560088\n",
       "1     OCR  16652  1069590.0   4881708  488000\n",
       "2     RCR  10409  1490000.0  19000000  570000"
      ]
     },
     "execution_count": 9,
     "metadata": {},
     "output_type": "execute_result"
    }
   ],
   "source": [
    "price_info.reset_index()"
   ]
  },
  {
   "cell_type": "markdown",
   "metadata": {},
   "source": [
    "The aggregation operations can also be applied to multiple columns, such as the code below calculate some measures for columns <code>price</code> and <code>area</code>."
   ]
  },
  {
   "cell_type": "code",
   "execution_count": 10,
   "metadata": {
    "scrolled": false
   },
   "outputs": [
    {
     "data": {
      "text/html": [
       "<div>\n",
       "<style scoped>\n",
       "    .dataframe tbody tr th:only-of-type {\n",
       "        vertical-align: middle;\n",
       "    }\n",
       "\n",
       "    .dataframe tbody tr th {\n",
       "        vertical-align: top;\n",
       "    }\n",
       "\n",
       "    .dataframe thead tr th {\n",
       "        text-align: left;\n",
       "    }\n",
       "\n",
       "    .dataframe thead tr:last-of-type th {\n",
       "        text-align: right;\n",
       "    }\n",
       "</style>\n",
       "<table border=\"1\" class=\"dataframe\">\n",
       "  <thead>\n",
       "    <tr>\n",
       "      <th></th>\n",
       "      <th colspan=\"4\" halign=\"left\">price</th>\n",
       "      <th colspan=\"4\" halign=\"left\">area</th>\n",
       "    </tr>\n",
       "    <tr>\n",
       "      <th></th>\n",
       "      <th>count</th>\n",
       "      <th>median</th>\n",
       "      <th>max</th>\n",
       "      <th>min</th>\n",
       "      <th>count</th>\n",
       "      <th>median</th>\n",
       "      <th>max</th>\n",
       "      <th>min</th>\n",
       "    </tr>\n",
       "    <tr>\n",
       "      <th>segment</th>\n",
       "      <th></th>\n",
       "      <th></th>\n",
       "      <th></th>\n",
       "      <th></th>\n",
       "      <th></th>\n",
       "      <th></th>\n",
       "      <th></th>\n",
       "      <th></th>\n",
       "    </tr>\n",
       "  </thead>\n",
       "  <tbody>\n",
       "    <tr>\n",
       "      <th>CCR</th>\n",
       "      <td>5107</td>\n",
       "      <td>2450000.0</td>\n",
       "      <td>52000000</td>\n",
       "      <td>560088</td>\n",
       "      <td>5107</td>\n",
       "      <td>1399.0</td>\n",
       "      <td>11098</td>\n",
       "      <td>420</td>\n",
       "    </tr>\n",
       "    <tr>\n",
       "      <th>OCR</th>\n",
       "      <td>16652</td>\n",
       "      <td>1069590.0</td>\n",
       "      <td>4881708</td>\n",
       "      <td>488000</td>\n",
       "      <td>16652</td>\n",
       "      <td>1055.0</td>\n",
       "      <td>4876</td>\n",
       "      <td>355</td>\n",
       "    </tr>\n",
       "    <tr>\n",
       "      <th>RCR</th>\n",
       "      <td>10409</td>\n",
       "      <td>1490000.0</td>\n",
       "      <td>19000000</td>\n",
       "      <td>570000</td>\n",
       "      <td>10409</td>\n",
       "      <td>1012.0</td>\n",
       "      <td>7987</td>\n",
       "      <td>388</td>\n",
       "    </tr>\n",
       "  </tbody>\n",
       "</table>\n",
       "</div>"
      ],
      "text/plain": [
       "         price                                area                    \n",
       "         count     median       max     min  count  median    max  min\n",
       "segment                                                               \n",
       "CCR       5107  2450000.0  52000000  560088   5107  1399.0  11098  420\n",
       "OCR      16652  1069590.0   4881708  488000  16652  1055.0   4876  355\n",
       "RCR      10409  1490000.0  19000000  570000  10409  1012.0   7987  388"
      ]
     },
     "execution_count": 10,
     "metadata": {},
     "output_type": "execute_result"
    }
   ],
   "source": [
    "funs = ['count', 'median', 'max', 'min']\n",
    "price_area_info = data.groupby('segment')[['price', 'area']].agg(funs)\n",
    "price_area_info"
   ]
  },
  {
   "cell_type": "markdown",
   "metadata": {},
   "source": [
    "Please note that in the resultant data frame, column indices are formatted as a <code>MultiIndex</code> type object. It can be considered as all combinations of two layers of indices."
   ]
  },
  {
   "cell_type": "code",
   "execution_count": 11,
   "metadata": {
    "scrolled": true
   },
   "outputs": [
    {
     "data": {
      "text/plain": [
       "MultiIndex([('price',  'count'),\n",
       "            ('price', 'median'),\n",
       "            ('price',    'max'),\n",
       "            ('price',    'min'),\n",
       "            ( 'area',  'count'),\n",
       "            ( 'area', 'median'),\n",
       "            ( 'area',    'max'),\n",
       "            ( 'area',    'min')],\n",
       "           )"
      ]
     },
     "execution_count": 11,
     "metadata": {},
     "output_type": "execute_result"
    }
   ],
   "source": [
    "price_area_info.columns"
   ]
  },
  {
   "cell_type": "markdown",
   "metadata": {},
   "source": [
    "Another useful syntax of the <code>agg()</code> method is to pass a dictionary mapping column names to operations to be applied on that column. An example is given below."
   ]
  },
  {
   "cell_type": "code",
   "execution_count": 12,
   "metadata": {
    "scrolled": true
   },
   "outputs": [
    {
     "data": {
      "text/html": [
       "<div>\n",
       "<style scoped>\n",
       "    .dataframe tbody tr th:only-of-type {\n",
       "        vertical-align: middle;\n",
       "    }\n",
       "\n",
       "    .dataframe tbody tr th {\n",
       "        vertical-align: top;\n",
       "    }\n",
       "\n",
       "    .dataframe thead tr th {\n",
       "        text-align: left;\n",
       "    }\n",
       "\n",
       "    .dataframe thead tr:last-of-type th {\n",
       "        text-align: right;\n",
       "    }\n",
       "</style>\n",
       "<table border=\"1\" class=\"dataframe\">\n",
       "  <thead>\n",
       "    <tr>\n",
       "      <th></th>\n",
       "      <th>price</th>\n",
       "      <th colspan=\"2\" halign=\"left\">area</th>\n",
       "    </tr>\n",
       "    <tr>\n",
       "      <th></th>\n",
       "      <th>mean</th>\n",
       "      <th>min</th>\n",
       "      <th>max</th>\n",
       "    </tr>\n",
       "    <tr>\n",
       "      <th>segment</th>\n",
       "      <th></th>\n",
       "      <th></th>\n",
       "      <th></th>\n",
       "    </tr>\n",
       "  </thead>\n",
       "  <tbody>\n",
       "    <tr>\n",
       "      <th>CCR</th>\n",
       "      <td>3.299744e+06</td>\n",
       "      <td>420</td>\n",
       "      <td>11098</td>\n",
       "    </tr>\n",
       "    <tr>\n",
       "      <th>OCR</th>\n",
       "      <td>1.129063e+06</td>\n",
       "      <td>355</td>\n",
       "      <td>4876</td>\n",
       "    </tr>\n",
       "    <tr>\n",
       "      <th>RCR</th>\n",
       "      <td>1.644209e+06</td>\n",
       "      <td>388</td>\n",
       "      <td>7987</td>\n",
       "    </tr>\n",
       "  </tbody>\n",
       "</table>\n",
       "</div>"
      ],
      "text/plain": [
       "                price area       \n",
       "                 mean  min    max\n",
       "segment                          \n",
       "CCR      3.299744e+06  420  11098\n",
       "OCR      1.129063e+06  355   4876\n",
       "RCR      1.644209e+06  388   7987"
      ]
     },
     "execution_count": 12,
     "metadata": {},
     "output_type": "execute_result"
    }
   ],
   "source": [
    "mapping = {'price': 'mean',         # Average of the prices\n",
    "           'area': ['min', 'max']}  # Min and max values of condo sizes\n",
    "mean_median = data.groupby('segment').agg(mapping)\n",
    "mean_median"
   ]
  },
  {
   "cell_type": "markdown",
   "metadata": {},
   "source": [
    "It is also possible to use a user-defined function for aggregation operation, as the following example."
   ]
  },
  {
   "cell_type": "code",
   "execution_count": 13,
   "metadata": {},
   "outputs": [
    {
     "data": {
      "text/plain": [
       "segment\n",
       "CCR    2010000.0\n",
       "OCR     470000.0\n",
       "RCR     708800.0\n",
       "Name: price, dtype: float64"
      ]
     },
     "execution_count": 13,
     "metadata": {},
     "output_type": "execute_result"
    }
   ],
   "source": [
    "def iqr(x):\n",
    "    \n",
    "    return x.quantile(0.75) - x.quantile(0.25)\n",
    "\n",
    "price_iqr = data.groupby('segment')['price'].agg(iqr)\n",
    "price_iqr"
   ]
  },
  {
   "cell_type": "markdown",
   "metadata": {},
   "source": [
    "In this code cell, we defined a function <code>iqr()</code> to calculate the interquartile range (IQR) for each region segment. This function can also be replaced by a small anonymous <code>lambda()</code> function, which is typically used to return the result expressed by a single-line statement. The syntax of the <code>lambda()</code> function is given below.\n",
    "\n",
    "<img src=\"https://www.educative.io/api/edpresso/shot/6565495459282944/image/6707306488135680\" width=600>\n",
    "\n",
    "Following the syntax rules, the IQR values can be calculated without formally defining a function, yet the result is the same."
   ]
  },
  {
   "cell_type": "code",
   "execution_count": 14,
   "metadata": {},
   "outputs": [
    {
     "data": {
      "text/plain": [
       "segment\n",
       "CCR    2010000.0\n",
       "OCR     470000.0\n",
       "RCR     708800.0\n",
       "Name: price, dtype: float64"
      ]
     },
     "execution_count": 14,
     "metadata": {},
     "output_type": "execute_result"
    }
   ],
   "source": [
    "price_iqr = data.groupby('segment')['price'].agg(lambda x: \n",
    "                                                 x.quantile(0.75) - x.quantile(0.25))\n",
    "price_iqr"
   ]
  },
  {
   "cell_type": "markdown",
   "metadata": {},
   "source": [
    "#### Transformation via <code>transform()</code>\n",
    "\n",
    "You may notice that the aggregation operations summarize each group into one value, so the number of rows of the combined data structure is the same as the number of groups. In some cases, we may need to transform each row of the dataset into other values. Take the normalized prices of each region segment for example, it can be calculated by the following code."
   ]
  },
  {
   "cell_type": "code",
   "execution_count": 15,
   "metadata": {},
   "outputs": [
    {
     "data": {
      "text/plain": [
       "0        0.074415\n",
       "1        0.039609\n",
       "2        0.288367\n",
       "3        0.082203\n",
       "4        0.069392\n",
       "           ...   \n",
       "32163    0.177527\n",
       "32164    0.076473\n",
       "32165    0.173430\n",
       "32166    0.135193\n",
       "32167    0.027767\n",
       "Name: price, Length: 32168, dtype: float64"
      ]
     },
     "execution_count": 15,
     "metadata": {},
     "output_type": "execute_result"
    }
   ],
   "source": [
    "def normalize(x):\n",
    "    \n",
    "    return (x - x.min()) / (x.max() - x.min())\n",
    "\n",
    "price_norm = data.groupby('segment')['price'].transform(normalize)\n",
    "price_norm"
   ]
  },
  {
   "cell_type": "markdown",
   "metadata": {},
   "source": [
    "Equivalently, the formal function <code>normalize()</code> can be replaced by the <code>lambda</code> version."
   ]
  },
  {
   "cell_type": "code",
   "execution_count": 16,
   "metadata": {},
   "outputs": [
    {
     "data": {
      "text/plain": [
       "0        0.074415\n",
       "1        0.039609\n",
       "2        0.288367\n",
       "3        0.082203\n",
       "4        0.069392\n",
       "           ...   \n",
       "32163    0.177527\n",
       "32164    0.076473\n",
       "32165    0.173430\n",
       "32166    0.135193\n",
       "32167    0.027767\n",
       "Name: price, Length: 32168, dtype: float64"
      ]
     },
     "execution_count": 16,
     "metadata": {},
     "output_type": "execute_result"
    }
   ],
   "source": [
    "price_norm = data.groupby('segment')['price'].transform(lambda x: \n",
    "                                                        (x-x.min())/(x.max()-x.min()))\n",
    "price_norm"
   ]
  },
  {
   "cell_type": "markdown",
   "metadata": {},
   "source": [
    "Please note that these operations transform each row of the original dataset into a new row of results, so the new data structure created by the <code>transform()</code> method always has the same number of rows as the original dataset.\n",
    "\n",
    "#### Aggregation or transformation via <code>apply()</code>\n",
    "\n",
    "The <code>apply()</code> method is a more general and more flexible version of the <code>agg()</code> or <code>transform()</code> methods. The shape of the returned data structure depends on whether the applied function is for aggregation or transformation. "
   ]
  },
  {
   "cell_type": "code",
   "execution_count": 17,
   "metadata": {},
   "outputs": [
    {
     "data": {
      "text/plain": [
       "segment\n",
       "CCR    2010000.0\n",
       "OCR     470000.0\n",
       "RCR     708800.0\n",
       "Name: price, dtype: float64"
      ]
     },
     "execution_count": 17,
     "metadata": {},
     "output_type": "execute_result"
    }
   ],
   "source": [
    "# Aggregation operation: IQR\n",
    "price_iqr = data.groupby('segment')['price'].apply(lambda x: \n",
    "                                                   x.quantile(0.75) - x.quantile(0.25))\n",
    "price_iqr"
   ]
  },
  {
   "cell_type": "code",
   "execution_count": 18,
   "metadata": {
    "scrolled": true
   },
   "outputs": [
    {
     "data": {
      "text/plain": [
       "0        0.074415\n",
       "1        0.039609\n",
       "2        0.288367\n",
       "3        0.082203\n",
       "4        0.069392\n",
       "           ...   \n",
       "32163    0.177527\n",
       "32164    0.076473\n",
       "32165    0.173430\n",
       "32166    0.135193\n",
       "32167    0.027767\n",
       "Name: price, Length: 32168, dtype: float64"
      ]
     },
     "execution_count": 18,
     "metadata": {},
     "output_type": "execute_result"
    }
   ],
   "source": [
    "# Transformation operation: normalization\n",
    "price_norm = data.groupby('segment')['price'].apply(lambda x: \n",
    "                                                    (x-x.min())/(x.max()-x.min()))\n",
    "price_norm"
   ]
  },
  {
   "cell_type": "markdown",
   "metadata": {},
   "source": [
    "#### Filtering via <code>filter()</code>\n",
    "\n",
    "A filtering operation allows you to drop data based on the group properties. For example, we might want to keep all groups in which the mean price is lower than 1800 dollars per square feet. "
   ]
  },
  {
   "cell_type": "code",
   "execution_count": 19,
   "metadata": {
    "scrolled": false
   },
   "outputs": [
    {
     "data": {
      "text/html": [
       "<div>\n",
       "<style scoped>\n",
       "    .dataframe tbody tr th:only-of-type {\n",
       "        vertical-align: middle;\n",
       "    }\n",
       "\n",
       "    .dataframe tbody tr th {\n",
       "        vertical-align: top;\n",
       "    }\n",
       "\n",
       "    .dataframe thead th {\n",
       "        text-align: right;\n",
       "    }\n",
       "</style>\n",
       "<table border=\"1\" class=\"dataframe\">\n",
       "  <thead>\n",
       "    <tr style=\"text-align: right;\">\n",
       "      <th></th>\n",
       "      <th>name</th>\n",
       "      <th>price</th>\n",
       "      <th>unit_price</th>\n",
       "      <th>district_code</th>\n",
       "      <th>segment</th>\n",
       "      <th>type</th>\n",
       "      <th>area</th>\n",
       "      <th>level</th>\n",
       "      <th>remaining_years</th>\n",
       "      <th>date</th>\n",
       "    </tr>\n",
       "  </thead>\n",
       "  <tbody>\n",
       "    <tr>\n",
       "      <th>0</th>\n",
       "      <td>COMMONWEALTH TOWERS</td>\n",
       "      <td>1300000</td>\n",
       "      <td>1887</td>\n",
       "      <td>3</td>\n",
       "      <td>RCR</td>\n",
       "      <td>Resale</td>\n",
       "      <td>689</td>\n",
       "      <td>16 to 20</td>\n",
       "      <td>93.0</td>\n",
       "      <td>Nov-19</td>\n",
       "    </tr>\n",
       "    <tr>\n",
       "      <th>1</th>\n",
       "      <td>THE TRILINQ</td>\n",
       "      <td>1755000</td>\n",
       "      <td>1304</td>\n",
       "      <td>5</td>\n",
       "      <td>OCR</td>\n",
       "      <td>Resale</td>\n",
       "      <td>1346</td>\n",
       "      <td>06 to 10</td>\n",
       "      <td>92.0</td>\n",
       "      <td>Nov-19</td>\n",
       "    </tr>\n",
       "    <tr>\n",
       "      <th>2</th>\n",
       "      <td>THE CREST</td>\n",
       "      <td>2085000</td>\n",
       "      <td>2201</td>\n",
       "      <td>3</td>\n",
       "      <td>RCR</td>\n",
       "      <td>Resale</td>\n",
       "      <td>947</td>\n",
       "      <td>01 to 05</td>\n",
       "      <td>92.0</td>\n",
       "      <td>Nov-19</td>\n",
       "    </tr>\n",
       "    <tr>\n",
       "      <th>3</th>\n",
       "      <td>THE ANCHORAGE</td>\n",
       "      <td>1848888</td>\n",
       "      <td>1468</td>\n",
       "      <td>3</td>\n",
       "      <td>RCR</td>\n",
       "      <td>Resale</td>\n",
       "      <td>1259</td>\n",
       "      <td>01 to 05</td>\n",
       "      <td>999.0</td>\n",
       "      <td>Nov-19</td>\n",
       "    </tr>\n",
       "    <tr>\n",
       "      <th>4</th>\n",
       "      <td>MOUNT FABER LODGE</td>\n",
       "      <td>4400000</td>\n",
       "      <td>1188</td>\n",
       "      <td>4</td>\n",
       "      <td>RCR</td>\n",
       "      <td>Resale</td>\n",
       "      <td>3703</td>\n",
       "      <td>06 to 10</td>\n",
       "      <td>999.0</td>\n",
       "      <td>Oct-19</td>\n",
       "    </tr>\n",
       "    <tr>\n",
       "      <th>...</th>\n",
       "      <td>...</td>\n",
       "      <td>...</td>\n",
       "      <td>...</td>\n",
       "      <td>...</td>\n",
       "      <td>...</td>\n",
       "      <td>...</td>\n",
       "      <td>...</td>\n",
       "      <td>...</td>\n",
       "      <td>...</td>\n",
       "      <td>...</td>\n",
       "    </tr>\n",
       "    <tr>\n",
       "      <th>27056</th>\n",
       "      <td>SKIES MILTONIA</td>\n",
       "      <td>1268000</td>\n",
       "      <td>1178</td>\n",
       "      <td>27</td>\n",
       "      <td>OCR</td>\n",
       "      <td>Resale</td>\n",
       "      <td>1076</td>\n",
       "      <td>11 to 15</td>\n",
       "      <td>95.0</td>\n",
       "      <td>Nov-16</td>\n",
       "    </tr>\n",
       "    <tr>\n",
       "      <th>27057</th>\n",
       "      <td>SYMPHONY SUITES</td>\n",
       "      <td>824000</td>\n",
       "      <td>1034</td>\n",
       "      <td>27</td>\n",
       "      <td>OCR</td>\n",
       "      <td>New Sale</td>\n",
       "      <td>797</td>\n",
       "      <td>06 to 10</td>\n",
       "      <td>97.0</td>\n",
       "      <td>Nov-16</td>\n",
       "    </tr>\n",
       "    <tr>\n",
       "      <th>27058</th>\n",
       "      <td>SELETARIS</td>\n",
       "      <td>1250000</td>\n",
       "      <td>754</td>\n",
       "      <td>27</td>\n",
       "      <td>OCR</td>\n",
       "      <td>Resale</td>\n",
       "      <td>1658</td>\n",
       "      <td>01 to 05</td>\n",
       "      <td>999.0</td>\n",
       "      <td>Nov-16</td>\n",
       "    </tr>\n",
       "    <tr>\n",
       "      <th>27059</th>\n",
       "      <td>RIVERBANK @ FERNVALE</td>\n",
       "      <td>1082000</td>\n",
       "      <td>1026</td>\n",
       "      <td>28</td>\n",
       "      <td>OCR</td>\n",
       "      <td>New Sale</td>\n",
       "      <td>1055</td>\n",
       "      <td>16 to 20</td>\n",
       "      <td>96.0</td>\n",
       "      <td>Nov-16</td>\n",
       "    </tr>\n",
       "    <tr>\n",
       "      <th>27060</th>\n",
       "      <td>THE ESTUARY</td>\n",
       "      <td>610000</td>\n",
       "      <td>1012</td>\n",
       "      <td>27</td>\n",
       "      <td>OCR</td>\n",
       "      <td>Resale</td>\n",
       "      <td>603</td>\n",
       "      <td>01 to 05</td>\n",
       "      <td>91.0</td>\n",
       "      <td>Nov-16</td>\n",
       "    </tr>\n",
       "  </tbody>\n",
       "</table>\n",
       "<p>27061 rows × 10 columns</p>\n",
       "</div>"
      ],
      "text/plain": [
       "                       name    price  unit_price  district_code segment  \\\n",
       "0       COMMONWEALTH TOWERS  1300000        1887              3     RCR   \n",
       "1               THE TRILINQ  1755000        1304              5     OCR   \n",
       "2                 THE CREST  2085000        2201              3     RCR   \n",
       "3             THE ANCHORAGE  1848888        1468              3     RCR   \n",
       "4         MOUNT FABER LODGE  4400000        1188              4     RCR   \n",
       "...                     ...      ...         ...            ...     ...   \n",
       "27056        SKIES MILTONIA  1268000        1178             27     OCR   \n",
       "27057       SYMPHONY SUITES   824000        1034             27     OCR   \n",
       "27058             SELETARIS  1250000         754             27     OCR   \n",
       "27059  RIVERBANK @ FERNVALE  1082000        1026             28     OCR   \n",
       "27060           THE ESTUARY   610000        1012             27     OCR   \n",
       "\n",
       "           type  area     level  remaining_years    date  \n",
       "0        Resale   689  16 to 20             93.0  Nov-19  \n",
       "1        Resale  1346  06 to 10             92.0  Nov-19  \n",
       "2        Resale   947  01 to 05             92.0  Nov-19  \n",
       "3        Resale  1259  01 to 05            999.0  Nov-19  \n",
       "4        Resale  3703  06 to 10            999.0  Oct-19  \n",
       "...         ...   ...       ...              ...     ...  \n",
       "27056    Resale  1076  11 to 15             95.0  Nov-16  \n",
       "27057  New Sale   797  06 to 10             97.0  Nov-16  \n",
       "27058    Resale  1658  01 to 05            999.0  Nov-16  \n",
       "27059  New Sale  1055  16 to 20             96.0  Nov-16  \n",
       "27060    Resale   603  01 to 05             91.0  Nov-16  \n",
       "\n",
       "[27061 rows x 10 columns]"
      ]
     },
     "execution_count": 19,
     "metadata": {},
     "output_type": "execute_result"
    }
   ],
   "source": [
    "cheap_regions = data.groupby('segment').filter(lambda x: \n",
    "                                               x['unit_price'].mean() < 1800)\n",
    "cheap_regions.reset_index(drop=True, inplace=True)\n",
    "cheap_regions"
   ]
  },
  {
   "cell_type": "markdown",
   "metadata": {},
   "source": [
    "It can be seen that the whole group of CCR condos are dropped because the average price for that region is larger than 1800 dollars per square feet. We can use the following code to verify the CCR segment is dropped. "
   ]
  },
  {
   "cell_type": "code",
   "execution_count": 20,
   "metadata": {},
   "outputs": [
    {
     "data": {
      "text/plain": [
       "OCR    16652\n",
       "RCR    10409\n",
       "Name: segment, dtype: int64"
      ]
     },
     "execution_count": 20,
     "metadata": {},
     "output_type": "execute_result"
    }
   ],
   "source": [
    "cheap_regions['segment'].value_counts()"
   ]
  },
  {
   "cell_type": "markdown",
   "metadata": {},
   "source": [
    "### Time series data <a id=\"subsection2.2\"></a>\n",
    "\n",
    "<div class=\"alert alert-block alert-success\">\n",
    "<b>Example 2:</b> Create a new dataset with all condo transactions from January 2018 to June 2018. \n",
    "</div>\n",
    "\n",
    "In the condo price dataset, we have a column <code>date</code> representing the dates of transactions. Values in this column are <code>str</code> type objects, so they cannot be directly used for date selections. "
   ]
  },
  {
   "cell_type": "code",
   "execution_count": 21,
   "metadata": {
    "scrolled": false
   },
   "outputs": [
    {
     "data": {
      "text/plain": [
       "'Nov-19'"
      ]
     },
     "execution_count": 21,
     "metadata": {},
     "output_type": "execute_result"
    }
   ],
   "source": [
    "date = data['date']\n",
    "date[0]"
   ]
  },
  {
   "cell_type": "markdown",
   "metadata": {},
   "source": [
    "Python provides a new data type called <code>timestamp</code> for easy time and date operations. We can create a new column called <code>time_stamp</code> to store the date data. "
   ]
  },
  {
   "cell_type": "code",
   "execution_count": 22,
   "metadata": {
    "scrolled": true
   },
   "outputs": [
    {
     "data": {
      "text/html": [
       "<div>\n",
       "<style scoped>\n",
       "    .dataframe tbody tr th:only-of-type {\n",
       "        vertical-align: middle;\n",
       "    }\n",
       "\n",
       "    .dataframe tbody tr th {\n",
       "        vertical-align: top;\n",
       "    }\n",
       "\n",
       "    .dataframe thead th {\n",
       "        text-align: right;\n",
       "    }\n",
       "</style>\n",
       "<table border=\"1\" class=\"dataframe\">\n",
       "  <thead>\n",
       "    <tr style=\"text-align: right;\">\n",
       "      <th></th>\n",
       "      <th>name</th>\n",
       "      <th>price</th>\n",
       "      <th>unit_price</th>\n",
       "      <th>district_code</th>\n",
       "      <th>segment</th>\n",
       "      <th>type</th>\n",
       "      <th>area</th>\n",
       "      <th>level</th>\n",
       "      <th>remaining_years</th>\n",
       "      <th>date</th>\n",
       "      <th>time_stamp</th>\n",
       "    </tr>\n",
       "  </thead>\n",
       "  <tbody>\n",
       "    <tr>\n",
       "      <th>0</th>\n",
       "      <td>SEASCAPE</td>\n",
       "      <td>4388000</td>\n",
       "      <td>2028</td>\n",
       "      <td>4</td>\n",
       "      <td>CCR</td>\n",
       "      <td>Resale</td>\n",
       "      <td>2164</td>\n",
       "      <td>06 to 10</td>\n",
       "      <td>87.0</td>\n",
       "      <td>Nov-19</td>\n",
       "      <td>2019-11-01</td>\n",
       "    </tr>\n",
       "    <tr>\n",
       "      <th>1</th>\n",
       "      <td>COMMONWEALTH TOWERS</td>\n",
       "      <td>1300000</td>\n",
       "      <td>1887</td>\n",
       "      <td>3</td>\n",
       "      <td>RCR</td>\n",
       "      <td>Resale</td>\n",
       "      <td>689</td>\n",
       "      <td>16 to 20</td>\n",
       "      <td>93.0</td>\n",
       "      <td>Nov-19</td>\n",
       "      <td>2019-11-01</td>\n",
       "    </tr>\n",
       "    <tr>\n",
       "      <th>2</th>\n",
       "      <td>THE TRILINQ</td>\n",
       "      <td>1755000</td>\n",
       "      <td>1304</td>\n",
       "      <td>5</td>\n",
       "      <td>OCR</td>\n",
       "      <td>Resale</td>\n",
       "      <td>1346</td>\n",
       "      <td>06 to 10</td>\n",
       "      <td>92.0</td>\n",
       "      <td>Nov-19</td>\n",
       "      <td>2019-11-01</td>\n",
       "    </tr>\n",
       "    <tr>\n",
       "      <th>3</th>\n",
       "      <td>THE CREST</td>\n",
       "      <td>2085000</td>\n",
       "      <td>2201</td>\n",
       "      <td>3</td>\n",
       "      <td>RCR</td>\n",
       "      <td>Resale</td>\n",
       "      <td>947</td>\n",
       "      <td>01 to 05</td>\n",
       "      <td>92.0</td>\n",
       "      <td>Nov-19</td>\n",
       "      <td>2019-11-01</td>\n",
       "    </tr>\n",
       "    <tr>\n",
       "      <th>4</th>\n",
       "      <td>THE ANCHORAGE</td>\n",
       "      <td>1848888</td>\n",
       "      <td>1468</td>\n",
       "      <td>3</td>\n",
       "      <td>RCR</td>\n",
       "      <td>Resale</td>\n",
       "      <td>1259</td>\n",
       "      <td>01 to 05</td>\n",
       "      <td>999.0</td>\n",
       "      <td>Nov-19</td>\n",
       "      <td>2019-11-01</td>\n",
       "    </tr>\n",
       "  </tbody>\n",
       "</table>\n",
       "</div>"
      ],
      "text/plain": [
       "                  name    price  unit_price  district_code segment    type  \\\n",
       "0             SEASCAPE  4388000        2028              4     CCR  Resale   \n",
       "1  COMMONWEALTH TOWERS  1300000        1887              3     RCR  Resale   \n",
       "2          THE TRILINQ  1755000        1304              5     OCR  Resale   \n",
       "3            THE CREST  2085000        2201              3     RCR  Resale   \n",
       "4        THE ANCHORAGE  1848888        1468              3     RCR  Resale   \n",
       "\n",
       "   area     level  remaining_years    date time_stamp  \n",
       "0  2164  06 to 10             87.0  Nov-19 2019-11-01  \n",
       "1   689  16 to 20             93.0  Nov-19 2019-11-01  \n",
       "2  1346  06 to 10             92.0  Nov-19 2019-11-01  \n",
       "3   947  01 to 05             92.0  Nov-19 2019-11-01  \n",
       "4  1259  01 to 05            999.0  Nov-19 2019-11-01  "
      ]
     },
     "execution_count": 22,
     "metadata": {},
     "output_type": "execute_result"
    }
   ],
   "source": [
    "data['time_stamp'] = pd.to_datetime(data['date'], format='%b-%y')\n",
    "data.head()"
   ]
  },
  {
   "cell_type": "markdown",
   "metadata": {},
   "source": [
    "The conversion con be performed by the function <code>to_datetime</code>, where the first argument is a series of <code>str</code> type values, and the argument <code>format</code> specify how the stirng is interpreted as time information. You may use the website [here](https://docs.python.org/3/library/datetime.html#strftime-and-strptime-behavior) to find other date or time formats. \n",
    "\n",
    "The new column is recognized by Python as time data, so we can use the simple logical operators to select data within the time range. "
   ]
  },
  {
   "cell_type": "code",
   "execution_count": 23,
   "metadata": {},
   "outputs": [
    {
     "data": {
      "text/plain": [
       "DatetimeIndex(['2018-01-01', '2018-07-01'], dtype='datetime64[ns]', freq=None)"
      ]
     },
     "execution_count": 23,
     "metadata": {},
     "output_type": "execute_result"
    }
   ],
   "source": [
    "time_range = pd.to_datetime(['Jan-18', 'Jul-18'], format='%b-%y')\n",
    "time_range"
   ]
  },
  {
   "cell_type": "code",
   "execution_count": 24,
   "metadata": {},
   "outputs": [
    {
     "data": {
      "text/html": [
       "<div>\n",
       "<style scoped>\n",
       "    .dataframe tbody tr th:only-of-type {\n",
       "        vertical-align: middle;\n",
       "    }\n",
       "\n",
       "    .dataframe tbody tr th {\n",
       "        vertical-align: top;\n",
       "    }\n",
       "\n",
       "    .dataframe thead th {\n",
       "        text-align: right;\n",
       "    }\n",
       "</style>\n",
       "<table border=\"1\" class=\"dataframe\">\n",
       "  <thead>\n",
       "    <tr style=\"text-align: right;\">\n",
       "      <th></th>\n",
       "      <th>name</th>\n",
       "      <th>price</th>\n",
       "      <th>unit_price</th>\n",
       "      <th>district_code</th>\n",
       "      <th>segment</th>\n",
       "      <th>type</th>\n",
       "      <th>area</th>\n",
       "      <th>level</th>\n",
       "      <th>remaining_years</th>\n",
       "      <th>date</th>\n",
       "      <th>time_stamp</th>\n",
       "    </tr>\n",
       "  </thead>\n",
       "  <tbody>\n",
       "    <tr>\n",
       "      <th>956</th>\n",
       "      <td>BLUE HORIZON</td>\n",
       "      <td>958000</td>\n",
       "      <td>1035</td>\n",
       "      <td>5</td>\n",
       "      <td>OCR</td>\n",
       "      <td>Resale</td>\n",
       "      <td>926</td>\n",
       "      <td>16 to 20</td>\n",
       "      <td>81.0</td>\n",
       "      <td>Jun-18</td>\n",
       "      <td>2018-06-01</td>\n",
       "    </tr>\n",
       "    <tr>\n",
       "      <th>957</th>\n",
       "      <td>THE CREST</td>\n",
       "      <td>3444000</td>\n",
       "      <td>2000</td>\n",
       "      <td>3</td>\n",
       "      <td>RCR</td>\n",
       "      <td>Resale</td>\n",
       "      <td>1722</td>\n",
       "      <td>01 to 05</td>\n",
       "      <td>93.0</td>\n",
       "      <td>Jun-18</td>\n",
       "      <td>2018-06-01</td>\n",
       "    </tr>\n",
       "    <tr>\n",
       "      <th>958</th>\n",
       "      <td>ECHELON</td>\n",
       "      <td>1540000</td>\n",
       "      <td>2104</td>\n",
       "      <td>3</td>\n",
       "      <td>RCR</td>\n",
       "      <td>Resale</td>\n",
       "      <td>732</td>\n",
       "      <td>31 to 35</td>\n",
       "      <td>93.0</td>\n",
       "      <td>Jun-18</td>\n",
       "      <td>2018-06-01</td>\n",
       "    </tr>\n",
       "    <tr>\n",
       "      <th>959</th>\n",
       "      <td>THE CREST</td>\n",
       "      <td>2495000</td>\n",
       "      <td>2088</td>\n",
       "      <td>3</td>\n",
       "      <td>RCR</td>\n",
       "      <td>Resale</td>\n",
       "      <td>1195</td>\n",
       "      <td>06 to 10</td>\n",
       "      <td>93.0</td>\n",
       "      <td>Jun-18</td>\n",
       "      <td>2018-06-01</td>\n",
       "    </tr>\n",
       "    <tr>\n",
       "      <th>960</th>\n",
       "      <td>THE METROPOLITAN CONDOMINIUM</td>\n",
       "      <td>2300000</td>\n",
       "      <td>1327</td>\n",
       "      <td>3</td>\n",
       "      <td>RCR</td>\n",
       "      <td>Resale</td>\n",
       "      <td>1733</td>\n",
       "      <td>06 to 10</td>\n",
       "      <td>87.0</td>\n",
       "      <td>Jun-18</td>\n",
       "      <td>2018-06-01</td>\n",
       "    </tr>\n",
       "    <tr>\n",
       "      <th>...</th>\n",
       "      <td>...</td>\n",
       "      <td>...</td>\n",
       "      <td>...</td>\n",
       "      <td>...</td>\n",
       "      <td>...</td>\n",
       "      <td>...</td>\n",
       "      <td>...</td>\n",
       "      <td>...</td>\n",
       "      <td>...</td>\n",
       "      <td>...</td>\n",
       "      <td>...</td>\n",
       "    </tr>\n",
       "    <tr>\n",
       "      <th>31247</th>\n",
       "      <td>SYMPHONY SUITES</td>\n",
       "      <td>1015000</td>\n",
       "      <td>993</td>\n",
       "      <td>27</td>\n",
       "      <td>OCR</td>\n",
       "      <td>New Sale</td>\n",
       "      <td>1023</td>\n",
       "      <td>06 to 10</td>\n",
       "      <td>95.0</td>\n",
       "      <td>Jan-18</td>\n",
       "      <td>2018-01-01</td>\n",
       "    </tr>\n",
       "    <tr>\n",
       "      <th>31248</th>\n",
       "      <td>THE GREENWICH</td>\n",
       "      <td>635000</td>\n",
       "      <td>1053</td>\n",
       "      <td>28</td>\n",
       "      <td>OCR</td>\n",
       "      <td>Resale</td>\n",
       "      <td>603</td>\n",
       "      <td>01 to 05</td>\n",
       "      <td>90.0</td>\n",
       "      <td>Jan-18</td>\n",
       "      <td>2018-01-01</td>\n",
       "    </tr>\n",
       "    <tr>\n",
       "      <th>31249</th>\n",
       "      <td>SYMPHONY SUITES</td>\n",
       "      <td>1000000</td>\n",
       "      <td>1093</td>\n",
       "      <td>27</td>\n",
       "      <td>OCR</td>\n",
       "      <td>New Sale</td>\n",
       "      <td>915</td>\n",
       "      <td>11 to 15</td>\n",
       "      <td>95.0</td>\n",
       "      <td>Jan-18</td>\n",
       "      <td>2018-01-01</td>\n",
       "    </tr>\n",
       "    <tr>\n",
       "      <th>31250</th>\n",
       "      <td>KANDIS RESIDENCE</td>\n",
       "      <td>673000</td>\n",
       "      <td>1389</td>\n",
       "      <td>27</td>\n",
       "      <td>OCR</td>\n",
       "      <td>New Sale</td>\n",
       "      <td>484</td>\n",
       "      <td>01 to 05</td>\n",
       "      <td>97.0</td>\n",
       "      <td>Jan-18</td>\n",
       "      <td>2018-01-01</td>\n",
       "    </tr>\n",
       "    <tr>\n",
       "      <th>31251</th>\n",
       "      <td>SYMPHONY SUITES</td>\n",
       "      <td>942000</td>\n",
       "      <td>1054</td>\n",
       "      <td>27</td>\n",
       "      <td>OCR</td>\n",
       "      <td>New Sale</td>\n",
       "      <td>893</td>\n",
       "      <td>01 to 05</td>\n",
       "      <td>95.0</td>\n",
       "      <td>Jan-18</td>\n",
       "      <td>2018-01-01</td>\n",
       "    </tr>\n",
       "  </tbody>\n",
       "</table>\n",
       "<p>6209 rows × 11 columns</p>\n",
       "</div>"
      ],
      "text/plain": [
       "                               name    price  unit_price  district_code  \\\n",
       "956                    BLUE HORIZON   958000        1035              5   \n",
       "957                       THE CREST  3444000        2000              3   \n",
       "958                         ECHELON  1540000        2104              3   \n",
       "959                       THE CREST  2495000        2088              3   \n",
       "960    THE METROPOLITAN CONDOMINIUM  2300000        1327              3   \n",
       "...                             ...      ...         ...            ...   \n",
       "31247               SYMPHONY SUITES  1015000         993             27   \n",
       "31248                 THE GREENWICH   635000        1053             28   \n",
       "31249               SYMPHONY SUITES  1000000        1093             27   \n",
       "31250              KANDIS RESIDENCE   673000        1389             27   \n",
       "31251               SYMPHONY SUITES   942000        1054             27   \n",
       "\n",
       "      segment      type  area     level  remaining_years    date time_stamp  \n",
       "956       OCR    Resale   926  16 to 20             81.0  Jun-18 2018-06-01  \n",
       "957       RCR    Resale  1722  01 to 05             93.0  Jun-18 2018-06-01  \n",
       "958       RCR    Resale   732  31 to 35             93.0  Jun-18 2018-06-01  \n",
       "959       RCR    Resale  1195  06 to 10             93.0  Jun-18 2018-06-01  \n",
       "960       RCR    Resale  1733  06 to 10             87.0  Jun-18 2018-06-01  \n",
       "...       ...       ...   ...       ...              ...     ...        ...  \n",
       "31247     OCR  New Sale  1023  06 to 10             95.0  Jan-18 2018-01-01  \n",
       "31248     OCR    Resale   603  01 to 05             90.0  Jan-18 2018-01-01  \n",
       "31249     OCR  New Sale   915  11 to 15             95.0  Jan-18 2018-01-01  \n",
       "31250     OCR  New Sale   484  01 to 05             97.0  Jan-18 2018-01-01  \n",
       "31251     OCR  New Sale   893  01 to 05             95.0  Jan-18 2018-01-01  \n",
       "\n",
       "[6209 rows x 11 columns]"
      ]
     },
     "execution_count": 24,
     "metadata": {},
     "output_type": "execute_result"
    }
   ],
   "source": [
    "subset = data.loc[(data['time_stamp'] >= time_range[0]) &\n",
    "                  (data['time_stamp'] < time_range[1])]\n",
    "subset"
   ]
  },
  {
   "cell_type": "code",
   "execution_count": 25,
   "metadata": {
    "scrolled": false
   },
   "outputs": [
    {
     "data": {
      "text/html": [
       "<div>\n",
       "<style scoped>\n",
       "    .dataframe tbody tr th:only-of-type {\n",
       "        vertical-align: middle;\n",
       "    }\n",
       "\n",
       "    .dataframe tbody tr th {\n",
       "        vertical-align: top;\n",
       "    }\n",
       "\n",
       "    .dataframe thead th {\n",
       "        text-align: right;\n",
       "    }\n",
       "</style>\n",
       "<table border=\"1\" class=\"dataframe\">\n",
       "  <thead>\n",
       "    <tr style=\"text-align: right;\">\n",
       "      <th></th>\n",
       "      <th>name</th>\n",
       "      <th>price</th>\n",
       "      <th>unit_price</th>\n",
       "      <th>district_code</th>\n",
       "      <th>segment</th>\n",
       "      <th>type</th>\n",
       "      <th>area</th>\n",
       "      <th>level</th>\n",
       "      <th>remaining_years</th>\n",
       "      <th>date</th>\n",
       "      <th>time_stamp</th>\n",
       "    </tr>\n",
       "  </thead>\n",
       "  <tbody>\n",
       "    <tr>\n",
       "      <th>0</th>\n",
       "      <td>BLUE HORIZON</td>\n",
       "      <td>958000</td>\n",
       "      <td>1035</td>\n",
       "      <td>5</td>\n",
       "      <td>OCR</td>\n",
       "      <td>Resale</td>\n",
       "      <td>926</td>\n",
       "      <td>16 to 20</td>\n",
       "      <td>81.0</td>\n",
       "      <td>Jun-18</td>\n",
       "      <td>2018-06-01</td>\n",
       "    </tr>\n",
       "    <tr>\n",
       "      <th>1</th>\n",
       "      <td>THE CREST</td>\n",
       "      <td>3444000</td>\n",
       "      <td>2000</td>\n",
       "      <td>3</td>\n",
       "      <td>RCR</td>\n",
       "      <td>Resale</td>\n",
       "      <td>1722</td>\n",
       "      <td>01 to 05</td>\n",
       "      <td>93.0</td>\n",
       "      <td>Jun-18</td>\n",
       "      <td>2018-06-01</td>\n",
       "    </tr>\n",
       "    <tr>\n",
       "      <th>2</th>\n",
       "      <td>ECHELON</td>\n",
       "      <td>1540000</td>\n",
       "      <td>2104</td>\n",
       "      <td>3</td>\n",
       "      <td>RCR</td>\n",
       "      <td>Resale</td>\n",
       "      <td>732</td>\n",
       "      <td>31 to 35</td>\n",
       "      <td>93.0</td>\n",
       "      <td>Jun-18</td>\n",
       "      <td>2018-06-01</td>\n",
       "    </tr>\n",
       "    <tr>\n",
       "      <th>3</th>\n",
       "      <td>THE CREST</td>\n",
       "      <td>2495000</td>\n",
       "      <td>2088</td>\n",
       "      <td>3</td>\n",
       "      <td>RCR</td>\n",
       "      <td>Resale</td>\n",
       "      <td>1195</td>\n",
       "      <td>06 to 10</td>\n",
       "      <td>93.0</td>\n",
       "      <td>Jun-18</td>\n",
       "      <td>2018-06-01</td>\n",
       "    </tr>\n",
       "    <tr>\n",
       "      <th>4</th>\n",
       "      <td>THE METROPOLITAN CONDOMINIUM</td>\n",
       "      <td>2300000</td>\n",
       "      <td>1327</td>\n",
       "      <td>3</td>\n",
       "      <td>RCR</td>\n",
       "      <td>Resale</td>\n",
       "      <td>1733</td>\n",
       "      <td>06 to 10</td>\n",
       "      <td>87.0</td>\n",
       "      <td>Jun-18</td>\n",
       "      <td>2018-06-01</td>\n",
       "    </tr>\n",
       "    <tr>\n",
       "      <th>...</th>\n",
       "      <td>...</td>\n",
       "      <td>...</td>\n",
       "      <td>...</td>\n",
       "      <td>...</td>\n",
       "      <td>...</td>\n",
       "      <td>...</td>\n",
       "      <td>...</td>\n",
       "      <td>...</td>\n",
       "      <td>...</td>\n",
       "      <td>...</td>\n",
       "      <td>...</td>\n",
       "    </tr>\n",
       "    <tr>\n",
       "      <th>6204</th>\n",
       "      <td>SYMPHONY SUITES</td>\n",
       "      <td>1015000</td>\n",
       "      <td>993</td>\n",
       "      <td>27</td>\n",
       "      <td>OCR</td>\n",
       "      <td>New Sale</td>\n",
       "      <td>1023</td>\n",
       "      <td>06 to 10</td>\n",
       "      <td>95.0</td>\n",
       "      <td>Jan-18</td>\n",
       "      <td>2018-01-01</td>\n",
       "    </tr>\n",
       "    <tr>\n",
       "      <th>6205</th>\n",
       "      <td>THE GREENWICH</td>\n",
       "      <td>635000</td>\n",
       "      <td>1053</td>\n",
       "      <td>28</td>\n",
       "      <td>OCR</td>\n",
       "      <td>Resale</td>\n",
       "      <td>603</td>\n",
       "      <td>01 to 05</td>\n",
       "      <td>90.0</td>\n",
       "      <td>Jan-18</td>\n",
       "      <td>2018-01-01</td>\n",
       "    </tr>\n",
       "    <tr>\n",
       "      <th>6206</th>\n",
       "      <td>SYMPHONY SUITES</td>\n",
       "      <td>1000000</td>\n",
       "      <td>1093</td>\n",
       "      <td>27</td>\n",
       "      <td>OCR</td>\n",
       "      <td>New Sale</td>\n",
       "      <td>915</td>\n",
       "      <td>11 to 15</td>\n",
       "      <td>95.0</td>\n",
       "      <td>Jan-18</td>\n",
       "      <td>2018-01-01</td>\n",
       "    </tr>\n",
       "    <tr>\n",
       "      <th>6207</th>\n",
       "      <td>KANDIS RESIDENCE</td>\n",
       "      <td>673000</td>\n",
       "      <td>1389</td>\n",
       "      <td>27</td>\n",
       "      <td>OCR</td>\n",
       "      <td>New Sale</td>\n",
       "      <td>484</td>\n",
       "      <td>01 to 05</td>\n",
       "      <td>97.0</td>\n",
       "      <td>Jan-18</td>\n",
       "      <td>2018-01-01</td>\n",
       "    </tr>\n",
       "    <tr>\n",
       "      <th>6208</th>\n",
       "      <td>SYMPHONY SUITES</td>\n",
       "      <td>942000</td>\n",
       "      <td>1054</td>\n",
       "      <td>27</td>\n",
       "      <td>OCR</td>\n",
       "      <td>New Sale</td>\n",
       "      <td>893</td>\n",
       "      <td>01 to 05</td>\n",
       "      <td>95.0</td>\n",
       "      <td>Jan-18</td>\n",
       "      <td>2018-01-01</td>\n",
       "    </tr>\n",
       "  </tbody>\n",
       "</table>\n",
       "<p>6209 rows × 11 columns</p>\n",
       "</div>"
      ],
      "text/plain": [
       "                              name    price  unit_price  district_code  \\\n",
       "0                     BLUE HORIZON   958000        1035              5   \n",
       "1                        THE CREST  3444000        2000              3   \n",
       "2                          ECHELON  1540000        2104              3   \n",
       "3                        THE CREST  2495000        2088              3   \n",
       "4     THE METROPOLITAN CONDOMINIUM  2300000        1327              3   \n",
       "...                            ...      ...         ...            ...   \n",
       "6204               SYMPHONY SUITES  1015000         993             27   \n",
       "6205                 THE GREENWICH   635000        1053             28   \n",
       "6206               SYMPHONY SUITES  1000000        1093             27   \n",
       "6207              KANDIS RESIDENCE   673000        1389             27   \n",
       "6208               SYMPHONY SUITES   942000        1054             27   \n",
       "\n",
       "     segment      type  area     level  remaining_years    date time_stamp  \n",
       "0        OCR    Resale   926  16 to 20             81.0  Jun-18 2018-06-01  \n",
       "1        RCR    Resale  1722  01 to 05             93.0  Jun-18 2018-06-01  \n",
       "2        RCR    Resale   732  31 to 35             93.0  Jun-18 2018-06-01  \n",
       "3        RCR    Resale  1195  06 to 10             93.0  Jun-18 2018-06-01  \n",
       "4        RCR    Resale  1733  06 to 10             87.0  Jun-18 2018-06-01  \n",
       "...      ...       ...   ...       ...              ...     ...        ...  \n",
       "6204     OCR  New Sale  1023  06 to 10             95.0  Jan-18 2018-01-01  \n",
       "6205     OCR    Resale   603  01 to 05             90.0  Jan-18 2018-01-01  \n",
       "6206     OCR  New Sale   915  11 to 15             95.0  Jan-18 2018-01-01  \n",
       "6207     OCR  New Sale   484  01 to 05             97.0  Jan-18 2018-01-01  \n",
       "6208     OCR  New Sale   893  01 to 05             95.0  Jan-18 2018-01-01  \n",
       "\n",
       "[6209 rows x 11 columns]"
      ]
     },
     "execution_count": 25,
     "metadata": {},
     "output_type": "execute_result"
    }
   ],
   "source": [
    "subset = data.loc[(data['time_stamp'] >= time_range[0]) &\n",
    "                  (data['time_stamp'] < time_range[1])]\n",
    "subset.reset_index(drop=True, inplace=True)\n",
    "subset"
   ]
  },
  {
   "cell_type": "code",
   "execution_count": 26,
   "metadata": {},
   "outputs": [
    {
     "data": {
      "text/plain": [
       "array(['Nov-19', 'Oct-19', 'Sep-19', 'Aug-19', 'Jul-19', 'Jun-19',\n",
       "       'May-19', 'Apr-19', 'Mar-19', 'Feb-19', 'Jan-19', 'Dec-18',\n",
       "       'Nov-18', 'Oct-18', 'Sep-18', 'Aug-18', 'Jul-18', 'Jun-18',\n",
       "       'May-18', 'Apr-18', 'Mar-18', 'Feb-18', 'Jan-18', 'Dec-17',\n",
       "       'Nov-17', 'Oct-17', 'Sep-17', 'Aug-17', 'Jul-17', 'Jun-17',\n",
       "       'May-17', 'Apr-17', 'Mar-17', 'Feb-17', 'Jan-17', 'Dec-16',\n",
       "       'Nov-16'], dtype=object)"
      ]
     },
     "execution_count": 26,
     "metadata": {},
     "output_type": "execute_result"
    }
   ],
   "source": [
    "data['date'].unique()"
   ]
  },
  {
   "cell_type": "markdown",
   "metadata": {},
   "source": [
    "### Vectorized string operations <a id=\"subsection2.3\"></a>\n",
    "<div class=\"alert alert-block alert-success\">\n",
    "    <b>Example 3:</b> Notice that the condo level is given as a string \"XX to YY\". Create two columns <b>level_from</b> and <b>level_to</b>, that are the level numbers \"XX\" and \"YY\", as <b>int</b> type values.\n",
    "</div>\n",
    "\n",
    "Pandas enables vectorized operations by the <code>str</code> attribute, so that we can apply string methods and indexing or slicing expressions to each string in the series. For example, we may use the <code>lower()</code> method to convert the names of all condo projects to be lower case."
   ]
  },
  {
   "cell_type": "code",
   "execution_count": 27,
   "metadata": {},
   "outputs": [
    {
     "data": {
      "text/plain": [
       "0                    seascape\n",
       "1         commonwealth towers\n",
       "2                 the trilinq\n",
       "3                   the crest\n",
       "4               the anchorage\n",
       "                 ...         \n",
       "32163          skies miltonia\n",
       "32164         symphony suites\n",
       "32165               seletaris\n",
       "32166    riverbank @ fernvale\n",
       "32167             the estuary\n",
       "Name: name, Length: 32168, dtype: object"
      ]
     },
     "execution_count": 27,
     "metadata": {},
     "output_type": "execute_result"
    }
   ],
   "source": [
    "data['name'].str.lower()"
   ]
  },
  {
   "cell_type": "markdown",
   "metadata": {},
   "source": [
    "The level numbers in **Example 3** can be retrieved by slicing expression of strings, and can be then converted to <code>int</code> type values by the <code>astype()</code> method."
   ]
  },
  {
   "cell_type": "code",
   "execution_count": 28,
   "metadata": {},
   "outputs": [
    {
     "data": {
      "text/html": [
       "<div>\n",
       "<style scoped>\n",
       "    .dataframe tbody tr th:only-of-type {\n",
       "        vertical-align: middle;\n",
       "    }\n",
       "\n",
       "    .dataframe tbody tr th {\n",
       "        vertical-align: top;\n",
       "    }\n",
       "\n",
       "    .dataframe thead th {\n",
       "        text-align: right;\n",
       "    }\n",
       "</style>\n",
       "<table border=\"1\" class=\"dataframe\">\n",
       "  <thead>\n",
       "    <tr style=\"text-align: right;\">\n",
       "      <th></th>\n",
       "      <th>name</th>\n",
       "      <th>price</th>\n",
       "      <th>unit_price</th>\n",
       "      <th>district_code</th>\n",
       "      <th>segment</th>\n",
       "      <th>type</th>\n",
       "      <th>area</th>\n",
       "      <th>level</th>\n",
       "      <th>remaining_years</th>\n",
       "      <th>date</th>\n",
       "      <th>time_stamp</th>\n",
       "      <th>level_from</th>\n",
       "      <th>level_to</th>\n",
       "    </tr>\n",
       "  </thead>\n",
       "  <tbody>\n",
       "    <tr>\n",
       "      <th>0</th>\n",
       "      <td>SEASCAPE</td>\n",
       "      <td>4388000</td>\n",
       "      <td>2028</td>\n",
       "      <td>4</td>\n",
       "      <td>CCR</td>\n",
       "      <td>Resale</td>\n",
       "      <td>2164</td>\n",
       "      <td>06 to 10</td>\n",
       "      <td>87.0</td>\n",
       "      <td>Nov-19</td>\n",
       "      <td>2019-11-01</td>\n",
       "      <td>6</td>\n",
       "      <td>10</td>\n",
       "    </tr>\n",
       "    <tr>\n",
       "      <th>1</th>\n",
       "      <td>COMMONWEALTH TOWERS</td>\n",
       "      <td>1300000</td>\n",
       "      <td>1887</td>\n",
       "      <td>3</td>\n",
       "      <td>RCR</td>\n",
       "      <td>Resale</td>\n",
       "      <td>689</td>\n",
       "      <td>16 to 20</td>\n",
       "      <td>93.0</td>\n",
       "      <td>Nov-19</td>\n",
       "      <td>2019-11-01</td>\n",
       "      <td>16</td>\n",
       "      <td>20</td>\n",
       "    </tr>\n",
       "    <tr>\n",
       "      <th>2</th>\n",
       "      <td>THE TRILINQ</td>\n",
       "      <td>1755000</td>\n",
       "      <td>1304</td>\n",
       "      <td>5</td>\n",
       "      <td>OCR</td>\n",
       "      <td>Resale</td>\n",
       "      <td>1346</td>\n",
       "      <td>06 to 10</td>\n",
       "      <td>92.0</td>\n",
       "      <td>Nov-19</td>\n",
       "      <td>2019-11-01</td>\n",
       "      <td>6</td>\n",
       "      <td>10</td>\n",
       "    </tr>\n",
       "    <tr>\n",
       "      <th>3</th>\n",
       "      <td>THE CREST</td>\n",
       "      <td>2085000</td>\n",
       "      <td>2201</td>\n",
       "      <td>3</td>\n",
       "      <td>RCR</td>\n",
       "      <td>Resale</td>\n",
       "      <td>947</td>\n",
       "      <td>01 to 05</td>\n",
       "      <td>92.0</td>\n",
       "      <td>Nov-19</td>\n",
       "      <td>2019-11-01</td>\n",
       "      <td>1</td>\n",
       "      <td>5</td>\n",
       "    </tr>\n",
       "    <tr>\n",
       "      <th>4</th>\n",
       "      <td>THE ANCHORAGE</td>\n",
       "      <td>1848888</td>\n",
       "      <td>1468</td>\n",
       "      <td>3</td>\n",
       "      <td>RCR</td>\n",
       "      <td>Resale</td>\n",
       "      <td>1259</td>\n",
       "      <td>01 to 05</td>\n",
       "      <td>999.0</td>\n",
       "      <td>Nov-19</td>\n",
       "      <td>2019-11-01</td>\n",
       "      <td>1</td>\n",
       "      <td>5</td>\n",
       "    </tr>\n",
       "    <tr>\n",
       "      <th>5</th>\n",
       "      <td>MOUNT FABER LODGE</td>\n",
       "      <td>4400000</td>\n",
       "      <td>1188</td>\n",
       "      <td>4</td>\n",
       "      <td>RCR</td>\n",
       "      <td>Resale</td>\n",
       "      <td>3703</td>\n",
       "      <td>06 to 10</td>\n",
       "      <td>999.0</td>\n",
       "      <td>Oct-19</td>\n",
       "      <td>2019-10-01</td>\n",
       "      <td>6</td>\n",
       "      <td>10</td>\n",
       "    </tr>\n",
       "  </tbody>\n",
       "</table>\n",
       "</div>"
      ],
      "text/plain": [
       "                  name    price  unit_price  district_code segment    type  \\\n",
       "0             SEASCAPE  4388000        2028              4     CCR  Resale   \n",
       "1  COMMONWEALTH TOWERS  1300000        1887              3     RCR  Resale   \n",
       "2          THE TRILINQ  1755000        1304              5     OCR  Resale   \n",
       "3            THE CREST  2085000        2201              3     RCR  Resale   \n",
       "4        THE ANCHORAGE  1848888        1468              3     RCR  Resale   \n",
       "5    MOUNT FABER LODGE  4400000        1188              4     RCR  Resale   \n",
       "\n",
       "   area     level  remaining_years    date time_stamp  level_from  level_to  \n",
       "0  2164  06 to 10             87.0  Nov-19 2019-11-01           6        10  \n",
       "1   689  16 to 20             93.0  Nov-19 2019-11-01          16        20  \n",
       "2  1346  06 to 10             92.0  Nov-19 2019-11-01           6        10  \n",
       "3   947  01 to 05             92.0  Nov-19 2019-11-01           1         5  \n",
       "4  1259  01 to 05            999.0  Nov-19 2019-11-01           1         5  \n",
       "5  3703  06 to 10            999.0  Oct-19 2019-10-01           6        10  "
      ]
     },
     "execution_count": 28,
     "metadata": {},
     "output_type": "execute_result"
    }
   ],
   "source": [
    "data['level_from'] = data['level'].str[:2].astype(int)\n",
    "data['level_to'] = data['level'].str[-2:].astype(int)\n",
    "data.head(6)"
   ]
  },
  {
   "cell_type": "markdown",
   "metadata": {},
   "source": [
    "<div class=\"alert alert-block alert-success\">\n",
    "<b>Example 4:</b> Considering Singapore condos in the district 5, use data visualization to show the monthly trends of 1) the average unit prices; and 2) the number of transactions, in recent years. \n",
    "</div>\n",
    "The subset of data for district 5 is obtained by the following code."
   ]
  },
  {
   "cell_type": "code",
   "execution_count": 29,
   "metadata": {},
   "outputs": [
    {
     "data": {
      "text/html": [
       "<div>\n",
       "<style scoped>\n",
       "    .dataframe tbody tr th:only-of-type {\n",
       "        vertical-align: middle;\n",
       "    }\n",
       "\n",
       "    .dataframe tbody tr th {\n",
       "        vertical-align: top;\n",
       "    }\n",
       "\n",
       "    .dataframe thead th {\n",
       "        text-align: right;\n",
       "    }\n",
       "</style>\n",
       "<table border=\"1\" class=\"dataframe\">\n",
       "  <thead>\n",
       "    <tr style=\"text-align: right;\">\n",
       "      <th></th>\n",
       "      <th>name</th>\n",
       "      <th>price</th>\n",
       "      <th>unit_price</th>\n",
       "      <th>district_code</th>\n",
       "      <th>segment</th>\n",
       "      <th>type</th>\n",
       "      <th>area</th>\n",
       "      <th>level</th>\n",
       "      <th>remaining_years</th>\n",
       "      <th>date</th>\n",
       "      <th>time_stamp</th>\n",
       "      <th>level_from</th>\n",
       "      <th>level_to</th>\n",
       "    </tr>\n",
       "  </thead>\n",
       "  <tbody>\n",
       "    <tr>\n",
       "      <th>2</th>\n",
       "      <td>THE TRILINQ</td>\n",
       "      <td>1755000</td>\n",
       "      <td>1304</td>\n",
       "      <td>5</td>\n",
       "      <td>OCR</td>\n",
       "      <td>Resale</td>\n",
       "      <td>1346</td>\n",
       "      <td>06 to 10</td>\n",
       "      <td>92.0</td>\n",
       "      <td>Nov-19</td>\n",
       "      <td>2019-11-01</td>\n",
       "      <td>6</td>\n",
       "      <td>10</td>\n",
       "    </tr>\n",
       "    <tr>\n",
       "      <th>6</th>\n",
       "      <td>BLUE HORIZON</td>\n",
       "      <td>990000</td>\n",
       "      <td>1022</td>\n",
       "      <td>5</td>\n",
       "      <td>OCR</td>\n",
       "      <td>Resale</td>\n",
       "      <td>969</td>\n",
       "      <td>21 to 25</td>\n",
       "      <td>80.0</td>\n",
       "      <td>Oct-19</td>\n",
       "      <td>2019-10-01</td>\n",
       "      <td>21</td>\n",
       "      <td>25</td>\n",
       "    </tr>\n",
       "    <tr>\n",
       "      <th>7</th>\n",
       "      <td>DOVER PARKVIEW</td>\n",
       "      <td>1088000</td>\n",
       "      <td>1162</td>\n",
       "      <td>5</td>\n",
       "      <td>RCR</td>\n",
       "      <td>Resale</td>\n",
       "      <td>936</td>\n",
       "      <td>06 to 10</td>\n",
       "      <td>73.0</td>\n",
       "      <td>Oct-19</td>\n",
       "      <td>2019-10-01</td>\n",
       "      <td>6</td>\n",
       "      <td>10</td>\n",
       "    </tr>\n",
       "    <tr>\n",
       "      <th>10</th>\n",
       "      <td>WESTCOVE CONDOMINIUM</td>\n",
       "      <td>970000</td>\n",
       "      <td>834</td>\n",
       "      <td>5</td>\n",
       "      <td>OCR</td>\n",
       "      <td>Resale</td>\n",
       "      <td>1163</td>\n",
       "      <td>01 to 05</td>\n",
       "      <td>75.0</td>\n",
       "      <td>Oct-19</td>\n",
       "      <td>2019-10-01</td>\n",
       "      <td>1</td>\n",
       "      <td>5</td>\n",
       "    </tr>\n",
       "    <tr>\n",
       "      <th>14</th>\n",
       "      <td>FABER CREST</td>\n",
       "      <td>950000</td>\n",
       "      <td>919</td>\n",
       "      <td>5</td>\n",
       "      <td>OCR</td>\n",
       "      <td>Resale</td>\n",
       "      <td>1033</td>\n",
       "      <td>01 to 05</td>\n",
       "      <td>76.0</td>\n",
       "      <td>Oct-19</td>\n",
       "      <td>2019-10-01</td>\n",
       "      <td>1</td>\n",
       "      <td>5</td>\n",
       "    </tr>\n",
       "    <tr>\n",
       "      <th>15</th>\n",
       "      <td>HERITAGE VIEW</td>\n",
       "      <td>1575000</td>\n",
       "      <td>1199</td>\n",
       "      <td>5</td>\n",
       "      <td>RCR</td>\n",
       "      <td>Resale</td>\n",
       "      <td>1313</td>\n",
       "      <td>16 to 20</td>\n",
       "      <td>76.0</td>\n",
       "      <td>Oct-19</td>\n",
       "      <td>2019-10-01</td>\n",
       "      <td>16</td>\n",
       "      <td>20</td>\n",
       "    </tr>\n",
       "  </tbody>\n",
       "</table>\n",
       "</div>"
      ],
      "text/plain": [
       "                    name    price  unit_price  district_code segment    type  \\\n",
       "2            THE TRILINQ  1755000        1304              5     OCR  Resale   \n",
       "6           BLUE HORIZON   990000        1022              5     OCR  Resale   \n",
       "7         DOVER PARKVIEW  1088000        1162              5     RCR  Resale   \n",
       "10  WESTCOVE CONDOMINIUM   970000         834              5     OCR  Resale   \n",
       "14           FABER CREST   950000         919              5     OCR  Resale   \n",
       "15         HERITAGE VIEW  1575000        1199              5     RCR  Resale   \n",
       "\n",
       "    area     level  remaining_years    date time_stamp  level_from  level_to  \n",
       "2   1346  06 to 10             92.0  Nov-19 2019-11-01           6        10  \n",
       "6    969  21 to 25             80.0  Oct-19 2019-10-01          21        25  \n",
       "7    936  06 to 10             73.0  Oct-19 2019-10-01           6        10  \n",
       "10  1163  01 to 05             75.0  Oct-19 2019-10-01           1         5  \n",
       "14  1033  01 to 05             76.0  Oct-19 2019-10-01           1         5  \n",
       "15  1313  16 to 20             76.0  Oct-19 2019-10-01          16        20  "
      ]
     },
     "execution_count": 29,
     "metadata": {},
     "output_type": "execute_result"
    }
   ],
   "source": [
    "subset = data.loc[(data['district_code']==5)]\n",
    "subset.head(6)"
   ]
  },
  {
   "cell_type": "markdown",
   "metadata": {},
   "source": [
    "The monthly aggregated values can be calculated by the <code>groupby()</code> method."
   ]
  },
  {
   "cell_type": "code",
   "execution_count": 30,
   "metadata": {
    "scrolled": true
   },
   "outputs": [
    {
     "data": {
      "text/html": [
       "<div>\n",
       "<style scoped>\n",
       "    .dataframe tbody tr th:only-of-type {\n",
       "        vertical-align: middle;\n",
       "    }\n",
       "\n",
       "    .dataframe tbody tr th {\n",
       "        vertical-align: top;\n",
       "    }\n",
       "\n",
       "    .dataframe thead th {\n",
       "        text-align: right;\n",
       "    }\n",
       "</style>\n",
       "<table border=\"1\" class=\"dataframe\">\n",
       "  <thead>\n",
       "    <tr style=\"text-align: right;\">\n",
       "      <th></th>\n",
       "      <th>date</th>\n",
       "      <th>mean</th>\n",
       "      <th>count</th>\n",
       "    </tr>\n",
       "  </thead>\n",
       "  <tbody>\n",
       "    <tr>\n",
       "      <th>0</th>\n",
       "      <td>Apr-17</td>\n",
       "      <td>1162.106195</td>\n",
       "      <td>113</td>\n",
       "    </tr>\n",
       "    <tr>\n",
       "      <th>1</th>\n",
       "      <td>Apr-18</td>\n",
       "      <td>1151.673913</td>\n",
       "      <td>46</td>\n",
       "    </tr>\n",
       "    <tr>\n",
       "      <th>2</th>\n",
       "      <td>Apr-19</td>\n",
       "      <td>1197.903226</td>\n",
       "      <td>31</td>\n",
       "    </tr>\n",
       "    <tr>\n",
       "      <th>3</th>\n",
       "      <td>Aug-17</td>\n",
       "      <td>1174.113924</td>\n",
       "      <td>79</td>\n",
       "    </tr>\n",
       "    <tr>\n",
       "      <th>4</th>\n",
       "      <td>Aug-18</td>\n",
       "      <td>1244.913043</td>\n",
       "      <td>23</td>\n",
       "    </tr>\n",
       "    <tr>\n",
       "      <th>5</th>\n",
       "      <td>Aug-19</td>\n",
       "      <td>1255.642857</td>\n",
       "      <td>14</td>\n",
       "    </tr>\n",
       "    <tr>\n",
       "      <th>6</th>\n",
       "      <td>Dec-16</td>\n",
       "      <td>1141.553191</td>\n",
       "      <td>47</td>\n",
       "    </tr>\n",
       "    <tr>\n",
       "      <th>7</th>\n",
       "      <td>Dec-17</td>\n",
       "      <td>1197.726027</td>\n",
       "      <td>73</td>\n",
       "    </tr>\n",
       "    <tr>\n",
       "      <th>8</th>\n",
       "      <td>Dec-18</td>\n",
       "      <td>1226.526316</td>\n",
       "      <td>19</td>\n",
       "    </tr>\n",
       "    <tr>\n",
       "      <th>9</th>\n",
       "      <td>Feb-17</td>\n",
       "      <td>1237.646739</td>\n",
       "      <td>184</td>\n",
       "    </tr>\n",
       "  </tbody>\n",
       "</table>\n",
       "</div>"
      ],
      "text/plain": [
       "     date         mean  count\n",
       "0  Apr-17  1162.106195    113\n",
       "1  Apr-18  1151.673913     46\n",
       "2  Apr-19  1197.903226     31\n",
       "3  Aug-17  1174.113924     79\n",
       "4  Aug-18  1244.913043     23\n",
       "5  Aug-19  1255.642857     14\n",
       "6  Dec-16  1141.553191     47\n",
       "7  Dec-17  1197.726027     73\n",
       "8  Dec-18  1226.526316     19\n",
       "9  Feb-17  1237.646739    184"
      ]
     },
     "execution_count": 30,
     "metadata": {},
     "output_type": "execute_result"
    }
   ],
   "source": [
    "monthly = subset.groupby('date')['unit_price'].agg(['mean', 'count'])\n",
    "monthly.reset_index(inplace=True)\n",
    "monthly.head(10)"
   ]
  },
  {
   "cell_type": "markdown",
   "metadata": {},
   "source": [
    "You may notice that these records are sorted alphabetically with respect to the strings of the <code>date</code> column. We then convert these strings into <code>timestamp</code> objects, so they can be correctly sorted according to the dates. "
   ]
  },
  {
   "cell_type": "code",
   "execution_count": 31,
   "metadata": {},
   "outputs": [
    {
     "data": {
      "text/html": [
       "<div>\n",
       "<style scoped>\n",
       "    .dataframe tbody tr th:only-of-type {\n",
       "        vertical-align: middle;\n",
       "    }\n",
       "\n",
       "    .dataframe tbody tr th {\n",
       "        vertical-align: top;\n",
       "    }\n",
       "\n",
       "    .dataframe thead th {\n",
       "        text-align: right;\n",
       "    }\n",
       "</style>\n",
       "<table border=\"1\" class=\"dataframe\">\n",
       "  <thead>\n",
       "    <tr style=\"text-align: right;\">\n",
       "      <th></th>\n",
       "      <th>date</th>\n",
       "      <th>mean</th>\n",
       "      <th>count</th>\n",
       "      <th>time_stamp</th>\n",
       "    </tr>\n",
       "  </thead>\n",
       "  <tbody>\n",
       "    <tr>\n",
       "      <th>0</th>\n",
       "      <td>Apr-17</td>\n",
       "      <td>1162.106195</td>\n",
       "      <td>113</td>\n",
       "      <td>2017-04-01</td>\n",
       "    </tr>\n",
       "    <tr>\n",
       "      <th>1</th>\n",
       "      <td>Apr-18</td>\n",
       "      <td>1151.673913</td>\n",
       "      <td>46</td>\n",
       "      <td>2018-04-01</td>\n",
       "    </tr>\n",
       "    <tr>\n",
       "      <th>2</th>\n",
       "      <td>Apr-19</td>\n",
       "      <td>1197.903226</td>\n",
       "      <td>31</td>\n",
       "      <td>2019-04-01</td>\n",
       "    </tr>\n",
       "    <tr>\n",
       "      <th>3</th>\n",
       "      <td>Aug-17</td>\n",
       "      <td>1174.113924</td>\n",
       "      <td>79</td>\n",
       "      <td>2017-08-01</td>\n",
       "    </tr>\n",
       "    <tr>\n",
       "      <th>4</th>\n",
       "      <td>Aug-18</td>\n",
       "      <td>1244.913043</td>\n",
       "      <td>23</td>\n",
       "      <td>2018-08-01</td>\n",
       "    </tr>\n",
       "    <tr>\n",
       "      <th>5</th>\n",
       "      <td>Aug-19</td>\n",
       "      <td>1255.642857</td>\n",
       "      <td>14</td>\n",
       "      <td>2019-08-01</td>\n",
       "    </tr>\n",
       "    <tr>\n",
       "      <th>6</th>\n",
       "      <td>Dec-16</td>\n",
       "      <td>1141.553191</td>\n",
       "      <td>47</td>\n",
       "      <td>2016-12-01</td>\n",
       "    </tr>\n",
       "    <tr>\n",
       "      <th>7</th>\n",
       "      <td>Dec-17</td>\n",
       "      <td>1197.726027</td>\n",
       "      <td>73</td>\n",
       "      <td>2017-12-01</td>\n",
       "    </tr>\n",
       "    <tr>\n",
       "      <th>8</th>\n",
       "      <td>Dec-18</td>\n",
       "      <td>1226.526316</td>\n",
       "      <td>19</td>\n",
       "      <td>2018-12-01</td>\n",
       "    </tr>\n",
       "    <tr>\n",
       "      <th>9</th>\n",
       "      <td>Feb-17</td>\n",
       "      <td>1237.646739</td>\n",
       "      <td>184</td>\n",
       "      <td>2017-02-01</td>\n",
       "    </tr>\n",
       "  </tbody>\n",
       "</table>\n",
       "</div>"
      ],
      "text/plain": [
       "     date         mean  count time_stamp\n",
       "0  Apr-17  1162.106195    113 2017-04-01\n",
       "1  Apr-18  1151.673913     46 2018-04-01\n",
       "2  Apr-19  1197.903226     31 2019-04-01\n",
       "3  Aug-17  1174.113924     79 2017-08-01\n",
       "4  Aug-18  1244.913043     23 2018-08-01\n",
       "5  Aug-19  1255.642857     14 2019-08-01\n",
       "6  Dec-16  1141.553191     47 2016-12-01\n",
       "7  Dec-17  1197.726027     73 2017-12-01\n",
       "8  Dec-18  1226.526316     19 2018-12-01\n",
       "9  Feb-17  1237.646739    184 2017-02-01"
      ]
     },
     "execution_count": 31,
     "metadata": {},
     "output_type": "execute_result"
    }
   ],
   "source": [
    "monthly['time_stamp'] = pd.to_datetime(monthly['date'], format='%b-%y')\n",
    "monthly.head(10)"
   ]
  },
  {
   "cell_type": "code",
   "execution_count": 1,
   "metadata": {},
   "outputs": [
    {
     "ename": "NameError",
     "evalue": "name 'monthly' is not defined",
     "output_type": "error",
     "traceback": [
      "\u001b[1;31m---------------------------------------------------------------------------\u001b[0m",
      "\u001b[1;31mNameError\u001b[0m                                 Traceback (most recent call last)",
      "\u001b[1;32m<ipython-input-1-a8a907016d6f>\u001b[0m in \u001b[0;36m<module>\u001b[1;34m\u001b[0m\n\u001b[1;32m----> 1\u001b[1;33m \u001b[0mmonthly\u001b[0m\u001b[1;33m.\u001b[0m\u001b[0msort_values\u001b[0m\u001b[1;33m(\u001b[0m\u001b[0mby\u001b[0m\u001b[1;33m=\u001b[0m\u001b[1;34m'time_stamp'\u001b[0m\u001b[1;33m,\u001b[0m \u001b[0minplace\u001b[0m\u001b[1;33m=\u001b[0m\u001b[1;32mTrue\u001b[0m\u001b[1;33m)\u001b[0m\u001b[1;33m\u001b[0m\u001b[1;33m\u001b[0m\u001b[0m\n\u001b[0m\u001b[0;32m      2\u001b[0m \u001b[0mmonthly\u001b[0m\u001b[1;33m.\u001b[0m\u001b[0mreset_index\u001b[0m\u001b[1;33m(\u001b[0m\u001b[0mdrop\u001b[0m\u001b[1;33m=\u001b[0m\u001b[1;32mTrue\u001b[0m\u001b[1;33m,\u001b[0m \u001b[0minplace\u001b[0m\u001b[1;33m=\u001b[0m\u001b[1;32mTrue\u001b[0m\u001b[1;33m)\u001b[0m\u001b[1;33m\u001b[0m\u001b[1;33m\u001b[0m\u001b[0m\n\u001b[0;32m      3\u001b[0m \u001b[0mmonthly\u001b[0m\u001b[1;33m.\u001b[0m\u001b[0mhead\u001b[0m\u001b[1;33m(\u001b[0m\u001b[1;36m10\u001b[0m\u001b[1;33m)\u001b[0m\u001b[1;33m\u001b[0m\u001b[1;33m\u001b[0m\u001b[0m\n",
      "\u001b[1;31mNameError\u001b[0m: name 'monthly' is not defined"
     ]
    }
   ],
   "source": [
    "monthly.sort_values(by='time_stamp', inplace=True)\n",
    "monthly.reset_index(drop=True, inplace=True)\n",
    "monthly.head(10)"
   ]
  },
  {
   "cell_type": "markdown",
   "metadata": {},
   "source": [
    "Now we have collected all data we need, the monthly average unit prices and the transaction counts can be visualized as follows."
   ]
  },
  {
   "cell_type": "code",
   "execution_count": 33,
   "metadata": {
    "scrolled": true
   },
   "outputs": [
    {
     "data": {
      "image/png": "[encoded data removed]",
      "text/plain": [
       "<Figure size 864x360 with 1 Axes>"
      ]
     },
     "metadata": {
      "needs_background": "light"
     },
     "output_type": "display_data"
    }
   ],
   "source": [
    "plt.figure(figsize=(12, 5))                          # Resize the figure\n",
    "plt.plot(monthly['date'], monthly['mean'], \n",
    "         c='b', label='Average unit prices')\n",
    "plt.scatter(monthly['date'], monthly['mean'], \n",
    "            s=3*monthly['count'], \n",
    "            c='b', alpha=0.5, label='Transactions')\n",
    "\n",
    "plt.legend(fontsize=14)\n",
    "plt.xticks(rotation=90)                             # Rotate x ticks\n",
    "plt.xlabel('Date', fontsize=14)                     # X label and change the font size\n",
    "plt.ylabel('Unit prices (S$/sqft)', fontsize=14)    # Y label and change the font size\n",
    "plt.grid()\n",
    "plt.show()"
   ]
  },
  {
   "cell_type": "markdown",
   "metadata": {},
   "source": [
    "### Pivot table <a id=\"subsection2.4\"></a>\n",
    "<div class=\"alert alert-block alert-success\">\n",
    "<b>Example 5:</b> The \"titanic\" dataset provides a sample data of passengers of RMS Titanic. Explore the percentage of survival by sex and classes.   \n",
    "</div>"
   ]
  },
  {
   "cell_type": "code",
   "execution_count": 34,
   "metadata": {
    "scrolled": true
   },
   "outputs": [
    {
     "data": {
      "text/html": [
       "<div>\n",
       "<style scoped>\n",
       "    .dataframe tbody tr th:only-of-type {\n",
       "        vertical-align: middle;\n",
       "    }\n",
       "\n",
       "    .dataframe tbody tr th {\n",
       "        vertical-align: top;\n",
       "    }\n",
       "\n",
       "    .dataframe thead th {\n",
       "        text-align: right;\n",
       "    }\n",
       "</style>\n",
       "<table border=\"1\" class=\"dataframe\">\n",
       "  <thead>\n",
       "    <tr style=\"text-align: right;\">\n",
       "      <th></th>\n",
       "      <th>survived</th>\n",
       "      <th>pclass</th>\n",
       "      <th>sex</th>\n",
       "      <th>age</th>\n",
       "      <th>sibsp</th>\n",
       "      <th>parch</th>\n",
       "      <th>fare</th>\n",
       "      <th>embarked</th>\n",
       "      <th>class</th>\n",
       "      <th>who</th>\n",
       "      <th>adult_male</th>\n",
       "      <th>deck</th>\n",
       "      <th>embark_town</th>\n",
       "      <th>alive</th>\n",
       "      <th>alone</th>\n",
       "    </tr>\n",
       "  </thead>\n",
       "  <tbody>\n",
       "    <tr>\n",
       "      <th>0</th>\n",
       "      <td>0</td>\n",
       "      <td>3</td>\n",
       "      <td>male</td>\n",
       "      <td>22.0</td>\n",
       "      <td>1</td>\n",
       "      <td>0</td>\n",
       "      <td>7.2500</td>\n",
       "      <td>S</td>\n",
       "      <td>Third</td>\n",
       "      <td>man</td>\n",
       "      <td>True</td>\n",
       "      <td>NaN</td>\n",
       "      <td>Southampton</td>\n",
       "      <td>no</td>\n",
       "      <td>False</td>\n",
       "    </tr>\n",
       "    <tr>\n",
       "      <th>1</th>\n",
       "      <td>1</td>\n",
       "      <td>1</td>\n",
       "      <td>female</td>\n",
       "      <td>38.0</td>\n",
       "      <td>1</td>\n",
       "      <td>0</td>\n",
       "      <td>71.2833</td>\n",
       "      <td>C</td>\n",
       "      <td>First</td>\n",
       "      <td>woman</td>\n",
       "      <td>False</td>\n",
       "      <td>C</td>\n",
       "      <td>Cherbourg</td>\n",
       "      <td>yes</td>\n",
       "      <td>False</td>\n",
       "    </tr>\n",
       "    <tr>\n",
       "      <th>2</th>\n",
       "      <td>1</td>\n",
       "      <td>3</td>\n",
       "      <td>female</td>\n",
       "      <td>26.0</td>\n",
       "      <td>0</td>\n",
       "      <td>0</td>\n",
       "      <td>7.9250</td>\n",
       "      <td>S</td>\n",
       "      <td>Third</td>\n",
       "      <td>woman</td>\n",
       "      <td>False</td>\n",
       "      <td>NaN</td>\n",
       "      <td>Southampton</td>\n",
       "      <td>yes</td>\n",
       "      <td>True</td>\n",
       "    </tr>\n",
       "    <tr>\n",
       "      <th>3</th>\n",
       "      <td>1</td>\n",
       "      <td>1</td>\n",
       "      <td>female</td>\n",
       "      <td>35.0</td>\n",
       "      <td>1</td>\n",
       "      <td>0</td>\n",
       "      <td>53.1000</td>\n",
       "      <td>S</td>\n",
       "      <td>First</td>\n",
       "      <td>woman</td>\n",
       "      <td>False</td>\n",
       "      <td>C</td>\n",
       "      <td>Southampton</td>\n",
       "      <td>yes</td>\n",
       "      <td>False</td>\n",
       "    </tr>\n",
       "    <tr>\n",
       "      <th>4</th>\n",
       "      <td>0</td>\n",
       "      <td>3</td>\n",
       "      <td>male</td>\n",
       "      <td>35.0</td>\n",
       "      <td>0</td>\n",
       "      <td>0</td>\n",
       "      <td>8.0500</td>\n",
       "      <td>S</td>\n",
       "      <td>Third</td>\n",
       "      <td>man</td>\n",
       "      <td>True</td>\n",
       "      <td>NaN</td>\n",
       "      <td>Southampton</td>\n",
       "      <td>no</td>\n",
       "      <td>True</td>\n",
       "    </tr>\n",
       "    <tr>\n",
       "      <th>5</th>\n",
       "      <td>0</td>\n",
       "      <td>3</td>\n",
       "      <td>male</td>\n",
       "      <td>NaN</td>\n",
       "      <td>0</td>\n",
       "      <td>0</td>\n",
       "      <td>8.4583</td>\n",
       "      <td>Q</td>\n",
       "      <td>Third</td>\n",
       "      <td>man</td>\n",
       "      <td>True</td>\n",
       "      <td>NaN</td>\n",
       "      <td>Queenstown</td>\n",
       "      <td>no</td>\n",
       "      <td>True</td>\n",
       "    </tr>\n",
       "  </tbody>\n",
       "</table>\n",
       "</div>"
      ],
      "text/plain": [
       "   survived  pclass     sex   age  sibsp  parch     fare embarked  class  \\\n",
       "0         0       3    male  22.0      1      0   7.2500        S  Third   \n",
       "1         1       1  female  38.0      1      0  71.2833        C  First   \n",
       "2         1       3  female  26.0      0      0   7.9250        S  Third   \n",
       "3         1       1  female  35.0      1      0  53.1000        S  First   \n",
       "4         0       3    male  35.0      0      0   8.0500        S  Third   \n",
       "5         0       3    male   NaN      0      0   8.4583        Q  Third   \n",
       "\n",
       "     who  adult_male deck  embark_town alive  alone  \n",
       "0    man        True  NaN  Southampton    no  False  \n",
       "1  woman       False    C    Cherbourg   yes  False  \n",
       "2  woman       False  NaN  Southampton   yes   True  \n",
       "3  woman       False    C  Southampton   yes  False  \n",
       "4    man        True  NaN  Southampton    no   True  \n",
       "5    man        True  NaN   Queenstown    no   True  "
      ]
     },
     "execution_count": 34,
     "metadata": {},
     "output_type": "execute_result"
    }
   ],
   "source": [
    "data_titan = pd.read_csv('titanic.csv')\n",
    "data_titan.head(6)"
   ]
  },
  {
   "cell_type": "markdown",
   "metadata": {},
   "source": [
    "We may use the <code>groupby()</code> method to obtain the survival rates for both genders and various classes."
   ]
  },
  {
   "cell_type": "code",
   "execution_count": 35,
   "metadata": {},
   "outputs": [
    {
     "data": {
      "text/plain": [
       "sex     class \n",
       "female  First     0.968085\n",
       "        Second    0.921053\n",
       "        Third     0.500000\n",
       "male    First     0.368852\n",
       "        Second    0.157407\n",
       "        Third     0.135447\n",
       "Name: survived, dtype: float64"
      ]
     },
     "execution_count": 35,
     "metadata": {},
     "output_type": "execute_result"
    }
   ],
   "source": [
    "srate = data_titan.groupby(['sex', 'class'])['survived'].aggregate('mean')\n",
    "srate"
   ]
  },
  {
   "cell_type": "markdown",
   "metadata": {},
   "source": [
    "Please note that the row indices of the series above have two layers, containing all combinations of values of <code>sex</code> and <code>class</code>."
   ]
  },
  {
   "cell_type": "code",
   "execution_count": 36,
   "metadata": {},
   "outputs": [
    {
     "data": {
      "text/plain": [
       "MultiIndex([('female',  'First'),\n",
       "            ('female', 'Second'),\n",
       "            ('female',  'Third'),\n",
       "            (  'male',  'First'),\n",
       "            (  'male', 'Second'),\n",
       "            (  'male',  'Third')],\n",
       "           names=['sex', 'class'])"
      ]
     },
     "execution_count": 36,
     "metadata": {},
     "output_type": "execute_result"
    }
   ],
   "source": [
    "srate.index"
   ]
  },
  {
   "cell_type": "markdown",
   "metadata": {},
   "source": [
    "The inner layer of indices can be used as column labels to form transform the series into a data frame by the <code>unstack()</code> method, as the code below."
   ]
  },
  {
   "cell_type": "code",
   "execution_count": 37,
   "metadata": {
    "scrolled": true
   },
   "outputs": [
    {
     "data": {
      "text/html": [
       "<div>\n",
       "<style scoped>\n",
       "    .dataframe tbody tr th:only-of-type {\n",
       "        vertical-align: middle;\n",
       "    }\n",
       "\n",
       "    .dataframe tbody tr th {\n",
       "        vertical-align: top;\n",
       "    }\n",
       "\n",
       "    .dataframe thead th {\n",
       "        text-align: right;\n",
       "    }\n",
       "</style>\n",
       "<table border=\"1\" class=\"dataframe\">\n",
       "  <thead>\n",
       "    <tr style=\"text-align: right;\">\n",
       "      <th>class</th>\n",
       "      <th>First</th>\n",
       "      <th>Second</th>\n",
       "      <th>Third</th>\n",
       "    </tr>\n",
       "    <tr>\n",
       "      <th>sex</th>\n",
       "      <th></th>\n",
       "      <th></th>\n",
       "      <th></th>\n",
       "    </tr>\n",
       "  </thead>\n",
       "  <tbody>\n",
       "    <tr>\n",
       "      <th>female</th>\n",
       "      <td>0.968085</td>\n",
       "      <td>0.921053</td>\n",
       "      <td>0.500000</td>\n",
       "    </tr>\n",
       "    <tr>\n",
       "      <th>male</th>\n",
       "      <td>0.368852</td>\n",
       "      <td>0.157407</td>\n",
       "      <td>0.135447</td>\n",
       "    </tr>\n",
       "  </tbody>\n",
       "</table>\n",
       "</div>"
      ],
      "text/plain": [
       "class      First    Second     Third\n",
       "sex                                 \n",
       "female  0.968085  0.921053  0.500000\n",
       "male    0.368852  0.157407  0.135447"
      ]
     },
     "execution_count": 37,
     "metadata": {},
     "output_type": "execute_result"
    }
   ],
   "source": [
    "srate = data_titan.groupby(['sex', 'class'])['survived'].aggregate('mean').unstack()\n",
    "srate"
   ]
  },
  {
   "cell_type": "markdown",
   "metadata": {},
   "source": [
    "The data frame provides a better presentation of the survival rates by both genders and different classes. However, such a long line of code is not easy to implement, so an equivalent approach using the <code>pivot_table()</code> method is introduced below."
   ]
  },
  {
   "cell_type": "code",
   "execution_count": 38,
   "metadata": {
    "scrolled": true
   },
   "outputs": [
    {
     "data": {
      "text/html": [
       "<div>\n",
       "<style scoped>\n",
       "    .dataframe tbody tr th:only-of-type {\n",
       "        vertical-align: middle;\n",
       "    }\n",
       "\n",
       "    .dataframe tbody tr th {\n",
       "        vertical-align: top;\n",
       "    }\n",
       "\n",
       "    .dataframe thead th {\n",
       "        text-align: right;\n",
       "    }\n",
       "</style>\n",
       "<table border=\"1\" class=\"dataframe\">\n",
       "  <thead>\n",
       "    <tr style=\"text-align: right;\">\n",
       "      <th>class</th>\n",
       "      <th>First</th>\n",
       "      <th>Second</th>\n",
       "      <th>Third</th>\n",
       "    </tr>\n",
       "    <tr>\n",
       "      <th>sex</th>\n",
       "      <th></th>\n",
       "      <th></th>\n",
       "      <th></th>\n",
       "    </tr>\n",
       "  </thead>\n",
       "  <tbody>\n",
       "    <tr>\n",
       "      <th>female</th>\n",
       "      <td>0.968085</td>\n",
       "      <td>0.921053</td>\n",
       "      <td>0.500000</td>\n",
       "    </tr>\n",
       "    <tr>\n",
       "      <th>male</th>\n",
       "      <td>0.368852</td>\n",
       "      <td>0.157407</td>\n",
       "      <td>0.135447</td>\n",
       "    </tr>\n",
       "  </tbody>\n",
       "</table>\n",
       "</div>"
      ],
      "text/plain": [
       "class      First    Second     Third\n",
       "sex                                 \n",
       "female  0.968085  0.921053  0.500000\n",
       "male    0.368852  0.157407  0.135447"
      ]
     },
     "execution_count": 38,
     "metadata": {},
     "output_type": "execute_result"
    }
   ],
   "source": [
    "srate = data_titan.pivot_table('survived', index='sex', columns='class')\n",
    "srate"
   ]
  },
  {
   "cell_type": "markdown",
   "metadata": {},
   "source": [
    "Obviously, if we want to use <code>class</code> as row indices, and <code>sex</code> as column indices, then the code is given below."
   ]
  },
  {
   "cell_type": "code",
   "execution_count": 39,
   "metadata": {
    "scrolled": true
   },
   "outputs": [
    {
     "data": {
      "text/html": [
       "<div>\n",
       "<style scoped>\n",
       "    .dataframe tbody tr th:only-of-type {\n",
       "        vertical-align: middle;\n",
       "    }\n",
       "\n",
       "    .dataframe tbody tr th {\n",
       "        vertical-align: top;\n",
       "    }\n",
       "\n",
       "    .dataframe thead th {\n",
       "        text-align: right;\n",
       "    }\n",
       "</style>\n",
       "<table border=\"1\" class=\"dataframe\">\n",
       "  <thead>\n",
       "    <tr style=\"text-align: right;\">\n",
       "      <th></th>\n",
       "      <th>female</th>\n",
       "      <th>male</th>\n",
       "    </tr>\n",
       "  </thead>\n",
       "  <tbody>\n",
       "    <tr>\n",
       "      <th>First</th>\n",
       "      <td>0.968085</td>\n",
       "      <td>0.368852</td>\n",
       "    </tr>\n",
       "    <tr>\n",
       "      <th>Second</th>\n",
       "      <td>0.921053</td>\n",
       "      <td>0.157407</td>\n",
       "    </tr>\n",
       "    <tr>\n",
       "      <th>Third</th>\n",
       "      <td>0.500000</td>\n",
       "      <td>0.135447</td>\n",
       "    </tr>\n",
       "  </tbody>\n",
       "</table>\n",
       "</div>"
      ],
      "text/plain": [
       "          female      male\n",
       "First   0.968085  0.368852\n",
       "Second  0.921053  0.157407\n",
       "Third   0.500000  0.135447"
      ]
     },
     "execution_count": 39,
     "metadata": {},
     "output_type": "execute_result"
    }
   ],
   "source": [
    "srate = data_titan.pivot_table('survived', columns='sex', index='class')\n",
    "srate.columns.name = None   # Remove the name of column indices\n",
    "srate.index.name = None     # Remove the name of row indices\n",
    "srate"
   ]
  },
  {
   "cell_type": "markdown",
   "metadata": {},
   "source": [
    "When multiple variables are used for column or row indices, there will be multi-layer indices. For example, we may use the function <code>cut()</code> to create age intervals for passengers. "
   ]
  },
  {
   "cell_type": "code",
   "execution_count": 40,
   "metadata": {
    "scrolled": true
   },
   "outputs": [
    {
     "data": {
      "text/plain": [
       "0      (18.0, 50.0]\n",
       "1      (18.0, 50.0]\n",
       "2      (18.0, 50.0]\n",
       "3      (18.0, 50.0]\n",
       "4      (18.0, 50.0]\n",
       "           ...     \n",
       "886    (18.0, 50.0]\n",
       "887    (18.0, 50.0]\n",
       "888             NaN\n",
       "889    (18.0, 50.0]\n",
       "890    (18.0, 50.0]\n",
       "Name: age, Length: 891, dtype: category\n",
       "Categories (3, interval[int64, right]): [(0, 18] < (18, 50] < (50, 80]]"
      ]
     },
     "execution_count": 40,
     "metadata": {},
     "output_type": "execute_result"
    }
   ],
   "source": [
    "age = pd.cut(data_titan['age'], [0, 18, 50, 80])\n",
    "age"
   ]
  },
  {
   "cell_type": "markdown",
   "metadata": {},
   "source": [
    "The variable <code>age</code> can be used as a row index for pivoting the table, as the following code."
   ]
  },
  {
   "cell_type": "code",
   "execution_count": 41,
   "metadata": {
    "scrolled": true
   },
   "outputs": [
    {
     "data": {
      "text/html": [
       "<div>\n",
       "<style scoped>\n",
       "    .dataframe tbody tr th:only-of-type {\n",
       "        vertical-align: middle;\n",
       "    }\n",
       "\n",
       "    .dataframe tbody tr th {\n",
       "        vertical-align: top;\n",
       "    }\n",
       "\n",
       "    .dataframe thead th {\n",
       "        text-align: right;\n",
       "    }\n",
       "</style>\n",
       "<table border=\"1\" class=\"dataframe\">\n",
       "  <thead>\n",
       "    <tr style=\"text-align: right;\">\n",
       "      <th></th>\n",
       "      <th>class</th>\n",
       "      <th>First</th>\n",
       "      <th>Second</th>\n",
       "      <th>Third</th>\n",
       "    </tr>\n",
       "    <tr>\n",
       "      <th>sex</th>\n",
       "      <th>age</th>\n",
       "      <th></th>\n",
       "      <th></th>\n",
       "      <th></th>\n",
       "    </tr>\n",
       "  </thead>\n",
       "  <tbody>\n",
       "    <tr>\n",
       "      <th rowspan=\"3\" valign=\"top\">female</th>\n",
       "      <th>(0, 18]</th>\n",
       "      <td>0.909091</td>\n",
       "      <td>1.000000</td>\n",
       "      <td>0.511628</td>\n",
       "    </tr>\n",
       "    <tr>\n",
       "      <th>(18, 50]</th>\n",
       "      <td>0.967213</td>\n",
       "      <td>0.912281</td>\n",
       "      <td>0.413793</td>\n",
       "    </tr>\n",
       "    <tr>\n",
       "      <th>(50, 80]</th>\n",
       "      <td>1.000000</td>\n",
       "      <td>0.666667</td>\n",
       "      <td>1.000000</td>\n",
       "    </tr>\n",
       "    <tr>\n",
       "      <th rowspan=\"3\" valign=\"top\">male</th>\n",
       "      <th>(0, 18]</th>\n",
       "      <td>0.800000</td>\n",
       "      <td>0.600000</td>\n",
       "      <td>0.215686</td>\n",
       "    </tr>\n",
       "    <tr>\n",
       "      <th>(18, 50]</th>\n",
       "      <td>0.442857</td>\n",
       "      <td>0.069444</td>\n",
       "      <td>0.139896</td>\n",
       "    </tr>\n",
       "    <tr>\n",
       "      <th>(50, 80]</th>\n",
       "      <td>0.192308</td>\n",
       "      <td>0.083333</td>\n",
       "      <td>0.000000</td>\n",
       "    </tr>\n",
       "  </tbody>\n",
       "</table>\n",
       "</div>"
      ],
      "text/plain": [
       "class               First    Second     Third\n",
       "sex    age                                   \n",
       "female (0, 18]   0.909091  1.000000  0.511628\n",
       "       (18, 50]  0.967213  0.912281  0.413793\n",
       "       (50, 80]  1.000000  0.666667  1.000000\n",
       "male   (0, 18]   0.800000  0.600000  0.215686\n",
       "       (18, 50]  0.442857  0.069444  0.139896\n",
       "       (50, 80]  0.192308  0.083333  0.000000"
      ]
     },
     "execution_count": 41,
     "metadata": {},
     "output_type": "execute_result"
    }
   ],
   "source": [
    "srate = data_titan.pivot_table('survived', index=['sex', age], columns='class')\n",
    "srate"
   ]
  },
  {
   "cell_type": "markdown",
   "metadata": {},
   "source": [
    "In all example above, we are using the default setting of the aggregation function, which is to take the mean of the selected column <code>survived</code>. You may implement other aggregation function by specifying the argument <code>aggfunc</code> of the <code>pivot_table()</code> method."
   ]
  },
  {
   "cell_type": "markdown",
   "metadata": {},
   "source": [
    " "
   ]
  },
  {
   "cell_type": "markdown",
   "metadata": {},
   "source": [
    "## Case Studies <a id=\"section3\"></a>\n",
    "\n",
    "### Case Study 1: Benford's law <a id=\"subsection3.1\"></a>\n",
    "\n",
    "Consider a naturally occurring collection of numbers, such as the GDP of all countries in a given year, or the financial data of a company, what is the distribution of the first digit of these numbers? \n",
    "\n",
    "Our first intuition may tell us that all digits should have equal probability to appear, thus following a uniform distribution. However, the [Benford's law](https://en.wikipedia.org/wiki/Benford%27s_law) suggests that smaller digits have a higher probability to occur. Let $d$ be the first digit, then the occurring probability $p$ can be approximately expressed by\n",
    "$$\n",
    "p = \\log_{10}\\left(1 + \\frac{1}{d}\\right), ~~ d=1, 2, ..., 9\n",
    "$$\n",
    "\n",
    "In this exercise, we are using data visualization to verify that the GDP of different countries in a particular year roughly follows the equation given by the Benford's law. \n"
   ]
  },
  {
   "cell_type": "code",
   "execution_count": 42,
   "metadata": {
    "scrolled": false
   },
   "outputs": [
    {
     "data": {
      "text/html": [
       "<div>\n",
       "<style scoped>\n",
       "    .dataframe tbody tr th:only-of-type {\n",
       "        vertical-align: middle;\n",
       "    }\n",
       "\n",
       "    .dataframe tbody tr th {\n",
       "        vertical-align: top;\n",
       "    }\n",
       "\n",
       "    .dataframe thead th {\n",
       "        text-align: right;\n",
       "    }\n",
       "</style>\n",
       "<table border=\"1\" class=\"dataframe\">\n",
       "  <thead>\n",
       "    <tr style=\"text-align: right;\">\n",
       "      <th></th>\n",
       "      <th>Country Name</th>\n",
       "      <th>Country Code</th>\n",
       "      <th>1960</th>\n",
       "      <th>1961</th>\n",
       "      <th>1962</th>\n",
       "      <th>1963</th>\n",
       "      <th>1964</th>\n",
       "      <th>1965</th>\n",
       "      <th>1966</th>\n",
       "      <th>1967</th>\n",
       "      <th>...</th>\n",
       "      <th>2009</th>\n",
       "      <th>2010</th>\n",
       "      <th>2011</th>\n",
       "      <th>2012</th>\n",
       "      <th>2013</th>\n",
       "      <th>2014</th>\n",
       "      <th>2015</th>\n",
       "      <th>2016</th>\n",
       "      <th>2017</th>\n",
       "      <th>2018</th>\n",
       "    </tr>\n",
       "  </thead>\n",
       "  <tbody>\n",
       "    <tr>\n",
       "      <th>0</th>\n",
       "      <td>Aruba</td>\n",
       "      <td>ABW</td>\n",
       "      <td>NaN</td>\n",
       "      <td>NaN</td>\n",
       "      <td>NaN</td>\n",
       "      <td>NaN</td>\n",
       "      <td>NaN</td>\n",
       "      <td>NaN</td>\n",
       "      <td>NaN</td>\n",
       "      <td>NaN</td>\n",
       "      <td>...</td>\n",
       "      <td>2.498883e+09</td>\n",
       "      <td>2.390503e+09</td>\n",
       "      <td>2.549721e+09</td>\n",
       "      <td>2.534637e+09</td>\n",
       "      <td>2.581564e+09</td>\n",
       "      <td>2.649721e+09</td>\n",
       "      <td>2.691620e+09</td>\n",
       "      <td>2.646927e+09</td>\n",
       "      <td>2.700559e+09</td>\n",
       "      <td>NaN</td>\n",
       "    </tr>\n",
       "    <tr>\n",
       "      <th>1</th>\n",
       "      <td>Afghanistan</td>\n",
       "      <td>AFG</td>\n",
       "      <td>5.377778e+08</td>\n",
       "      <td>5.488889e+08</td>\n",
       "      <td>5.466667e+08</td>\n",
       "      <td>7.511112e+08</td>\n",
       "      <td>8.000000e+08</td>\n",
       "      <td>1.006667e+09</td>\n",
       "      <td>1.400000e+09</td>\n",
       "      <td>1.673333e+09</td>\n",
       "      <td>...</td>\n",
       "      <td>1.243909e+10</td>\n",
       "      <td>1.585657e+10</td>\n",
       "      <td>1.780428e+10</td>\n",
       "      <td>2.000162e+10</td>\n",
       "      <td>2.056105e+10</td>\n",
       "      <td>2.048487e+10</td>\n",
       "      <td>1.990711e+10</td>\n",
       "      <td>1.936264e+10</td>\n",
       "      <td>2.019176e+10</td>\n",
       "      <td>1.936297e+10</td>\n",
       "    </tr>\n",
       "    <tr>\n",
       "      <th>2</th>\n",
       "      <td>Angola</td>\n",
       "      <td>AGO</td>\n",
       "      <td>NaN</td>\n",
       "      <td>NaN</td>\n",
       "      <td>NaN</td>\n",
       "      <td>NaN</td>\n",
       "      <td>NaN</td>\n",
       "      <td>NaN</td>\n",
       "      <td>NaN</td>\n",
       "      <td>NaN</td>\n",
       "      <td>...</td>\n",
       "      <td>7.030716e+10</td>\n",
       "      <td>8.379950e+10</td>\n",
       "      <td>1.117897e+11</td>\n",
       "      <td>1.280529e+11</td>\n",
       "      <td>1.367099e+11</td>\n",
       "      <td>1.457122e+11</td>\n",
       "      <td>1.161936e+11</td>\n",
       "      <td>1.011239e+11</td>\n",
       "      <td>1.221238e+11</td>\n",
       "      <td>1.057510e+11</td>\n",
       "    </tr>\n",
       "    <tr>\n",
       "      <th>3</th>\n",
       "      <td>Albania</td>\n",
       "      <td>ALB</td>\n",
       "      <td>NaN</td>\n",
       "      <td>NaN</td>\n",
       "      <td>NaN</td>\n",
       "      <td>NaN</td>\n",
       "      <td>NaN</td>\n",
       "      <td>NaN</td>\n",
       "      <td>NaN</td>\n",
       "      <td>NaN</td>\n",
       "      <td>...</td>\n",
       "      <td>1.204422e+10</td>\n",
       "      <td>1.192696e+10</td>\n",
       "      <td>1.289087e+10</td>\n",
       "      <td>1.231978e+10</td>\n",
       "      <td>1.277628e+10</td>\n",
       "      <td>1.322824e+10</td>\n",
       "      <td>1.138693e+10</td>\n",
       "      <td>1.186135e+10</td>\n",
       "      <td>1.302506e+10</td>\n",
       "      <td>1.510250e+10</td>\n",
       "    </tr>\n",
       "    <tr>\n",
       "      <th>4</th>\n",
       "      <td>Andorra</td>\n",
       "      <td>AND</td>\n",
       "      <td>NaN</td>\n",
       "      <td>NaN</td>\n",
       "      <td>NaN</td>\n",
       "      <td>NaN</td>\n",
       "      <td>NaN</td>\n",
       "      <td>NaN</td>\n",
       "      <td>NaN</td>\n",
       "      <td>NaN</td>\n",
       "      <td>...</td>\n",
       "      <td>3.660531e+09</td>\n",
       "      <td>3.355695e+09</td>\n",
       "      <td>3.442063e+09</td>\n",
       "      <td>3.164615e+09</td>\n",
       "      <td>3.281585e+09</td>\n",
       "      <td>3.350736e+09</td>\n",
       "      <td>2.811489e+09</td>\n",
       "      <td>2.877312e+09</td>\n",
       "      <td>3.013387e+09</td>\n",
       "      <td>3.236544e+09</td>\n",
       "    </tr>\n",
       "    <tr>\n",
       "      <th>5</th>\n",
       "      <td>United Arab Emirates</td>\n",
       "      <td>ARE</td>\n",
       "      <td>NaN</td>\n",
       "      <td>NaN</td>\n",
       "      <td>NaN</td>\n",
       "      <td>NaN</td>\n",
       "      <td>NaN</td>\n",
       "      <td>NaN</td>\n",
       "      <td>NaN</td>\n",
       "      <td>NaN</td>\n",
       "      <td>...</td>\n",
       "      <td>2.535474e+11</td>\n",
       "      <td>2.897873e+11</td>\n",
       "      <td>3.506660e+11</td>\n",
       "      <td>3.745906e+11</td>\n",
       "      <td>3.901076e+11</td>\n",
       "      <td>4.031371e+11</td>\n",
       "      <td>3.581351e+11</td>\n",
       "      <td>3.570451e+11</td>\n",
       "      <td>3.777011e+11</td>\n",
       "      <td>4.141789e+11</td>\n",
       "    </tr>\n",
       "  </tbody>\n",
       "</table>\n",
       "<p>6 rows × 61 columns</p>\n",
       "</div>"
      ],
      "text/plain": [
       "           Country Name Country Code          1960          1961  \\\n",
       "0                 Aruba          ABW           NaN           NaN   \n",
       "1           Afghanistan          AFG  5.377778e+08  5.488889e+08   \n",
       "2                Angola          AGO           NaN           NaN   \n",
       "3               Albania          ALB           NaN           NaN   \n",
       "4               Andorra          AND           NaN           NaN   \n",
       "5  United Arab Emirates          ARE           NaN           NaN   \n",
       "\n",
       "           1962          1963          1964          1965          1966  \\\n",
       "0           NaN           NaN           NaN           NaN           NaN   \n",
       "1  5.466667e+08  7.511112e+08  8.000000e+08  1.006667e+09  1.400000e+09   \n",
       "2           NaN           NaN           NaN           NaN           NaN   \n",
       "3           NaN           NaN           NaN           NaN           NaN   \n",
       "4           NaN           NaN           NaN           NaN           NaN   \n",
       "5           NaN           NaN           NaN           NaN           NaN   \n",
       "\n",
       "           1967  ...          2009          2010          2011          2012  \\\n",
       "0           NaN  ...  2.498883e+09  2.390503e+09  2.549721e+09  2.534637e+09   \n",
       "1  1.673333e+09  ...  1.243909e+10  1.585657e+10  1.780428e+10  2.000162e+10   \n",
       "2           NaN  ...  7.030716e+10  8.379950e+10  1.117897e+11  1.280529e+11   \n",
       "3           NaN  ...  1.204422e+10  1.192696e+10  1.289087e+10  1.231978e+10   \n",
       "4           NaN  ...  3.660531e+09  3.355695e+09  3.442063e+09  3.164615e+09   \n",
       "5           NaN  ...  2.535474e+11  2.897873e+11  3.506660e+11  3.745906e+11   \n",
       "\n",
       "           2013          2014          2015          2016          2017  \\\n",
       "0  2.581564e+09  2.649721e+09  2.691620e+09  2.646927e+09  2.700559e+09   \n",
       "1  2.056105e+10  2.048487e+10  1.990711e+10  1.936264e+10  2.019176e+10   \n",
       "2  1.367099e+11  1.457122e+11  1.161936e+11  1.011239e+11  1.221238e+11   \n",
       "3  1.277628e+10  1.322824e+10  1.138693e+10  1.186135e+10  1.302506e+10   \n",
       "4  3.281585e+09  3.350736e+09  2.811489e+09  2.877312e+09  3.013387e+09   \n",
       "5  3.901076e+11  4.031371e+11  3.581351e+11  3.570451e+11  3.777011e+11   \n",
       "\n",
       "           2018  \n",
       "0           NaN  \n",
       "1  1.936297e+10  \n",
       "2  1.057510e+11  \n",
       "3  1.510250e+10  \n",
       "4  3.236544e+09  \n",
       "5  4.141789e+11  \n",
       "\n",
       "[6 rows x 61 columns]"
      ]
     },
     "execution_count": 42,
     "metadata": {},
     "output_type": "execute_result"
    }
   ],
   "source": [
    "gdp = pd.read_csv('gdp.csv')            # Read the dataset\n",
    "gdp.head(6)"
   ]
  },
  {
   "cell_type": "code",
   "execution_count": 43,
   "metadata": {},
   "outputs": [
    {
     "data": {
      "text/plain": [
       "Index(['Country Name', 'Country Code', '1960', '1961', '1962', '1963', '1964',\n",
       "       '1965', '1966', '1967', '1968', '1969', '1970', '1971', '1972', '1973',\n",
       "       '1974', '1975', '1976', '1977', '1978', '1979', '1980', '1981', '1982',\n",
       "       '1983', '1984', '1985', '1986', '1987', '1988', '1989', '1990', '1991',\n",
       "       '1992', '1993', '1994', '1995', '1996', '1997', '1998', '1999', '2000',\n",
       "       '2001', '2002', '2003', '2004', '2005', '2006', '2007', '2008', '2009',\n",
       "       '2010', '2011', '2012', '2013', '2014', '2015', '2016', '2017', '2018'],\n",
       "      dtype='object')"
      ]
     },
     "execution_count": 43,
     "metadata": {},
     "output_type": "execute_result"
    }
   ],
   "source": [
    "gdp.columns"
   ]
  },
  {
   "cell_type": "markdown",
   "metadata": {},
   "source": [
    "#### Select relevant subset of data"
   ]
  },
  {
   "cell_type": "code",
   "execution_count": 44,
   "metadata": {
    "scrolled": true
   },
   "outputs": [
    {
     "data": {
      "text/plain": [
       "0      1.920112e+09\n",
       "2      8.936064e+09\n",
       "3      3.922099e+09\n",
       "4      1.496913e+09\n",
       "5      1.033116e+11\n",
       "           ...     \n",
       "210    2.730884e+08\n",
       "211    9.861560e+09\n",
       "212    1.215147e+11\n",
       "213    4.094481e+09\n",
       "214    6.777385e+09\n",
       "Name: 2001, Length: 196, dtype: float64"
      ]
     },
     "execution_count": 44,
     "metadata": {},
     "output_type": "execute_result"
    }
   ],
   "source": [
    "year = 2001                             # Choose a year\n",
    "gdp_yearly = gdp[str(year)].dropna()\n",
    "gdp_yearly"
   ]
  },
  {
   "cell_type": "markdown",
   "metadata": {},
   "source": [
    "In the code cell above, we select one year from the dataset. Please note that the GDP for some countries are missing, and these missing values are replaced by zeros. As a result, we are using boolean indexing to remove these missing values.\n",
    "\n",
    "#### Counts of the first digit of GDP numbers\n",
    "The next step is to retrieve the first digit of the GDP numbers. Firstly, we convert the GDP numbers to strings by the <code>astype()</code> method. "
   ]
  },
  {
   "cell_type": "code",
   "execution_count": null,
   "metadata": {
    "scrolled": false
   },
   "outputs": [],
   "source": []
  },
  {
   "cell_type": "code",
   "execution_count": null,
   "metadata": {},
   "outputs": [],
   "source": []
  },
  {
   "cell_type": "markdown",
   "metadata": {},
   "source": [
    "Based on the series <code>first_digit</code>, we can obtain the number (or percentage) of occurrences of these digits by using the method <code>value_counts()</code>. Details of this method can be found [here](https://pandas.pydata.org/pandas-docs/stable/reference/api/pandas.Series.value_counts.html). "
   ]
  },
  {
   "cell_type": "code",
   "execution_count": null,
   "metadata": {
    "scrolled": false
   },
   "outputs": [],
   "source": [
    "first_digital.value_count(normalize=True)"
   ]
  },
  {
   "cell_type": "code",
   "execution_count": null,
   "metadata": {},
   "outputs": [],
   "source": []
  },
  {
   "cell_type": "markdown",
   "metadata": {},
   "source": [
    "#### The Benford's law distribution\n",
    "\n",
    "In this section, we use the equation of Benford's law to calculate the corresponding probability <code>p</code> for all possible first digits <code>d</code>. Note that <code>d</code> can be written as an array running from 1 to 9, and the probability <code>p</code> can be calculated by applying the equation to all elements in the array."
   ]
  },
  {
   "cell_type": "code",
   "execution_count": 6,
   "metadata": {},
   "outputs": [
    {
     "data": {
      "text/plain": [
       "[<matplotlib.lines.Line2D at 0x26ef599c100>]"
      ]
     },
     "execution_count": 6,
     "metadata": {},
     "output_type": "execute_result"
    },
    {
     "data": {
      "image/png": "[encoded data removed]",
      "text/plain": [
       "<Figure size 432x288 with 1 Axes>"
      ]
     },
     "metadata": {
      "needs_background": "light"
     },
     "output_type": "display_data"
    }
   ],
   "source": [
    " \n",
    "d = np.arange(1,10,1)\n",
    "p = np.log10(1+1/d)\n",
    "plt.plot(d,p,marker='s')"
   ]
  },
  {
   "cell_type": "markdown",
   "metadata": {},
   "source": [
    "#### Verify the Benford's law via data visualization\n",
    "\n",
    "Please plot 1) the curve of the theoretical probability distribution given by the Benford's law; and 2) the actual distribution of the first digit of GDP numbers, in the same chart, so that we can compare the two for verifying the Benford's law. "
   ]
  },
  {
   "cell_type": "markdown",
   "metadata": {
    "scrolled": true
   },
   "source": [
    "用plt.fill_between去填充"
   ]
  },
  {
   "cell_type": "code",
   "execution_count": null,
   "metadata": {},
   "outputs": [],
   "source": [
    "plt.plot(d,gdp_p[d], linestyle=':', color='k', marker='o', markerfacecolor)\n",
    "plt.fill_between(d, y1=[0]*9, y2=p, color='orange', alpha=0.6, label=\"Benford's law\")\n",
    "plt.legend()\n",
    "plt.xlabel('First digits')\n",
    "plt.ylabel('Percentage Occurance')\n",
    "plt.show()"
   ]
  },
  {
   "cell_type": "markdown",
   "metadata": {},
   "source": [
    "You may change the selected years and rerun the program above, you would find that each bar graph roughly matches the Benford's law curve. You are encourage to download other natural number datasets, such as the global population or the financial data for some companies, to further verify this law. \n",
    "\n",
    "In fact, the Benford's law was once used to detect the fraudulent financial data of Enron in 2000.\n",
    "\n",
    "<img src=\"https://si.wsj.net/public/resources/images/NA-CD776_NUMBER_9U_20141205130308.jpg\" width=600pt>\n",
    "\n"
   ]
  }
 ],
 "metadata": {
  "kernelspec": {
   "display_name": "Python 3",
   "language": "python",
   "name": "python3"
  },
  "language_info": {
   "codemirror_mode": {
    "name": "ipython",
    "version": 3
   },
   "file_extension": ".py",
   "mimetype": "text/x-python",
   "name": "python",
   "nbconvert_exporter": "python",
   "pygments_lexer": "ipython3",
   "version": "3.8.8"
  }
 },
 "nbformat": 4,
 "nbformat_minor": 2
}

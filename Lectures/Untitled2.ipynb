{
 "cells": [
  {
   "cell_type": "code",
   "execution_count": 4,
   "id": "003d1c34",
   "metadata": {},
   "outputs": [
    {
     "data": {
      "text/plain": [
       "[2, 3, 4, 5, 1, 2]"
      ]
     },
     "execution_count": 4,
     "metadata": {},
     "output_type": "execute_result"
    }
   ],
   "source": [
    "a = [1,2,3,4,5,1,2]\n",
    "a.remove(1)\n",
    "a"
   ]
  },
  {
   "cell_type": "code",
   "execution_count": 5,
   "id": "8d0e7e0a",
   "metadata": {},
   "outputs": [
    {
     "data": {
      "text/plain": [
       "[2, 4, 5, 1, 2]"
      ]
     },
     "execution_count": 5,
     "metadata": {},
     "output_type": "execute_result"
    }
   ],
   "source": [
    "a.pop(1)\n",
    "a"
   ]
  },
  {
   "cell_type": "code",
   "execution_count": 21,
   "id": "e1628906",
   "metadata": {},
   "outputs": [
    {
     "data": {
      "text/plain": [
       "'fsd123fsd'"
      ]
     },
     "execution_count": 21,
     "metadata": {},
     "output_type": "execute_result"
    }
   ],
   "source": [
    "b = 'asd123asd'\n",
    "b.replace('a','f')"
   ]
  },
  {
   "cell_type": "code",
   "execution_count": 8,
   "id": "abc7dc51",
   "metadata": {},
   "outputs": [
    {
     "data": {
      "text/plain": [
       "'12'"
      ]
     },
     "execution_count": 8,
     "metadata": {},
     "output_type": "execute_result"
    }
   ],
   "source": [
    "a = '123'\n",
    "a[:2]"
   ]
  },
  {
   "cell_type": "code",
   "execution_count": 9,
   "id": "4498eea7",
   "metadata": {},
   "outputs": [
    {
     "data": {
      "text/plain": [
       "'sgk'"
      ]
     },
     "execution_count": 9,
     "metadata": {},
     "output_type": "execute_result"
    }
   ],
   "source": [
    "a = 'asdfghjklasdfghj'\n",
    "a[1:10:3] "
   ]
  },
  {
   "cell_type": "code",
   "execution_count": 13,
   "id": "043342df",
   "metadata": {},
   "outputs": [
    {
     "data": {
      "text/plain": [
       "'1'"
      ]
     },
     "execution_count": 13,
     "metadata": {},
     "output_type": "execute_result"
    }
   ],
   "source": [
    "a = '123'\n",
    "a[:1]"
   ]
  },
  {
   "cell_type": "code",
   "execution_count": 18,
   "id": "c752d4af",
   "metadata": {},
   "outputs": [
    {
     "data": {
      "text/plain": [
       "[[1, 2, 3, 4], 1, 2, 3, 4, 5]"
      ]
     },
     "execution_count": 18,
     "metadata": {},
     "output_type": "execute_result"
    }
   ],
   "source": [
    "a = [[1,2,3,4],1,2,3,4,5]\n",
    "a[:3][:2]\n",
    "a"
   ]
  },
  {
   "cell_type": "code",
   "execution_count": 20,
   "id": "4d6a2845",
   "metadata": {},
   "outputs": [
    {
     "name": "stdout",
     "output_type": "stream",
     "text": [
      "[2, 2, 3]\n"
     ]
    }
   ],
   "source": [
    "list = [1,2,3]\n",
    "list[0] = 2\n",
    "print(list)"
   ]
  },
  {
   "cell_type": "code",
   "execution_count": 23,
   "id": "0d1f0ac1",
   "metadata": {},
   "outputs": [
    {
     "data": {
      "text/plain": [
       "1"
      ]
     },
     "execution_count": 23,
     "metadata": {},
     "output_type": "execute_result"
    }
   ],
   "source": [
    "a,b,c = 1,2,3\n",
    "a"
   ]
  },
  {
   "cell_type": "code",
   "execution_count": 28,
   "id": "7b0ebdde",
   "metadata": {
    "scrolled": true
   },
   "outputs": [
    {
     "name": "stdout",
     "output_type": "stream",
     "text": [
      "1 2\n",
      "3 4\n",
      "5 6\n"
     ]
    }
   ],
   "source": [
    "a = [(1,2,3),(3,4,1),(5,6,1)]\n",
    "for i,n,h in a:\n",
    "    print(i,n)"
   ]
  },
  {
   "cell_type": "code",
   "execution_count": 25,
   "id": "2b9c6f1a",
   "metadata": {},
   "outputs": [
    {
     "name": "stdout",
     "output_type": "stream",
     "text": [
      "(1, 2)\n",
      "(3, 4)\n",
      "(5, 6)\n"
     ]
    }
   ],
   "source": [
    "for i in a:\n",
    "    print(i)"
   ]
  },
  {
   "cell_type": "code",
   "execution_count": 32,
   "id": "2466a694",
   "metadata": {},
   "outputs": [],
   "source": [
    "data = 'asdfgasda'\n",
    "data = data.split('a')"
   ]
  },
  {
   "cell_type": "code",
   "execution_count": 35,
   "id": "10a62c68",
   "metadata": {},
   "outputs": [
    {
     "data": {
      "text/plain": [
       "8"
      ]
     },
     "execution_count": 35,
     "metadata": {},
     "output_type": "execute_result"
    }
   ],
   "source": [
    "str = 'aaaaasdaaa'\n",
    "str.count('a')"
   ]
  },
  {
   "cell_type": "code",
   "execution_count": 36,
   "id": "c6bb0d8e",
   "metadata": {},
   "outputs": [],
   "source": [
    "personal_info = {'name': 'Jack Sparrow',\n",
    "                 'age': 30,\n",
    "                 'workplace': 'Black Pearl',\n",
    "                 'title': 'Captain'}"
   ]
  },
  {
   "cell_type": "code",
   "execution_count": 38,
   "id": "a9647884",
   "metadata": {},
   "outputs": [
    {
     "name": "stdout",
     "output_type": "stream",
     "text": [
      "His name is: Jack Sparrow\n"
     ]
    }
   ],
   "source": [
    "print('His name is: ' + personal_info['name'])"
   ]
  },
  {
   "cell_type": "code",
   "execution_count": 40,
   "id": "534cd274",
   "metadata": {},
   "outputs": [
    {
     "name": "stdout",
     "output_type": "stream",
     "text": [
      "Value is: A B C \n"
     ]
    }
   ],
   "source": [
    "a = {'a':'A', 'b':'B', 'c':'C'}\n",
    "b = ''\n",
    "for i in a:\n",
    "    b = b + a[i] + ' '\n",
    "print( 'Value is: ' + b)\n",
    "    "
   ]
  },
  {
   "cell_type": "code",
   "execution_count": 1,
   "id": "f4d6536a",
   "metadata": {},
   "outputs": [],
   "source": [
    "import numpy as np\n",
    "a = np.array([11,12,14,16])"
   ]
  },
  {
   "cell_type": "code",
   "execution_count": 2,
   "id": "29acd4b7",
   "metadata": {},
   "outputs": [
    {
     "data": {
      "text/plain": [
       "array([11, 12, 14, 16])"
      ]
     },
     "execution_count": 2,
     "metadata": {},
     "output_type": "execute_result"
    }
   ],
   "source": [
    "a"
   ]
  },
  {
   "cell_type": "code",
   "execution_count": 3,
   "id": "2bdd213b",
   "metadata": {},
   "outputs": [],
   "source": [
    "array_2d = np.array([[18, 26, 17], \n",
    "                     [25, 15.5, 12], \n",
    "                     [24, 27, 20],\n",
    "                     [10, 5.5, 17],\n",
    "                     [27, 26, 15],\n",
    "                     [22, 21, 21]])"
   ]
  },
  {
   "cell_type": "code",
   "execution_count": null,
   "id": "c437d889",
   "metadata": {},
   "outputs": [],
   "source": []
  },
  {
   "cell_type": "code",
   "execution_count": null,
   "id": "b09e6d49",
   "metadata": {},
   "outputs": [],
   "source": []
  },
  {
   "cell_type": "code",
   "execution_count": null,
   "id": "a59c7ce8",
   "metadata": {},
   "outputs": [],
   "source": []
  }
 ],
 "metadata": {
  "kernelspec": {
   "display_name": "Python 3",
   "language": "python",
   "name": "python3"
  },
  "language_info": {
   "codemirror_mode": {
    "name": "ipython",
    "version": 3
   },
   "file_extension": ".py",
   "mimetype": "text/x-python",
   "name": "python",
   "nbconvert_exporter": "python",
   "pygments_lexer": "ipython3",
   "version": "3.8.8"
  }
 },
 "nbformat": 4,
 "nbformat_minor": 5
}
